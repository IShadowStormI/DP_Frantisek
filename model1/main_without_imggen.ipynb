{
 "cells": [
  {
   "cell_type": "code",
   "execution_count": 1,
   "metadata": {},
   "outputs": [
    {
     "name": "stdout",
     "output_type": "stream",
     "text": [
      "Thu Apr  7 15:27:26 2022       \n",
      "+-----------------------------------------------------------------------------+\n",
      "| NVIDIA-SMI 460.32.03    Driver Version: 460.32.03    CUDA Version: 11.2     |\n",
      "|-------------------------------+----------------------+----------------------+\n",
      "| GPU  Name        Persistence-M| Bus-Id        Disp.A | Volatile Uncorr. ECC |\n",
      "| Fan  Temp  Perf  Pwr:Usage/Cap|         Memory-Usage | GPU-Util  Compute M. |\n",
      "|                               |                      |               MIG M. |\n",
      "|===============================+======================+======================|\n",
      "|   0  Quadro P4000        Off  | 00000000:8B:00.0 Off |                  N/A |\n",
      "| 40%   33C    P0    26W / 105W |      0MiB /  8117MiB |      0%      Default |\n",
      "|                               |                      |                  N/A |\n",
      "+-------------------------------+----------------------+----------------------+\n",
      "                                                                               \n",
      "+-----------------------------------------------------------------------------+\n",
      "| Processes:                                                                  |\n",
      "|  GPU   GI   CI        PID   Type   Process name                  GPU Memory |\n",
      "|        ID   ID                                                   Usage      |\n",
      "|=============================================================================|\n",
      "|  No running processes found                                                 |\n",
      "+-----------------------------------------------------------------------------+\n"
     ]
    }
   ],
   "source": [
    "!nvidia-smi"
   ]
  },
  {
   "cell_type": "markdown",
   "metadata": {},
   "source": [
    "### Inštalácia knižníc"
   ]
  },
  {
   "cell_type": "code",
   "execution_count": 2,
   "metadata": {},
   "outputs": [
    {
     "name": "stdout",
     "output_type": "stream",
     "text": [
      "Requirement already satisfied: opencv-python in /opt/conda/lib/python3.8/site-packages (4.5.5.64)\n",
      "Requirement already satisfied: numpy>=1.14.5 in /opt/conda/lib/python3.8/site-packages (from opencv-python) (1.18.5)\n",
      "Requirement already satisfied: numpy>=1.17.3 in /opt/conda/lib/python3.8/site-packages (from opencv-python) (1.18.5)\n",
      "Requirement already satisfied: keras in /opt/conda/lib/python3.8/site-packages (2.8.0)\n",
      "Requirement already satisfied: scikit-plot in /opt/conda/lib/python3.8/site-packages (0.3.7)\n",
      "Requirement already satisfied: scipy>=0.9 in /opt/conda/lib/python3.8/site-packages (from scikit-plot) (1.5.3)\n",
      "Requirement already satisfied: joblib>=0.10 in /opt/conda/lib/python3.8/site-packages (from scikit-plot) (0.17.0)\n",
      "Requirement already satisfied: scikit-learn>=0.18 in /opt/conda/lib/python3.8/site-packages (from scikit-plot) (0.23.2)\n",
      "Requirement already satisfied: matplotlib>=1.4.0 in /opt/conda/lib/python3.8/site-packages (from scikit-plot) (3.3.3)\n",
      "Requirement already satisfied: cycler>=0.10 in /opt/conda/lib/python3.8/site-packages (from matplotlib>=1.4.0->scikit-plot) (0.10.0)\n",
      "Requirement already satisfied: numpy>=1.15 in /opt/conda/lib/python3.8/site-packages (from matplotlib>=1.4.0->scikit-plot) (1.18.5)\n",
      "Requirement already satisfied: python-dateutil>=2.1 in /opt/conda/lib/python3.8/site-packages (from matplotlib>=1.4.0->scikit-plot) (2.8.1)\n",
      "Requirement already satisfied: pyparsing!=2.0.4,!=2.1.2,!=2.1.6,>=2.0.3 in /opt/conda/lib/python3.8/site-packages (from matplotlib>=1.4.0->scikit-plot) (2.4.7)\n",
      "Requirement already satisfied: kiwisolver>=1.0.1 in /opt/conda/lib/python3.8/site-packages (from matplotlib>=1.4.0->scikit-plot) (1.3.1)\n",
      "Requirement already satisfied: pillow>=6.2.0 in /opt/conda/lib/python3.8/site-packages (from matplotlib>=1.4.0->scikit-plot) (8.0.1)\n",
      "Requirement already satisfied: six in /opt/conda/lib/python3.8/site-packages (from cycler>=0.10->matplotlib>=1.4.0->scikit-plot) (1.15.0)\n",
      "Requirement already satisfied: six in /opt/conda/lib/python3.8/site-packages (from cycler>=0.10->matplotlib>=1.4.0->scikit-plot) (1.15.0)\n",
      "Requirement already satisfied: numpy>=1.15 in /opt/conda/lib/python3.8/site-packages (from matplotlib>=1.4.0->scikit-plot) (1.18.5)\n",
      "Requirement already satisfied: scipy>=0.9 in /opt/conda/lib/python3.8/site-packages (from scikit-plot) (1.5.3)\n",
      "Requirement already satisfied: joblib>=0.10 in /opt/conda/lib/python3.8/site-packages (from scikit-plot) (0.17.0)\n",
      "Requirement already satisfied: threadpoolctl>=2.0.0 in /opt/conda/lib/python3.8/site-packages (from scikit-learn>=0.18->scikit-plot) (2.1.0)\n",
      "Requirement already satisfied: numpy>=1.15 in /opt/conda/lib/python3.8/site-packages (from matplotlib>=1.4.0->scikit-plot) (1.18.5)\n"
     ]
    }
   ],
   "source": [
    "!pip install opencv-python\n",
    "!pip install keras\n",
    "!pip install scikit-plot"
   ]
  },
  {
   "cell_type": "markdown",
   "metadata": {},
   "source": [
    "### Import knižníc"
   ]
  },
  {
   "cell_type": "code",
   "execution_count": 3,
   "metadata": {},
   "outputs": [],
   "source": [
    "from sys import stdout\n",
    "from tensorflow import keras\n",
    "from PIL import Image\n",
    "\n",
    "from tensorflow.keras.models import Sequential\n",
    "from tensorflow.keras.callbacks import ModelCheckpoint\n",
    "from tensorflow.keras.layers import Dense, Dropout, Flatten, Conv2D, MaxPooling2D, BatchNormalization\n",
    "from tensorflow.keras import utils\n",
    "from tensorflow.keras.preprocessing.image import ImageDataGenerator\n",
    "\n",
    "from sklearn import metrics\n",
    "from sklearn.metrics import classification_report,confusion_matrix\n",
    "from sklearn.metrics import roc_curve, roc_auc_score\n",
    "from csv import DictWriter\n",
    "\n",
    "import tensorflow as tf\n",
    "import glob\n",
    "import os\n",
    "import numpy as np\n",
    "import pandas as pd\n",
    "import matplotlib.pyplot as plt\n",
    "import random\n",
    "import pickle as pkl"
   ]
  },
  {
   "cell_type": "markdown",
   "metadata": {},
   "source": [
    "### Zadefinovanie funkcie"
   ]
  },
  {
   "cell_type": "code",
   "execution_count": 4,
   "metadata": {},
   "outputs": [],
   "source": [
    "#vykreslenie procesu učenia\n",
    "def plot_history(history):\n",
    "    accuracy = history.history['accuracy']\n",
    "    val_accuracy = history.history['val_accuracy']\n",
    "    loss = history.history['loss']\n",
    "    val_loss = history.history['val_loss']\n",
    "    x = range(1, len(accuracy) + 1)\n",
    "\n",
    "    plt.figure(figsize=(12, 5))\n",
    "    plt.subplot(1, 2, 1)\n",
    "    plt.plot(x, accuracy, 'b', label='Training accuracy')\n",
    "    plt.plot(x, val_accuracy, 'r', label='Validation accuracy')\n",
    "    plt.title('Training and validation accuracy')\n",
    "    plt.legend()\n",
    "    plt.subplot(1, 2, 2)\n",
    "    plt.plot(x, loss, 'b', label='Training loss')\n",
    "    plt.plot(x, val_loss, 'r', label='Validation loss')\n",
    "    plt.title('Training and validation loss')\n",
    "    plt.legend()"
   ]
  },
  {
   "cell_type": "markdown",
   "metadata": {},
   "source": [
    "### Načítanie snímok"
   ]
  },
  {
   "cell_type": "code",
   "execution_count": 6,
   "metadata": {},
   "outputs": [],
   "source": [
    "# načítanie predspracovaných dát\n",
    "with open('train.pkl','rb') as f: X_train, train_df = pkl.load(f)\n",
    "with open('test.pkl','rb') as f: X_test, test_df = pkl.load(f)\n",
    "with open('valid.pkl','rb') as f: X_valid, valid_df = pkl.load(f)\n",
    "\n",
    "y_train = train_df[\"category\"]\n",
    "y_test = test_df[\"category\"]\n",
    "y_valid = valid_df[\"category\"]"
   ]
  },
  {
   "cell_type": "code",
   "execution_count": 7,
   "metadata": {},
   "outputs": [
    {
     "name": "stdout",
     "output_type": "stream",
     "text": [
      "TrainSetInto = (4668, 299, 299, 1)\n",
      "TestSetInto = (1191, 299, 299, 1)\n",
      "ValidSetInto = (100, 299, 299, 1)\n"
     ]
    }
   ],
   "source": [
    "print(\"TrainSetInto = {}\".format(X_train.shape))\n",
    "print(\"TestSetInto = {}\".format(X_test.shape))\n",
    "print(\"ValidSetInto = {}\".format(X_valid.shape))"
   ]
  },
  {
   "cell_type": "markdown",
   "metadata": {},
   "source": [
    "### Architektúra siete"
   ]
  },
  {
   "cell_type": "code",
   "execution_count": 11,
   "metadata": {},
   "outputs": [
    {
     "name": "stdout",
     "output_type": "stream",
     "text": [
      "Model: \"sequential_1\"\n",
      "_________________________________________________________________\n",
      "Layer (type)                 Output Shape              Param #   \n",
      "=================================================================\n",
      "conv2d_6 (Conv2D)            (None, 297, 297, 32)      320       \n",
      "_________________________________________________________________\n",
      "conv2d_7 (Conv2D)            (None, 295, 295, 32)      9248      \n",
      "_________________________________________________________________\n",
      "batch_normalization_4 (Batch (None, 295, 295, 32)      128       \n",
      "_________________________________________________________________\n",
      "max_pooling2d_3 (MaxPooling2 (None, 147, 147, 32)      0         \n",
      "_________________________________________________________________\n",
      "dropout_4 (Dropout)          (None, 147, 147, 32)      0         \n",
      "_________________________________________________________________\n",
      "conv2d_8 (Conv2D)            (None, 145, 145, 64)      18496     \n",
      "_________________________________________________________________\n",
      "conv2d_9 (Conv2D)            (None, 143, 143, 64)      36928     \n",
      "_________________________________________________________________\n",
      "batch_normalization_5 (Batch (None, 143, 143, 64)      256       \n",
      "_________________________________________________________________\n",
      "max_pooling2d_4 (MaxPooling2 (None, 71, 71, 64)        0         \n",
      "_________________________________________________________________\n",
      "dropout_5 (Dropout)          (None, 71, 71, 64)        0         \n",
      "_________________________________________________________________\n",
      "conv2d_10 (Conv2D)           (None, 69, 69, 128)       73856     \n",
      "_________________________________________________________________\n",
      "conv2d_11 (Conv2D)           (None, 67, 67, 128)       147584    \n",
      "_________________________________________________________________\n",
      "batch_normalization_6 (Batch (None, 67, 67, 128)       512       \n",
      "_________________________________________________________________\n",
      "max_pooling2d_5 (MaxPooling2 (None, 33, 33, 128)       0         \n",
      "_________________________________________________________________\n",
      "dropout_6 (Dropout)          (None, 33, 33, 128)       0         \n",
      "_________________________________________________________________\n",
      "flatten_1 (Flatten)          (None, 139392)            0         \n",
      "_________________________________________________________________\n",
      "dense_2 (Dense)              (None, 1024)              142738432 \n",
      "_________________________________________________________________\n",
      "batch_normalization_7 (Batch (None, 1024)              4096      \n",
      "_________________________________________________________________\n",
      "dropout_7 (Dropout)          (None, 1024)              0         \n",
      "_________________________________________________________________\n",
      "dense_3 (Dense)              (None, 1)                 1025      \n",
      "=================================================================\n",
      "Total params: 143,030,881\n",
      "Trainable params: 143,028,385\n",
      "Non-trainable params: 2,496\n",
      "_________________________________________________________________\n"
     ]
    }
   ],
   "source": [
    "drop1 = 0.25 \n",
    "drop2 = 0.5 \n",
    "dense = 1024\n",
    "epochs = 20\n",
    "batch_size = 40 \n",
    "\n",
    "model = Sequential()\n",
    "\n",
    "model.add(Conv2D(32, (3, 3), input_shape=[299, 299,1], activation='relu'))\n",
    "model.add(Conv2D(32, (3, 3), activation='relu'))\n",
    "model.add(BatchNormalization())\n",
    "model.add(MaxPooling2D(pool_size=(2, 2)))\n",
    "model.add(Dropout(0.25))\n",
    "\n",
    "model.add(Conv2D(64, (3, 3), activation='relu'))\n",
    "model.add(Conv2D(64, (3, 3), activation='relu'))\n",
    "model.add(BatchNormalization())\n",
    "model.add(MaxPooling2D(pool_size=(2, 2)))\n",
    "model.add(Dropout(0.25))\n",
    "\n",
    "model.add(Conv2D(128, (3, 3), activation='relu'))\n",
    "model.add(Conv2D(128, (3, 3), activation='relu'))\n",
    "model.add(BatchNormalization())\n",
    "model.add(MaxPooling2D(pool_size=(2, 2)))\n",
    "model.add(Dropout(0.25))\n",
    "\n",
    "model.add(Flatten())\n",
    "model.add(Dense(dense, activation='relu'))\n",
    "model.add(BatchNormalization())\n",
    "model.add(Dropout(0.5))\n",
    "model.add(Dense(1, activation='sigmoid'))\n",
    "\n",
    "model.compile(optimizer=\"Adam\",\n",
    "              loss='binary_crossentropy',\n",
    "              metrics=['accuracy'])\n",
    "\n",
    "model.summary()"
   ]
  },
  {
   "cell_type": "markdown",
   "metadata": {},
   "source": [
    "### Vytvorenie záchytných bodov"
   ]
  },
  {
   "cell_type": "code",
   "execution_count": 11,
   "metadata": {},
   "outputs": [],
   "source": [
    "# ukladanie najlepšieho modelu podľa validačnej chyby\n",
    "callback1 = ModelCheckpoint('../FrantisekUrban/callback_model/main_without_imggen.hdf5',\n",
    "                            monitor = 'val_loss', \n",
    "                            verbose = 1, \n",
    "                            save_best_only = True, \n",
    "                            mode = 'min')"
   ]
  },
  {
   "cell_type": "code",
   "execution_count": 12,
   "metadata": {},
   "outputs": [],
   "source": [
    "# ukladanie váh modelu počas každej druhej epochy\n",
    "STEPS_PER_EPOCH = y_train.size / batch_size\n",
    "SAVE_PERIOD = 2\n",
    "\n",
    "filepath = \"../FrantisekUrban/callback_model/main_without_imggen-{epoch:02d}.h5\"\n",
    "checkpoint1 = ModelCheckpoint(filepath, verbose=1, save_best_only=False, save_weights_only=True, save_freq=int(SAVE_PERIOD * STEPS_PER_EPOCH))"
   ]
  },
  {
   "cell_type": "markdown",
   "metadata": {},
   "source": [
    "### Trénovanie modelu"
   ]
  },
  {
   "cell_type": "code",
   "execution_count": 15,
   "metadata": {},
   "outputs": [
    {
     "name": "stdout",
     "output_type": "stream",
     "text": [
      "Epoch 1/20\n",
      "  2/117 [..............................] - ETA: 20s - loss: 1.6440 - accuracy: 0.6125WARNING:tensorflow:Callbacks method `on_train_batch_end` is slow compared to the batch time (batch time: 0.1184s vs `on_train_batch_end` time: 0.2308s). Check your callbacks.\n",
      "117/117 [==============================] - ETA: 0s - loss: 0.6038 - accuracy: 0.7494\n",
      "Epoch 00001: val_loss improved from inf to 0.77553, saving model to ../FrantisekUrban/callback_model/main_without_imggen.hdf5\n",
      "117/117 [==============================] - 61s 525ms/step - loss: 0.6038 - accuracy: 0.7494 - val_loss: 0.7755 - val_accuracy: 0.7000\n",
      "Epoch 2/20\n",
      "115/117 [============================>.] - ETA: 0s - loss: 0.4048 - accuracy: 0.8283\n",
      "Epoch 00002: saving model to ../FrantisekUrban/callback_model/main_without_imggen-02.h5\n",
      "117/117 [==============================] - ETA: 0s - loss: 0.4044 - accuracy: 0.8284\n",
      "Epoch 00002: val_loss did not improve from 0.77553\n",
      "117/117 [==============================] - 48s 407ms/step - loss: 0.4044 - accuracy: 0.8284 - val_loss: 0.9503 - val_accuracy: 0.6300\n",
      "Epoch 3/20\n",
      "117/117 [==============================] - ETA: 0s - loss: 0.2916 - accuracy: 0.8693\n",
      "Epoch 00003: val_loss did not improve from 0.77553\n",
      "117/117 [==============================] - 42s 355ms/step - loss: 0.2916 - accuracy: 0.8693 - val_loss: 0.9333 - val_accuracy: 0.7400\n",
      "Epoch 4/20\n",
      "114/117 [============================>.] - ETA: 1s - loss: 0.2886 - accuracy: 0.8789\n",
      "Epoch 00004: saving model to ../FrantisekUrban/callback_model/main_without_imggen-04.h5\n",
      "117/117 [==============================] - ETA: 0s - loss: 0.2890 - accuracy: 0.8785\n",
      "Epoch 00004: val_loss did not improve from 0.77553\n",
      "117/117 [==============================] - 48s 407ms/step - loss: 0.2890 - accuracy: 0.8785 - val_loss: 0.9680 - val_accuracy: 0.6800\n",
      "Epoch 5/20\n",
      "117/117 [==============================] - ETA: 0s - loss: 0.2175 - accuracy: 0.9135\n",
      "Epoch 00005: val_loss did not improve from 0.77553\n",
      "117/117 [==============================] - 42s 355ms/step - loss: 0.2175 - accuracy: 0.9135 - val_loss: 1.4105 - val_accuracy: 0.6600\n",
      "Epoch 6/20\n",
      "113/117 [===========================>..] - ETA: 1s - loss: 0.1688 - accuracy: 0.9345\n",
      "Epoch 00006: saving model to ../FrantisekUrban/callback_model/main_without_imggen-06.h5\n",
      "117/117 [==============================] - ETA: 0s - loss: 0.1674 - accuracy: 0.9347\n",
      "Epoch 00006: val_loss improved from 0.77553 to 0.55523, saving model to ../FrantisekUrban/callback_model/main_without_imggen.hdf5\n",
      "117/117 [==============================] - 66s 563ms/step - loss: 0.1674 - accuracy: 0.9347 - val_loss: 0.5552 - val_accuracy: 0.7700\n",
      "Epoch 7/20\n",
      "117/117 [==============================] - ETA: 0s - loss: 0.1196 - accuracy: 0.9514\n",
      "Epoch 00007: val_loss did not improve from 0.55523\n",
      "117/117 [==============================] - 41s 354ms/step - loss: 0.1196 - accuracy: 0.9514 - val_loss: 1.1325 - val_accuracy: 0.7000\n",
      "Epoch 8/20\n",
      "112/117 [===========================>..] - ETA: 1s - loss: 0.0783 - accuracy: 0.9741\n",
      "Epoch 00008: saving model to ../FrantisekUrban/callback_model/main_without_imggen-08.h5\n",
      "117/117 [==============================] - ETA: 0s - loss: 0.0778 - accuracy: 0.9745\n",
      "Epoch 00008: val_loss did not improve from 0.55523\n",
      "117/117 [==============================] - 48s 406ms/step - loss: 0.0778 - accuracy: 0.9745 - val_loss: 0.6359 - val_accuracy: 0.8100\n",
      "Epoch 9/20\n",
      "117/117 [==============================] - ETA: 0s - loss: 0.1024 - accuracy: 0.9614\n",
      "Epoch 00009: val_loss did not improve from 0.55523\n",
      "117/117 [==============================] - 42s 355ms/step - loss: 0.1024 - accuracy: 0.9614 - val_loss: 0.6533 - val_accuracy: 0.8000\n",
      "Epoch 10/20\n",
      "111/117 [===========================>..] - ETA: 2s - loss: 0.0597 - accuracy: 0.9788\n",
      "Epoch 00010: saving model to ../FrantisekUrban/callback_model/main_without_imggen-10.h5\n",
      "117/117 [==============================] - ETA: 0s - loss: 0.0592 - accuracy: 0.9792\n",
      "Epoch 00010: val_loss did not improve from 0.55523\n",
      "117/117 [==============================] - 48s 406ms/step - loss: 0.0592 - accuracy: 0.9792 - val_loss: 0.8269 - val_accuracy: 0.7700\n",
      "Epoch 11/20\n",
      "117/117 [==============================] - ETA: 0s - loss: 0.0456 - accuracy: 0.9841\n",
      "Epoch 00011: val_loss did not improve from 0.55523\n",
      "117/117 [==============================] - 41s 354ms/step - loss: 0.0456 - accuracy: 0.9841 - val_loss: 1.4333 - val_accuracy: 0.6300\n",
      "Epoch 12/20\n",
      "110/117 [===========================>..] - ETA: 2s - loss: 0.0338 - accuracy: 0.9893\n",
      "Epoch 00012: saving model to ../FrantisekUrban/callback_model/main_without_imggen-12.h5\n",
      "117/117 [==============================] - ETA: 0s - loss: 0.0345 - accuracy: 0.9891\n",
      "Epoch 00012: val_loss did not improve from 0.55523\n",
      "117/117 [==============================] - 48s 407ms/step - loss: 0.0345 - accuracy: 0.9891 - val_loss: 0.8114 - val_accuracy: 0.7800\n",
      "Epoch 13/20\n",
      "117/117 [==============================] - ETA: 0s - loss: 0.0258 - accuracy: 0.9901\n",
      "Epoch 00013: val_loss did not improve from 0.55523\n",
      "117/117 [==============================] - 42s 356ms/step - loss: 0.0258 - accuracy: 0.9901 - val_loss: 0.9352 - val_accuracy: 0.7400\n",
      "Epoch 14/20\n",
      "109/117 [==========================>...] - ETA: 2s - loss: 0.0269 - accuracy: 0.9911\n",
      "Epoch 00014: saving model to ../FrantisekUrban/callback_model/main_without_imggen-14.h5\n",
      "117/117 [==============================] - ETA: 0s - loss: 0.0281 - accuracy: 0.9904\n",
      "Epoch 00014: val_loss did not improve from 0.55523\n",
      "117/117 [==============================] - 48s 408ms/step - loss: 0.0281 - accuracy: 0.9904 - val_loss: 2.0976 - val_accuracy: 0.6800\n",
      "Epoch 15/20\n",
      "117/117 [==============================] - ETA: 0s - loss: 0.0351 - accuracy: 0.9869\n",
      "Epoch 00015: val_loss did not improve from 0.55523\n",
      "117/117 [==============================] - 42s 356ms/step - loss: 0.0351 - accuracy: 0.9869 - val_loss: 0.7931 - val_accuracy: 0.8200\n",
      "Epoch 16/20\n",
      "108/117 [==========================>...] - ETA: 3s - loss: 0.0349 - accuracy: 0.9875\n",
      "Epoch 00016: saving model to ../FrantisekUrban/callback_model/main_without_imggen-16.h5\n",
      "117/117 [==============================] - ETA: 0s - loss: 0.0343 - accuracy: 0.9876\n",
      "Epoch 00016: val_loss did not improve from 0.55523\n",
      "117/117 [==============================] - 48s 407ms/step - loss: 0.0343 - accuracy: 0.9876 - val_loss: 1.6293 - val_accuracy: 0.7100\n",
      "Epoch 17/20\n",
      "117/117 [==============================] - ETA: 0s - loss: 0.0217 - accuracy: 0.9931\n",
      "Epoch 00017: val_loss did not improve from 0.55523\n",
      "117/117 [==============================] - 42s 356ms/step - loss: 0.0217 - accuracy: 0.9931 - val_loss: 0.7762 - val_accuracy: 0.8100\n",
      "Epoch 18/20\n",
      "107/117 [==========================>...] - ETA: 3s - loss: 0.0133 - accuracy: 0.9967\n",
      "Epoch 00018: saving model to ../FrantisekUrban/callback_model/main_without_imggen-18.h5\n",
      "117/117 [==============================] - ETA: 0s - loss: 0.0131 - accuracy: 0.9966\n",
      "Epoch 00018: val_loss did not improve from 0.55523\n",
      "117/117 [==============================] - 48s 408ms/step - loss: 0.0131 - accuracy: 0.9966 - val_loss: 0.9720 - val_accuracy: 0.7900\n",
      "Epoch 19/20\n",
      "117/117 [==============================] - ETA: 0s - loss: 0.0127 - accuracy: 0.9955\n",
      "Epoch 00019: val_loss did not improve from 0.55523\n",
      "117/117 [==============================] - 42s 356ms/step - loss: 0.0127 - accuracy: 0.9955 - val_loss: 1.0679 - val_accuracy: 0.7400\n",
      "Epoch 20/20\n",
      "106/117 [==========================>...] - ETA: 3s - loss: 0.0139 - accuracy: 0.9955\n",
      "Epoch 00020: saving model to ../FrantisekUrban/callback_model/main_without_imggen-20.h5\n",
      "117/117 [==============================] - ETA: 0s - loss: 0.0147 - accuracy: 0.9946\n",
      "Epoch 00020: val_loss did not improve from 0.55523\n",
      "117/117 [==============================] - 48s 406ms/step - loss: 0.0147 - accuracy: 0.9946 - val_loss: 1.1992 - val_accuracy: 0.7400\n"
     ]
    }
   ],
   "source": [
    "# konfigurácia procesu trénovania\n",
    "history = model.fit(X_train, \n",
    "                    y_train,\n",
    "                    validation_data = (X_valid, y_valid),\n",
    "                    callbacks = [checkpoint1, callback1],\n",
    "                    epochs=epochs, \n",
    "                    batch_size=batch_size)"
   ]
  },
  {
   "cell_type": "code",
   "execution_count": 8,
   "metadata": {},
   "outputs": [
    {
     "name": "stdout",
     "output_type": "stream",
     "text": [
      "main_without_imggen.hdf5\n",
      "38/38 [==============================] - 3s 81ms/step - loss: 1.0226 - accuracy: 0.6331\n",
      "Confusion_matrix\n",
      "[[649 417]\n",
      " [ 20 105]]\n",
      "-------------------Classification_report-------------------\n",
      "              precision    recall  f1-score   support\n",
      "\n",
      "    Negative       0.97      0.61      0.75      1066\n",
      "    Positive       0.20      0.84      0.32       125\n",
      "\n",
      "    accuracy                           0.63      1191\n",
      "   macro avg       0.59      0.72      0.54      1191\n",
      "weighted avg       0.89      0.63      0.70      1191\n",
      "\n",
      "AUC: 0.8471969981238274\n"
     ]
    }
   ],
   "source": [
    "# vyhodnotenie najlepšieho modelu podľa validačnej chyby\n",
    "loaded_model = keras.models.load_model('../FrantisekUrban/callback_model/main_without_imggen.hdf5')\n",
    "print(\"main_without_imggen.hdf5\")\n",
    "vysledky = loaded_model.evaluate(X_test, y_test)\n",
    "\n",
    "y_pred = loaded_model.predict(X_test)\n",
    "y_int = np.zeros_like(y_pred)\n",
    "y_int[y_pred > 0.50] = 1\n",
    "y_testt = y_test.astype('float32')\n",
    "\n",
    "cm = confusion_matrix(y_testt, y_int)\n",
    "print('Confusion_matrix')\n",
    "print(cm)\n",
    "print('-------------------Classification_report-------------------')\n",
    "target_names = ['Negative', 'Positive']\n",
    "print(classification_report(y_testt, y_int, target_names=target_names))\n",
    "\n",
    "rocauc = roc_auc_score(y_test, y_pred)\n",
    "print('AUC: {}'.format(rocauc))"
   ]
  },
  {
   "cell_type": "code",
   "execution_count": 12,
   "metadata": {},
   "outputs": [],
   "source": [
    "# plot_history(history)"
   ]
  },
  {
   "cell_type": "code",
   "execution_count": 9,
   "metadata": {},
   "outputs": [
    {
     "data": {
      "text/plain": [
       "Text(0, 0.5, 'TPR')"
      ]
     },
     "execution_count": 9,
     "metadata": {},
     "output_type": "execute_result"
    },
    {
     "data": {
      "image/png": "[encoded data removed]",
      "text/plain": [
       "<Figure size 720x432 with 1 Axes>"
      ]
     },
     "metadata": {
      "needs_background": "light"
     },
     "output_type": "display_data"
    }
   ],
   "source": [
    "# vykreslenie ROC krivky s optimálnou hodnotou prahu\n",
    "fpr, tpr, thresholds = roc_curve(y_test, y_pred)\n",
    "\n",
    "plt.subplots(figsize=(10, 6))\n",
    "plt.plot(fpr, tpr, 'o-', label=\"ROC curve\")\n",
    "plt.plot(np.linspace(0,1,10), np.linspace(0,1,10), label=\"diagonal\")\n",
    "for x, y, txt in zip(fpr[::5], tpr[::5], thresholds[::5]):\n",
    "    plt.annotate(np.round(txt,2), (x, y-0.04))\n",
    "rnd_idx = 27\n",
    "plt.annotate('this point refers to the tpr and the fpr\\n at a probability threshold of {}'.format(np.round(thresholds[rnd_idx], 2)), \n",
    "             xy=(fpr[rnd_idx], tpr[rnd_idx]), xytext=(fpr[rnd_idx]+0.2, tpr[rnd_idx]-0.25),\n",
    "             arrowprops=dict(facecolor='black', lw=2, arrowstyle='->'),)\n",
    "plt.legend(loc=\"upper left\")\n",
    "plt.xlabel(\"FPR\")\n",
    "plt.ylabel(\"TPR\")"
   ]
  },
  {
   "cell_type": "code",
   "execution_count": 11,
   "metadata": {},
   "outputs": [
    {
     "name": "stdout",
     "output_type": "stream",
     "text": [
      "main_without_imggen.hdf5\n",
      "38/38 [==============================] - 3s 75ms/step - loss: 1.0226 - accuracy: 0.6331\n",
      "Confusion_matrix\n",
      "[[1004   62]\n",
      " [  64   61]]\n",
      "-------------------Classification_report-------------------\n",
      "              precision    recall  f1-score   support\n",
      "\n",
      "    Negative       0.94      0.94      0.94      1066\n",
      "    Positive       0.50      0.49      0.49       125\n",
      "\n",
      "    accuracy                           0.89      1191\n",
      "   macro avg       0.72      0.71      0.72      1191\n",
      "weighted avg       0.89      0.89      0.89      1191\n",
      "\n",
      "AUC: 0.8471969981238274\n"
     ]
    }
   ],
   "source": [
    "loaded_model = keras.models.load_model('../FrantisekUrban/callback_model/main_without_imggen.hdf5')\n",
    "print(\"main_without_imggen.hdf5\")\n",
    "vysledky = loaded_model.evaluate(X_test, y_test)\n",
    "\n",
    "y_pred = loaded_model.predict(X_test)\n",
    "y_int = np.zeros_like(y_pred)\n",
    "y_int[y_pred > 0.99] = 1\n",
    "y_testt = y_test.astype('float32')\n",
    "\n",
    "cm = confusion_matrix(y_testt, y_int)\n",
    "print('Confusion_matrix')\n",
    "print(cm)\n",
    "print('-------------------Classification_report-------------------')\n",
    "target_names = ['Negative', 'Positive']\n",
    "print(classification_report(y_testt, y_int, target_names=target_names))\n",
    "\n",
    "rocauc = roc_auc_score(y_test, y_pred)\n",
    "print('AUC: {}'.format(rocauc))"
   ]
  },
  {
   "cell_type": "markdown",
   "metadata": {},
   "source": [
    "### Vyhodnotenie výsledkov procesu trénovania"
   ]
  },
  {
   "cell_type": "code",
   "execution_count": 8,
   "metadata": {},
   "outputs": [],
   "source": [
    "drop1 = 0.25 \n",
    "drop2 = 0.5 \n",
    "dense = 1024\n",
    "epochs = 20\n",
    "batch_size = 40 \n",
    "\n",
    "def create_model():\n",
    "    model = Sequential()\n",
    "\n",
    "    model.add(Conv2D(32, (3, 3), input_shape=[299, 299,1], activation='relu'))\n",
    "    model.add(Conv2D(32, (3, 3), activation='relu'))\n",
    "    model.add(BatchNormalization())\n",
    "    model.add(MaxPooling2D(pool_size=(2, 2)))\n",
    "    model.add(Dropout(0.25))\n",
    "\n",
    "    model.add(Conv2D(64, (3, 3), activation='relu'))\n",
    "    model.add(Conv2D(64, (3, 3), activation='relu'))\n",
    "    model.add(BatchNormalization())\n",
    "    model.add(MaxPooling2D(pool_size=(2, 2)))\n",
    "    model.add(Dropout(0.25))\n",
    "\n",
    "    model.add(Conv2D(128, (3, 3), activation='relu'))\n",
    "    model.add(Conv2D(128, (3, 3), activation='relu'))\n",
    "    model.add(BatchNormalization())\n",
    "    model.add(MaxPooling2D(pool_size=(2, 2)))\n",
    "    model.add(Dropout(0.25))\n",
    "\n",
    "    model.add(Flatten())\n",
    "    model.add(Dense(dense, activation='relu'))\n",
    "    model.add(BatchNormalization())\n",
    "    model.add(Dropout(0.5))\n",
    "    model.add(Dense(1, activation='sigmoid'))\n",
    "\n",
    "#     model.summary()\n",
    "    \n",
    "    model.compile(optimizer=\"Adam\",\n",
    "              loss='binary_crossentropy',\n",
    "              metrics=['accuracy'])\n",
    "    \n",
    "    return model"
   ]
  },
  {
   "cell_type": "code",
   "execution_count": 9,
   "metadata": {},
   "outputs": [
    {
     "data": {
      "text/plain": [
       "['../FrantisekUrban/callback_model/main_without_imggen-02.h5',\n",
       " '../FrantisekUrban/callback_model/main_without_imggen-04.h5',\n",
       " '../FrantisekUrban/callback_model/main_without_imggen-06.h5',\n",
       " '../FrantisekUrban/callback_model/main_without_imggen-08.h5',\n",
       " '../FrantisekUrban/callback_model/main_without_imggen-10.h5',\n",
       " '../FrantisekUrban/callback_model/main_without_imggen-12.h5',\n",
       " '../FrantisekUrban/callback_model/main_without_imggen-14.h5',\n",
       " '../FrantisekUrban/callback_model/main_without_imggen-16.h5',\n",
       " '../FrantisekUrban/callback_model/main_without_imggen-18.h5',\n",
       " '../FrantisekUrban/callback_model/main_without_imggen-20.h5']"
      ]
     },
     "execution_count": 9,
     "metadata": {},
     "output_type": "execute_result"
    }
   ],
   "source": [
    "#načítanie výtvorených váh\n",
    "weights = glob.glob(\"../FrantisekUrban/callback_model/\" + \"*.h5\")\n",
    "weights[49:59]"
   ]
  },
  {
   "cell_type": "code",
   "execution_count": 10,
   "metadata": {},
   "outputs": [
    {
     "data": {
      "text/html": [
       "<div>\n",
       "<style scoped>\n",
       "    .dataframe tbody tr th:only-of-type {\n",
       "        vertical-align: middle;\n",
       "    }\n",
       "\n",
       "    .dataframe tbody tr th {\n",
       "        vertical-align: top;\n",
       "    }\n",
       "\n",
       "    .dataframe thead th {\n",
       "        text-align: right;\n",
       "    }\n",
       "</style>\n",
       "<table border=\"1\" class=\"dataframe\">\n",
       "  <thead>\n",
       "    <tr style=\"text-align: right;\">\n",
       "      <th></th>\n",
       "      <th>Model</th>\n",
       "      <th>Accuracy</th>\n",
       "      <th>Loss</th>\n",
       "      <th>AUC</th>\n",
       "    </tr>\n",
       "  </thead>\n",
       "  <tbody>\n",
       "  </tbody>\n",
       "</table>\n",
       "</div>"
      ],
      "text/plain": [
       "Empty DataFrame\n",
       "Columns: [Model, Accuracy, Loss, AUC]\n",
       "Index: []"
      ]
     },
     "execution_count": 10,
     "metadata": {},
     "output_type": "execute_result"
    }
   ],
   "source": [
    "# vytvorenie dataframu pre uloženie výsledkov\n",
    "header = [\"Model\", \"Accuracy\", \"Loss\", \"AUC\"]\n",
    "dataframe = pd.DataFrame(columns = header)  \n",
    "dataframe"
   ]
  },
  {
   "cell_type": "code",
   "execution_count": 12,
   "metadata": {},
   "outputs": [
    {
     "name": "stdout",
     "output_type": "stream",
     "text": [
      "main_without_imggen-12.h5\n",
      "38/38 [==============================] - 3s 85ms/step - loss: 0.4237 - accuracy: 0.8732\n",
      "DONE\n",
      "Confusion_matrix\n",
      "[[949 117]\n",
      " [ 34  91]]\n",
      "-------------------Classification_report-------------------\n",
      "              precision    recall  f1-score   support\n",
      "\n",
      "    Negative       0.97      0.89      0.93      1066\n",
      "    Positive       0.44      0.73      0.55       125\n",
      "\n",
      "    accuracy                           0.87      1191\n",
      "   macro avg       0.70      0.81      0.74      1191\n",
      "weighted avg       0.91      0.87      0.89      1191\n",
      "\n",
      "AUC: 0.8942739212007504\n",
      " \n",
      "main_without_imggen-14.h5\n",
      "38/38 [==============================] - 3s 78ms/step - loss: 0.4349 - accuracy: 0.9102\n",
      "DONE\n",
      "Confusion_matrix\n",
      "[[1066    0]\n",
      " [ 107   18]]\n",
      "-------------------Classification_report-------------------\n",
      "              precision    recall  f1-score   support\n",
      "\n",
      "    Negative       0.91      1.00      0.95      1066\n",
      "    Positive       1.00      0.14      0.25       125\n",
      "\n",
      "    accuracy                           0.91      1191\n",
      "   macro avg       0.95      0.57      0.60      1191\n",
      "weighted avg       0.92      0.91      0.88      1191\n",
      "\n",
      "AUC: 0.851984990619137\n",
      " \n",
      "main_without_imggen-16.h5\n",
      "38/38 [==============================] - 3s 76ms/step - loss: 0.3764 - accuracy: 0.9127\n",
      "DONE\n",
      "Confusion_matrix\n",
      "[[1006   60]\n",
      " [  44   81]]\n",
      "-------------------Classification_report-------------------\n",
      "              precision    recall  f1-score   support\n",
      "\n",
      "    Negative       0.96      0.94      0.95      1066\n",
      "    Positive       0.57      0.65      0.61       125\n",
      "\n",
      "    accuracy                           0.91      1191\n",
      "   macro avg       0.77      0.80      0.78      1191\n",
      "weighted avg       0.92      0.91      0.91      1191\n",
      "\n",
      "AUC: 0.8798198874296435\n",
      " \n",
      "main_without_imggen-18.h5\n",
      "38/38 [==============================] - 3s 80ms/step - loss: 0.3900 - accuracy: 0.8992\n",
      "DONE\n",
      "Confusion_matrix\n",
      "[[979  87]\n",
      " [ 33  92]]\n",
      "-------------------Classification_report-------------------\n",
      "              precision    recall  f1-score   support\n",
      "\n",
      "    Negative       0.97      0.92      0.94      1066\n",
      "    Positive       0.51      0.74      0.61       125\n",
      "\n",
      "    accuracy                           0.90      1191\n",
      "   macro avg       0.74      0.83      0.77      1191\n",
      "weighted avg       0.92      0.90      0.91      1191\n",
      "\n",
      "AUC: 0.8968930581613508\n",
      " \n",
      "main_without_imggen-20.h5\n",
      "38/38 [==============================] - 3s 79ms/step - loss: 0.4344 - accuracy: 0.8799\n",
      "DONE\n",
      "Confusion_matrix\n",
      "[[961 105]\n",
      " [ 38  87]]\n",
      "-------------------Classification_report-------------------\n",
      "              precision    recall  f1-score   support\n",
      "\n",
      "    Negative       0.96      0.90      0.93      1066\n",
      "    Positive       0.45      0.70      0.55       125\n",
      "\n",
      "    accuracy                           0.88      1191\n",
      "   macro avg       0.71      0.80      0.74      1191\n",
      "weighted avg       0.91      0.88      0.89      1191\n",
      "\n",
      "AUC: 0.8805103189493433\n",
      " \n"
     ]
    }
   ],
   "source": [
    "# vyhodnotenie modelov\n",
    "for weight in weights[54:59]:\n",
    "    new_model = create_model()\n",
    "    new_model.load_weights(weight)\n",
    "    print(weight.split(\"/\")[3])\n",
    "    score = new_model.evaluate(X_test, y_test)\n",
    "    \n",
    "    y_pred = new_model.predict(X_test)\n",
    "    y_int = np.zeros_like(y_pred)\n",
    "    y_int[y_pred > 0.50] = 1\n",
    "    y_testt = y_test.astype('float32')\n",
    "    print(\"DONE\")\n",
    "    \n",
    "    cm = confusion_matrix(y_testt, y_int)\n",
    "    print('Confusion_matrix')\n",
    "    print(cm)\n",
    "    print('-------------------Classification_report-------------------')\n",
    "    target_names = ['Negative', 'Positive']\n",
    "    print(classification_report(y_testt, y_int, target_names=target_names))\n",
    "    \n",
    "    rocauc = roc_auc_score(y_test, y_pred)\n",
    "    print('AUC: {}'.format(rocauc))\n",
    "    print(\" \")\n",
    "    \n",
    "    row = {'Model': weight.split(\"/\")[3],\n",
    "           'Accuracy': round(score[1],4),\n",
    "           'Loss': round(score[0],4),\n",
    "           'AUC':round(rocauc,4) ,\n",
    "          }\n",
    "    dataframe = dataframe.append(row, ignore_index=True)"
   ]
  },
  {
   "cell_type": "code",
   "execution_count": 13,
   "metadata": {},
   "outputs": [
    {
     "data": {
      "text/html": [
       "<div>\n",
       "<style scoped>\n",
       "    .dataframe tbody tr th:only-of-type {\n",
       "        vertical-align: middle;\n",
       "    }\n",
       "\n",
       "    .dataframe tbody tr th {\n",
       "        vertical-align: top;\n",
       "    }\n",
       "\n",
       "    .dataframe thead th {\n",
       "        text-align: right;\n",
       "    }\n",
       "</style>\n",
       "<table border=\"1\" class=\"dataframe\">\n",
       "  <thead>\n",
       "    <tr style=\"text-align: right;\">\n",
       "      <th></th>\n",
       "      <th>Model</th>\n",
       "      <th>Accuracy</th>\n",
       "      <th>Loss</th>\n",
       "      <th>AUC</th>\n",
       "    </tr>\n",
       "  </thead>\n",
       "  <tbody>\n",
       "    <tr>\n",
       "      <th>0</th>\n",
       "      <td>main_without_imggen-02.h5</td>\n",
       "      <td>0.6667</td>\n",
       "      <td>0.8677</td>\n",
       "      <td>0.7122</td>\n",
       "    </tr>\n",
       "    <tr>\n",
       "      <th>1</th>\n",
       "      <td>main_without_imggen-04.h5</td>\n",
       "      <td>0.7842</td>\n",
       "      <td>0.5780</td>\n",
       "      <td>0.8209</td>\n",
       "    </tr>\n",
       "    <tr>\n",
       "      <th>2</th>\n",
       "      <td>main_without_imggen-06.h5</td>\n",
       "      <td>0.6297</td>\n",
       "      <td>1.0071</td>\n",
       "      <td>0.8433</td>\n",
       "    </tr>\n",
       "    <tr>\n",
       "      <th>3</th>\n",
       "      <td>main_without_imggen-08.h5</td>\n",
       "      <td>0.8060</td>\n",
       "      <td>0.4896</td>\n",
       "      <td>0.8825</td>\n",
       "    </tr>\n",
       "    <tr>\n",
       "      <th>4</th>\n",
       "      <td>main_without_imggen-10.h5</td>\n",
       "      <td>0.5542</td>\n",
       "      <td>1.5291</td>\n",
       "      <td>0.8965</td>\n",
       "    </tr>\n",
       "    <tr>\n",
       "      <th>5</th>\n",
       "      <td>main_without_imggen-12.h5</td>\n",
       "      <td>0.8732</td>\n",
       "      <td>0.4237</td>\n",
       "      <td>0.8943</td>\n",
       "    </tr>\n",
       "    <tr>\n",
       "      <th>6</th>\n",
       "      <td>main_without_imggen-14.h5</td>\n",
       "      <td>0.9102</td>\n",
       "      <td>0.4349</td>\n",
       "      <td>0.8520</td>\n",
       "    </tr>\n",
       "    <tr>\n",
       "      <th>7</th>\n",
       "      <td>main_without_imggen-16.h5</td>\n",
       "      <td>0.9127</td>\n",
       "      <td>0.3764</td>\n",
       "      <td>0.8798</td>\n",
       "    </tr>\n",
       "    <tr>\n",
       "      <th>8</th>\n",
       "      <td>main_without_imggen-18.h5</td>\n",
       "      <td>0.8992</td>\n",
       "      <td>0.3900</td>\n",
       "      <td>0.8969</td>\n",
       "    </tr>\n",
       "    <tr>\n",
       "      <th>9</th>\n",
       "      <td>main_without_imggen-20.h5</td>\n",
       "      <td>0.8799</td>\n",
       "      <td>0.4344</td>\n",
       "      <td>0.8805</td>\n",
       "    </tr>\n",
       "  </tbody>\n",
       "</table>\n",
       "</div>"
      ],
      "text/plain": [
       "                       Model  Accuracy    Loss     AUC\n",
       "0  main_without_imggen-02.h5    0.6667  0.8677  0.7122\n",
       "1  main_without_imggen-04.h5    0.7842  0.5780  0.8209\n",
       "2  main_without_imggen-06.h5    0.6297  1.0071  0.8433\n",
       "3  main_without_imggen-08.h5    0.8060  0.4896  0.8825\n",
       "4  main_without_imggen-10.h5    0.5542  1.5291  0.8965\n",
       "5  main_without_imggen-12.h5    0.8732  0.4237  0.8943\n",
       "6  main_without_imggen-14.h5    0.9102  0.4349  0.8520\n",
       "7  main_without_imggen-16.h5    0.9127  0.3764  0.8798\n",
       "8  main_without_imggen-18.h5    0.8992  0.3900  0.8969\n",
       "9  main_without_imggen-20.h5    0.8799  0.4344  0.8805"
      ]
     },
     "execution_count": 13,
     "metadata": {},
     "output_type": "execute_result"
    }
   ],
   "source": [
    "#zobrazenie dosiahnutých výsledkov\n",
    "dataframe"
   ]
  },
  {
   "cell_type": "code",
   "execution_count": 14,
   "metadata": {},
   "outputs": [],
   "source": [
    "dataframe.to_csv('../FrantisekUrban/experiment1.csv', index=False)"
   ]
  },
  {
   "cell_type": "code",
   "execution_count": 17,
   "metadata": {},
   "outputs": [
    {
     "data": {
      "text/plain": [
       "'../FrantisekUrban/callback_model/main_without_imggen-18.h5'"
      ]
     },
     "execution_count": 17,
     "metadata": {},
     "output_type": "execute_result"
    }
   ],
   "source": [
    "weights[57]"
   ]
  },
  {
   "cell_type": "markdown",
   "metadata": {},
   "source": [
    "### Vyhodnotenie najlepšieho modelu"
   ]
  },
  {
   "cell_type": "code",
   "execution_count": 18,
   "metadata": {},
   "outputs": [
    {
     "name": "stdout",
     "output_type": "stream",
     "text": [
      "main_without_imggen-18.h5\n",
      "38/38 [==============================] - 3s 78ms/step - loss: 0.3900 - accuracy: 0.8992\n",
      "Confusion_matrix\n",
      "[[979  87]\n",
      " [ 33  92]]\n",
      "-------------------Classification_report-------------------\n",
      "              precision    recall  f1-score   support\n",
      "\n",
      "    Negative       0.97      0.92      0.94      1066\n",
      "    Positive       0.51      0.74      0.61       125\n",
      "\n",
      "    accuracy                           0.90      1191\n",
      "   macro avg       0.74      0.83      0.77      1191\n",
      "weighted avg       0.92      0.90      0.91      1191\n",
      "\n",
      "AUC: 0.8968930581613508\n"
     ]
    }
   ],
   "source": [
    "new_model = create_model()\n",
    "new_model.load_weights(weights[57])\n",
    "print(weights[57].split(\"/\")[3])\n",
    "new_model.evaluate(X_test, y_test)\n",
    "\n",
    "y_pred = new_model.predict(X_test)\n",
    "y_int = np.zeros_like(y_pred)\n",
    "y_int[y_pred > 0.5] = 1\n",
    "y_testt = y_test.astype('float32')\n",
    "\n",
    "cm = confusion_matrix(y_testt, y_int)\n",
    "print('Confusion_matrix')\n",
    "print(cm)\n",
    "print('-------------------Classification_report-------------------')\n",
    "target_names = ['Negative', 'Positive']\n",
    "print(classification_report(y_testt, y_int, target_names=target_names))\n",
    "\n",
    "rocauc = roc_auc_score(y_test, y_pred)\n",
    "print('AUC: {}'.format(rocauc))"
   ]
  },
  {
   "cell_type": "code",
   "execution_count": 24,
   "metadata": {},
   "outputs": [
    {
     "data": {
      "image/png": "[encoded data removed]",
      "text/plain": [
       "<Figure size 720x432 with 1 Axes>"
      ]
     },
     "metadata": {
      "needs_background": "light"
     },
     "output_type": "display_data"
    }
   ],
   "source": [
    "# vykreslenie ROC krivky s optimálnou hodnotou prahu\n",
    "fpr, tpr, thresholds = roc_curve(y_test, y_pred)\n",
    "\n",
    "plt.subplots(figsize=(10, 6))\n",
    "plt.plot(fpr, tpr, 'o-', label=\"ROC curve\")\n",
    "plt.plot(np.linspace(0,1,10), np.linspace(0,1,10), label=\"diagonal\")\n",
    "for x, y, txt in zip(fpr[::5], tpr[::5], thresholds[::5]):\n",
    "    plt.annotate(np.round(txt,2), (x, y-0.04))\n",
    "rnd_idx = 27\n",
    "plt.annotate('this point refers to the tpr and the fpr\\n at a probability threshold of {}'.format(np.round(thresholds[rnd_idx], 2)), \n",
    "             xy=(fpr[rnd_idx], tpr[rnd_idx]), xytext=(fpr[rnd_idx]+0.2, tpr[rnd_idx]-0.25),\n",
    "             arrowprops=dict(facecolor='black', lw=2, arrowstyle='->'),)\n",
    "plt.legend(loc=\"upper left\")\n",
    "plt.xlabel(\"FPR\")\n",
    "plt.ylabel(\"TPR\")\n",
    "plt.savefig(\"../FrantisekUrban/plots/e1plot-optROCcurve.png\", bbox_inches='tight', dpi = 200)"
   ]
  },
  {
   "cell_type": "code",
   "execution_count": 20,
   "metadata": {},
   "outputs": [
    {
     "name": "stdout",
     "output_type": "stream",
     "text": [
      "main_without_imggen-18.h5\n",
      "38/38 [==============================] - 3s 81ms/step - loss: 0.3900 - accuracy: 0.8992\n",
      "Confusion_matrix\n",
      "[[1053   13]\n",
      " [  63   62]]\n",
      "-------------------Classification_report-------------------\n",
      "              precision    recall  f1-score   support\n",
      "\n",
      "    Negative       0.94      0.99      0.97      1066\n",
      "    Positive       0.83      0.50      0.62       125\n",
      "\n",
      "    accuracy                           0.94      1191\n",
      "   macro avg       0.89      0.74      0.79      1191\n",
      "weighted avg       0.93      0.94      0.93      1191\n",
      "\n",
      "AUC: 0.8968930581613508\n"
     ]
    }
   ],
   "source": [
    "new_model = create_model()\n",
    "new_model.load_weights(weights[57])\n",
    "print(weights[57].split(\"/\")[3])\n",
    "new_model.evaluate(X_test, y_test)\n",
    "\n",
    "y_pred = new_model.predict(X_test)\n",
    "y_int = np.zeros_like(y_pred)\n",
    "y_int[y_pred > 0.99] = 1\n",
    "y_testt = y_test.astype('float32')\n",
    "\n",
    "cm = confusion_matrix(y_testt, y_int)\n",
    "print('Confusion_matrix')\n",
    "print(cm)\n",
    "print('-------------------Classification_report-------------------')\n",
    "target_names = ['Negative', 'Positive']\n",
    "print(classification_report(y_testt, y_int, target_names=target_names))\n",
    "\n",
    "rocauc = roc_auc_score(y_test, y_pred)\n",
    "print('AUC: {}'.format(rocauc))"
   ]
  },
  {
   "cell_type": "code",
   "execution_count": 4,
   "metadata": {},
   "outputs": [
    {
     "data": {
      "text/html": [
       "<div>\n",
       "<style scoped>\n",
       "    .dataframe tbody tr th:only-of-type {\n",
       "        vertical-align: middle;\n",
       "    }\n",
       "\n",
       "    .dataframe tbody tr th {\n",
       "        vertical-align: top;\n",
       "    }\n",
       "\n",
       "    .dataframe thead th {\n",
       "        text-align: right;\n",
       "    }\n",
       "</style>\n",
       "<table border=\"1\" class=\"dataframe\">\n",
       "  <thead>\n",
       "    <tr style=\"text-align: right;\">\n",
       "      <th></th>\n",
       "      <th>Model</th>\n",
       "      <th>Accuracy</th>\n",
       "      <th>Loss</th>\n",
       "      <th>AUC</th>\n",
       "    </tr>\n",
       "  </thead>\n",
       "  <tbody>\n",
       "    <tr>\n",
       "      <th>0</th>\n",
       "      <td>main_without_imggen-02.h5</td>\n",
       "      <td>0.6667</td>\n",
       "      <td>0.8677</td>\n",
       "      <td>0.7122</td>\n",
       "    </tr>\n",
       "    <tr>\n",
       "      <th>1</th>\n",
       "      <td>main_without_imggen-04.h5</td>\n",
       "      <td>0.7842</td>\n",
       "      <td>0.5780</td>\n",
       "      <td>0.8209</td>\n",
       "    </tr>\n",
       "    <tr>\n",
       "      <th>2</th>\n",
       "      <td>main_without_imggen-06.h5</td>\n",
       "      <td>0.6297</td>\n",
       "      <td>1.0071</td>\n",
       "      <td>0.8433</td>\n",
       "    </tr>\n",
       "    <tr>\n",
       "      <th>3</th>\n",
       "      <td>main_without_imggen-08.h5</td>\n",
       "      <td>0.8060</td>\n",
       "      <td>0.4896</td>\n",
       "      <td>0.8825</td>\n",
       "    </tr>\n",
       "    <tr>\n",
       "      <th>4</th>\n",
       "      <td>main_without_imggen-10.h5</td>\n",
       "      <td>0.5542</td>\n",
       "      <td>1.5291</td>\n",
       "      <td>0.8965</td>\n",
       "    </tr>\n",
       "    <tr>\n",
       "      <th>5</th>\n",
       "      <td>main_without_imggen-12.h5</td>\n",
       "      <td>0.8732</td>\n",
       "      <td>0.4237</td>\n",
       "      <td>0.8943</td>\n",
       "    </tr>\n",
       "    <tr>\n",
       "      <th>6</th>\n",
       "      <td>main_without_imggen-14.h5</td>\n",
       "      <td>0.9102</td>\n",
       "      <td>0.4349</td>\n",
       "      <td>0.8520</td>\n",
       "    </tr>\n",
       "    <tr>\n",
       "      <th>7</th>\n",
       "      <td>main_without_imggen-16.h5</td>\n",
       "      <td>0.9127</td>\n",
       "      <td>0.3764</td>\n",
       "      <td>0.8798</td>\n",
       "    </tr>\n",
       "    <tr>\n",
       "      <th>8</th>\n",
       "      <td>main_without_imggen-18.h5</td>\n",
       "      <td>0.8992</td>\n",
       "      <td>0.3900</td>\n",
       "      <td>0.8969</td>\n",
       "    </tr>\n",
       "    <tr>\n",
       "      <th>9</th>\n",
       "      <td>main_without_imggen-20.h5</td>\n",
       "      <td>0.8799</td>\n",
       "      <td>0.4344</td>\n",
       "      <td>0.8805</td>\n",
       "    </tr>\n",
       "  </tbody>\n",
       "</table>\n",
       "</div>"
      ],
      "text/plain": [
       "                       Model  Accuracy    Loss     AUC\n",
       "0  main_without_imggen-02.h5    0.6667  0.8677  0.7122\n",
       "1  main_without_imggen-04.h5    0.7842  0.5780  0.8209\n",
       "2  main_without_imggen-06.h5    0.6297  1.0071  0.8433\n",
       "3  main_without_imggen-08.h5    0.8060  0.4896  0.8825\n",
       "4  main_without_imggen-10.h5    0.5542  1.5291  0.8965\n",
       "5  main_without_imggen-12.h5    0.8732  0.4237  0.8943\n",
       "6  main_without_imggen-14.h5    0.9102  0.4349  0.8520\n",
       "7  main_without_imggen-16.h5    0.9127  0.3764  0.8798\n",
       "8  main_without_imggen-18.h5    0.8992  0.3900  0.8969\n",
       "9  main_without_imggen-20.h5    0.8799  0.4344  0.8805"
      ]
     },
     "execution_count": 4,
     "metadata": {},
     "output_type": "execute_result"
    }
   ],
   "source": [
    "#načítanie uloženého dataframu vysledkov\n",
    "dataframe = pd.read_csv('../FrantisekUrban/experiment1.csv')\n",
    "dataframe"
   ]
  },
  {
   "cell_type": "markdown",
   "metadata": {},
   "source": [
    "### Grafická reprezentácia výsledkov"
   ]
  },
  {
   "cell_type": "code",
   "execution_count": 5,
   "metadata": {},
   "outputs": [],
   "source": [
    "# načítanie AUC a Úspešnosti\n",
    "acc = dataframe[\"Accuracy\"]\n",
    "auc = dataframe[\"AUC\"]"
   ]
  },
  {
   "cell_type": "code",
   "execution_count": 6,
   "metadata": {},
   "outputs": [
    {
     "data": {
      "image/png": "[encoded data removed]",
      "text/plain": [
       "<Figure size 432x288 with 1 Axes>"
      ]
     },
     "metadata": {
      "needs_background": "light"
     },
     "output_type": "display_data"
    },
    {
     "name": "stdout",
     "output_type": "stream",
     "text": [
      "Najlepší vysledok je na epoche: 18\n"
     ]
    }
   ],
   "source": [
    "# vykreslenie grafu\n",
    "epochs = [2,4,6,8,10,12,14,16,18,20]\n",
    "\n",
    "plt.plot(epochs, acc, label = 'ACC', linestyle='-', marker='o')\n",
    "plt.plot(epochs, auc, label = 'AUC', linestyle='-', marker='o')\n",
    "\n",
    "plt.axvline(x = 18, ls='--', lw=2, c='green', label='najlepšie AUC')\n",
    "# naming the x axis\n",
    "plt.xlabel('Epocha')\n",
    "plt.xticks([2,4,6,8,10,12,14,16,18,20])\n",
    "# naming the y axis\n",
    "plt.ylabel('Hodnota [%]')\n",
    "plt.title('Experiment 1 - model bez augmentácie dát')\n",
    "plt.legend(loc =\"lower right\")\n",
    "plt.savefig(\"../FrantisekUrban/plots/e1plot-vysledok-epoch.png\", bbox_inches='tight', dpi = 200)\n",
    "plt.show()\n",
    "\n",
    "print(\"Najlepší vysledok je na epoche: {}\".format(18))"
   ]
  },
  {
   "cell_type": "code",
   "execution_count": null,
   "metadata": {},
   "outputs": [],
   "source": []
  }
 ],
 "metadata": {
  "kernelspec": {
   "display_name": "Python 3",
   "language": "python",
   "name": "python3"
  },
  "language_info": {
   "codemirror_mode": {
    "name": "ipython",
    "version": 3
   },
   "file_extension": ".py",
   "mimetype": "text/x-python",
   "name": "python",
   "nbconvert_exporter": "python",
   "pygments_lexer": "ipython3",
   "version": "3.8.6"
  }
 },
 "nbformat": 4,
 "nbformat_minor": 4
}
