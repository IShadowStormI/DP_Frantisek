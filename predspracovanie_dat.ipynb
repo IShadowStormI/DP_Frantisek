{
 "cells": [
  {
   "cell_type": "markdown",
   "metadata": {},
   "source": [
    "### Import knižníc"
   ]
  },
  {
   "cell_type": "code",
   "execution_count": 5,
   "metadata": {},
   "outputs": [],
   "source": [
    "from sys import stdout\n",
    "from PIL import Image\n",
    "\n",
    "import glob\n",
    "import os\n",
    "import numpy as np\n",
    "import pandas as pd\n",
    "import matplotlib.pyplot as plt\n",
    "import pickle as pkl"
   ]
  },
  {
   "cell_type": "markdown",
   "metadata": {},
   "source": [
    "### Zadefinovanie funkcie"
   ]
  },
  {
   "cell_type": "code",
   "execution_count": 6,
   "metadata": {},
   "outputs": [],
   "source": [
    "def preprocessing(data_directory):\n",
    "    images = glob.glob(data_directory + \"*.png\")\n",
    "    classes = []\n",
    "    filenames = []\n",
    "    img_list = []\n",
    "    for i, image in enumerate(images):\n",
    "        filename = image.replace((data_directory),\"\")\n",
    "        cat = filename.split('_')\n",
    "        classes.append(cat[0])\n",
    "        filenames.append(filename)\n",
    "            \n",
    "        img_list.append(np.array(Image.open(image).convert(\"L\")))\n",
    "        stdout.write(\"\\r%d\" % i + \" z {}\".format(len(images)))\n",
    "        stdout.flush()\n",
    "\n",
    "    df = pd.DataFrame({\n",
    "            'filename': filenames,\n",
    "            'class': classes\n",
    "        })\n",
    "    \n",
    "    di = {\"Negative\": 0, \"Positive\": 1}\n",
    "    df['class'] = df['class'].map(di)\n",
    "    \n",
    "    img_array = np.asarray(img_list, dtype=np.float32)\n",
    "    img_array = img_array.reshape(img_array.shape[0], img_array.shape[1], img_array.shape[2], 1)\n",
    "    stdout.write('\\n')\n",
    "    return img_array, df"
   ]
  },
  {
   "cell_type": "markdown",
   "metadata": {},
   "source": [
    "### Nastavenie ciest k snímkam"
   ]
  },
  {
   "cell_type": "code",
   "execution_count": 7,
   "metadata": {},
   "outputs": [],
   "source": [
    "DIR_PATH = '../FrantisekUrban/'\n",
    "IMG_PATH = '../FrantisekUrban/zlucene/'\n",
    "TRAIN_DIR = '../FrantisekUrban/zlucene/Train_images/'\n",
    "TEST_DIR = '../FrantisekUrban/zlucene/Test_images/'\n",
    "VALID_DIR = '../FrantisekUrban/zlucene/Valid_images/'"
   ]
  },
  {
   "cell_type": "markdown",
   "metadata": {},
   "source": [
    "### Predspracovanie snímok"
   ]
  },
  {
   "cell_type": "code",
   "execution_count": 8,
   "metadata": {},
   "outputs": [
    {
     "name": "stdout",
     "output_type": "stream",
     "text": [
      "4667 z 4668\n",
      "1190 z 1191\n",
      "99 z 100\n"
     ]
    }
   ],
   "source": [
    "# predspracovanie\n",
    "X_train, train_df = preprocessing(TRAIN_DIR)\n",
    "X_test, test_df = preprocessing(TEST_DIR)\n",
    "X_valid, valid_df = preprocessing(VALID_DIR)\n",
    "\n",
    "# uloženie predspracovania\n",
    "with open('train.pkl','wb') as f: pkl.dump([X_train, train_df], f)\n",
    "with open('test.pkl','wb') as f: pkl.dump([X_test, test_df], f)\n",
    "with open('valid.pkl','wb') as f: pkl.dump([X_valid, valid_df], f)"
   ]
  },
  {
   "cell_type": "code",
   "execution_count": 9,
   "metadata": {},
   "outputs": [],
   "source": [
    "# načítanie predspracovaných dát\n",
    "with open('train.pkl','rb') as f: X_train, train_df = pkl.load(f)\n",
    "with open('test.pkl','rb') as f: X_test, test_df = pkl.load(f)\n",
    "with open('valid.pkl','rb') as f: X_valid, valid_df = pkl.load(f)\n",
    "\n",
    "y_train = train_df[\"class\"]\n",
    "y_test = test_df[\"class\"]\n",
    "y_valid = valid_df[\"class\"]"
   ]
  },
  {
   "cell_type": "code",
   "execution_count": 10,
   "metadata": {},
   "outputs": [
    {
     "name": "stdout",
     "output_type": "stream",
     "text": [
      "TrainSetInto: (4668, 299, 299, 1)\n",
      "TestSetInto: (1191, 299, 299, 1)\n",
      "ValidSetInto: (100, 299, 299, 1)\n"
     ]
    }
   ],
   "source": [
    "print(\"TrainSetInto: {}\".format(X_train.shape))\n",
    "print(\"TestSetInto: {}\".format(X_test.shape))\n",
    "print(\"ValidSetInto: {}\".format(X_valid.shape))"
   ]
  },
  {
   "cell_type": "code",
   "execution_count": 11,
   "metadata": {},
   "outputs": [
    {
     "data": {
      "text/plain": [
       "<AxesSubplot:>"
      ]
     },
     "execution_count": 11,
     "metadata": {},
     "output_type": "execute_result"
    },
    {
     "data": {
      "image/png": "[encoded data removed]",
      "text/plain": [
       "<Figure size 432x288 with 1 Axes>"
      ]
     },
     "metadata": {
      "needs_background": "light"
     },
     "output_type": "display_data"
    }
   ],
   "source": [
    "y_train.value_counts().plot.bar()"
   ]
  },
  {
   "cell_type": "code",
   "execution_count": 12,
   "metadata": {},
   "outputs": [
    {
     "data": {
      "text/plain": [
       "<AxesSubplot:>"
      ]
     },
     "execution_count": 12,
     "metadata": {},
     "output_type": "execute_result"
    },
    {
     "data": {
      "image/png": "[encoded data removed]",
      "text/plain": [
       "<Figure size 432x288 with 1 Axes>"
      ]
     },
     "metadata": {
      "needs_background": "light"
     },
     "output_type": "display_data"
    }
   ],
   "source": [
    "y_test.value_counts().plot.bar()"
   ]
  },
  {
   "cell_type": "code",
   "execution_count": 13,
   "metadata": {},
   "outputs": [
    {
     "data": {
      "text/plain": [
       "<AxesSubplot:>"
      ]
     },
     "execution_count": 13,
     "metadata": {},
     "output_type": "execute_result"
    },
    {
     "data": {
      "image/png": "[encoded data removed]",
      "text/plain": [
       "<Figure size 432x288 with 1 Axes>"
      ]
     },
     "metadata": {
      "needs_background": "light"
     },
     "output_type": "display_data"
    }
   ],
   "source": [
    "y_valid.value_counts().plot.bar()"
   ]
  }
 ],
 "metadata": {
  "kernelspec": {
   "display_name": "Python 3",
   "language": "python",
   "name": "python3"
  },
  "language_info": {
   "codemirror_mode": {
    "name": "ipython",
    "version": 3
   },
   "file_extension": ".py",
   "mimetype": "text/x-python",
   "name": "python",
   "nbconvert_exporter": "python",
   "pygments_lexer": "ipython3",
   "version": "3.8.6"
  }
 },
 "nbformat": 4,
 "nbformat_minor": 4
}
