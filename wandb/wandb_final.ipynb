{
 "cells": [
  {
   "cell_type": "code",
   "execution_count": 1,
   "metadata": {},
   "outputs": [
    {
     "name": "stdout",
     "output_type": "stream",
     "text": [
      "Wed Mar 23 23:07:21 2022       \n",
      "+-----------------------------------------------------------------------------+\n",
      "| NVIDIA-SMI 460.32.03    Driver Version: 460.32.03    CUDA Version: 11.2     |\n",
      "|-------------------------------+----------------------+----------------------+\n",
      "| GPU  Name        Persistence-M| Bus-Id        Disp.A | Volatile Uncorr. ECC |\n",
      "| Fan  Temp  Perf  Pwr:Usage/Cap|         Memory-Usage | GPU-Util  Compute M. |\n",
      "|                               |                      |               MIG M. |\n",
      "|===============================+======================+======================|\n",
      "|   0  Quadro P4000        Off  | 00000000:8B:00.0 Off |                  N/A |\n",
      "| 46%   29C    P8     8W / 105W |      2MiB /  8117MiB |      0%      Default |\n",
      "|                               |                      |                  N/A |\n",
      "+-------------------------------+----------------------+----------------------+\n",
      "                                                                               \n",
      "+-----------------------------------------------------------------------------+\n",
      "| Processes:                                                                  |\n",
      "|  GPU   GI   CI        PID   Type   Process name                  GPU Memory |\n",
      "|        ID   ID                                                   Usage      |\n",
      "|=============================================================================|\n",
      "|  No running processes found                                                 |\n",
      "+-----------------------------------------------------------------------------+\n"
     ]
    }
   ],
   "source": [
    "!nvidia-smi"
   ]
  },
  {
   "cell_type": "markdown",
   "metadata": {},
   "source": [
    "### Inštalácia knižníc"
   ]
  },
  {
   "cell_type": "code",
   "execution_count": 2,
   "metadata": {},
   "outputs": [
    {
     "name": "stdout",
     "output_type": "stream",
     "text": [
      "Requirement already satisfied: wandb in /opt/conda/lib/python3.8/site-packages (0.12.11)\n",
      "Requirement already satisfied: promise<3,>=2.0 in /opt/conda/lib/python3.8/site-packages (from wandb) (2.3)\n",
      "Requirement already satisfied: yaspin>=1.0.0 in /opt/conda/lib/python3.8/site-packages (from wandb) (2.1.0)\n",
      "Requirement already satisfied: sentry-sdk>=1.0.0 in /opt/conda/lib/python3.8/site-packages (from wandb) (1.5.8)\n",
      "Requirement already satisfied: PyYAML in /opt/conda/lib/python3.8/site-packages (from wandb) (5.3.1)\n",
      "Requirement already satisfied: requests<3,>=2.0.0 in /opt/conda/lib/python3.8/site-packages (from wandb) (2.25.0)\n",
      "Requirement already satisfied: six>=1.13.0 in /opt/conda/lib/python3.8/site-packages (from wandb) (1.15.0)\n",
      "Requirement already satisfied: protobuf>=3.12.0 in /opt/conda/lib/python3.8/site-packages (from wandb) (3.13.0)\n",
      "Requirement already satisfied: setproctitle in /opt/conda/lib/python3.8/site-packages (from wandb) (1.2.2)\n",
      "Requirement already satisfied: python-dateutil>=2.6.1 in /opt/conda/lib/python3.8/site-packages (from wandb) (2.8.1)\n",
      "Requirement already satisfied: shortuuid>=0.5.0 in /opt/conda/lib/python3.8/site-packages (from wandb) (1.0.8)\n",
      "Requirement already satisfied: docker-pycreds>=0.4.0 in /opt/conda/lib/python3.8/site-packages (from wandb) (0.4.0)\n",
      "Requirement already satisfied: pathtools in /opt/conda/lib/python3.8/site-packages (from wandb) (0.1.2)\n",
      "Requirement already satisfied: psutil>=5.0.0 in /opt/conda/lib/python3.8/site-packages (from wandb) (5.7.3)\n",
      "Requirement already satisfied: GitPython>=1.0.0 in /opt/conda/lib/python3.8/site-packages (from wandb) (3.1.27)\n",
      "Requirement already satisfied: Click!=8.0.0,>=7.0 in /opt/conda/lib/python3.8/site-packages (from wandb) (7.1.2)\n",
      "Requirement already satisfied: six>=1.13.0 in /opt/conda/lib/python3.8/site-packages (from wandb) (1.15.0)\n",
      "Requirement already satisfied: gitdb<5,>=4.0.1 in /opt/conda/lib/python3.8/site-packages (from GitPython>=1.0.0->wandb) (4.0.9)\n",
      "Requirement already satisfied: smmap<6,>=3.0.1 in /opt/conda/lib/python3.8/site-packages (from gitdb<5,>=4.0.1->GitPython>=1.0.0->wandb) (5.0.0)\n",
      "Requirement already satisfied: six>=1.13.0 in /opt/conda/lib/python3.8/site-packages (from wandb) (1.15.0)\n",
      "Requirement already satisfied: six>=1.13.0 in /opt/conda/lib/python3.8/site-packages (from wandb) (1.15.0)\n",
      "Requirement already satisfied: setuptools in /opt/conda/lib/python3.8/site-packages (from protobuf>=3.12.0->wandb) (49.6.0.post20201009)\n",
      "Requirement already satisfied: six>=1.13.0 in /opt/conda/lib/python3.8/site-packages (from wandb) (1.15.0)\n",
      "Requirement already satisfied: chardet<4,>=3.0.2 in /opt/conda/lib/python3.8/site-packages (from requests<3,>=2.0.0->wandb) (3.0.4)\n",
      "Requirement already satisfied: certifi>=2017.4.17 in /opt/conda/lib/python3.8/site-packages (from requests<3,>=2.0.0->wandb) (2020.12.5)\n",
      "Requirement already satisfied: idna<3,>=2.5 in /opt/conda/lib/python3.8/site-packages (from requests<3,>=2.0.0->wandb) (2.10)\n",
      "Requirement already satisfied: urllib3<1.27,>=1.21.1 in /opt/conda/lib/python3.8/site-packages (from requests<3,>=2.0.0->wandb) (1.25.11)\n",
      "Requirement already satisfied: urllib3<1.27,>=1.21.1 in /opt/conda/lib/python3.8/site-packages (from requests<3,>=2.0.0->wandb) (1.25.11)\n",
      "Requirement already satisfied: certifi>=2017.4.17 in /opt/conda/lib/python3.8/site-packages (from requests<3,>=2.0.0->wandb) (2020.12.5)\n",
      "Requirement already satisfied: termcolor<2.0.0,>=1.1.0 in /opt/conda/lib/python3.8/site-packages (from yaspin>=1.0.0->wandb) (1.1.0)\n",
      "Requirement already satisfied: opencv-python in /opt/conda/lib/python3.8/site-packages (4.5.5.64)\n",
      "Requirement already satisfied: numpy>=1.17.3 in /opt/conda/lib/python3.8/site-packages (from opencv-python) (1.18.5)\n",
      "Requirement already satisfied: numpy>=1.14.5 in /opt/conda/lib/python3.8/site-packages (from opencv-python) (1.18.5)\n",
      "Requirement already satisfied: keras in /opt/conda/lib/python3.8/site-packages (2.8.0)\n",
      "Requirement already satisfied: scikit-plot in /opt/conda/lib/python3.8/site-packages (0.3.7)\n",
      "Requirement already satisfied: scikit-learn>=0.18 in /opt/conda/lib/python3.8/site-packages (from scikit-plot) (0.23.2)\n",
      "Requirement already satisfied: scipy>=0.9 in /opt/conda/lib/python3.8/site-packages (from scikit-plot) (1.5.3)\n",
      "Requirement already satisfied: joblib>=0.10 in /opt/conda/lib/python3.8/site-packages (from scikit-plot) (0.17.0)\n",
      "Requirement already satisfied: matplotlib>=1.4.0 in /opt/conda/lib/python3.8/site-packages (from scikit-plot) (3.3.3)\n",
      "Requirement already satisfied: cycler>=0.10 in /opt/conda/lib/python3.8/site-packages (from matplotlib>=1.4.0->scikit-plot) (0.10.0)\n",
      "Requirement already satisfied: pyparsing!=2.0.4,!=2.1.2,!=2.1.6,>=2.0.3 in /opt/conda/lib/python3.8/site-packages (from matplotlib>=1.4.0->scikit-plot) (2.4.7)\n",
      "Requirement already satisfied: kiwisolver>=1.0.1 in /opt/conda/lib/python3.8/site-packages (from matplotlib>=1.4.0->scikit-plot) (1.3.1)\n",
      "Requirement already satisfied: python-dateutil>=2.1 in /opt/conda/lib/python3.8/site-packages (from matplotlib>=1.4.0->scikit-plot) (2.8.1)\n",
      "Requirement already satisfied: pillow>=6.2.0 in /opt/conda/lib/python3.8/site-packages (from matplotlib>=1.4.0->scikit-plot) (8.0.1)\n",
      "Requirement already satisfied: numpy>=1.15 in /opt/conda/lib/python3.8/site-packages (from matplotlib>=1.4.0->scikit-plot) (1.18.5)\n",
      "Requirement already satisfied: six in /opt/conda/lib/python3.8/site-packages (from cycler>=0.10->matplotlib>=1.4.0->scikit-plot) (1.15.0)\n",
      "Requirement already satisfied: six in /opt/conda/lib/python3.8/site-packages (from cycler>=0.10->matplotlib>=1.4.0->scikit-plot) (1.15.0)\n",
      "Requirement already satisfied: scipy>=0.9 in /opt/conda/lib/python3.8/site-packages (from scikit-plot) (1.5.3)\n",
      "Requirement already satisfied: numpy>=1.15 in /opt/conda/lib/python3.8/site-packages (from matplotlib>=1.4.0->scikit-plot) (1.18.5)\n",
      "Requirement already satisfied: joblib>=0.10 in /opt/conda/lib/python3.8/site-packages (from scikit-plot) (0.17.0)\n",
      "Requirement already satisfied: threadpoolctl>=2.0.0 in /opt/conda/lib/python3.8/site-packages (from scikit-learn>=0.18->scikit-plot) (2.1.0)\n",
      "Requirement already satisfied: numpy>=1.15 in /opt/conda/lib/python3.8/site-packages (from matplotlib>=1.4.0->scikit-plot) (1.18.5)\n"
     ]
    }
   ],
   "source": [
    "!pip install wandb\n",
    "\n",
    "!pip install opencv-python\n",
    "!pip install keras\n",
    "!pip install scikit-plot"
   ]
  },
  {
   "cell_type": "markdown",
   "metadata": {},
   "source": [
    "### Import knižníc"
   ]
  },
  {
   "cell_type": "code",
   "execution_count": 5,
   "metadata": {},
   "outputs": [],
   "source": [
    "import glob\n",
    "import os\n",
    "import numpy as np\n",
    "import pandas as pd\n",
    "import matplotlib.pyplot as plt\n",
    "import pickle as pkl\n",
    "import wandb\n",
    "\n",
    "from wandb.keras import WandbCallback\n",
    "from sys import stdout\n",
    "from tensorflow import keras\n",
    "from tensorflow.keras.models import Sequential\n",
    "from tensorflow.keras.callbacks import ModelCheckpoint\n",
    "from tensorflow.keras.layers import Dense, Dropout, Flatten, Conv2D, MaxPooling2D, BatchNormalization\n",
    "from tensorflow.keras.optimizers import Adam\n",
    "from tensorflow.keras.preprocessing.image import ImageDataGenerator\n",
    "from sklearn.metrics import roc_auc_score\n",
    "from sklearn import metrics"
   ]
  },
  {
   "cell_type": "markdown",
   "metadata": {},
   "source": [
    "### Prihlásenie sa do wandbu"
   ]
  },
  {
   "cell_type": "code",
   "execution_count": 6,
   "metadata": {},
   "outputs": [
    {
     "name": "stderr",
     "output_type": "stream",
     "text": [
      "Failed to detect the name of this notebook, you can set it manually with the WANDB_NOTEBOOK_NAME environment variable to enable code saving.\n",
      "\u001b[34m\u001b[1mwandb\u001b[0m: Currently logged in as: \u001b[33mishadowstormi\u001b[0m (use `wandb login --relogin` to force relogin)\n"
     ]
    },
    {
     "data": {
      "text/plain": [
       "True"
      ]
     },
     "execution_count": 6,
     "metadata": {},
     "output_type": "execute_result"
    }
   ],
   "source": [
    "wandb.login()"
   ]
  },
  {
   "cell_type": "markdown",
   "metadata": {},
   "source": [
    "### Načítanie snímok"
   ]
  },
  {
   "cell_type": "code",
   "execution_count": 10,
   "metadata": {},
   "outputs": [],
   "source": [
    "with open('train.pkl','rb') as f: X_train, train_df = pkl.load(f)\n",
    "with open('test.pkl','rb') as f: X_test, test_df = pkl.load(f)\n",
    "with open('valid.pkl','rb') as f: X_valid, valid_df = pkl.load(f)\n",
    "\n",
    "y_train = train_df[\"category\"]\n",
    "y_test = test_df[\"category\"]\n",
    "y_valid = valid_df[\"category\"]"
   ]
  },
  {
   "cell_type": "code",
   "execution_count": 11,
   "metadata": {},
   "outputs": [
    {
     "name": "stdout",
     "output_type": "stream",
     "text": [
      "TrainSetInto = (4668, 299, 299, 1)\n",
      "TestSetInto = (1191, 299, 299, 1)\n",
      "ValidSetInto = (100, 299, 299, 1)\n"
     ]
    }
   ],
   "source": [
    "print(\"TrainSetInto = {}\".format(X_train.shape))\n",
    "print(\"TestSetInto = {}\".format(X_test.shape))\n",
    "print(\"ValidSetInto = {}\".format(X_valid.shape))"
   ]
  },
  {
   "cell_type": "markdown",
   "metadata": {},
   "source": [
    "### Architektúra siete"
   ]
  },
  {
   "cell_type": "code",
   "execution_count": 13,
   "metadata": {},
   "outputs": [],
   "source": [
    "def Model(conv_layer1, conv_layer2, conv_layer3, conv_layer4, dense):\n",
    "    model = Sequential()\n",
    "    \n",
    "    model.add(Conv2D(conv_layer1, (3, 3), input_shape=[299, 299,1], activation='relu'))\n",
    "    model.add(Conv2D(conv_layer1, (3, 3), activation='relu'))\n",
    "    model.add(BatchNormalization())\n",
    "    model.add(MaxPooling2D(pool_size=(2, 2)))\n",
    "    model.add(Dropout(0.25))\n",
    "\n",
    "    model.add(Conv2D(conv_layer2, (3, 3), activation='relu'))\n",
    "    model.add(Conv2D(conv_layer2, (3, 3), activation='relu'))\n",
    "    model.add(BatchNormalization())\n",
    "    model.add(MaxPooling2D(pool_size=(2, 2)))\n",
    "    model.add(Dropout(0.25))\n",
    "\n",
    "    model.add(Conv2D(conv_layer3, (3, 3), activation='relu'))\n",
    "    model.add(Conv2D(conv_layer3, (3, 3), activation='relu'))\n",
    "    model.add(BatchNormalization())\n",
    "    model.add(MaxPooling2D(pool_size=(2, 2)))\n",
    "    model.add(Dropout(0.25))\n",
    "\n",
    "    model.add(Conv2D(conv_layer4, (3, 3), activation='relu'))\n",
    "    model.add(Conv2D(conv_layer4, (3, 3), activation='relu'))\n",
    "    model.add(BatchNormalization())\n",
    "    model.add(MaxPooling2D(pool_size=(2, 2)))\n",
    "    model.add(Dropout(0.25))\n",
    "\n",
    "    model.add(Flatten())\n",
    "    model.add(Dense(dense, activation='relu'))\n",
    "    model.add(Dropout(0.5))\n",
    "    model.add(Dense(1, activation='sigmoid'))\n",
    "    \n",
    "    model.compile(optimizer=\"Adam\",\n",
    "                  loss=\"binary_crossentropy\",\n",
    "                  metrics=['accuracy'])\n",
    "    \n",
    "    return model"
   ]
  },
  {
   "cell_type": "markdown",
   "metadata": {},
   "source": [
    "### Konfigurácia procesu optimalizácie "
   ]
  },
  {
   "cell_type": "code",
   "execution_count": 17,
   "metadata": {},
   "outputs": [],
   "source": [
    "def train():\n",
    "    #defaul konfigurácia\n",
    "    config_default={\n",
    "        'conv_layer1': 32,\n",
    "        'conv_layer2': 64,\n",
    "        'conv_layer3': 64,\n",
    "        'conv_layer4': 128,\n",
    "        'dense': 512,\n",
    "        'batch_size': 32,\n",
    "        'architecture': 'CNN'\n",
    "    }\n",
    "\n",
    "    # inicializácia wandb projektu\n",
    "    wandb.init(config=config_default)\n",
    "    config = wandb.config\n",
    "\n",
    "    # inicializácia vstupujúcich parametrov modelu\n",
    "    model = Model(config.conv_layer1, config.conv_layer2, config.conv_layer3, config.conv_layer4, config.dense)\n",
    "    \n",
    "    # vytvorenie imagegeneratora (augmantácia trénovacej množiny)\n",
    "    train_datagen = ImageDataGenerator(vertical_flip=True,horizontal_flip=True, brightness_range=[0.3,0.7])\n",
    "    \n",
    "#     _ = model.fit(X_train,\n",
    "#                   y_train,\n",
    "#                   epochs=config.epochs,\n",
    "#                   batch_size=config.batch_size,\n",
    "#                   validation_data = (X_test, y_test),\n",
    "#                   callbacks = [WandbCallback(monitor='val_loss',\n",
    "#                                              verbose = 1,\n",
    "#                                              mode = 'min'\n",
    "#                                             )])\n",
    "#     STEPS_PER_EPOCH = y_train.size / config.batch_size\n",
    "#     SAVE_PERIOD = 2\n",
    "\n",
    "#     filepath = \"../FrantisekUrban/wandb_callback_weights/saved-model-{epoch:02d}.h5\"\n",
    "#     checkpoint1 = ModelCheckpoint(filepath, verbose=1, save_best_only=False, save_weights_only=True, save_freq=int(SAVE_PERIOD * STEPS_PER_EPOCH))\n",
    "    \n",
    "    \n",
    "    # konfigurácia procesu učenia\n",
    "    _ = model.fit(train_datagen.flow(X_train,y_train,\n",
    "                                       config.batch_size),\n",
    "                  validation_data = (X_valid, y_valid),\n",
    "                  epochs=28,  \n",
    "                  callbacks = [WandbCallback(monitor='val_loss',\n",
    "                                             verbose = 0,\n",
    "                                             mode = 'min',\n",
    "                                             save_model=False\n",
    "                                            )])\n",
    "    \n",
    "    # vyhodnotenie vytvoreného modelu    \n",
    "    print(\"\\n-----Model evaluation on test data-----\")\n",
    "    loss, accuracy = model.evaluate(X_test, y_test)\n",
    "    \n",
    "    # vypočet a výpis chyby modelu\n",
    "    print('Test Error Rate: ', round((1-accuracy)*100, 2))\n",
    "    # odoslanie hodnoty chyby do wandbu\n",
    "    wandb.log({'Test Error Rate': round((1-accuracy)*100, 2)})\n",
    "    \n",
    "    # predikcia modelu\n",
    "    y_pred = model.predict(X_test)\n",
    "    # výpočet hodnoty AUC\n",
    "    roc = roc_auc_score(y_test, y_pred)\n",
    "    \n",
    "    # výpis a následne odoslanie AUC do wandbu\n",
    "    print('AUC: ', round(roc,4))\n",
    "    wandb.log({'AUC': round(roc,4)})\n",
    "    \n",
    "    # ukončenie daného sweepu\n",
    "    wandb.finish()"
   ]
  },
  {
   "cell_type": "code",
   "execution_count": 18,
   "metadata": {},
   "outputs": [],
   "source": [
    "# inicializácia jednotlivých typov parametrov modelu\n",
    "sweep_config = {\n",
    "  'method': 'grid', \n",
    "  'metric': {\n",
    "      'name': 'val_loss',\n",
    "      'goal': 'minimize'\n",
    "  },\n",
    "  'early_terminate':{\n",
    "      'type': 'hyperband',\n",
    "      'min_iter': 7\n",
    "  },\n",
    "  'parameters': {\n",
    "      'conv_layer1': {\n",
    "          'values': [16, 32]\n",
    "      },\n",
    "      'conv_layer2': {\n",
    "          'values': [32, 64]\n",
    "      },\n",
    "      'conv_layer3': {\n",
    "          'values': [64, 128]\n",
    "      },\n",
    "      'conv_layer4': {\n",
    "          'values': [64, 128]\n",
    "      },\n",
    "      'dense':{\n",
    "          'values': [512, 1024]\n",
    "      },\n",
    "      'batch_size': {\n",
    "          'values': [32, 64]\n",
    "      }\n",
    "  }\n",
    "}"
   ]
  },
  {
   "cell_type": "code",
   "execution_count": 19,
   "metadata": {},
   "outputs": [
    {
     "name": "stdout",
     "output_type": "stream",
     "text": [
      "Create sweep with ID: wco4rtlh\n",
      "Sweep URL: https://wandb.ai/ishadowstormi/Coronary%20angiography%20network/sweeps/wco4rtlh\n"
     ]
    }
   ],
   "source": [
    "# vytvorenie sweepu\n",
    "sweep_id = wandb.sweep(sweep_config, project=\"Coronary angiography network\")"
   ]
  },
  {
   "cell_type": "code",
   "execution_count": 20,
   "metadata": {},
   "outputs": [
    {
     "name": "stderr",
     "output_type": "stream",
     "text": [
      "\u001b[34m\u001b[1mwandb\u001b[0m: Agent Starting Run: h6c8ios1 with config:\n",
      "\u001b[34m\u001b[1mwandb\u001b[0m: \tbatch_size: 32\n",
      "\u001b[34m\u001b[1mwandb\u001b[0m: \tconv_layer1: 16\n",
      "\u001b[34m\u001b[1mwandb\u001b[0m: \tconv_layer2: 32\n",
      "\u001b[34m\u001b[1mwandb\u001b[0m: \tconv_layer3: 64\n",
      "\u001b[34m\u001b[1mwandb\u001b[0m: \tconv_layer4: 64\n",
      "\u001b[34m\u001b[1mwandb\u001b[0m: \tdense: 512\n",
      "Failed to detect the name of this notebook, you can set it manually with the WANDB_NOTEBOOK_NAME environment variable to enable code saving.\n"
     ]
    },
    {
     "data": {
      "text/html": [
       "Tracking run with wandb version 0.12.11"
      ],
      "text/plain": [
       "<IPython.core.display.HTML object>"
      ]
     },
     "metadata": {},
     "output_type": "display_data"
    },
    {
     "data": {
      "text/html": [
       "Run data is saved locally in <code>/home/jovyan/data/lightning/FrantisekUrban/wandb/run-20220323_230757-h6c8ios1</code>"
      ],
      "text/plain": [
       "<IPython.core.display.HTML object>"
      ]
     },
     "metadata": {},
     "output_type": "display_data"
    },
    {
     "data": {
      "text/html": [
       "Syncing run <strong><a href=\"https://wandb.ai/ishadowstormi/Coronary%20angiography%20network/runs/h6c8ios1\" target=\"_blank\">colorful-sweep-1</a></strong> to <a href=\"https://wandb.ai/ishadowstormi/Coronary%20angiography%20network\" target=\"_blank\">Weights & Biases</a> (<a href=\"https://wandb.me/run\" target=\"_blank\">docs</a>)<br/>Sweep page:  <a href=\"https://wandb.ai/ishadowstormi/Coronary%20angiography%20network/sweeps/wco4rtlh\" target=\"_blank\">https://wandb.ai/ishadowstormi/Coronary%20angiography%20network/sweeps/wco4rtlh</a>"
      ],
      "text/plain": [
       "<IPython.core.display.HTML object>"
      ]
     },
     "metadata": {},
     "output_type": "display_data"
    },
    {
     "name": "stdout",
     "output_type": "stream",
     "text": [
      "Epoch 1/28\n",
      "  2/146 [..............................] - ETA: 9s - loss: 3.4318 - accuracy: 0.3750WARNING:tensorflow:Callbacks method `on_train_batch_end` is slow compared to the batch time (batch time: 0.0497s vs `on_train_batch_end` time: 0.0803s). Check your callbacks.\n",
      "146/146 [==============================] - 20s 139ms/step - loss: 1.8789 - accuracy: 0.6512 - val_loss: 0.7938 - val_accuracy: 0.6100\n",
      "Epoch 2/28\n",
      "146/146 [==============================] - 19s 131ms/step - loss: 0.5445 - accuracy: 0.7277 - val_loss: 0.8052 - val_accuracy: 0.6100\n",
      "Epoch 3/28\n",
      "146/146 [==============================] - 19s 131ms/step - loss: 0.4961 - accuracy: 0.7569 - val_loss: 0.7560 - val_accuracy: 0.5500\n",
      "Epoch 4/28\n",
      "146/146 [==============================] - 19s 132ms/step - loss: 0.4533 - accuracy: 0.7826 - val_loss: 0.7041 - val_accuracy: 0.6800\n",
      "Epoch 5/28\n",
      "146/146 [==============================] - 19s 132ms/step - loss: 0.4525 - accuracy: 0.7802 - val_loss: 1.0005 - val_accuracy: 0.5300\n",
      "Epoch 6/28\n",
      "146/146 [==============================] - 19s 132ms/step - loss: 0.4220 - accuracy: 0.7999 - val_loss: 0.7140 - val_accuracy: 0.5700\n",
      "Epoch 7/28\n",
      "146/146 [==============================] - 19s 132ms/step - loss: 0.4145 - accuracy: 0.8031 - val_loss: 3.1913 - val_accuracy: 0.4900\n",
      "Epoch 8/28\n",
      "146/146 [==============================] - 19s 132ms/step - loss: 0.3951 - accuracy: 0.8186 - val_loss: 1.2229 - val_accuracy: 0.5900\n",
      "Epoch 9/28\n",
      "146/146 [==============================] - 19s 132ms/step - loss: 0.3677 - accuracy: 0.8342 - val_loss: 1.4557 - val_accuracy: 0.6600\n",
      "Epoch 10/28\n",
      "146/146 [==============================] - 19s 132ms/step - loss: 0.3382 - accuracy: 0.8391 - val_loss: 0.5423 - val_accuracy: 0.7400\n",
      "Epoch 11/28\n",
      "146/146 [==============================] - 19s 132ms/step - loss: 0.3314 - accuracy: 0.8520 - val_loss: 0.7139 - val_accuracy: 0.6800\n",
      "Epoch 12/28\n",
      "146/146 [==============================] - 19s 132ms/step - loss: 0.3241 - accuracy: 0.8550 - val_loss: 0.7158 - val_accuracy: 0.6200\n",
      "Epoch 13/28\n",
      "146/146 [==============================] - 19s 132ms/step - loss: 0.2889 - accuracy: 0.8743 - val_loss: 0.9277 - val_accuracy: 0.7100\n",
      "Epoch 14/28\n",
      "146/146 [==============================] - 19s 132ms/step - loss: 0.2801 - accuracy: 0.8745 - val_loss: 0.8235 - val_accuracy: 0.6400\n",
      "Epoch 15/28\n",
      "146/146 [==============================] - 19s 132ms/step - loss: 0.2616 - accuracy: 0.8927 - val_loss: 0.8932 - val_accuracy: 0.6600\n",
      "Epoch 16/28\n",
      "146/146 [==============================] - 19s 132ms/step - loss: 0.2514 - accuracy: 0.8918 - val_loss: 0.6324 - val_accuracy: 0.8000\n",
      "Epoch 17/28\n",
      "146/146 [==============================] - 19s 132ms/step - loss: 0.2376 - accuracy: 0.8957 - val_loss: 0.7662 - val_accuracy: 0.7600\n",
      "Epoch 18/28\n",
      "146/146 [==============================] - 19s 132ms/step - loss: 0.2215 - accuracy: 0.9057 - val_loss: 0.5219 - val_accuracy: 0.8000\n",
      "Epoch 19/28\n",
      "146/146 [==============================] - 19s 132ms/step - loss: 0.2343 - accuracy: 0.9019 - val_loss: 0.5690 - val_accuracy: 0.7500\n",
      "Epoch 20/28\n",
      "146/146 [==============================] - 19s 132ms/step - loss: 0.2135 - accuracy: 0.9070 - val_loss: 1.3694 - val_accuracy: 0.7000\n",
      "Epoch 21/28\n",
      "146/146 [==============================] - 19s 132ms/step - loss: 0.2030 - accuracy: 0.9167 - val_loss: 0.5751 - val_accuracy: 0.8200\n",
      "Epoch 22/28\n",
      "146/146 [==============================] - 19s 132ms/step - loss: 0.2019 - accuracy: 0.9165 - val_loss: 1.2360 - val_accuracy: 0.6300\n",
      "Epoch 23/28\n",
      "146/146 [==============================] - 19s 132ms/step - loss: 0.2038 - accuracy: 0.9160 - val_loss: 1.0862 - val_accuracy: 0.6200\n",
      "Epoch 24/28\n",
      "146/146 [==============================] - 19s 132ms/step - loss: 0.1881 - accuracy: 0.9269 - val_loss: 0.6534 - val_accuracy: 0.7000\n",
      "Epoch 25/28\n",
      "146/146 [==============================] - 19s 132ms/step - loss: 0.1625 - accuracy: 0.9364 - val_loss: 0.8481 - val_accuracy: 0.8200\n",
      "Epoch 26/28\n",
      "146/146 [==============================] - 19s 132ms/step - loss: 0.1497 - accuracy: 0.9385 - val_loss: 0.7390 - val_accuracy: 0.8100\n",
      "Epoch 27/28\n",
      "146/146 [==============================] - 19s 132ms/step - loss: 0.1445 - accuracy: 0.9387 - val_loss: 0.8481 - val_accuracy: 0.7000\n",
      "Epoch 28/28\n",
      "146/146 [==============================] - 19s 132ms/step - loss: 0.1938 - accuracy: 0.9276 - val_loss: 0.7266 - val_accuracy: 0.8100\n",
      "\n",
      "-----Model evaluation on test data-----\n",
      "38/38 [==============================] - 2s 47ms/step - loss: 0.6618 - accuracy: 0.7582\n",
      "Test Error Rate:  24.18\n",
      "AUC:  0.8801\n",
      "\n"
     ]
    },
    {
     "data": {
      "text/html": [
       "Waiting for W&B process to finish... <strong style=\"color:green\">(success).</strong>"
      ],
      "text/plain": [
       "<IPython.core.display.HTML object>"
      ]
     },
     "metadata": {},
     "output_type": "display_data"
    },
    {
     "data": {
      "application/vnd.jupyter.widget-view+json": {
       "model_id": "",
       "version_major": 2,
       "version_minor": 0
      },
      "text/plain": [
       "VBox(children=(Label(value='0.004 MB of 0.004 MB uploaded (0.000 MB deduped)\\r'), FloatProgress(value=1.0, max…"
      ]
     },
     "metadata": {},
     "output_type": "display_data"
    },
    {
     "data": {
      "text/html": [
       "<style>\n",
       "    table.wandb td:nth-child(1) { padding: 0 10px; text-align: right }\n",
       "    .wandb-row { display: flex; flex-direction: row; flex-wrap: wrap; width: 100% }\n",
       "    .wandb-col { display: flex; flex-direction: column; flex-basis: 100%; flex: 1; padding: 10px; }\n",
       "    </style>\n",
       "<div class=\"wandb-row\"><div class=\"wandb-col\"><h3>Run history:</h3><br/><table class=\"wandb\"><tr><td>AUC</td><td>▁</td></tr><tr><td>Test Error Rate</td><td>▁</td></tr><tr><td>accuracy</td><td>▁▃▄▄▄▅▅▅▅▆▆▆▆▆▇▇▇▇▇▇▇▇▇█████</td></tr><tr><td>epoch</td><td>▁▁▂▂▂▂▃▃▃▃▄▄▄▄▅▅▅▅▆▆▆▆▇▇▇▇██</td></tr><tr><td>loss</td><td>█▃▂▂▂▂▂▂▂▂▂▂▂▂▁▁▁▁▁▁▁▁▁▁▁▁▁▁</td></tr><tr><td>val_accuracy</td><td>▄▄▂▅▂▃▁▃▅▆▅▄▆▄▅█▇█▇▅█▄▄▅██▅█</td></tr><tr><td>val_loss</td><td>▂▂▂▁▂▂█▃▃▁▂▂▂▂▂▁▂▁▁▃▁▃▂▁▂▂▂▂</td></tr></table><br/></div><div class=\"wandb-col\"><h3>Run summary:</h3><br/><table class=\"wandb\"><tr><td>AUC</td><td>0.8801</td></tr><tr><td>Test Error Rate</td><td>24.18</td></tr><tr><td>accuracy</td><td>0.92759</td></tr><tr><td>best_epoch</td><td>17</td></tr><tr><td>best_val_loss</td><td>0.52186</td></tr><tr><td>epoch</td><td>27</td></tr><tr><td>loss</td><td>0.1938</td></tr><tr><td>val_accuracy</td><td>0.81</td></tr><tr><td>val_loss</td><td>0.72663</td></tr></table><br/></div></div>"
      ],
      "text/plain": [
       "<IPython.core.display.HTML object>"
      ]
     },
     "metadata": {},
     "output_type": "display_data"
    },
    {
     "data": {
      "text/html": [
       "Synced <strong style=\"color:#cdcd00\">colorful-sweep-1</strong>: <a href=\"https://wandb.ai/ishadowstormi/Coronary%20angiography%20network/runs/h6c8ios1\" target=\"_blank\">https://wandb.ai/ishadowstormi/Coronary%20angiography%20network/runs/h6c8ios1</a><br/>Synced 5 W&B file(s), 1 media file(s), 0 artifact file(s) and 0 other file(s)"
      ],
      "text/plain": [
       "<IPython.core.display.HTML object>"
      ]
     },
     "metadata": {},
     "output_type": "display_data"
    },
    {
     "data": {
      "text/html": [
       "Find logs at: <code>./wandb/run-20220323_230757-h6c8ios1/logs</code>"
      ],
      "text/plain": [
       "<IPython.core.display.HTML object>"
      ]
     },
     "metadata": {},
     "output_type": "display_data"
    },
    {
     "name": "stderr",
     "output_type": "stream",
     "text": [
      "\u001b[34m\u001b[1mwandb\u001b[0m: Agent Starting Run: dvmo9xtz with config:\n",
      "\u001b[34m\u001b[1mwandb\u001b[0m: \tbatch_size: 32\n",
      "\u001b[34m\u001b[1mwandb\u001b[0m: \tconv_layer1: 16\n",
      "\u001b[34m\u001b[1mwandb\u001b[0m: \tconv_layer2: 32\n",
      "\u001b[34m\u001b[1mwandb\u001b[0m: \tconv_layer3: 64\n",
      "\u001b[34m\u001b[1mwandb\u001b[0m: \tconv_layer4: 64\n",
      "\u001b[34m\u001b[1mwandb\u001b[0m: \tdense: 1024\n",
      "Failed to detect the name of this notebook, you can set it manually with the WANDB_NOTEBOOK_NAME environment variable to enable code saving.\n"
     ]
    },
    {
     "data": {
      "text/html": [
       "Tracking run with wandb version 0.12.11"
      ],
      "text/plain": [
       "<IPython.core.display.HTML object>"
      ]
     },
     "metadata": {},
     "output_type": "display_data"
    },
    {
     "data": {
      "text/html": [
       "Run data is saved locally in <code>/home/jovyan/data/lightning/FrantisekUrban/wandb/run-20220323_231722-dvmo9xtz</code>"
      ],
      "text/plain": [
       "<IPython.core.display.HTML object>"
      ]
     },
     "metadata": {},
     "output_type": "display_data"
    },
    {
     "data": {
      "text/html": [
       "Syncing run <strong><a href=\"https://wandb.ai/ishadowstormi/Coronary%20angiography%20network/runs/dvmo9xtz\" target=\"_blank\">frosty-sweep-2</a></strong> to <a href=\"https://wandb.ai/ishadowstormi/Coronary%20angiography%20network\" target=\"_blank\">Weights & Biases</a> (<a href=\"https://wandb.me/run\" target=\"_blank\">docs</a>)<br/>Sweep page:  <a href=\"https://wandb.ai/ishadowstormi/Coronary%20angiography%20network/sweeps/wco4rtlh\" target=\"_blank\">https://wandb.ai/ishadowstormi/Coronary%20angiography%20network/sweeps/wco4rtlh</a>"
      ],
      "text/plain": [
       "<IPython.core.display.HTML object>"
      ]
     },
     "metadata": {},
     "output_type": "display_data"
    },
    {
     "name": "stdout",
     "output_type": "stream",
     "text": [
      "Epoch 1/28\n",
      "  2/146 [..............................] - ETA: 10s - loss: 14.7339 - accuracy: 0.4688WARNING:tensorflow:Callbacks method `on_train_batch_end` is slow compared to the batch time (batch time: 0.0503s vs `on_train_batch_end` time: 0.0917s). Check your callbacks.\n",
      "146/146 [==============================] - 20s 137ms/step - loss: 1.7168 - accuracy: 0.6635 - val_loss: 6.5204 - val_accuracy: 0.5000\n",
      "Epoch 2/28\n",
      "146/146 [==============================] - 20s 134ms/step - loss: 0.4959 - accuracy: 0.7483 - val_loss: 1.1718 - val_accuracy: 0.5300\n",
      "Epoch 3/28\n",
      "146/146 [==============================] - 20s 134ms/step - loss: 0.4771 - accuracy: 0.7697 - val_loss: 1.5623 - val_accuracy: 0.5100\n",
      "Epoch 4/28\n",
      "146/146 [==============================] - 20s 134ms/step - loss: 0.4539 - accuracy: 0.7734 - val_loss: 0.6349 - val_accuracy: 0.6700\n",
      "Epoch 5/28\n",
      "146/146 [==============================] - 20s 134ms/step - loss: 0.4241 - accuracy: 0.7926 - val_loss: 1.7686 - val_accuracy: 0.6400\n",
      "Epoch 6/28\n",
      "146/146 [==============================] - 20s 134ms/step - loss: 0.4062 - accuracy: 0.7924 - val_loss: 1.9070 - val_accuracy: 0.6800\n",
      "Epoch 7/28\n",
      "146/146 [==============================] - 20s 135ms/step - loss: 0.3965 - accuracy: 0.8162 - val_loss: 1.2884 - val_accuracy: 0.5000\n",
      "Epoch 8/28\n",
      "146/146 [==============================] - 20s 134ms/step - loss: 0.4125 - accuracy: 0.7995 - val_loss: 0.5444 - val_accuracy: 0.7600\n",
      "Epoch 9/28\n",
      "146/146 [==============================] - 20s 134ms/step - loss: 0.3581 - accuracy: 0.8293 - val_loss: 1.5024 - val_accuracy: 0.6000\n",
      "Epoch 10/28\n",
      "146/146 [==============================] - 20s 134ms/step - loss: 0.3497 - accuracy: 0.8368 - val_loss: 2.5190 - val_accuracy: 0.5200\n",
      "Epoch 11/28\n",
      "146/146 [==============================] - 20s 135ms/step - loss: 0.3319 - accuracy: 0.8488 - val_loss: 0.5286 - val_accuracy: 0.7100\n",
      "Epoch 12/28\n",
      "146/146 [==============================] - 20s 136ms/step - loss: 0.3175 - accuracy: 0.8505 - val_loss: 0.6314 - val_accuracy: 0.7300\n",
      "Epoch 13/28\n",
      "146/146 [==============================] - 20s 135ms/step - loss: 0.3205 - accuracy: 0.8575 - val_loss: 4.8034 - val_accuracy: 0.5200\n",
      "Epoch 14/28\n",
      "146/146 [==============================] - 20s 134ms/step - loss: 0.3022 - accuracy: 0.8691 - val_loss: 0.5279 - val_accuracy: 0.6700\n",
      "Epoch 15/28\n",
      "146/146 [==============================] - 19s 134ms/step - loss: 0.2991 - accuracy: 0.8663 - val_loss: 0.4253 - val_accuracy: 0.8200\n",
      "Epoch 16/28\n",
      "146/146 [==============================] - 19s 133ms/step - loss: 0.2639 - accuracy: 0.8850 - val_loss: 0.4760 - val_accuracy: 0.7800\n",
      "Epoch 17/28\n",
      "146/146 [==============================] - 19s 133ms/step - loss: 0.2769 - accuracy: 0.8839 - val_loss: 0.6537 - val_accuracy: 0.6800\n",
      "Epoch 18/28\n",
      "146/146 [==============================] - 19s 133ms/step - loss: 0.2748 - accuracy: 0.8772 - val_loss: 0.5470 - val_accuracy: 0.8000\n",
      "Epoch 19/28\n",
      "146/146 [==============================] - 19s 133ms/step - loss: 0.2518 - accuracy: 0.8940 - val_loss: 0.6972 - val_accuracy: 0.8100\n",
      "Epoch 20/28\n",
      "146/146 [==============================] - 19s 134ms/step - loss: 0.2331 - accuracy: 0.8942 - val_loss: 0.6265 - val_accuracy: 0.7800\n",
      "Epoch 21/28\n",
      "146/146 [==============================] - 20s 134ms/step - loss: 0.2149 - accuracy: 0.9015 - val_loss: 0.8062 - val_accuracy: 0.7800\n",
      "Epoch 22/28\n",
      "146/146 [==============================] - 20s 134ms/step - loss: 0.2119 - accuracy: 0.9079 - val_loss: 0.9079 - val_accuracy: 0.6800\n",
      "Epoch 23/28\n",
      "146/146 [==============================] - 20s 134ms/step - loss: 0.2225 - accuracy: 0.9053 - val_loss: 0.9186 - val_accuracy: 0.7800\n",
      "Epoch 24/28\n",
      "146/146 [==============================] - 20s 134ms/step - loss: 0.2120 - accuracy: 0.9139 - val_loss: 0.5739 - val_accuracy: 0.8000\n",
      "Epoch 25/28\n",
      "146/146 [==============================] - 20s 134ms/step - loss: 0.1908 - accuracy: 0.9128 - val_loss: 0.5772 - val_accuracy: 0.7800\n",
      "Epoch 26/28\n",
      "146/146 [==============================] - 19s 133ms/step - loss: 0.2166 - accuracy: 0.9128 - val_loss: 0.6845 - val_accuracy: 0.8300\n",
      "Epoch 27/28\n",
      "146/146 [==============================] - 20s 134ms/step - loss: 0.2337 - accuracy: 0.9025 - val_loss: 1.3747 - val_accuracy: 0.6200\n",
      "Epoch 28/28\n",
      "146/146 [==============================] - 20s 134ms/step - loss: 0.1768 - accuracy: 0.9269 - val_loss: 0.5636 - val_accuracy: 0.7500\n",
      "\n",
      "-----Model evaluation on test data-----\n",
      "38/38 [==============================] - 2s 43ms/step - loss: 0.8695 - accuracy: 0.6599\n",
      "Test Error Rate:  34.01\n",
      "AUC:  0.936\n",
      "\n"
     ]
    },
    {
     "data": {
      "text/html": [
       "Waiting for W&B process to finish... <strong style=\"color:green\">(success).</strong>"
      ],
      "text/plain": [
       "<IPython.core.display.HTML object>"
      ]
     },
     "metadata": {},
     "output_type": "display_data"
    },
    {
     "data": {
      "application/vnd.jupyter.widget-view+json": {
       "model_id": "",
       "version_major": 2,
       "version_minor": 0
      },
      "text/plain": [
       "VBox(children=(Label(value='0.004 MB of 0.004 MB uploaded (0.000 MB deduped)\\r'), FloatProgress(value=1.0, max…"
      ]
     },
     "metadata": {},
     "output_type": "display_data"
    },
    {
     "data": {
      "text/html": [
       "<style>\n",
       "    table.wandb td:nth-child(1) { padding: 0 10px; text-align: right }\n",
       "    .wandb-row { display: flex; flex-direction: row; flex-wrap: wrap; width: 100% }\n",
       "    .wandb-col { display: flex; flex-direction: column; flex-basis: 100%; flex: 1; padding: 10px; }\n",
       "    </style>\n",
       "<div class=\"wandb-row\"><div class=\"wandb-col\"><h3>Run history:</h3><br/><table class=\"wandb\"><tr><td>AUC</td><td>▁</td></tr><tr><td>Test Error Rate</td><td>▁</td></tr><tr><td>accuracy</td><td>▁▃▄▄▄▄▅▅▅▆▆▆▆▆▆▇▇▇▇▇▇▇▇███▇█</td></tr><tr><td>epoch</td><td>▁▁▂▂▂▂▃▃▃▃▄▄▄▄▅▅▅▅▆▆▆▆▇▇▇▇██</td></tr><tr><td>loss</td><td>█▂▂▂▂▂▂▂▂▂▂▂▂▂▂▁▁▁▁▁▁▁▁▁▁▁▁▁</td></tr><tr><td>val_accuracy</td><td>▁▂▁▅▄▅▁▇▃▁▅▆▁▅█▇▅▇█▇▇▅▇▇▇█▄▆</td></tr><tr><td>val_loss</td><td>█▂▂▁▃▃▂▁▂▃▁▁▆▁▁▁▁▁▁▁▁▂▂▁▁▁▂▁</td></tr></table><br/></div><div class=\"wandb-col\"><h3>Run summary:</h3><br/><table class=\"wandb\"><tr><td>AUC</td><td>0.936</td></tr><tr><td>Test Error Rate</td><td>34.01</td></tr><tr><td>accuracy</td><td>0.92695</td></tr><tr><td>best_epoch</td><td>14</td></tr><tr><td>best_val_loss</td><td>0.42534</td></tr><tr><td>epoch</td><td>27</td></tr><tr><td>loss</td><td>0.17676</td></tr><tr><td>val_accuracy</td><td>0.75</td></tr><tr><td>val_loss</td><td>0.56363</td></tr></table><br/></div></div>"
      ],
      "text/plain": [
       "<IPython.core.display.HTML object>"
      ]
     },
     "metadata": {},
     "output_type": "display_data"
    },
    {
     "data": {
      "text/html": [
       "Synced <strong style=\"color:#cdcd00\">frosty-sweep-2</strong>: <a href=\"https://wandb.ai/ishadowstormi/Coronary%20angiography%20network/runs/dvmo9xtz\" target=\"_blank\">https://wandb.ai/ishadowstormi/Coronary%20angiography%20network/runs/dvmo9xtz</a><br/>Synced 5 W&B file(s), 1 media file(s), 0 artifact file(s) and 0 other file(s)"
      ],
      "text/plain": [
       "<IPython.core.display.HTML object>"
      ]
     },
     "metadata": {},
     "output_type": "display_data"
    },
    {
     "data": {
      "text/html": [
       "Find logs at: <code>./wandb/run-20220323_231722-dvmo9xtz/logs</code>"
      ],
      "text/plain": [
       "<IPython.core.display.HTML object>"
      ]
     },
     "metadata": {},
     "output_type": "display_data"
    },
    {
     "name": "stderr",
     "output_type": "stream",
     "text": [
      "\u001b[34m\u001b[1mwandb\u001b[0m: Agent Starting Run: mr7irvjk with config:\n",
      "\u001b[34m\u001b[1mwandb\u001b[0m: \tbatch_size: 32\n",
      "\u001b[34m\u001b[1mwandb\u001b[0m: \tconv_layer1: 16\n",
      "\u001b[34m\u001b[1mwandb\u001b[0m: \tconv_layer2: 32\n",
      "\u001b[34m\u001b[1mwandb\u001b[0m: \tconv_layer3: 64\n",
      "\u001b[34m\u001b[1mwandb\u001b[0m: \tconv_layer4: 128\n",
      "\u001b[34m\u001b[1mwandb\u001b[0m: \tdense: 512\n",
      "Failed to detect the name of this notebook, you can set it manually with the WANDB_NOTEBOOK_NAME environment variable to enable code saving.\n"
     ]
    },
    {
     "data": {
      "text/html": [
       "Tracking run with wandb version 0.12.11"
      ],
      "text/plain": [
       "<IPython.core.display.HTML object>"
      ]
     },
     "metadata": {},
     "output_type": "display_data"
    },
    {
     "data": {
      "text/html": [
       "Run data is saved locally in <code>/home/jovyan/data/lightning/FrantisekUrban/wandb/run-20220323_232652-mr7irvjk</code>"
      ],
      "text/plain": [
       "<IPython.core.display.HTML object>"
      ]
     },
     "metadata": {},
     "output_type": "display_data"
    },
    {
     "data": {
      "text/html": [
       "Syncing run <strong><a href=\"https://wandb.ai/ishadowstormi/Coronary%20angiography%20network/runs/mr7irvjk\" target=\"_blank\">unique-sweep-3</a></strong> to <a href=\"https://wandb.ai/ishadowstormi/Coronary%20angiography%20network\" target=\"_blank\">Weights & Biases</a> (<a href=\"https://wandb.me/run\" target=\"_blank\">docs</a>)<br/>Sweep page:  <a href=\"https://wandb.ai/ishadowstormi/Coronary%20angiography%20network/sweeps/wco4rtlh\" target=\"_blank\">https://wandb.ai/ishadowstormi/Coronary%20angiography%20network/sweeps/wco4rtlh</a>"
      ],
      "text/plain": [
       "<IPython.core.display.HTML object>"
      ]
     },
     "metadata": {},
     "output_type": "display_data"
    },
    {
     "name": "stdout",
     "output_type": "stream",
     "text": [
      "Epoch 1/28\n",
      "  2/146 [..............................] - ETA: 10s - loss: 19.1073 - accuracy: 0.3750WARNING:tensorflow:Callbacks method `on_train_batch_end` is slow compared to the batch time (batch time: 0.0534s vs `on_train_batch_end` time: 0.0934s). Check your callbacks.\n",
      "146/146 [==============================] - 20s 140ms/step - loss: 2.5196 - accuracy: 0.6605 - val_loss: 7.9346 - val_accuracy: 0.4900\n",
      "Epoch 2/28\n",
      "146/146 [==============================] - 20s 138ms/step - loss: 0.5549 - accuracy: 0.7414 - val_loss: 5.4387 - val_accuracy: 0.4900\n",
      "Epoch 3/28\n",
      "146/146 [==============================] - 20s 138ms/step - loss: 0.4760 - accuracy: 0.7791 - val_loss: 1.4865 - val_accuracy: 0.4900\n",
      "Epoch 4/28\n",
      "146/146 [==============================] - 20s 138ms/step - loss: 0.4356 - accuracy: 0.7909 - val_loss: 0.6738 - val_accuracy: 0.5900\n",
      "Epoch 5/28\n",
      "146/146 [==============================] - 20s 138ms/step - loss: 0.3906 - accuracy: 0.8224 - val_loss: 4.2992 - val_accuracy: 0.4600\n",
      "Epoch 6/28\n",
      "146/146 [==============================] - 20s 138ms/step - loss: 0.3784 - accuracy: 0.8243 - val_loss: 0.7901 - val_accuracy: 0.6700\n",
      "Epoch 7/28\n",
      "146/146 [==============================] - 20s 138ms/step - loss: 0.3616 - accuracy: 0.8395 - val_loss: 0.6762 - val_accuracy: 0.7800\n",
      "Epoch 8/28\n",
      "146/146 [==============================] - 20s 138ms/step - loss: 0.3384 - accuracy: 0.8447 - val_loss: 1.4422 - val_accuracy: 0.6000\n",
      "Epoch 9/28\n",
      "146/146 [==============================] - 20s 138ms/step - loss: 0.3311 - accuracy: 0.8455 - val_loss: 1.4834 - val_accuracy: 0.6100\n",
      "Epoch 10/28\n",
      "146/146 [==============================] - 20s 139ms/step - loss: 0.3393 - accuracy: 0.8548 - val_loss: 0.4868 - val_accuracy: 0.7500\n",
      "Epoch 11/28\n",
      "146/146 [==============================] - 20s 138ms/step - loss: 0.3123 - accuracy: 0.8674 - val_loss: 0.4996 - val_accuracy: 0.7200\n",
      "Epoch 12/28\n",
      "146/146 [==============================] - 20s 138ms/step - loss: 0.2854 - accuracy: 0.8700 - val_loss: 0.5162 - val_accuracy: 0.7400\n",
      "Epoch 13/28\n",
      "146/146 [==============================] - 20s 138ms/step - loss: 0.2815 - accuracy: 0.8794 - val_loss: 0.7602 - val_accuracy: 0.7300\n",
      "Epoch 14/28\n",
      "146/146 [==============================] - 20s 138ms/step - loss: 0.2796 - accuracy: 0.8768 - val_loss: 0.5528 - val_accuracy: 0.7100\n",
      "Epoch 15/28\n",
      "146/146 [==============================] - 20s 138ms/step - loss: 0.2594 - accuracy: 0.8892 - val_loss: 0.3804 - val_accuracy: 0.8300\n",
      "Epoch 16/28\n",
      "146/146 [==============================] - 20s 138ms/step - loss: 0.2629 - accuracy: 0.8903 - val_loss: 0.5119 - val_accuracy: 0.8300\n",
      "Epoch 17/28\n",
      "146/146 [==============================] - 20s 138ms/step - loss: 0.2522 - accuracy: 0.8890 - val_loss: 0.5311 - val_accuracy: 0.7500\n",
      "Epoch 18/28\n",
      "146/146 [==============================] - 20s 138ms/step - loss: 0.2334 - accuracy: 0.8989 - val_loss: 0.4095 - val_accuracy: 0.8500\n",
      "Epoch 19/28\n",
      "146/146 [==============================] - 20s 138ms/step - loss: 0.2420 - accuracy: 0.8935 - val_loss: 0.4309 - val_accuracy: 0.8000\n",
      "Epoch 20/28\n",
      "146/146 [==============================] - 20s 138ms/step - loss: 0.2531 - accuracy: 0.8895 - val_loss: 0.8944 - val_accuracy: 0.8000\n",
      "Epoch 21/28\n",
      "146/146 [==============================] - 20s 138ms/step - loss: 0.2191 - accuracy: 0.9064 - val_loss: 1.2833 - val_accuracy: 0.6500\n",
      "Epoch 22/28\n",
      "146/146 [==============================] - 20s 138ms/step - loss: 0.2031 - accuracy: 0.9139 - val_loss: 0.5205 - val_accuracy: 0.8100\n",
      "Epoch 23/28\n",
      "146/146 [==============================] - 20s 138ms/step - loss: 0.2167 - accuracy: 0.9062 - val_loss: 0.8866 - val_accuracy: 0.7500\n",
      "Epoch 24/28\n",
      "146/146 [==============================] - 20s 138ms/step - loss: 0.1953 - accuracy: 0.9210 - val_loss: 0.5095 - val_accuracy: 0.8700\n",
      "Epoch 25/28\n",
      "146/146 [==============================] - 20s 138ms/step - loss: 0.1817 - accuracy: 0.9231 - val_loss: 0.8567 - val_accuracy: 0.8300\n",
      "Epoch 26/28\n",
      "146/146 [==============================] - 20s 138ms/step - loss: 0.1989 - accuracy: 0.9162 - val_loss: 0.6780 - val_accuracy: 0.8300\n",
      "Epoch 27/28\n",
      "146/146 [==============================] - 20s 138ms/step - loss: 0.1932 - accuracy: 0.9237 - val_loss: 0.7633 - val_accuracy: 0.7600\n",
      "Epoch 28/28\n",
      "146/146 [==============================] - 20s 138ms/step - loss: 0.1662 - accuracy: 0.9349 - val_loss: 0.6018 - val_accuracy: 0.8400\n",
      "\n",
      "-----Model evaluation on test data-----\n",
      "38/38 [==============================] - 2s 43ms/step - loss: 0.3067 - accuracy: 0.8959\n",
      "Test Error Rate:  10.41\n",
      "AUC:  0.9258\n",
      "\n"
     ]
    },
    {
     "data": {
      "text/html": [
       "Waiting for W&B process to finish... <strong style=\"color:green\">(success).</strong>"
      ],
      "text/plain": [
       "<IPython.core.display.HTML object>"
      ]
     },
     "metadata": {},
     "output_type": "display_data"
    },
    {
     "data": {
      "application/vnd.jupyter.widget-view+json": {
       "model_id": "",
       "version_major": 2,
       "version_minor": 0
      },
      "text/plain": [
       "VBox(children=(Label(value='0.004 MB of 0.004 MB uploaded (0.000 MB deduped)\\r'), FloatProgress(value=1.0, max…"
      ]
     },
     "metadata": {},
     "output_type": "display_data"
    },
    {
     "data": {
      "text/html": [
       "<style>\n",
       "    table.wandb td:nth-child(1) { padding: 0 10px; text-align: right }\n",
       "    .wandb-row { display: flex; flex-direction: row; flex-wrap: wrap; width: 100% }\n",
       "    .wandb-col { display: flex; flex-direction: column; flex-basis: 100%; flex: 1; padding: 10px; }\n",
       "    </style>\n",
       "<div class=\"wandb-row\"><div class=\"wandb-col\"><h3>Run history:</h3><br/><table class=\"wandb\"><tr><td>AUC</td><td>▁</td></tr><tr><td>Test Error Rate</td><td>▁</td></tr><tr><td>accuracy</td><td>▁▃▄▄▅▅▆▆▆▆▆▆▇▇▇▇▇▇▇▇▇▇▇█████</td></tr><tr><td>epoch</td><td>▁▁▂▂▂▂▃▃▃▃▄▄▄▄▅▅▅▅▆▆▆▆▇▇▇▇██</td></tr><tr><td>loss</td><td>█▂▂▂▂▂▂▂▁▂▁▁▁▁▁▁▁▁▁▁▁▁▁▁▁▁▁▁</td></tr><tr><td>val_accuracy</td><td>▂▂▂▃▁▅▆▃▄▆▅▆▆▅▇▇▆█▇▇▄▇▆█▇▇▆▇</td></tr><tr><td>val_loss</td><td>█▆▂▁▅▁▁▂▂▁▁▁▁▁▁▁▁▁▁▁▂▁▁▁▁▁▁▁</td></tr></table><br/></div><div class=\"wandb-col\"><h3>Run summary:</h3><br/><table class=\"wandb\"><tr><td>AUC</td><td>0.9258</td></tr><tr><td>Test Error Rate</td><td>10.41</td></tr><tr><td>accuracy</td><td>0.93488</td></tr><tr><td>best_epoch</td><td>14</td></tr><tr><td>best_val_loss</td><td>0.38035</td></tr><tr><td>epoch</td><td>27</td></tr><tr><td>loss</td><td>0.16619</td></tr><tr><td>val_accuracy</td><td>0.84</td></tr><tr><td>val_loss</td><td>0.60175</td></tr></table><br/></div></div>"
      ],
      "text/plain": [
       "<IPython.core.display.HTML object>"
      ]
     },
     "metadata": {},
     "output_type": "display_data"
    },
    {
     "data": {
      "text/html": [
       "Synced <strong style=\"color:#cdcd00\">unique-sweep-3</strong>: <a href=\"https://wandb.ai/ishadowstormi/Coronary%20angiography%20network/runs/mr7irvjk\" target=\"_blank\">https://wandb.ai/ishadowstormi/Coronary%20angiography%20network/runs/mr7irvjk</a><br/>Synced 5 W&B file(s), 1 media file(s), 0 artifact file(s) and 0 other file(s)"
      ],
      "text/plain": [
       "<IPython.core.display.HTML object>"
      ]
     },
     "metadata": {},
     "output_type": "display_data"
    },
    {
     "data": {
      "text/html": [
       "Find logs at: <code>./wandb/run-20220323_232652-mr7irvjk/logs</code>"
      ],
      "text/plain": [
       "<IPython.core.display.HTML object>"
      ]
     },
     "metadata": {},
     "output_type": "display_data"
    },
    {
     "name": "stderr",
     "output_type": "stream",
     "text": [
      "\u001b[34m\u001b[1mwandb\u001b[0m: Sweep Agent: Waiting for job.\n",
      "\u001b[34m\u001b[1mwandb\u001b[0m: Job received.\n",
      "\u001b[34m\u001b[1mwandb\u001b[0m: Agent Starting Run: x1vy0n5o with config:\n",
      "\u001b[34m\u001b[1mwandb\u001b[0m: \tbatch_size: 32\n",
      "\u001b[34m\u001b[1mwandb\u001b[0m: \tconv_layer1: 16\n",
      "\u001b[34m\u001b[1mwandb\u001b[0m: \tconv_layer2: 32\n",
      "\u001b[34m\u001b[1mwandb\u001b[0m: \tconv_layer3: 64\n",
      "\u001b[34m\u001b[1mwandb\u001b[0m: \tconv_layer4: 128\n",
      "\u001b[34m\u001b[1mwandb\u001b[0m: \tdense: 1024\n",
      "Failed to detect the name of this notebook, you can set it manually with the WANDB_NOTEBOOK_NAME environment variable to enable code saving.\n"
     ]
    },
    {
     "data": {
      "text/html": [
       "Tracking run with wandb version 0.12.11"
      ],
      "text/plain": [
       "<IPython.core.display.HTML object>"
      ]
     },
     "metadata": {},
     "output_type": "display_data"
    },
    {
     "data": {
      "text/html": [
       "Run data is saved locally in <code>/home/jovyan/data/lightning/FrantisekUrban/wandb/run-20220323_233646-x1vy0n5o</code>"
      ],
      "text/plain": [
       "<IPython.core.display.HTML object>"
      ]
     },
     "metadata": {},
     "output_type": "display_data"
    },
    {
     "data": {
      "text/html": [
       "Syncing run <strong><a href=\"https://wandb.ai/ishadowstormi/Coronary%20angiography%20network/runs/x1vy0n5o\" target=\"_blank\">decent-sweep-4</a></strong> to <a href=\"https://wandb.ai/ishadowstormi/Coronary%20angiography%20network\" target=\"_blank\">Weights & Biases</a> (<a href=\"https://wandb.me/run\" target=\"_blank\">docs</a>)<br/>Sweep page:  <a href=\"https://wandb.ai/ishadowstormi/Coronary%20angiography%20network/sweeps/wco4rtlh\" target=\"_blank\">https://wandb.ai/ishadowstormi/Coronary%20angiography%20network/sweeps/wco4rtlh</a>"
      ],
      "text/plain": [
       "<IPython.core.display.HTML object>"
      ]
     },
     "metadata": {},
     "output_type": "display_data"
    },
    {
     "name": "stdout",
     "output_type": "stream",
     "text": [
      "Epoch 1/28\n",
      "  2/146 [..............................] - ETA: 10s - loss: 32.9126 - accuracy: 0.5469WARNING:tensorflow:Callbacks method `on_train_batch_end` is slow compared to the batch time (batch time: 0.0529s vs `on_train_batch_end` time: 0.0968s). Check your callbacks.\n",
      "146/146 [==============================] - 21s 142ms/step - loss: 3.7380 - accuracy: 0.6630 - val_loss: 2.7332 - val_accuracy: 0.5500\n",
      "Epoch 2/28\n",
      "146/146 [==============================] - 20s 140ms/step - loss: 0.7401 - accuracy: 0.7155 - val_loss: 1.4210 - val_accuracy: 0.5000\n",
      "Epoch 3/28\n",
      "146/146 [==============================] - 20s 140ms/step - loss: 0.5180 - accuracy: 0.7464 - val_loss: 1.5270 - val_accuracy: 0.5300\n",
      "Epoch 4/28\n",
      "146/146 [==============================] - 20s 140ms/step - loss: 0.4534 - accuracy: 0.7823 - val_loss: 3.8363 - val_accuracy: 0.5100\n",
      "Epoch 5/28\n",
      "146/146 [==============================] - 21s 140ms/step - loss: 0.4382 - accuracy: 0.7948 - val_loss: 1.6592 - val_accuracy: 0.5400\n",
      "Epoch 6/28\n",
      "146/146 [==============================] - 21s 141ms/step - loss: 0.4260 - accuracy: 0.8029 - val_loss: 1.0120 - val_accuracy: 0.6600\n",
      "Epoch 7/28\n",
      "146/146 [==============================] - 21s 141ms/step - loss: 0.4154 - accuracy: 0.8091 - val_loss: 2.9776 - val_accuracy: 0.5000\n",
      "Epoch 8/28\n",
      "146/146 [==============================] - 20s 140ms/step - loss: 0.3809 - accuracy: 0.8239 - val_loss: 0.8923 - val_accuracy: 0.6500\n",
      "Epoch 9/28\n",
      "146/146 [==============================] - 21s 140ms/step - loss: 0.3792 - accuracy: 0.8241 - val_loss: 0.9048 - val_accuracy: 0.6600\n",
      "Epoch 10/28\n",
      "146/146 [==============================] - 21s 140ms/step - loss: 0.3465 - accuracy: 0.8455 - val_loss: 0.8671 - val_accuracy: 0.6600\n",
      "Epoch 11/28\n",
      "146/146 [==============================] - 20s 140ms/step - loss: 0.3644 - accuracy: 0.8299 - val_loss: 1.6007 - val_accuracy: 0.6500\n",
      "Epoch 12/28\n",
      "146/146 [==============================] - 20s 140ms/step - loss: 0.3196 - accuracy: 0.8550 - val_loss: 1.4263 - val_accuracy: 0.7000\n",
      "Epoch 13/28\n",
      "146/146 [==============================] - 20s 140ms/step - loss: 0.3281 - accuracy: 0.8545 - val_loss: 0.6856 - val_accuracy: 0.7000\n",
      "Epoch 14/28\n",
      "146/146 [==============================] - 20s 140ms/step - loss: 0.3065 - accuracy: 0.8558 - val_loss: 0.9904 - val_accuracy: 0.7000\n",
      "Epoch 15/28\n",
      "146/146 [==============================] - 21s 141ms/step - loss: 0.3182 - accuracy: 0.8640 - val_loss: 2.3720 - val_accuracy: 0.5800\n",
      "Epoch 16/28\n",
      "146/146 [==============================] - 21s 140ms/step - loss: 0.3015 - accuracy: 0.8740 - val_loss: 0.6052 - val_accuracy: 0.7300\n",
      "Epoch 17/28\n",
      "146/146 [==============================] - 20s 140ms/step - loss: 0.2941 - accuracy: 0.8663 - val_loss: 0.4636 - val_accuracy: 0.7500\n",
      "Epoch 18/28\n",
      "146/146 [==============================] - 21s 141ms/step - loss: 0.2715 - accuracy: 0.8824 - val_loss: 1.0687 - val_accuracy: 0.6100\n",
      "Epoch 19/28\n",
      "146/146 [==============================] - 21s 141ms/step - loss: 0.2510 - accuracy: 0.8933 - val_loss: 0.4146 - val_accuracy: 0.8300\n",
      "Epoch 20/28\n",
      "146/146 [==============================] - 20s 140ms/step - loss: 0.2420 - accuracy: 0.8985 - val_loss: 0.8658 - val_accuracy: 0.7500\n",
      "Epoch 21/28\n",
      "146/146 [==============================] - 20s 140ms/step - loss: 0.2452 - accuracy: 0.8922 - val_loss: 1.4857 - val_accuracy: 0.6700\n",
      "Epoch 22/28\n",
      "146/146 [==============================] - 21s 140ms/step - loss: 0.2482 - accuracy: 0.8955 - val_loss: 0.7893 - val_accuracy: 0.7500\n",
      "Epoch 23/28\n",
      "146/146 [==============================] - 21s 141ms/step - loss: 0.2349 - accuracy: 0.8927 - val_loss: 0.8663 - val_accuracy: 0.8000\n",
      "Epoch 24/28\n",
      "146/146 [==============================] - 20s 140ms/step - loss: 0.2399 - accuracy: 0.8976 - val_loss: 0.7746 - val_accuracy: 0.6500\n",
      "Epoch 25/28\n",
      "146/146 [==============================] - 20s 140ms/step - loss: 0.2495 - accuracy: 0.8987 - val_loss: 0.4966 - val_accuracy: 0.8100\n",
      "Epoch 26/28\n",
      "146/146 [==============================] - 21s 140ms/step - loss: 0.1978 - accuracy: 0.9137 - val_loss: 0.6459 - val_accuracy: 0.7500\n",
      "Epoch 27/28\n",
      "146/146 [==============================] - 21s 141ms/step - loss: 0.2084 - accuracy: 0.9128 - val_loss: 0.8767 - val_accuracy: 0.6800\n",
      "Epoch 28/28\n",
      "146/146 [==============================] - 21s 142ms/step - loss: 0.1800 - accuracy: 0.9203 - val_loss: 0.4014 - val_accuracy: 0.8300\n",
      "\n",
      "-----Model evaluation on test data-----\n",
      "38/38 [==============================] - 2s 44ms/step - loss: 0.6036 - accuracy: 0.8044\n",
      "Test Error Rate:  19.56\n",
      "AUC:  0.933\n",
      "\n"
     ]
    },
    {
     "data": {
      "text/html": [
       "Waiting for W&B process to finish... <strong style=\"color:green\">(success).</strong>"
      ],
      "text/plain": [
       "<IPython.core.display.HTML object>"
      ]
     },
     "metadata": {},
     "output_type": "display_data"
    },
    {
     "data": {
      "application/vnd.jupyter.widget-view+json": {
       "model_id": "",
       "version_major": 2,
       "version_minor": 0
      },
      "text/plain": [
       "VBox(children=(Label(value='0.004 MB of 0.004 MB uploaded (0.000 MB deduped)\\r'), FloatProgress(value=1.0, max…"
      ]
     },
     "metadata": {},
     "output_type": "display_data"
    },
    {
     "data": {
      "text/html": [
       "<style>\n",
       "    table.wandb td:nth-child(1) { padding: 0 10px; text-align: right }\n",
       "    .wandb-row { display: flex; flex-direction: row; flex-wrap: wrap; width: 100% }\n",
       "    .wandb-col { display: flex; flex-direction: column; flex-basis: 100%; flex: 1; padding: 10px; }\n",
       "    </style>\n",
       "<div class=\"wandb-row\"><div class=\"wandb-col\"><h3>Run history:</h3><br/><table class=\"wandb\"><tr><td>AUC</td><td>▁</td></tr><tr><td>Test Error Rate</td><td>▁</td></tr><tr><td>accuracy</td><td>▁▂▃▄▅▅▅▅▅▆▆▆▆▆▆▇▇▇▇▇▇▇▇▇▇███</td></tr><tr><td>epoch</td><td>▁▁▂▂▂▂▃▃▃▃▄▄▄▄▅▅▅▅▆▆▆▆▇▇▇▇██</td></tr><tr><td>loss</td><td>█▂▂▂▂▁▁▁▁▁▁▁▁▁▁▁▁▁▁▁▁▁▁▁▁▁▁▁</td></tr><tr><td>val_accuracy</td><td>▂▁▂▁▂▄▁▄▄▄▄▅▅▅▃▆▆▃█▆▅▆▇▄█▆▅█</td></tr><tr><td>val_loss</td><td>▆▃▃█▄▂▆▂▂▂▃▃▂▂▅▁▁▂▁▂▃▂▂▂▁▁▂▁</td></tr></table><br/></div><div class=\"wandb-col\"><h3>Run summary:</h3><br/><table class=\"wandb\"><tr><td>AUC</td><td>0.933</td></tr><tr><td>Test Error Rate</td><td>19.56</td></tr><tr><td>accuracy</td><td>0.92031</td></tr><tr><td>best_epoch</td><td>27</td></tr><tr><td>best_val_loss</td><td>0.40144</td></tr><tr><td>epoch</td><td>27</td></tr><tr><td>loss</td><td>0.18005</td></tr><tr><td>val_accuracy</td><td>0.83</td></tr><tr><td>val_loss</td><td>0.40144</td></tr></table><br/></div></div>"
      ],
      "text/plain": [
       "<IPython.core.display.HTML object>"
      ]
     },
     "metadata": {},
     "output_type": "display_data"
    },
    {
     "data": {
      "text/html": [
       "Synced <strong style=\"color:#cdcd00\">decent-sweep-4</strong>: <a href=\"https://wandb.ai/ishadowstormi/Coronary%20angiography%20network/runs/x1vy0n5o\" target=\"_blank\">https://wandb.ai/ishadowstormi/Coronary%20angiography%20network/runs/x1vy0n5o</a><br/>Synced 5 W&B file(s), 1 media file(s), 0 artifact file(s) and 0 other file(s)"
      ],
      "text/plain": [
       "<IPython.core.display.HTML object>"
      ]
     },
     "metadata": {},
     "output_type": "display_data"
    },
    {
     "data": {
      "text/html": [
       "Find logs at: <code>./wandb/run-20220323_233646-x1vy0n5o/logs</code>"
      ],
      "text/plain": [
       "<IPython.core.display.HTML object>"
      ]
     },
     "metadata": {},
     "output_type": "display_data"
    },
    {
     "name": "stderr",
     "output_type": "stream",
     "text": [
      "\u001b[34m\u001b[1mwandb\u001b[0m: Agent Starting Run: kvhctike with config:\n",
      "\u001b[34m\u001b[1mwandb\u001b[0m: \tbatch_size: 32\n",
      "\u001b[34m\u001b[1mwandb\u001b[0m: \tconv_layer1: 16\n",
      "\u001b[34m\u001b[1mwandb\u001b[0m: \tconv_layer2: 32\n",
      "\u001b[34m\u001b[1mwandb\u001b[0m: \tconv_layer3: 128\n",
      "\u001b[34m\u001b[1mwandb\u001b[0m: \tconv_layer4: 64\n",
      "\u001b[34m\u001b[1mwandb\u001b[0m: \tdense: 512\n",
      "Failed to detect the name of this notebook, you can set it manually with the WANDB_NOTEBOOK_NAME environment variable to enable code saving.\n"
     ]
    },
    {
     "data": {
      "text/html": [
       "Tracking run with wandb version 0.12.11"
      ],
      "text/plain": [
       "<IPython.core.display.HTML object>"
      ]
     },
     "metadata": {},
     "output_type": "display_data"
    },
    {
     "data": {
      "text/html": [
       "Run data is saved locally in <code>/home/jovyan/data/lightning/FrantisekUrban/wandb/run-20220323_234642-kvhctike</code>"
      ],
      "text/plain": [
       "<IPython.core.display.HTML object>"
      ]
     },
     "metadata": {},
     "output_type": "display_data"
    },
    {
     "data": {
      "text/html": [
       "Syncing run <strong><a href=\"https://wandb.ai/ishadowstormi/Coronary%20angiography%20network/runs/kvhctike\" target=\"_blank\">usual-sweep-5</a></strong> to <a href=\"https://wandb.ai/ishadowstormi/Coronary%20angiography%20network\" target=\"_blank\">Weights & Biases</a> (<a href=\"https://wandb.me/run\" target=\"_blank\">docs</a>)<br/>Sweep page:  <a href=\"https://wandb.ai/ishadowstormi/Coronary%20angiography%20network/sweeps/wco4rtlh\" target=\"_blank\">https://wandb.ai/ishadowstormi/Coronary%20angiography%20network/sweeps/wco4rtlh</a>"
      ],
      "text/plain": [
       "<IPython.core.display.HTML object>"
      ]
     },
     "metadata": {},
     "output_type": "display_data"
    },
    {
     "name": "stdout",
     "output_type": "stream",
     "text": [
      "Epoch 1/28\n",
      "  2/146 [..............................] - ETA: 10s - loss: 9.1810 - accuracy: 0.5469WARNING:tensorflow:Callbacks method `on_train_batch_end` is slow compared to the batch time (batch time: 0.0567s vs `on_train_batch_end` time: 0.0934s). Check your callbacks.\n",
      "146/146 [==============================] - 23s 157ms/step - loss: 1.8787 - accuracy: 0.6615 - val_loss: 0.8415 - val_accuracy: 0.6000\n",
      "Epoch 2/28\n",
      "146/146 [==============================] - 22s 151ms/step - loss: 0.5728 - accuracy: 0.7147 - val_loss: 0.6118 - val_accuracy: 0.6600\n",
      "Epoch 3/28\n",
      "146/146 [==============================] - 22s 151ms/step - loss: 0.5132 - accuracy: 0.7476 - val_loss: 0.7612 - val_accuracy: 0.5900\n",
      "Epoch 4/28\n",
      "146/146 [==============================] - 22s 151ms/step - loss: 0.4889 - accuracy: 0.7644 - val_loss: 0.6391 - val_accuracy: 0.6700\n",
      "Epoch 5/28\n",
      "146/146 [==============================] - 22s 151ms/step - loss: 0.4719 - accuracy: 0.7761 - val_loss: 1.1866 - val_accuracy: 0.4000\n",
      "Epoch 6/28\n",
      "146/146 [==============================] - 22s 151ms/step - loss: 0.4316 - accuracy: 0.7948 - val_loss: 2.5041 - val_accuracy: 0.5000\n",
      "Epoch 7/28\n",
      "146/146 [==============================] - 22s 151ms/step - loss: 0.4015 - accuracy: 0.8053 - val_loss: 0.6981 - val_accuracy: 0.6400\n",
      "Epoch 8/28\n",
      "146/146 [==============================] - 22s 151ms/step - loss: 0.3737 - accuracy: 0.8151 - val_loss: 0.7483 - val_accuracy: 0.6000\n",
      "Epoch 9/28\n",
      "146/146 [==============================] - 22s 151ms/step - loss: 0.3482 - accuracy: 0.8419 - val_loss: 0.4091 - val_accuracy: 0.8300\n",
      "Epoch 10/28\n",
      "146/146 [==============================] - 22s 151ms/step - loss: 0.3440 - accuracy: 0.8455 - val_loss: 1.7386 - val_accuracy: 0.5400\n",
      "Epoch 11/28\n",
      "146/146 [==============================] - 22s 151ms/step - loss: 0.3253 - accuracy: 0.8526 - val_loss: 0.4702 - val_accuracy: 0.7100\n",
      "Epoch 12/28\n",
      "146/146 [==============================] - 22s 151ms/step - loss: 0.3084 - accuracy: 0.8539 - val_loss: 1.8562 - val_accuracy: 0.6900\n",
      "Epoch 13/28\n",
      "146/146 [==============================] - 22s 152ms/step - loss: 0.2984 - accuracy: 0.8642 - val_loss: 0.4560 - val_accuracy: 0.7700\n",
      "Epoch 14/28\n",
      "146/146 [==============================] - 22s 152ms/step - loss: 0.2776 - accuracy: 0.8762 - val_loss: 1.6476 - val_accuracy: 0.5700\n",
      "Epoch 15/28\n",
      "146/146 [==============================] - 22s 151ms/step - loss: 0.2732 - accuracy: 0.8719 - val_loss: 0.6882 - val_accuracy: 0.7000\n",
      "Epoch 16/28\n",
      "146/146 [==============================] - 22s 150ms/step - loss: 0.2664 - accuracy: 0.8822 - val_loss: 0.6077 - val_accuracy: 0.8300\n",
      "Epoch 17/28\n",
      "146/146 [==============================] - 22s 150ms/step - loss: 0.2545 - accuracy: 0.8884 - val_loss: 0.7009 - val_accuracy: 0.7300\n",
      "Epoch 18/28\n",
      "146/146 [==============================] - 22s 150ms/step - loss: 0.2689 - accuracy: 0.8755 - val_loss: 0.4889 - val_accuracy: 0.7700\n",
      "Epoch 19/28\n",
      "146/146 [==============================] - 22s 151ms/step - loss: 0.2496 - accuracy: 0.8927 - val_loss: 0.5516 - val_accuracy: 0.7500\n",
      "Epoch 20/28\n",
      "146/146 [==============================] - 22s 150ms/step - loss: 0.2523 - accuracy: 0.8925 - val_loss: 0.3635 - val_accuracy: 0.8400\n",
      "Epoch 21/28\n",
      "146/146 [==============================] - 22s 150ms/step - loss: 0.2347 - accuracy: 0.8970 - val_loss: 0.5599 - val_accuracy: 0.7900\n",
      "Epoch 22/28\n",
      "146/146 [==============================] - 22s 151ms/step - loss: 0.2146 - accuracy: 0.9070 - val_loss: 0.4843 - val_accuracy: 0.7900\n",
      "Epoch 23/28\n",
      "146/146 [==============================] - 22s 151ms/step - loss: 0.2321 - accuracy: 0.9042 - val_loss: 0.4939 - val_accuracy: 0.8400\n",
      "Epoch 24/28\n",
      "146/146 [==============================] - 22s 151ms/step - loss: 0.2078 - accuracy: 0.9096 - val_loss: 0.5438 - val_accuracy: 0.8100\n",
      "Epoch 25/28\n",
      "146/146 [==============================] - 22s 150ms/step - loss: 0.2107 - accuracy: 0.9137 - val_loss: 0.9239 - val_accuracy: 0.7000\n",
      "Epoch 26/28\n",
      "146/146 [==============================] - 22s 150ms/step - loss: 0.1851 - accuracy: 0.9197 - val_loss: 0.6661 - val_accuracy: 0.7500\n",
      "Epoch 27/28\n",
      "146/146 [==============================] - 22s 150ms/step - loss: 0.1832 - accuracy: 0.9229 - val_loss: 0.6056 - val_accuracy: 0.8200\n",
      "Epoch 28/28\n",
      "146/146 [==============================] - 22s 150ms/step - loss: 0.1840 - accuracy: 0.9227 - val_loss: 0.4069 - val_accuracy: 0.8100\n",
      "\n",
      "-----Model evaluation on test data-----\n",
      "38/38 [==============================] - 2s 49ms/step - loss: 0.6340 - accuracy: 0.7397\n",
      "Test Error Rate:  26.03\n",
      "AUC:  0.8755\n",
      "\n"
     ]
    },
    {
     "data": {
      "text/html": [
       "Waiting for W&B process to finish... <strong style=\"color:green\">(success).</strong>"
      ],
      "text/plain": [
       "<IPython.core.display.HTML object>"
      ]
     },
     "metadata": {},
     "output_type": "display_data"
    },
    {
     "data": {
      "application/vnd.jupyter.widget-view+json": {
       "model_id": "",
       "version_major": 2,
       "version_minor": 0
      },
      "text/plain": [
       "VBox(children=(Label(value='0.004 MB of 0.004 MB uploaded (0.000 MB deduped)\\r'), FloatProgress(value=1.0, max…"
      ]
     },
     "metadata": {},
     "output_type": "display_data"
    },
    {
     "data": {
      "text/html": [
       "<style>\n",
       "    table.wandb td:nth-child(1) { padding: 0 10px; text-align: right }\n",
       "    .wandb-row { display: flex; flex-direction: row; flex-wrap: wrap; width: 100% }\n",
       "    .wandb-col { display: flex; flex-direction: column; flex-basis: 100%; flex: 1; padding: 10px; }\n",
       "    </style>\n",
       "<div class=\"wandb-row\"><div class=\"wandb-col\"><h3>Run history:</h3><br/><table class=\"wandb\"><tr><td>AUC</td><td>▁</td></tr><tr><td>Test Error Rate</td><td>▁</td></tr><tr><td>accuracy</td><td>▁▂▃▄▄▅▅▅▆▆▆▆▆▇▇▇▇▇▇▇▇███████</td></tr><tr><td>epoch</td><td>▁▁▂▂▂▂▃▃▃▃▄▄▄▄▅▅▅▅▆▆▆▆▇▇▇▇██</td></tr><tr><td>loss</td><td>█▃▂▂▂▂▂▂▂▂▂▂▁▁▁▁▁▁▁▁▁▁▁▁▁▁▁▁</td></tr><tr><td>val_accuracy</td><td>▄▅▄▅▁▃▅▄█▃▆▆▇▄▆█▆▇▇█▇▇██▆▇██</td></tr><tr><td>val_loss</td><td>▃▂▂▂▄█▂▂▁▅▁▆▁▅▂▂▂▁▂▁▂▁▁▂▃▂▂▁</td></tr></table><br/></div><div class=\"wandb-col\"><h3>Run summary:</h3><br/><table class=\"wandb\"><tr><td>AUC</td><td>0.8755</td></tr><tr><td>Test Error Rate</td><td>26.03</td></tr><tr><td>accuracy</td><td>0.92266</td></tr><tr><td>best_epoch</td><td>19</td></tr><tr><td>best_val_loss</td><td>0.36355</td></tr><tr><td>epoch</td><td>27</td></tr><tr><td>loss</td><td>0.18398</td></tr><tr><td>val_accuracy</td><td>0.81</td></tr><tr><td>val_loss</td><td>0.40693</td></tr></table><br/></div></div>"
      ],
      "text/plain": [
       "<IPython.core.display.HTML object>"
      ]
     },
     "metadata": {},
     "output_type": "display_data"
    },
    {
     "data": {
      "text/html": [
       "Synced <strong style=\"color:#cdcd00\">usual-sweep-5</strong>: <a href=\"https://wandb.ai/ishadowstormi/Coronary%20angiography%20network/runs/kvhctike\" target=\"_blank\">https://wandb.ai/ishadowstormi/Coronary%20angiography%20network/runs/kvhctike</a><br/>Synced 5 W&B file(s), 1 media file(s), 0 artifact file(s) and 0 other file(s)"
      ],
      "text/plain": [
       "<IPython.core.display.HTML object>"
      ]
     },
     "metadata": {},
     "output_type": "display_data"
    },
    {
     "data": {
      "text/html": [
       "Find logs at: <code>./wandb/run-20220323_234642-kvhctike/logs</code>"
      ],
      "text/plain": [
       "<IPython.core.display.HTML object>"
      ]
     },
     "metadata": {},
     "output_type": "display_data"
    },
    {
     "name": "stderr",
     "output_type": "stream",
     "text": [
      "\u001b[34m\u001b[1mwandb\u001b[0m: Agent Starting Run: rj42batv with config:\n",
      "\u001b[34m\u001b[1mwandb\u001b[0m: \tbatch_size: 32\n",
      "\u001b[34m\u001b[1mwandb\u001b[0m: \tconv_layer1: 16\n",
      "\u001b[34m\u001b[1mwandb\u001b[0m: \tconv_layer2: 32\n",
      "\u001b[34m\u001b[1mwandb\u001b[0m: \tconv_layer3: 128\n",
      "\u001b[34m\u001b[1mwandb\u001b[0m: \tconv_layer4: 64\n",
      "\u001b[34m\u001b[1mwandb\u001b[0m: \tdense: 1024\n",
      "Failed to detect the name of this notebook, you can set it manually with the WANDB_NOTEBOOK_NAME environment variable to enable code saving.\n"
     ]
    },
    {
     "data": {
      "text/html": [
       "Tracking run with wandb version 0.12.11"
      ],
      "text/plain": [
       "<IPython.core.display.HTML object>"
      ]
     },
     "metadata": {},
     "output_type": "display_data"
    },
    {
     "data": {
      "text/html": [
       "Run data is saved locally in <code>/home/jovyan/data/lightning/FrantisekUrban/wandb/run-20220323_235722-rj42batv</code>"
      ],
      "text/plain": [
       "<IPython.core.display.HTML object>"
      ]
     },
     "metadata": {},
     "output_type": "display_data"
    },
    {
     "data": {
      "text/html": [
       "Syncing run <strong><a href=\"https://wandb.ai/ishadowstormi/Coronary%20angiography%20network/runs/rj42batv\" target=\"_blank\">glamorous-sweep-6</a></strong> to <a href=\"https://wandb.ai/ishadowstormi/Coronary%20angiography%20network\" target=\"_blank\">Weights & Biases</a> (<a href=\"https://wandb.me/run\" target=\"_blank\">docs</a>)<br/>Sweep page:  <a href=\"https://wandb.ai/ishadowstormi/Coronary%20angiography%20network/sweeps/wco4rtlh\" target=\"_blank\">https://wandb.ai/ishadowstormi/Coronary%20angiography%20network/sweeps/wco4rtlh</a>"
      ],
      "text/plain": [
       "<IPython.core.display.HTML object>"
      ]
     },
     "metadata": {},
     "output_type": "display_data"
    },
    {
     "name": "stdout",
     "output_type": "stream",
     "text": [
      "Epoch 1/28\n",
      "  2/146 [..............................] - ETA: 11s - loss: 9.2816 - accuracy: 0.5625WARNING:tensorflow:Callbacks method `on_train_batch_end` is slow compared to the batch time (batch time: 0.0583s vs `on_train_batch_end` time: 0.1050s). Check your callbacks.\n",
      "146/146 [==============================] - 22s 153ms/step - loss: 3.0741 - accuracy: 0.6450 - val_loss: 0.9935 - val_accuracy: 0.6000\n",
      "Epoch 2/28\n",
      "146/146 [==============================] - 22s 151ms/step - loss: 0.8826 - accuracy: 0.6924 - val_loss: 2.6627 - val_accuracy: 0.5000\n",
      "Epoch 3/28\n",
      "146/146 [==============================] - 22s 152ms/step - loss: 0.5355 - accuracy: 0.7217 - val_loss: 1.6530 - val_accuracy: 0.5500\n",
      "Epoch 4/28\n",
      "146/146 [==============================] - 22s 152ms/step - loss: 0.4977 - accuracy: 0.7395 - val_loss: 1.6750 - val_accuracy: 0.6100\n",
      "Epoch 5/28\n",
      "146/146 [==============================] - 22s 152ms/step - loss: 0.4921 - accuracy: 0.7509 - val_loss: 0.6283 - val_accuracy: 0.6800\n",
      "Epoch 6/28\n",
      "146/146 [==============================] - 22s 152ms/step - loss: 0.4818 - accuracy: 0.7644 - val_loss: 0.8202 - val_accuracy: 0.5900\n",
      "Epoch 7/28\n",
      "146/146 [==============================] - 22s 152ms/step - loss: 0.4536 - accuracy: 0.7755 - val_loss: 0.9933 - val_accuracy: 0.6000\n",
      "Epoch 8/28\n",
      "146/146 [==============================] - 22s 151ms/step - loss: 0.4443 - accuracy: 0.7813 - val_loss: 0.8658 - val_accuracy: 0.6300\n",
      "Epoch 9/28\n",
      "146/146 [==============================] - 22s 151ms/step - loss: 0.4205 - accuracy: 0.7958 - val_loss: 1.1335 - val_accuracy: 0.6700\n",
      "Epoch 10/28\n",
      "146/146 [==============================] - 22s 151ms/step - loss: 0.4116 - accuracy: 0.8016 - val_loss: 0.5833 - val_accuracy: 0.7000\n",
      "Epoch 11/28\n",
      "146/146 [==============================] - 22s 152ms/step - loss: 0.3813 - accuracy: 0.8216 - val_loss: 0.5103 - val_accuracy: 0.7600\n",
      "Epoch 12/28\n",
      "146/146 [==============================] - 22s 152ms/step - loss: 0.3934 - accuracy: 0.8153 - val_loss: 1.3691 - val_accuracy: 0.5600\n",
      "Epoch 13/28\n",
      "146/146 [==============================] - 22s 151ms/step - loss: 0.3622 - accuracy: 0.8346 - val_loss: 0.5375 - val_accuracy: 0.7000\n",
      "Epoch 14/28\n",
      "146/146 [==============================] - 22s 151ms/step - loss: 0.3345 - accuracy: 0.8488 - val_loss: 0.5407 - val_accuracy: 0.7300\n",
      "Epoch 15/28\n",
      "146/146 [==============================] - 22s 151ms/step - loss: 0.3129 - accuracy: 0.8580 - val_loss: 0.9029 - val_accuracy: 0.6100\n",
      "Epoch 16/28\n",
      "146/146 [==============================] - 22s 151ms/step - loss: 0.3092 - accuracy: 0.8590 - val_loss: 0.9523 - val_accuracy: 0.6000\n",
      "Epoch 17/28\n",
      "146/146 [==============================] - 22s 151ms/step - loss: 0.3215 - accuracy: 0.8575 - val_loss: 2.0525 - val_accuracy: 0.5700\n",
      "Epoch 18/28\n",
      "146/146 [==============================] - 22s 152ms/step - loss: 0.2852 - accuracy: 0.8757 - val_loss: 4.1207 - val_accuracy: 0.5200\n",
      "Epoch 19/28\n",
      "146/146 [==============================] - 22s 151ms/step - loss: 0.2723 - accuracy: 0.8850 - val_loss: 1.8492 - val_accuracy: 0.6500\n",
      "Epoch 20/28\n",
      "146/146 [==============================] - 22s 152ms/step - loss: 0.2644 - accuracy: 0.8865 - val_loss: 0.9382 - val_accuracy: 0.6000\n",
      "Epoch 21/28\n",
      "146/146 [==============================] - 22s 151ms/step - loss: 0.2764 - accuracy: 0.8796 - val_loss: 1.3560 - val_accuracy: 0.6600\n",
      "Epoch 22/28\n",
      "146/146 [==============================] - 22s 152ms/step - loss: 0.2506 - accuracy: 0.8980 - val_loss: 0.8020 - val_accuracy: 0.7100\n",
      "Epoch 23/28\n",
      "146/146 [==============================] - 22s 152ms/step - loss: 0.2570 - accuracy: 0.8912 - val_loss: 0.6004 - val_accuracy: 0.7800\n",
      "Epoch 24/28\n",
      "146/146 [==============================] - 22s 151ms/step - loss: 0.2546 - accuracy: 0.8922 - val_loss: 0.4266 - val_accuracy: 0.8300\n",
      "Epoch 25/28\n",
      "146/146 [==============================] - 22s 152ms/step - loss: 0.2296 - accuracy: 0.8989 - val_loss: 0.8596 - val_accuracy: 0.7300\n",
      "Epoch 26/28\n",
      "146/146 [==============================] - 22s 152ms/step - loss: 0.2190 - accuracy: 0.9094 - val_loss: 1.0135 - val_accuracy: 0.8000\n",
      "Epoch 27/28\n",
      "146/146 [==============================] - 22s 151ms/step - loss: 0.2263 - accuracy: 0.9053 - val_loss: 0.4089 - val_accuracy: 0.7800\n",
      "Epoch 28/28\n",
      "146/146 [==============================] - 22s 151ms/step - loss: 0.2239 - accuracy: 0.9072 - val_loss: 0.6480 - val_accuracy: 0.8000\n",
      "\n",
      "-----Model evaluation on test data-----\n",
      "38/38 [==============================] - 2s 46ms/step - loss: 0.7215 - accuracy: 0.7128\n",
      "Test Error Rate:  28.72\n",
      "AUC:  0.912\n",
      "\n"
     ]
    },
    {
     "data": {
      "text/html": [
       "Waiting for W&B process to finish... <strong style=\"color:green\">(success).</strong>"
      ],
      "text/plain": [
       "<IPython.core.display.HTML object>"
      ]
     },
     "metadata": {},
     "output_type": "display_data"
    },
    {
     "data": {
      "application/vnd.jupyter.widget-view+json": {
       "model_id": "",
       "version_major": 2,
       "version_minor": 0
      },
      "text/plain": [
       "VBox(children=(Label(value='0.004 MB of 0.004 MB uploaded (0.000 MB deduped)\\r'), FloatProgress(value=1.0, max…"
      ]
     },
     "metadata": {},
     "output_type": "display_data"
    },
    {
     "data": {
      "text/html": [
       "<style>\n",
       "    table.wandb td:nth-child(1) { padding: 0 10px; text-align: right }\n",
       "    .wandb-row { display: flex; flex-direction: row; flex-wrap: wrap; width: 100% }\n",
       "    .wandb-col { display: flex; flex-direction: column; flex-basis: 100%; flex: 1; padding: 10px; }\n",
       "    </style>\n",
       "<div class=\"wandb-row\"><div class=\"wandb-col\"><h3>Run history:</h3><br/><table class=\"wandb\"><tr><td>AUC</td><td>▁</td></tr><tr><td>Test Error Rate</td><td>▁</td></tr><tr><td>accuracy</td><td>▁▂▃▄▄▄▄▅▅▅▆▆▆▆▇▇▇▇▇▇▇███████</td></tr><tr><td>epoch</td><td>▁▁▂▂▂▂▃▃▃▃▄▄▄▄▅▅▅▅▆▆▆▆▇▇▇▇██</td></tr><tr><td>loss</td><td>█▃▂▂▂▂▂▂▁▁▁▁▁▁▁▁▁▁▁▁▁▁▁▁▁▁▁▁</td></tr><tr><td>val_accuracy</td><td>▃▁▂▃▅▃▃▄▅▅▇▂▅▆▃▃▂▁▄▃▄▅▇█▆▇▇▇</td></tr><tr><td>val_loss</td><td>▂▅▃▃▁▂▂▂▂▁▁▃▁▁▂▂▄█▄▂▃▂▁▁▂▂▁▁</td></tr></table><br/></div><div class=\"wandb-col\"><h3>Run summary:</h3><br/><table class=\"wandb\"><tr><td>AUC</td><td>0.912</td></tr><tr><td>Test Error Rate</td><td>28.72</td></tr><tr><td>accuracy</td><td>0.90724</td></tr><tr><td>best_epoch</td><td>26</td></tr><tr><td>best_val_loss</td><td>0.40887</td></tr><tr><td>epoch</td><td>27</td></tr><tr><td>loss</td><td>0.22395</td></tr><tr><td>val_accuracy</td><td>0.8</td></tr><tr><td>val_loss</td><td>0.64804</td></tr></table><br/></div></div>"
      ],
      "text/plain": [
       "<IPython.core.display.HTML object>"
      ]
     },
     "metadata": {},
     "output_type": "display_data"
    },
    {
     "data": {
      "text/html": [
       "Synced <strong style=\"color:#cdcd00\">glamorous-sweep-6</strong>: <a href=\"https://wandb.ai/ishadowstormi/Coronary%20angiography%20network/runs/rj42batv\" target=\"_blank\">https://wandb.ai/ishadowstormi/Coronary%20angiography%20network/runs/rj42batv</a><br/>Synced 5 W&B file(s), 1 media file(s), 0 artifact file(s) and 0 other file(s)"
      ],
      "text/plain": [
       "<IPython.core.display.HTML object>"
      ]
     },
     "metadata": {},
     "output_type": "display_data"
    },
    {
     "data": {
      "text/html": [
       "Find logs at: <code>./wandb/run-20220323_235722-rj42batv/logs</code>"
      ],
      "text/plain": [
       "<IPython.core.display.HTML object>"
      ]
     },
     "metadata": {},
     "output_type": "display_data"
    },
    {
     "name": "stderr",
     "output_type": "stream",
     "text": [
      "\u001b[34m\u001b[1mwandb\u001b[0m: Agent Starting Run: lwm5w25z with config:\n",
      "\u001b[34m\u001b[1mwandb\u001b[0m: \tbatch_size: 32\n",
      "\u001b[34m\u001b[1mwandb\u001b[0m: \tconv_layer1: 16\n",
      "\u001b[34m\u001b[1mwandb\u001b[0m: \tconv_layer2: 32\n",
      "\u001b[34m\u001b[1mwandb\u001b[0m: \tconv_layer3: 128\n",
      "\u001b[34m\u001b[1mwandb\u001b[0m: \tconv_layer4: 128\n",
      "\u001b[34m\u001b[1mwandb\u001b[0m: \tdense: 512\n",
      "Failed to detect the name of this notebook, you can set it manually with the WANDB_NOTEBOOK_NAME environment variable to enable code saving.\n"
     ]
    },
    {
     "data": {
      "text/html": [
       "Tracking run with wandb version 0.12.11"
      ],
      "text/plain": [
       "<IPython.core.display.HTML object>"
      ]
     },
     "metadata": {},
     "output_type": "display_data"
    },
    {
     "data": {
      "text/html": [
       "Run data is saved locally in <code>/home/jovyan/data/lightning/FrantisekUrban/wandb/run-20220324_000803-lwm5w25z</code>"
      ],
      "text/plain": [
       "<IPython.core.display.HTML object>"
      ]
     },
     "metadata": {},
     "output_type": "display_data"
    },
    {
     "data": {
      "text/html": [
       "Syncing run <strong><a href=\"https://wandb.ai/ishadowstormi/Coronary%20angiography%20network/runs/lwm5w25z\" target=\"_blank\">icy-sweep-7</a></strong> to <a href=\"https://wandb.ai/ishadowstormi/Coronary%20angiography%20network\" target=\"_blank\">Weights & Biases</a> (<a href=\"https://wandb.me/run\" target=\"_blank\">docs</a>)<br/>Sweep page:  <a href=\"https://wandb.ai/ishadowstormi/Coronary%20angiography%20network/sweeps/wco4rtlh\" target=\"_blank\">https://wandb.ai/ishadowstormi/Coronary%20angiography%20network/sweeps/wco4rtlh</a>"
      ],
      "text/plain": [
       "<IPython.core.display.HTML object>"
      ]
     },
     "metadata": {},
     "output_type": "display_data"
    },
    {
     "name": "stdout",
     "output_type": "stream",
     "text": [
      "Epoch 1/28\n",
      "  2/146 [..............................] - ETA: 11s - loss: 5.5271 - accuracy: 0.5312WARNING:tensorflow:Callbacks method `on_train_batch_end` is slow compared to the batch time (batch time: 0.0583s vs `on_train_batch_end` time: 0.1067s). Check your callbacks.\n",
      "146/146 [==============================] - 23s 159ms/step - loss: 2.9508 - accuracy: 0.6710 - val_loss: 7.3865 - val_accuracy: 0.5300\n",
      "Epoch 2/28\n",
      "146/146 [==============================] - 23s 157ms/step - loss: 0.6027 - accuracy: 0.7290 - val_loss: 0.6328 - val_accuracy: 0.6700\n",
      "Epoch 3/28\n",
      "146/146 [==============================] - 23s 157ms/step - loss: 0.5135 - accuracy: 0.7425 - val_loss: 0.7277 - val_accuracy: 0.6200\n",
      "Epoch 4/28\n",
      "146/146 [==============================] - 23s 157ms/step - loss: 0.4872 - accuracy: 0.7618 - val_loss: 1.1746 - val_accuracy: 0.4600\n",
      "Epoch 5/28\n",
      "146/146 [==============================] - 23s 157ms/step - loss: 0.4738 - accuracy: 0.7727 - val_loss: 2.5760 - val_accuracy: 0.5900\n",
      "Epoch 6/28\n",
      "146/146 [==============================] - 23s 157ms/step - loss: 0.4374 - accuracy: 0.7978 - val_loss: 8.0440 - val_accuracy: 0.5000\n",
      "Epoch 7/28\n",
      "146/146 [==============================] - 23s 157ms/step - loss: 0.4265 - accuracy: 0.7963 - val_loss: 1.8730 - val_accuracy: 0.5100\n",
      "Epoch 8/28\n",
      "146/146 [==============================] - 23s 157ms/step - loss: 0.4119 - accuracy: 0.8081 - val_loss: 0.7483 - val_accuracy: 0.6300\n",
      "Epoch 9/28\n",
      "146/146 [==============================] - 23s 157ms/step - loss: 0.3950 - accuracy: 0.8196 - val_loss: 1.6143 - val_accuracy: 0.5500\n",
      "Epoch 10/28\n",
      "146/146 [==============================] - 23s 157ms/step - loss: 0.3899 - accuracy: 0.8160 - val_loss: 2.9195 - val_accuracy: 0.5000\n",
      "Epoch 11/28\n",
      "146/146 [==============================] - 23s 157ms/step - loss: 0.3851 - accuracy: 0.8271 - val_loss: 0.6247 - val_accuracy: 0.6900\n",
      "Epoch 12/28\n",
      "146/146 [==============================] - 23s 157ms/step - loss: 0.3532 - accuracy: 0.8338 - val_loss: 0.7748 - val_accuracy: 0.7300\n",
      "Epoch 13/28\n",
      "146/146 [==============================] - 23s 157ms/step - loss: 0.3116 - accuracy: 0.8545 - val_loss: 0.9315 - val_accuracy: 0.7500\n",
      "Epoch 14/28\n",
      "146/146 [==============================] - 23s 156ms/step - loss: 0.3187 - accuracy: 0.8468 - val_loss: 0.6033 - val_accuracy: 0.7000\n",
      "Epoch 15/28\n",
      "146/146 [==============================] - 23s 157ms/step - loss: 0.2963 - accuracy: 0.8670 - val_loss: 0.5395 - val_accuracy: 0.7500\n",
      "Epoch 16/28\n",
      "146/146 [==============================] - 23s 157ms/step - loss: 0.3044 - accuracy: 0.8595 - val_loss: 0.4402 - val_accuracy: 0.7700\n",
      "Epoch 17/28\n",
      "146/146 [==============================] - 23s 157ms/step - loss: 0.2789 - accuracy: 0.8775 - val_loss: 0.5162 - val_accuracy: 0.7200\n",
      "Epoch 18/28\n",
      "146/146 [==============================] - 23s 157ms/step - loss: 0.2774 - accuracy: 0.8785 - val_loss: 0.6056 - val_accuracy: 0.7800\n",
      "Epoch 19/28\n",
      "146/146 [==============================] - 23s 157ms/step - loss: 0.2878 - accuracy: 0.8832 - val_loss: 1.1170 - val_accuracy: 0.6500\n",
      "Epoch 20/28\n",
      "146/146 [==============================] - 23s 156ms/step - loss: 0.2522 - accuracy: 0.8862 - val_loss: 0.4396 - val_accuracy: 0.7900\n",
      "Epoch 21/28\n",
      "146/146 [==============================] - 23s 157ms/step - loss: 0.2491 - accuracy: 0.8918 - val_loss: 0.5240 - val_accuracy: 0.7700\n",
      "Epoch 22/28\n",
      "146/146 [==============================] - 23s 157ms/step - loss: 0.2563 - accuracy: 0.8965 - val_loss: 0.5112 - val_accuracy: 0.8400\n",
      "Epoch 23/28\n",
      "146/146 [==============================] - 23s 157ms/step - loss: 0.2456 - accuracy: 0.8918 - val_loss: 0.3827 - val_accuracy: 0.8500\n",
      "Epoch 24/28\n",
      "146/146 [==============================] - 23s 157ms/step - loss: 0.2315 - accuracy: 0.8972 - val_loss: 0.9697 - val_accuracy: 0.7900\n",
      "Epoch 25/28\n",
      "146/146 [==============================] - 23s 157ms/step - loss: 0.2389 - accuracy: 0.8987 - val_loss: 0.7057 - val_accuracy: 0.7100\n",
      "Epoch 26/28\n",
      "146/146 [==============================] - 23s 157ms/step - loss: 0.2262 - accuracy: 0.9034 - val_loss: 0.8986 - val_accuracy: 0.6900\n",
      "Epoch 27/28\n",
      "146/146 [==============================] - 23s 157ms/step - loss: 0.1987 - accuracy: 0.9150 - val_loss: 1.4077 - val_accuracy: 0.7200\n",
      "Epoch 28/28\n",
      "146/146 [==============================] - 23s 157ms/step - loss: 0.2074 - accuracy: 0.9126 - val_loss: 0.4023 - val_accuracy: 0.8400\n",
      "\n",
      "-----Model evaluation on test data-----\n",
      "38/38 [==============================] - 2s 48ms/step - loss: 0.5928 - accuracy: 0.8069\n",
      "Test Error Rate:  19.31\n",
      "AUC:  0.9457\n",
      "\n"
     ]
    },
    {
     "data": {
      "text/html": [
       "Waiting for W&B process to finish... <strong style=\"color:green\">(success).</strong>"
      ],
      "text/plain": [
       "<IPython.core.display.HTML object>"
      ]
     },
     "metadata": {},
     "output_type": "display_data"
    },
    {
     "data": {
      "application/vnd.jupyter.widget-view+json": {
       "model_id": "",
       "version_major": 2,
       "version_minor": 0
      },
      "text/plain": [
       "VBox(children=(Label(value='0.004 MB of 0.004 MB uploaded (0.000 MB deduped)\\r'), FloatProgress(value=1.0, max…"
      ]
     },
     "metadata": {},
     "output_type": "display_data"
    },
    {
     "data": {
      "text/html": [
       "<style>\n",
       "    table.wandb td:nth-child(1) { padding: 0 10px; text-align: right }\n",
       "    .wandb-row { display: flex; flex-direction: row; flex-wrap: wrap; width: 100% }\n",
       "    .wandb-col { display: flex; flex-direction: column; flex-basis: 100%; flex: 1; padding: 10px; }\n",
       "    </style>\n",
       "<div class=\"wandb-row\"><div class=\"wandb-col\"><h3>Run history:</h3><br/><table class=\"wandb\"><tr><td>AUC</td><td>▁</td></tr><tr><td>Test Error Rate</td><td>▁</td></tr><tr><td>accuracy</td><td>▁▃▃▄▄▅▅▅▅▅▅▆▆▆▇▆▇▇▇▇▇▇▇▇████</td></tr><tr><td>epoch</td><td>▁▁▂▂▂▂▃▃▃▃▄▄▄▄▅▅▅▅▆▆▆▆▇▇▇▇██</td></tr><tr><td>loss</td><td>█▂▂▂▂▂▂▂▁▁▁▁▁▁▁▁▁▁▁▁▁▁▁▁▁▁▁▁</td></tr><tr><td>val_accuracy</td><td>▂▅▄▁▃▂▂▄▃▂▅▆▆▅▆▇▆▇▄▇▇██▇▅▅▆█</td></tr><tr><td>val_loss</td><td>▇▁▁▂▃█▂▁▂▃▁▁▂▁▁▁▁▁▂▁▁▁▁▂▁▁▂▁</td></tr></table><br/></div><div class=\"wandb-col\"><h3>Run summary:</h3><br/><table class=\"wandb\"><tr><td>AUC</td><td>0.9457</td></tr><tr><td>Test Error Rate</td><td>19.31</td></tr><tr><td>accuracy</td><td>0.9126</td></tr><tr><td>best_epoch</td><td>22</td></tr><tr><td>best_val_loss</td><td>0.38273</td></tr><tr><td>epoch</td><td>27</td></tr><tr><td>loss</td><td>0.2074</td></tr><tr><td>val_accuracy</td><td>0.84</td></tr><tr><td>val_loss</td><td>0.40228</td></tr></table><br/></div></div>"
      ],
      "text/plain": [
       "<IPython.core.display.HTML object>"
      ]
     },
     "metadata": {},
     "output_type": "display_data"
    },
    {
     "data": {
      "text/html": [
       "Synced <strong style=\"color:#cdcd00\">icy-sweep-7</strong>: <a href=\"https://wandb.ai/ishadowstormi/Coronary%20angiography%20network/runs/lwm5w25z\" target=\"_blank\">https://wandb.ai/ishadowstormi/Coronary%20angiography%20network/runs/lwm5w25z</a><br/>Synced 5 W&B file(s), 1 media file(s), 0 artifact file(s) and 0 other file(s)"
      ],
      "text/plain": [
       "<IPython.core.display.HTML object>"
      ]
     },
     "metadata": {},
     "output_type": "display_data"
    },
    {
     "data": {
      "text/html": [
       "Find logs at: <code>./wandb/run-20220324_000803-lwm5w25z/logs</code>"
      ],
      "text/plain": [
       "<IPython.core.display.HTML object>"
      ]
     },
     "metadata": {},
     "output_type": "display_data"
    },
    {
     "name": "stderr",
     "output_type": "stream",
     "text": [
      "\u001b[34m\u001b[1mwandb\u001b[0m: Agent Starting Run: 8m5cgh3e with config:\n",
      "\u001b[34m\u001b[1mwandb\u001b[0m: \tbatch_size: 32\n",
      "\u001b[34m\u001b[1mwandb\u001b[0m: \tconv_layer1: 16\n",
      "\u001b[34m\u001b[1mwandb\u001b[0m: \tconv_layer2: 32\n",
      "\u001b[34m\u001b[1mwandb\u001b[0m: \tconv_layer3: 128\n",
      "\u001b[34m\u001b[1mwandb\u001b[0m: \tconv_layer4: 128\n",
      "\u001b[34m\u001b[1mwandb\u001b[0m: \tdense: 1024\n",
      "Failed to detect the name of this notebook, you can set it manually with the WANDB_NOTEBOOK_NAME environment variable to enable code saving.\n"
     ]
    },
    {
     "data": {
      "text/html": [
       "Tracking run with wandb version 0.12.11"
      ],
      "text/plain": [
       "<IPython.core.display.HTML object>"
      ]
     },
     "metadata": {},
     "output_type": "display_data"
    },
    {
     "data": {
      "text/html": [
       "Run data is saved locally in <code>/home/jovyan/data/lightning/FrantisekUrban/wandb/run-20220324_001908-8m5cgh3e</code>"
      ],
      "text/plain": [
       "<IPython.core.display.HTML object>"
      ]
     },
     "metadata": {},
     "output_type": "display_data"
    },
    {
     "data": {
      "text/html": [
       "Syncing run <strong><a href=\"https://wandb.ai/ishadowstormi/Coronary%20angiography%20network/runs/8m5cgh3e\" target=\"_blank\">misunderstood-sweep-8</a></strong> to <a href=\"https://wandb.ai/ishadowstormi/Coronary%20angiography%20network\" target=\"_blank\">Weights & Biases</a> (<a href=\"https://wandb.me/run\" target=\"_blank\">docs</a>)<br/>Sweep page:  <a href=\"https://wandb.ai/ishadowstormi/Coronary%20angiography%20network/sweeps/wco4rtlh\" target=\"_blank\">https://wandb.ai/ishadowstormi/Coronary%20angiography%20network/sweeps/wco4rtlh</a>"
      ],
      "text/plain": [
       "<IPython.core.display.HTML object>"
      ]
     },
     "metadata": {},
     "output_type": "display_data"
    },
    {
     "name": "stdout",
     "output_type": "stream",
     "text": [
      "Epoch 1/28\n",
      "  2/146 [..............................] - ETA: 12s - loss: 5.3833 - accuracy: 0.5625WARNING:tensorflow:Callbacks method `on_train_batch_end` is slow compared to the batch time (batch time: 0.0597s vs `on_train_batch_end` time: 0.1093s). Check your callbacks.\n",
      "146/146 [==============================] - 23s 160ms/step - loss: 6.0879 - accuracy: 0.6515 - val_loss: 4.8257 - val_accuracy: 0.6700\n",
      "Epoch 2/28\n",
      "146/146 [==============================] - 23s 158ms/step - loss: 1.3240 - accuracy: 0.7024 - val_loss: 1.5867 - val_accuracy: 0.5600\n",
      "Epoch 3/28\n",
      "146/146 [==============================] - 23s 159ms/step - loss: 0.5473 - accuracy: 0.7500 - val_loss: 0.6081 - val_accuracy: 0.6500\n",
      "Epoch 4/28\n",
      "146/146 [==============================] - 23s 159ms/step - loss: 0.4725 - accuracy: 0.7708 - val_loss: 0.7299 - val_accuracy: 0.6400\n",
      "Epoch 5/28\n",
      "146/146 [==============================] - 23s 159ms/step - loss: 0.4508 - accuracy: 0.7813 - val_loss: 0.8302 - val_accuracy: 0.6200\n",
      "Epoch 6/28\n",
      "146/146 [==============================] - 23s 159ms/step - loss: 0.4457 - accuracy: 0.7933 - val_loss: 1.0950 - val_accuracy: 0.5900\n",
      "Epoch 7/28\n",
      "146/146 [==============================] - 23s 159ms/step - loss: 0.4389 - accuracy: 0.7969 - val_loss: 0.5792 - val_accuracy: 0.6800\n",
      "Epoch 8/28\n",
      "146/146 [==============================] - 23s 159ms/step - loss: 0.4093 - accuracy: 0.8089 - val_loss: 1.3031 - val_accuracy: 0.6400\n",
      "Epoch 9/28\n",
      "146/146 [==============================] - 23s 159ms/step - loss: 0.3941 - accuracy: 0.8149 - val_loss: 1.0782 - val_accuracy: 0.5900\n",
      "Epoch 10/28\n",
      "146/146 [==============================] - 23s 159ms/step - loss: 0.3660 - accuracy: 0.8342 - val_loss: 0.9288 - val_accuracy: 0.6800\n",
      "Epoch 11/28\n",
      "146/146 [==============================] - 23s 159ms/step - loss: 0.3516 - accuracy: 0.8415 - val_loss: 0.6355 - val_accuracy: 0.6600\n",
      "Epoch 12/28\n",
      "146/146 [==============================] - 23s 159ms/step - loss: 0.3347 - accuracy: 0.8490 - val_loss: 0.8253 - val_accuracy: 0.7300\n",
      "Epoch 13/28\n",
      "146/146 [==============================] - 23s 160ms/step - loss: 0.3335 - accuracy: 0.8406 - val_loss: 1.8091 - val_accuracy: 0.5400\n",
      "Epoch 14/28\n",
      "146/146 [==============================] - 23s 159ms/step - loss: 0.3118 - accuracy: 0.8588 - val_loss: 0.9117 - val_accuracy: 0.7400\n",
      "Epoch 15/28\n",
      "146/146 [==============================] - 23s 159ms/step - loss: 0.3297 - accuracy: 0.8509 - val_loss: 1.1060 - val_accuracy: 0.5700\n",
      "Epoch 16/28\n",
      "146/146 [==============================] - 23s 159ms/step - loss: 0.3035 - accuracy: 0.8678 - val_loss: 0.7332 - val_accuracy: 0.6300\n",
      "Epoch 17/28\n",
      "146/146 [==============================] - 23s 159ms/step - loss: 0.2870 - accuracy: 0.8713 - val_loss: 0.6924 - val_accuracy: 0.7600\n",
      "Epoch 18/28\n",
      "146/146 [==============================] - 23s 159ms/step - loss: 0.3158 - accuracy: 0.8524 - val_loss: 0.5546 - val_accuracy: 0.7600\n",
      "Epoch 19/28\n",
      "146/146 [==============================] - 23s 159ms/step - loss: 0.2697 - accuracy: 0.8815 - val_loss: 1.6148 - val_accuracy: 0.6300\n",
      "Epoch 20/28\n",
      "146/146 [==============================] - 23s 159ms/step - loss: 0.2809 - accuracy: 0.8734 - val_loss: 0.7418 - val_accuracy: 0.7000\n",
      "Epoch 21/28\n",
      "146/146 [==============================] - 23s 159ms/step - loss: 0.3050 - accuracy: 0.8683 - val_loss: 0.5336 - val_accuracy: 0.7900\n",
      "Epoch 22/28\n",
      "146/146 [==============================] - 23s 159ms/step - loss: 0.2551 - accuracy: 0.8852 - val_loss: 2.6073 - val_accuracy: 0.5700\n",
      "Epoch 23/28\n",
      "101/146 [===================>..........] - ETA: 7s - loss: 0.2876 - accuracy: 0.8620\n"
     ]
    },
    {
     "data": {
      "text/html": [
       "Waiting for W&B process to finish... <strong style=\"color:red\">(failed 1).</strong> Press Control-C to abort syncing."
      ],
      "text/plain": [
       "<IPython.core.display.HTML object>"
      ]
     },
     "metadata": {},
     "output_type": "display_data"
    },
    {
     "data": {
      "application/vnd.jupyter.widget-view+json": {
       "model_id": "",
       "version_major": 2,
       "version_minor": 0
      },
      "text/plain": [
       "VBox(children=(Label(value='0.004 MB of 0.004 MB uploaded (0.000 MB deduped)\\r'), FloatProgress(value=1.0, max…"
      ]
     },
     "metadata": {},
     "output_type": "display_data"
    },
    {
     "data": {
      "text/html": [
       "<style>\n",
       "    table.wandb td:nth-child(1) { padding: 0 10px; text-align: right }\n",
       "    .wandb-row { display: flex; flex-direction: row; flex-wrap: wrap; width: 100% }\n",
       "    .wandb-col { display: flex; flex-direction: column; flex-basis: 100%; flex: 1; padding: 10px; }\n",
       "    </style>\n",
       "<div class=\"wandb-row\"><div class=\"wandb-col\"><h3>Run history:</h3><br/><table class=\"wandb\"><tr><td>accuracy</td><td>▁▃▄▅▅▅▅▆▆▆▇▇▇▇▇▇█▇██▇█</td></tr><tr><td>epoch</td><td>▁▁▂▂▂▃▃▃▄▄▄▅▅▅▆▆▆▇▇▇██</td></tr><tr><td>loss</td><td>█▂▁▁▁▁▁▁▁▁▁▁▁▁▁▁▁▁▁▁▁▁</td></tr><tr><td>val_accuracy</td><td>▅▂▄▄▃▂▅▄▂▅▄▆▁▇▂▄▇▇▄▅█▂</td></tr><tr><td>val_loss</td><td>█▃▁▁▁▂▁▂▂▂▁▁▃▂▂▁▁▁▃▁▁▄</td></tr></table><br/></div><div class=\"wandb-col\"><h3>Run summary:</h3><br/><table class=\"wandb\"><tr><td>accuracy</td><td>0.88518</td></tr><tr><td>best_epoch</td><td>20</td></tr><tr><td>best_val_loss</td><td>0.53364</td></tr><tr><td>epoch</td><td>21</td></tr><tr><td>loss</td><td>0.25506</td></tr><tr><td>val_accuracy</td><td>0.57</td></tr><tr><td>val_loss</td><td>2.6073</td></tr></table><br/></div></div>"
      ],
      "text/plain": [
       "<IPython.core.display.HTML object>"
      ]
     },
     "metadata": {},
     "output_type": "display_data"
    },
    {
     "data": {
      "text/html": [
       "Synced <strong style=\"color:#cdcd00\">misunderstood-sweep-8</strong>: <a href=\"https://wandb.ai/ishadowstormi/Coronary%20angiography%20network/runs/8m5cgh3e\" target=\"_blank\">https://wandb.ai/ishadowstormi/Coronary%20angiography%20network/runs/8m5cgh3e</a><br/>Synced 5 W&B file(s), 1 media file(s), 0 artifact file(s) and 0 other file(s)"
      ],
      "text/plain": [
       "<IPython.core.display.HTML object>"
      ]
     },
     "metadata": {},
     "output_type": "display_data"
    },
    {
     "data": {
      "text/html": [
       "Find logs at: <code>./wandb/run-20220324_001908-8m5cgh3e/logs</code>"
      ],
      "text/plain": [
       "<IPython.core.display.HTML object>"
      ]
     },
     "metadata": {},
     "output_type": "display_data"
    },
    {
     "name": "stderr",
     "output_type": "stream",
     "text": [
      "\u001b[34m\u001b[1mwandb\u001b[0m: Agent Starting Run: 4p2urk6f with config:\n",
      "\u001b[34m\u001b[1mwandb\u001b[0m: \tbatch_size: 32\n",
      "\u001b[34m\u001b[1mwandb\u001b[0m: \tconv_layer1: 16\n",
      "\u001b[34m\u001b[1mwandb\u001b[0m: \tconv_layer2: 64\n",
      "\u001b[34m\u001b[1mwandb\u001b[0m: \tconv_layer3: 64\n",
      "\u001b[34m\u001b[1mwandb\u001b[0m: \tconv_layer4: 64\n",
      "\u001b[34m\u001b[1mwandb\u001b[0m: \tdense: 512\n",
      "Failed to detect the name of this notebook, you can set it manually with the WANDB_NOTEBOOK_NAME environment variable to enable code saving.\n"
     ]
    },
    {
     "data": {
      "text/html": [
       "Tracking run with wandb version 0.12.11"
      ],
      "text/plain": [
       "<IPython.core.display.HTML object>"
      ]
     },
     "metadata": {},
     "output_type": "display_data"
    },
    {
     "data": {
      "text/html": [
       "Run data is saved locally in <code>/home/jovyan/data/lightning/FrantisekUrban/wandb/run-20220324_002811-4p2urk6f</code>"
      ],
      "text/plain": [
       "<IPython.core.display.HTML object>"
      ]
     },
     "metadata": {},
     "output_type": "display_data"
    },
    {
     "data": {
      "text/html": [
       "Syncing run <strong><a href=\"https://wandb.ai/ishadowstormi/Coronary%20angiography%20network/runs/4p2urk6f\" target=\"_blank\">sleek-sweep-9</a></strong> to <a href=\"https://wandb.ai/ishadowstormi/Coronary%20angiography%20network\" target=\"_blank\">Weights & Biases</a> (<a href=\"https://wandb.me/run\" target=\"_blank\">docs</a>)<br/>Sweep page:  <a href=\"https://wandb.ai/ishadowstormi/Coronary%20angiography%20network/sweeps/wco4rtlh\" target=\"_blank\">https://wandb.ai/ishadowstormi/Coronary%20angiography%20network/sweeps/wco4rtlh</a>"
      ],
      "text/plain": [
       "<IPython.core.display.HTML object>"
      ]
     },
     "metadata": {},
     "output_type": "display_data"
    },
    {
     "name": "stdout",
     "output_type": "stream",
     "text": [
      "Epoch 1/28\n",
      "  2/146 [..............................] - ETA: 12s - loss: 8.4148 - accuracy: 0.5469WARNING:tensorflow:Callbacks method `on_train_batch_end` is slow compared to the batch time (batch time: 0.0593s vs `on_train_batch_end` time: 0.1119s). Check your callbacks.\n",
      "146/146 [==============================] - 26s 180ms/step - loss: 1.3151 - accuracy: 0.6675 - val_loss: 1.7857 - val_accuracy: 0.5300\n",
      "Epoch 2/28\n",
      "146/146 [==============================] - 25s 173ms/step - loss: 0.5535 - accuracy: 0.7074 - val_loss: 0.7042 - val_accuracy: 0.5700\n",
      "Epoch 3/28\n",
      "146/146 [==============================] - 25s 173ms/step - loss: 0.5105 - accuracy: 0.7509 - val_loss: 1.4931 - val_accuracy: 0.5700\n",
      "Epoch 4/28\n",
      "146/146 [==============================] - 25s 173ms/step - loss: 0.4923 - accuracy: 0.7665 - val_loss: 1.6332 - val_accuracy: 0.5200\n",
      "Epoch 5/28\n",
      "146/146 [==============================] - 25s 173ms/step - loss: 0.4449 - accuracy: 0.7838 - val_loss: 2.5667 - val_accuracy: 0.5600\n",
      "Epoch 6/28\n",
      "146/146 [==============================] - 25s 174ms/step - loss: 0.4295 - accuracy: 0.7984 - val_loss: 1.2250 - val_accuracy: 0.6700\n",
      "Epoch 7/28\n",
      "146/146 [==============================] - 25s 173ms/step - loss: 0.4367 - accuracy: 0.7993 - val_loss: 0.6676 - val_accuracy: 0.7000\n",
      "Epoch 8/28\n",
      "146/146 [==============================] - 25s 173ms/step - loss: 0.3929 - accuracy: 0.8246 - val_loss: 8.5447 - val_accuracy: 0.5100\n",
      "Epoch 9/28\n",
      "146/146 [==============================] - 25s 173ms/step - loss: 0.3718 - accuracy: 0.8323 - val_loss: 0.5857 - val_accuracy: 0.6800\n",
      "Epoch 10/28\n",
      "146/146 [==============================] - 25s 173ms/step - loss: 0.3355 - accuracy: 0.8466 - val_loss: 0.5181 - val_accuracy: 0.7700\n",
      "Epoch 11/28\n",
      "146/146 [==============================] - 25s 173ms/step - loss: 0.3300 - accuracy: 0.8571 - val_loss: 0.5358 - val_accuracy: 0.7600\n",
      "Epoch 12/28\n",
      "146/146 [==============================] - 25s 173ms/step - loss: 0.3051 - accuracy: 0.8745 - val_loss: 0.5295 - val_accuracy: 0.8300\n",
      "Epoch 13/28\n",
      "146/146 [==============================] - 25s 173ms/step - loss: 0.2855 - accuracy: 0.8760 - val_loss: 1.5052 - val_accuracy: 0.5300\n",
      "Epoch 14/28\n",
      "146/146 [==============================] - 25s 173ms/step - loss: 0.2729 - accuracy: 0.8757 - val_loss: 2.6817 - val_accuracy: 0.6000\n",
      "Epoch 15/28\n",
      "146/146 [==============================] - 25s 173ms/step - loss: 0.2506 - accuracy: 0.8950 - val_loss: 2.5189 - val_accuracy: 0.5200\n",
      "Epoch 16/28\n",
      "146/146 [==============================] - 25s 173ms/step - loss: 0.2766 - accuracy: 0.8856 - val_loss: 0.5555 - val_accuracy: 0.7400\n",
      "Epoch 17/28\n",
      "146/146 [==============================] - 25s 173ms/step - loss: 0.2538 - accuracy: 0.8982 - val_loss: 0.5430 - val_accuracy: 0.8100\n",
      "Epoch 18/28\n",
      "146/146 [==============================] - 25s 173ms/step - loss: 0.2339 - accuracy: 0.9015 - val_loss: 0.5307 - val_accuracy: 0.8100\n",
      "Epoch 19/28\n",
      "146/146 [==============================] - 25s 173ms/step - loss: 0.2186 - accuracy: 0.9087 - val_loss: 0.7349 - val_accuracy: 0.7900\n",
      "Epoch 20/28\n",
      "146/146 [==============================] - 25s 173ms/step - loss: 0.2130 - accuracy: 0.9040 - val_loss: 0.4485 - val_accuracy: 0.8400\n",
      "Epoch 21/28\n",
      "146/146 [==============================] - 25s 173ms/step - loss: 0.1932 - accuracy: 0.9199 - val_loss: 2.2743 - val_accuracy: 0.6500\n",
      "Epoch 22/28\n",
      "146/146 [==============================] - 25s 173ms/step - loss: 0.1951 - accuracy: 0.9165 - val_loss: 0.4193 - val_accuracy: 0.8400\n",
      "Epoch 23/28\n",
      "146/146 [==============================] - 25s 173ms/step - loss: 0.1781 - accuracy: 0.9263 - val_loss: 0.5431 - val_accuracy: 0.8300\n",
      "Epoch 24/28\n",
      "146/146 [==============================] - 25s 173ms/step - loss: 0.1775 - accuracy: 0.9257 - val_loss: 0.8506 - val_accuracy: 0.7700\n",
      "Epoch 25/28\n",
      "146/146 [==============================] - 25s 173ms/step - loss: 0.1878 - accuracy: 0.9212 - val_loss: 0.5991 - val_accuracy: 0.7900\n",
      "Epoch 26/28\n",
      "146/146 [==============================] - 25s 173ms/step - loss: 0.1685 - accuracy: 0.9357 - val_loss: 0.4415 - val_accuracy: 0.8300\n",
      "Epoch 27/28\n",
      "146/146 [==============================] - 25s 173ms/step - loss: 0.1617 - accuracy: 0.9362 - val_loss: 0.5124 - val_accuracy: 0.8300\n",
      "Epoch 28/28\n",
      "146/146 [==============================] - 25s 172ms/step - loss: 0.1623 - accuracy: 0.9317 - val_loss: 1.8714 - val_accuracy: 0.6700\n",
      "\n",
      "-----Model evaluation on test data-----\n",
      "38/38 [==============================] - 2s 54ms/step - loss: 0.4501 - accuracy: 0.9362\n",
      "Test Error Rate:  6.38\n",
      "AUC:  0.8128\n",
      "\n"
     ]
    },
    {
     "data": {
      "text/html": [
       "Waiting for W&B process to finish... <strong style=\"color:green\">(success).</strong>"
      ],
      "text/plain": [
       "<IPython.core.display.HTML object>"
      ]
     },
     "metadata": {},
     "output_type": "display_data"
    },
    {
     "data": {
      "application/vnd.jupyter.widget-view+json": {
       "model_id": "",
       "version_major": 2,
       "version_minor": 0
      },
      "text/plain": [
       "VBox(children=(Label(value='0.004 MB of 0.004 MB uploaded (0.000 MB deduped)\\r'), FloatProgress(value=1.0, max…"
      ]
     },
     "metadata": {},
     "output_type": "display_data"
    },
    {
     "data": {
      "text/html": [
       "<style>\n",
       "    table.wandb td:nth-child(1) { padding: 0 10px; text-align: right }\n",
       "    .wandb-row { display: flex; flex-direction: row; flex-wrap: wrap; width: 100% }\n",
       "    .wandb-col { display: flex; flex-direction: column; flex-basis: 100%; flex: 1; padding: 10px; }\n",
       "    </style>\n",
       "<div class=\"wandb-row\"><div class=\"wandb-col\"><h3>Run history:</h3><br/><table class=\"wandb\"><tr><td>AUC</td><td>▁</td></tr><tr><td>Test Error Rate</td><td>▁</td></tr><tr><td>accuracy</td><td>▁▂▃▄▄▄▄▅▅▆▆▆▆▆▇▇▇▇▇▇█▇██████</td></tr><tr><td>epoch</td><td>▁▁▂▂▂▂▃▃▃▃▄▄▄▄▅▅▅▅▆▆▆▆▇▇▇▇██</td></tr><tr><td>loss</td><td>█▃▃▃▃▃▃▂▂▂▂▂▂▂▂▂▂▁▁▁▁▁▁▁▁▁▁▁</td></tr><tr><td>val_accuracy</td><td>▁▂▂▁▂▄▅▁▅▇▆█▁▃▁▆▇▇▇█▄██▇▇██▄</td></tr><tr><td>val_loss</td><td>▂▁▂▂▃▂▁█▁▁▁▁▂▃▃▁▁▁▁▁▃▁▁▁▁▁▁▂</td></tr></table><br/></div><div class=\"wandb-col\"><h3>Run summary:</h3><br/><table class=\"wandb\"><tr><td>AUC</td><td>0.8128</td></tr><tr><td>Test Error Rate</td><td>6.38</td></tr><tr><td>accuracy</td><td>0.93166</td></tr><tr><td>best_epoch</td><td>21</td></tr><tr><td>best_val_loss</td><td>0.4193</td></tr><tr><td>epoch</td><td>27</td></tr><tr><td>loss</td><td>0.16225</td></tr><tr><td>val_accuracy</td><td>0.67</td></tr><tr><td>val_loss</td><td>1.87142</td></tr></table><br/></div></div>"
      ],
      "text/plain": [
       "<IPython.core.display.HTML object>"
      ]
     },
     "metadata": {},
     "output_type": "display_data"
    },
    {
     "data": {
      "text/html": [
       "Synced <strong style=\"color:#cdcd00\">sleek-sweep-9</strong>: <a href=\"https://wandb.ai/ishadowstormi/Coronary%20angiography%20network/runs/4p2urk6f\" target=\"_blank\">https://wandb.ai/ishadowstormi/Coronary%20angiography%20network/runs/4p2urk6f</a><br/>Synced 5 W&B file(s), 1 media file(s), 0 artifact file(s) and 0 other file(s)"
      ],
      "text/plain": [
       "<IPython.core.display.HTML object>"
      ]
     },
     "metadata": {},
     "output_type": "display_data"
    },
    {
     "data": {
      "text/html": [
       "Find logs at: <code>./wandb/run-20220324_002811-4p2urk6f/logs</code>"
      ],
      "text/plain": [
       "<IPython.core.display.HTML object>"
      ]
     },
     "metadata": {},
     "output_type": "display_data"
    },
    {
     "name": "stderr",
     "output_type": "stream",
     "text": [
      "\u001b[34m\u001b[1mwandb\u001b[0m: Sweep Agent: Waiting for job.\n",
      "\u001b[34m\u001b[1mwandb\u001b[0m: Job received.\n",
      "\u001b[34m\u001b[1mwandb\u001b[0m: Agent Starting Run: zomqj0ut with config:\n",
      "\u001b[34m\u001b[1mwandb\u001b[0m: \tbatch_size: 32\n",
      "\u001b[34m\u001b[1mwandb\u001b[0m: \tconv_layer1: 16\n",
      "\u001b[34m\u001b[1mwandb\u001b[0m: \tconv_layer2: 64\n",
      "\u001b[34m\u001b[1mwandb\u001b[0m: \tconv_layer3: 64\n",
      "\u001b[34m\u001b[1mwandb\u001b[0m: \tconv_layer4: 64\n",
      "\u001b[34m\u001b[1mwandb\u001b[0m: \tdense: 1024\n",
      "Failed to detect the name of this notebook, you can set it manually with the WANDB_NOTEBOOK_NAME environment variable to enable code saving.\n"
     ]
    },
    {
     "data": {
      "text/html": [
       "Tracking run with wandb version 0.12.11"
      ],
      "text/plain": [
       "<IPython.core.display.HTML object>"
      ]
     },
     "metadata": {},
     "output_type": "display_data"
    },
    {
     "data": {
      "text/html": [
       "Run data is saved locally in <code>/home/jovyan/data/lightning/FrantisekUrban/wandb/run-20220324_004031-zomqj0ut</code>"
      ],
      "text/plain": [
       "<IPython.core.display.HTML object>"
      ]
     },
     "metadata": {},
     "output_type": "display_data"
    },
    {
     "data": {
      "text/html": [
       "Syncing run <strong><a href=\"https://wandb.ai/ishadowstormi/Coronary%20angiography%20network/runs/zomqj0ut\" target=\"_blank\">morning-sweep-10</a></strong> to <a href=\"https://wandb.ai/ishadowstormi/Coronary%20angiography%20network\" target=\"_blank\">Weights & Biases</a> (<a href=\"https://wandb.me/run\" target=\"_blank\">docs</a>)<br/>Sweep page:  <a href=\"https://wandb.ai/ishadowstormi/Coronary%20angiography%20network/sweeps/wco4rtlh\" target=\"_blank\">https://wandb.ai/ishadowstormi/Coronary%20angiography%20network/sweeps/wco4rtlh</a>"
      ],
      "text/plain": [
       "<IPython.core.display.HTML object>"
      ]
     },
     "metadata": {},
     "output_type": "display_data"
    },
    {
     "name": "stdout",
     "output_type": "stream",
     "text": [
      "Epoch 1/28\n",
      "  2/146 [..............................] - ETA: 13s - loss: 11.8410 - accuracy: 0.5781WARNING:tensorflow:Callbacks method `on_train_batch_end` is slow compared to the batch time (batch time: 0.0638s vs `on_train_batch_end` time: 0.1208s). Check your callbacks.\n",
      "146/146 [==============================] - 26s 176ms/step - loss: 1.6660 - accuracy: 0.6870 - val_loss: 1.2178 - val_accuracy: 0.5000\n",
      "Epoch 2/28\n",
      "146/146 [==============================] - 25s 174ms/step - loss: 0.5195 - accuracy: 0.7487 - val_loss: 0.6376 - val_accuracy: 0.6800\n",
      "Epoch 3/28\n",
      "146/146 [==============================] - 25s 174ms/step - loss: 0.4734 - accuracy: 0.7763 - val_loss: 0.6669 - val_accuracy: 0.6000\n",
      "Epoch 4/28\n",
      "146/146 [==============================] - 26s 175ms/step - loss: 0.4238 - accuracy: 0.7946 - val_loss: 2.9006 - val_accuracy: 0.5000\n",
      "Epoch 5/28\n",
      "146/146 [==============================] - 26s 175ms/step - loss: 0.3954 - accuracy: 0.8126 - val_loss: 0.5958 - val_accuracy: 0.6600\n",
      "Epoch 6/28\n",
      "146/146 [==============================] - 26s 175ms/step - loss: 0.3738 - accuracy: 0.8192 - val_loss: 0.7553 - val_accuracy: 0.6900\n",
      "Epoch 7/28\n",
      "146/146 [==============================] - 25s 175ms/step - loss: 0.3600 - accuracy: 0.8299 - val_loss: 0.8683 - val_accuracy: 0.6700\n",
      "Epoch 8/28\n",
      "146/146 [==============================] - 25s 174ms/step - loss: 0.3436 - accuracy: 0.8378 - val_loss: 0.5457 - val_accuracy: 0.7800\n",
      "Epoch 9/28\n",
      "146/146 [==============================] - 26s 175ms/step - loss: 0.3111 - accuracy: 0.8627 - val_loss: 0.5100 - val_accuracy: 0.7300\n",
      "Epoch 10/28\n",
      "146/146 [==============================] - 26s 175ms/step - loss: 0.3040 - accuracy: 0.8548 - val_loss: 1.4250 - val_accuracy: 0.6100\n",
      "Epoch 11/28\n",
      "146/146 [==============================] - 25s 175ms/step - loss: 0.3007 - accuracy: 0.8678 - val_loss: 0.4459 - val_accuracy: 0.7900\n",
      "Epoch 12/28\n",
      "146/146 [==============================] - 25s 174ms/step - loss: 0.2905 - accuracy: 0.8732 - val_loss: 0.9249 - val_accuracy: 0.6400\n",
      "Epoch 13/28\n",
      "146/146 [==============================] - 25s 174ms/step - loss: 0.2622 - accuracy: 0.8852 - val_loss: 0.6115 - val_accuracy: 0.7300\n",
      "Epoch 14/28\n",
      "146/146 [==============================] - 25s 174ms/step - loss: 0.2563 - accuracy: 0.8854 - val_loss: 1.1877 - val_accuracy: 0.6400\n",
      "Epoch 15/28\n",
      "146/146 [==============================] - 25s 175ms/step - loss: 0.2447 - accuracy: 0.8961 - val_loss: 0.4455 - val_accuracy: 0.8200\n",
      "Epoch 16/28\n",
      "146/146 [==============================] - 25s 174ms/step - loss: 0.2395 - accuracy: 0.8982 - val_loss: 0.3766 - val_accuracy: 0.8000\n",
      "Epoch 17/28\n",
      "146/146 [==============================] - 26s 175ms/step - loss: 0.2082 - accuracy: 0.9117 - val_loss: 1.0615 - val_accuracy: 0.6500\n",
      "Epoch 18/28\n",
      "146/146 [==============================] - 25s 174ms/step - loss: 0.2102 - accuracy: 0.9158 - val_loss: 1.0815 - val_accuracy: 0.6100\n",
      "Epoch 19/28\n",
      "146/146 [==============================] - 25s 174ms/step - loss: 0.2208 - accuracy: 0.9096 - val_loss: 0.5483 - val_accuracy: 0.7700\n",
      "Epoch 20/28\n",
      "146/146 [==============================] - 25s 174ms/step - loss: 0.1722 - accuracy: 0.9302 - val_loss: 0.9076 - val_accuracy: 0.7800\n",
      "Epoch 21/28\n",
      "146/146 [==============================] - 25s 174ms/step - loss: 0.1740 - accuracy: 0.9289 - val_loss: 3.5507 - val_accuracy: 0.6500\n",
      "Epoch 22/28\n",
      "146/146 [==============================] - 25s 174ms/step - loss: 0.1631 - accuracy: 0.9310 - val_loss: 1.0847 - val_accuracy: 0.7400\n",
      "Epoch 23/28\n",
      "146/146 [==============================] - 25s 174ms/step - loss: 0.1512 - accuracy: 0.9370 - val_loss: 0.4558 - val_accuracy: 0.8300\n",
      "Epoch 24/28\n",
      "146/146 [==============================] - 25s 174ms/step - loss: 0.1553 - accuracy: 0.9404 - val_loss: 0.7515 - val_accuracy: 0.7900\n",
      "Epoch 25/28\n",
      "146/146 [==============================] - 25s 174ms/step - loss: 0.1347 - accuracy: 0.9439 - val_loss: 0.4674 - val_accuracy: 0.8500\n",
      "Epoch 26/28\n",
      "146/146 [==============================] - 25s 174ms/step - loss: 0.1457 - accuracy: 0.9411 - val_loss: 0.5360 - val_accuracy: 0.7700\n",
      "Epoch 27/28\n",
      "146/146 [==============================] - 25s 174ms/step - loss: 0.1507 - accuracy: 0.9413 - val_loss: 1.7045 - val_accuracy: 0.6400\n",
      "Epoch 28/28\n",
      "146/146 [==============================] - 25s 174ms/step - loss: 0.1455 - accuracy: 0.9404 - val_loss: 0.6509 - val_accuracy: 0.8000\n",
      "\n",
      "-----Model evaluation on test data-----\n",
      "38/38 [==============================] - 2s 49ms/step - loss: 0.6168 - accuracy: 0.7389\n",
      "Test Error Rate:  26.11\n",
      "AUC:  0.8668\n",
      "\n"
     ]
    },
    {
     "data": {
      "text/html": [
       "Waiting for W&B process to finish... <strong style=\"color:green\">(success).</strong>"
      ],
      "text/plain": [
       "<IPython.core.display.HTML object>"
      ]
     },
     "metadata": {},
     "output_type": "display_data"
    },
    {
     "data": {
      "application/vnd.jupyter.widget-view+json": {
       "model_id": "",
       "version_major": 2,
       "version_minor": 0
      },
      "text/plain": [
       "VBox(children=(Label(value='0.004 MB of 0.004 MB uploaded (0.000 MB deduped)\\r'), FloatProgress(value=1.0, max…"
      ]
     },
     "metadata": {},
     "output_type": "display_data"
    },
    {
     "data": {
      "text/html": [
       "<style>\n",
       "    table.wandb td:nth-child(1) { padding: 0 10px; text-align: right }\n",
       "    .wandb-row { display: flex; flex-direction: row; flex-wrap: wrap; width: 100% }\n",
       "    .wandb-col { display: flex; flex-direction: column; flex-basis: 100%; flex: 1; padding: 10px; }\n",
       "    </style>\n",
       "<div class=\"wandb-row\"><div class=\"wandb-col\"><h3>Run history:</h3><br/><table class=\"wandb\"><tr><td>AUC</td><td>▁</td></tr><tr><td>Test Error Rate</td><td>▁</td></tr><tr><td>accuracy</td><td>▁▃▃▄▄▅▅▅▆▆▆▆▆▆▇▇▇▇▇█████████</td></tr><tr><td>epoch</td><td>▁▁▂▂▂▂▃▃▃▃▄▄▄▄▅▅▅▅▆▆▆▆▇▇▇▇██</td></tr><tr><td>loss</td><td>█▃▃▂▂▂▂▂▂▂▂▂▂▂▂▁▁▁▁▁▁▁▁▁▁▁▁▁</td></tr><tr><td>val_accuracy</td><td>▁▅▃▁▄▅▄▇▆▃▇▄▆▄▇▇▄▃▆▇▄▆█▇█▆▄▇</td></tr><tr><td>val_loss</td><td>▃▂▂▇▁▂▂▁▁▃▁▂▂▃▁▁▃▃▁▂█▃▁▂▁▁▄▂</td></tr></table><br/></div><div class=\"wandb-col\"><h3>Run summary:</h3><br/><table class=\"wandb\"><tr><td>AUC</td><td>0.8668</td></tr><tr><td>Test Error Rate</td><td>26.11</td></tr><tr><td>accuracy</td><td>0.94045</td></tr><tr><td>best_epoch</td><td>15</td></tr><tr><td>best_val_loss</td><td>0.37658</td></tr><tr><td>epoch</td><td>27</td></tr><tr><td>loss</td><td>0.1455</td></tr><tr><td>val_accuracy</td><td>0.8</td></tr><tr><td>val_loss</td><td>0.65085</td></tr></table><br/></div></div>"
      ],
      "text/plain": [
       "<IPython.core.display.HTML object>"
      ]
     },
     "metadata": {},
     "output_type": "display_data"
    },
    {
     "data": {
      "text/html": [
       "Synced <strong style=\"color:#cdcd00\">morning-sweep-10</strong>: <a href=\"https://wandb.ai/ishadowstormi/Coronary%20angiography%20network/runs/zomqj0ut\" target=\"_blank\">https://wandb.ai/ishadowstormi/Coronary%20angiography%20network/runs/zomqj0ut</a><br/>Synced 5 W&B file(s), 1 media file(s), 0 artifact file(s) and 0 other file(s)"
      ],
      "text/plain": [
       "<IPython.core.display.HTML object>"
      ]
     },
     "metadata": {},
     "output_type": "display_data"
    },
    {
     "data": {
      "text/html": [
       "Find logs at: <code>./wandb/run-20220324_004031-zomqj0ut/logs</code>"
      ],
      "text/plain": [
       "<IPython.core.display.HTML object>"
      ]
     },
     "metadata": {},
     "output_type": "display_data"
    },
    {
     "name": "stderr",
     "output_type": "stream",
     "text": [
      "\u001b[34m\u001b[1mwandb\u001b[0m: Sweep Agent: Waiting for job.\n",
      "\u001b[34m\u001b[1mwandb\u001b[0m: Job received.\n",
      "\u001b[34m\u001b[1mwandb\u001b[0m: Agent Starting Run: 7zzik9mq with config:\n",
      "\u001b[34m\u001b[1mwandb\u001b[0m: \tbatch_size: 32\n",
      "\u001b[34m\u001b[1mwandb\u001b[0m: \tconv_layer1: 16\n",
      "\u001b[34m\u001b[1mwandb\u001b[0m: \tconv_layer2: 64\n",
      "\u001b[34m\u001b[1mwandb\u001b[0m: \tconv_layer3: 64\n",
      "\u001b[34m\u001b[1mwandb\u001b[0m: \tconv_layer4: 128\n",
      "\u001b[34m\u001b[1mwandb\u001b[0m: \tdense: 512\n",
      "Failed to detect the name of this notebook, you can set it manually with the WANDB_NOTEBOOK_NAME environment variable to enable code saving.\n"
     ]
    },
    {
     "data": {
      "text/html": [
       "Tracking run with wandb version 0.12.11"
      ],
      "text/plain": [
       "<IPython.core.display.HTML object>"
      ]
     },
     "metadata": {},
     "output_type": "display_data"
    },
    {
     "data": {
      "text/html": [
       "Run data is saved locally in <code>/home/jovyan/data/lightning/FrantisekUrban/wandb/run-20220324_005255-7zzik9mq</code>"
      ],
      "text/plain": [
       "<IPython.core.display.HTML object>"
      ]
     },
     "metadata": {},
     "output_type": "display_data"
    },
    {
     "data": {
      "text/html": [
       "Syncing run <strong><a href=\"https://wandb.ai/ishadowstormi/Coronary%20angiography%20network/runs/7zzik9mq\" target=\"_blank\">hopeful-sweep-11</a></strong> to <a href=\"https://wandb.ai/ishadowstormi/Coronary%20angiography%20network\" target=\"_blank\">Weights & Biases</a> (<a href=\"https://wandb.me/run\" target=\"_blank\">docs</a>)<br/>Sweep page:  <a href=\"https://wandb.ai/ishadowstormi/Coronary%20angiography%20network/sweeps/wco4rtlh\" target=\"_blank\">https://wandb.ai/ishadowstormi/Coronary%20angiography%20network/sweeps/wco4rtlh</a>"
      ],
      "text/plain": [
       "<IPython.core.display.HTML object>"
      ]
     },
     "metadata": {},
     "output_type": "display_data"
    },
    {
     "name": "stdout",
     "output_type": "stream",
     "text": [
      "Epoch 1/28\n",
      "  2/146 [..............................] - ETA: 14s - loss: 2.1858 - accuracy: 0.5781WARNING:tensorflow:Callbacks method `on_train_batch_end` is slow compared to the batch time (batch time: 0.0665s vs `on_train_batch_end` time: 0.1278s). Check your callbacks.\n",
      "146/146 [==============================] - 26s 181ms/step - loss: 2.8415 - accuracy: 0.6748 - val_loss: 4.8591 - val_accuracy: 0.5100\n",
      "Epoch 2/28\n",
      "146/146 [==============================] - 26s 178ms/step - loss: 0.5743 - accuracy: 0.7258 - val_loss: 0.8969 - val_accuracy: 0.5400\n",
      "Epoch 3/28\n",
      "146/146 [==============================] - 26s 179ms/step - loss: 0.4726 - accuracy: 0.7738 - val_loss: 0.5802 - val_accuracy: 0.7000\n",
      "Epoch 4/28\n",
      "146/146 [==============================] - 26s 179ms/step - loss: 0.4460 - accuracy: 0.7883 - val_loss: 0.8458 - val_accuracy: 0.6100\n",
      "Epoch 5/28\n",
      "146/146 [==============================] - 26s 179ms/step - loss: 0.4266 - accuracy: 0.8046 - val_loss: 4.4225 - val_accuracy: 0.5600\n",
      "Epoch 6/28\n",
      "146/146 [==============================] - 26s 179ms/step - loss: 0.3816 - accuracy: 0.8297 - val_loss: 0.8345 - val_accuracy: 0.7100\n",
      "Epoch 7/28\n",
      "146/146 [==============================] - 26s 179ms/step - loss: 0.3749 - accuracy: 0.8235 - val_loss: 2.1490 - val_accuracy: 0.5300\n",
      "Epoch 8/28\n",
      "146/146 [==============================] - 26s 179ms/step - loss: 0.3812 - accuracy: 0.8293 - val_loss: 1.2563 - val_accuracy: 0.5800\n",
      "Epoch 9/28\n",
      "146/146 [==============================] - 26s 179ms/step - loss: 0.3388 - accuracy: 0.8419 - val_loss: 0.6889 - val_accuracy: 0.6900\n",
      "Epoch 10/28\n",
      "146/146 [==============================] - 26s 179ms/step - loss: 0.3261 - accuracy: 0.8515 - val_loss: 0.5530 - val_accuracy: 0.7800\n",
      "Epoch 11/28\n",
      "146/146 [==============================] - 26s 179ms/step - loss: 0.3091 - accuracy: 0.8627 - val_loss: 0.4351 - val_accuracy: 0.7300\n",
      "Epoch 12/28\n",
      "146/146 [==============================] - 26s 179ms/step - loss: 0.2989 - accuracy: 0.8732 - val_loss: 1.0230 - val_accuracy: 0.6700\n",
      "Epoch 13/28\n",
      "146/146 [==============================] - 26s 179ms/step - loss: 0.2824 - accuracy: 0.8779 - val_loss: 0.7745 - val_accuracy: 0.7400\n",
      "Epoch 14/28\n",
      "146/146 [==============================] - 26s 180ms/step - loss: 0.2812 - accuracy: 0.8772 - val_loss: 2.3236 - val_accuracy: 0.6200\n",
      "Epoch 15/28\n",
      "146/146 [==============================] - 26s 179ms/step - loss: 0.2489 - accuracy: 0.8886 - val_loss: 0.5818 - val_accuracy: 0.8000\n",
      "Epoch 16/28\n",
      "146/146 [==============================] - 26s 179ms/step - loss: 0.2785 - accuracy: 0.8783 - val_loss: 0.8408 - val_accuracy: 0.5900\n",
      "Epoch 17/28\n",
      "146/146 [==============================] - 26s 179ms/step - loss: 0.2353 - accuracy: 0.8993 - val_loss: 1.0822 - val_accuracy: 0.7900\n",
      "Epoch 18/28\n",
      "146/146 [==============================] - 26s 179ms/step - loss: 0.2593 - accuracy: 0.8888 - val_loss: 0.4576 - val_accuracy: 0.8100\n",
      "Epoch 19/28\n",
      "146/146 [==============================] - 26s 179ms/step - loss: 0.2442 - accuracy: 0.8974 - val_loss: 1.0770 - val_accuracy: 0.7600\n",
      "Epoch 20/28\n",
      "146/146 [==============================] - 26s 179ms/step - loss: 0.2493 - accuracy: 0.8959 - val_loss: 2.6358 - val_accuracy: 0.5400\n",
      "Epoch 21/28\n",
      "146/146 [==============================] - 26s 179ms/step - loss: 0.2430 - accuracy: 0.8987 - val_loss: 0.7076 - val_accuracy: 0.7200\n",
      "Epoch 22/28\n",
      "146/146 [==============================] - 26s 179ms/step - loss: 0.2097 - accuracy: 0.9075 - val_loss: 3.9629 - val_accuracy: 0.5600\n",
      "Epoch 23/28\n",
      "146/146 [==============================] - 26s 179ms/step - loss: 0.2032 - accuracy: 0.9214 - val_loss: 13.0718 - val_accuracy: 0.5100\n",
      "Epoch 24/28\n",
      "146/146 [==============================] - 26s 179ms/step - loss: 0.2627 - accuracy: 0.8839 - val_loss: 0.5433 - val_accuracy: 0.8000\n",
      "Epoch 25/28\n",
      "146/146 [==============================] - 26s 179ms/step - loss: 0.1882 - accuracy: 0.9190 - val_loss: 0.4471 - val_accuracy: 0.8500\n",
      "Epoch 26/28\n",
      "146/146 [==============================] - 26s 179ms/step - loss: 0.1605 - accuracy: 0.9338 - val_loss: 0.9028 - val_accuracy: 0.7800\n",
      "Epoch 27/28\n",
      "146/146 [==============================] - 26s 179ms/step - loss: 0.1652 - accuracy: 0.9289 - val_loss: 0.5090 - val_accuracy: 0.7800\n",
      "Epoch 28/28\n",
      "146/146 [==============================] - 26s 179ms/step - loss: 0.1709 - accuracy: 0.9272 - val_loss: 0.9488 - val_accuracy: 0.7600\n",
      "\n",
      "-----Model evaluation on test data-----\n",
      "38/38 [==============================] - 2s 52ms/step - loss: 1.3166 - accuracy: 0.6961\n",
      "Test Error Rate:  30.39\n",
      "AUC:  0.8513\n",
      "\n"
     ]
    },
    {
     "data": {
      "text/html": [
       "Waiting for W&B process to finish... <strong style=\"color:green\">(success).</strong>"
      ],
      "text/plain": [
       "<IPython.core.display.HTML object>"
      ]
     },
     "metadata": {},
     "output_type": "display_data"
    },
    {
     "data": {
      "application/vnd.jupyter.widget-view+json": {
       "model_id": "",
       "version_major": 2,
       "version_minor": 0
      },
      "text/plain": [
       "VBox(children=(Label(value='0.004 MB of 0.004 MB uploaded (0.000 MB deduped)\\r'), FloatProgress(value=1.0, max…"
      ]
     },
     "metadata": {},
     "output_type": "display_data"
    },
    {
     "data": {
      "text/html": [
       "<style>\n",
       "    table.wandb td:nth-child(1) { padding: 0 10px; text-align: right }\n",
       "    .wandb-row { display: flex; flex-direction: row; flex-wrap: wrap; width: 100% }\n",
       "    .wandb-col { display: flex; flex-direction: column; flex-basis: 100%; flex: 1; padding: 10px; }\n",
       "    </style>\n",
       "<div class=\"wandb-row\"><div class=\"wandb-col\"><h3>Run history:</h3><br/><table class=\"wandb\"><tr><td>AUC</td><td>▁</td></tr><tr><td>Test Error Rate</td><td>▁</td></tr><tr><td>accuracy</td><td>▁▂▄▄▅▅▅▅▆▆▆▆▆▆▇▇▇▇▇▇▇▇█▇████</td></tr><tr><td>epoch</td><td>▁▁▂▂▂▂▃▃▃▃▄▄▄▄▅▅▅▅▆▆▆▆▇▇▇▇██</td></tr><tr><td>loss</td><td>█▂▂▂▂▂▂▂▁▁▁▁▁▁▁▁▁▁▁▁▁▁▁▁▁▁▁▁</td></tr><tr><td>val_accuracy</td><td>▁▂▅▃▂▅▁▂▅▇▆▄▆▃▇▃▇▇▆▂▅▂▁▇█▇▇▆</td></tr><tr><td>val_loss</td><td>▃▁▁▁▃▁▂▁▁▁▁▁▁▂▁▁▁▁▁▂▁▃█▁▁▁▁▁</td></tr></table><br/></div><div class=\"wandb-col\"><h3>Run summary:</h3><br/><table class=\"wandb\"><tr><td>AUC</td><td>0.8513</td></tr><tr><td>Test Error Rate</td><td>30.39</td></tr><tr><td>accuracy</td><td>0.92716</td></tr><tr><td>best_epoch</td><td>10</td></tr><tr><td>best_val_loss</td><td>0.43508</td></tr><tr><td>epoch</td><td>27</td></tr><tr><td>loss</td><td>0.17094</td></tr><tr><td>val_accuracy</td><td>0.76</td></tr><tr><td>val_loss</td><td>0.94884</td></tr></table><br/></div></div>"
      ],
      "text/plain": [
       "<IPython.core.display.HTML object>"
      ]
     },
     "metadata": {},
     "output_type": "display_data"
    },
    {
     "data": {
      "text/html": [
       "Synced <strong style=\"color:#cdcd00\">hopeful-sweep-11</strong>: <a href=\"https://wandb.ai/ishadowstormi/Coronary%20angiography%20network/runs/7zzik9mq\" target=\"_blank\">https://wandb.ai/ishadowstormi/Coronary%20angiography%20network/runs/7zzik9mq</a><br/>Synced 5 W&B file(s), 1 media file(s), 0 artifact file(s) and 0 other file(s)"
      ],
      "text/plain": [
       "<IPython.core.display.HTML object>"
      ]
     },
     "metadata": {},
     "output_type": "display_data"
    },
    {
     "data": {
      "text/html": [
       "Find logs at: <code>./wandb/run-20220324_005255-7zzik9mq/logs</code>"
      ],
      "text/plain": [
       "<IPython.core.display.HTML object>"
      ]
     },
     "metadata": {},
     "output_type": "display_data"
    },
    {
     "name": "stderr",
     "output_type": "stream",
     "text": [
      "\u001b[34m\u001b[1mwandb\u001b[0m: Agent Starting Run: galu4gub with config:\n",
      "\u001b[34m\u001b[1mwandb\u001b[0m: \tbatch_size: 32\n",
      "\u001b[34m\u001b[1mwandb\u001b[0m: \tconv_layer1: 16\n",
      "\u001b[34m\u001b[1mwandb\u001b[0m: \tconv_layer2: 64\n",
      "\u001b[34m\u001b[1mwandb\u001b[0m: \tconv_layer3: 64\n",
      "\u001b[34m\u001b[1mwandb\u001b[0m: \tconv_layer4: 128\n",
      "\u001b[34m\u001b[1mwandb\u001b[0m: \tdense: 1024\n",
      "Failed to detect the name of this notebook, you can set it manually with the WANDB_NOTEBOOK_NAME environment variable to enable code saving.\n"
     ]
    },
    {
     "data": {
      "text/html": [
       "Tracking run with wandb version 0.12.11"
      ],
      "text/plain": [
       "<IPython.core.display.HTML object>"
      ]
     },
     "metadata": {},
     "output_type": "display_data"
    },
    {
     "data": {
      "text/html": [
       "Run data is saved locally in <code>/home/jovyan/data/lightning/FrantisekUrban/wandb/run-20220324_010531-galu4gub</code>"
      ],
      "text/plain": [
       "<IPython.core.display.HTML object>"
      ]
     },
     "metadata": {},
     "output_type": "display_data"
    },
    {
     "data": {
      "text/html": [
       "Syncing run <strong><a href=\"https://wandb.ai/ishadowstormi/Coronary%20angiography%20network/runs/galu4gub\" target=\"_blank\">apricot-sweep-12</a></strong> to <a href=\"https://wandb.ai/ishadowstormi/Coronary%20angiography%20network\" target=\"_blank\">Weights & Biases</a> (<a href=\"https://wandb.me/run\" target=\"_blank\">docs</a>)<br/>Sweep page:  <a href=\"https://wandb.ai/ishadowstormi/Coronary%20angiography%20network/sweeps/wco4rtlh\" target=\"_blank\">https://wandb.ai/ishadowstormi/Coronary%20angiography%20network/sweeps/wco4rtlh</a>"
      ],
      "text/plain": [
       "<IPython.core.display.HTML object>"
      ]
     },
     "metadata": {},
     "output_type": "display_data"
    },
    {
     "name": "stdout",
     "output_type": "stream",
     "text": [
      "Epoch 1/28\n",
      "  2/146 [..............................] - ETA: 13s - loss: 10.5367 - accuracy: 0.4219WARNING:tensorflow:Callbacks method `on_train_batch_end` is slow compared to the batch time (batch time: 0.0652s vs `on_train_batch_end` time: 0.1246s). Check your callbacks.\n",
      "146/146 [==============================] - 27s 182ms/step - loss: 4.2610 - accuracy: 0.6395 - val_loss: 2.6129 - val_accuracy: 0.6800\n",
      "Epoch 2/28\n",
      "146/146 [==============================] - 26s 181ms/step - loss: 0.9670 - accuracy: 0.6872 - val_loss: 0.6127 - val_accuracy: 0.6600\n",
      "Epoch 3/28\n",
      "146/146 [==============================] - 26s 181ms/step - loss: 0.5357 - accuracy: 0.7335 - val_loss: 0.9116 - val_accuracy: 0.6100\n",
      "Epoch 4/28\n",
      "146/146 [==============================] - 26s 181ms/step - loss: 0.4960 - accuracy: 0.7551 - val_loss: 0.6029 - val_accuracy: 0.6600\n",
      "Epoch 5/28\n",
      "146/146 [==============================] - 27s 182ms/step - loss: 0.4601 - accuracy: 0.7796 - val_loss: 0.8334 - val_accuracy: 0.5700\n",
      "Epoch 6/28\n",
      "146/146 [==============================] - 26s 181ms/step - loss: 0.4251 - accuracy: 0.7965 - val_loss: 2.2742 - val_accuracy: 0.5600\n",
      "Epoch 7/28\n",
      "146/146 [==============================] - 27s 182ms/step - loss: 0.4040 - accuracy: 0.8068 - val_loss: 0.8601 - val_accuracy: 0.6400\n",
      "Epoch 8/28\n",
      "146/146 [==============================] - 26s 181ms/step - loss: 0.3912 - accuracy: 0.8168 - val_loss: 1.0189 - val_accuracy: 0.6300\n",
      "Epoch 9/28\n",
      "146/146 [==============================] - 26s 181ms/step - loss: 0.3711 - accuracy: 0.8267 - val_loss: 3.2022 - val_accuracy: 0.5000\n",
      "Epoch 10/28\n",
      "146/146 [==============================] - 26s 181ms/step - loss: 0.3443 - accuracy: 0.8400 - val_loss: 2.2399 - val_accuracy: 0.5200\n",
      "Epoch 11/28\n",
      "146/146 [==============================] - 26s 181ms/step - loss: 0.3389 - accuracy: 0.8423 - val_loss: 0.5140 - val_accuracy: 0.7600\n",
      "Epoch 12/28\n",
      "146/146 [==============================] - 26s 181ms/step - loss: 0.3008 - accuracy: 0.8674 - val_loss: 1.1502 - val_accuracy: 0.5500\n",
      "Epoch 13/28\n",
      "146/146 [==============================] - 26s 181ms/step - loss: 0.3115 - accuracy: 0.8627 - val_loss: 0.6913 - val_accuracy: 0.7300\n",
      "Epoch 14/28\n",
      "146/146 [==============================] - 27s 182ms/step - loss: 0.3015 - accuracy: 0.8717 - val_loss: 0.8231 - val_accuracy: 0.7300\n",
      "Epoch 15/28\n",
      "146/146 [==============================] - 27s 182ms/step - loss: 0.2955 - accuracy: 0.8710 - val_loss: 0.6789 - val_accuracy: 0.7400\n",
      "Epoch 16/28\n",
      "146/146 [==============================] - 26s 181ms/step - loss: 0.2783 - accuracy: 0.8826 - val_loss: 0.4254 - val_accuracy: 0.7800\n",
      "Epoch 17/28\n",
      "146/146 [==============================] - 26s 181ms/step - loss: 0.2596 - accuracy: 0.8856 - val_loss: 0.5787 - val_accuracy: 0.7800\n",
      "Epoch 18/28\n",
      "146/146 [==============================] - 26s 181ms/step - loss: 0.2501 - accuracy: 0.8899 - val_loss: 0.5483 - val_accuracy: 0.8000\n",
      "Epoch 19/28\n",
      "146/146 [==============================] - 26s 181ms/step - loss: 0.2395 - accuracy: 0.8980 - val_loss: 0.5932 - val_accuracy: 0.8000\n",
      "Epoch 20/28\n",
      "146/146 [==============================] - 26s 181ms/step - loss: 0.2495 - accuracy: 0.8972 - val_loss: 1.3264 - val_accuracy: 0.7200\n",
      "Epoch 21/28\n",
      "146/146 [==============================] - 26s 181ms/step - loss: 0.2273 - accuracy: 0.8997 - val_loss: 1.0983 - val_accuracy: 0.6600\n",
      "Epoch 22/28\n",
      "146/146 [==============================] - 26s 181ms/step - loss: 0.2278 - accuracy: 0.9057 - val_loss: 0.6755 - val_accuracy: 0.8100\n",
      "Epoch 23/28\n",
      "146/146 [==============================] - 26s 181ms/step - loss: 0.2005 - accuracy: 0.9207 - val_loss: 1.0735 - val_accuracy: 0.7700\n",
      "Epoch 24/28\n",
      "146/146 [==============================] - 26s 181ms/step - loss: 0.2147 - accuracy: 0.9100 - val_loss: 1.7161 - val_accuracy: 0.6000\n",
      "Epoch 25/28\n",
      "146/146 [==============================] - 26s 181ms/step - loss: 0.1875 - accuracy: 0.9233 - val_loss: 0.6094 - val_accuracy: 0.8300\n",
      "Epoch 26/28\n",
      "146/146 [==============================] - 26s 181ms/step - loss: 0.1850 - accuracy: 0.9240 - val_loss: 0.5844 - val_accuracy: 0.7800\n",
      "Epoch 27/28\n",
      "146/146 [==============================] - 26s 181ms/step - loss: 0.1856 - accuracy: 0.9248 - val_loss: 0.4878 - val_accuracy: 0.8900\n",
      "Epoch 28/28\n",
      "146/146 [==============================] - 26s 181ms/step - loss: 0.1654 - accuracy: 0.9332 - val_loss: 3.6528 - val_accuracy: 0.5600\n",
      "\n",
      "-----Model evaluation on test data-----\n",
      "38/38 [==============================] - 2s 51ms/step - loss: 0.8121 - accuracy: 0.8892\n",
      "Test Error Rate:  11.08\n",
      "AUC:  0.661\n",
      "\n"
     ]
    },
    {
     "data": {
      "text/html": [
       "Waiting for W&B process to finish... <strong style=\"color:green\">(success).</strong>"
      ],
      "text/plain": [
       "<IPython.core.display.HTML object>"
      ]
     },
     "metadata": {},
     "output_type": "display_data"
    },
    {
     "data": {
      "application/vnd.jupyter.widget-view+json": {
       "model_id": "",
       "version_major": 2,
       "version_minor": 0
      },
      "text/plain": [
       "VBox(children=(Label(value='0.004 MB of 0.004 MB uploaded (0.000 MB deduped)\\r'), FloatProgress(value=1.0, max…"
      ]
     },
     "metadata": {},
     "output_type": "display_data"
    },
    {
     "data": {
      "text/html": [
       "<style>\n",
       "    table.wandb td:nth-child(1) { padding: 0 10px; text-align: right }\n",
       "    .wandb-row { display: flex; flex-direction: row; flex-wrap: wrap; width: 100% }\n",
       "    .wandb-col { display: flex; flex-direction: column; flex-basis: 100%; flex: 1; padding: 10px; }\n",
       "    </style>\n",
       "<div class=\"wandb-row\"><div class=\"wandb-col\"><h3>Run history:</h3><br/><table class=\"wandb\"><tr><td>AUC</td><td>▁</td></tr><tr><td>Test Error Rate</td><td>▁</td></tr><tr><td>accuracy</td><td>▁▂▃▄▄▅▅▅▅▆▆▆▆▇▇▇▇▇▇▇▇▇█▇████</td></tr><tr><td>epoch</td><td>▁▁▂▂▂▂▃▃▃▃▄▄▄▄▅▅▅▅▆▆▆▆▇▇▇▇██</td></tr><tr><td>loss</td><td>█▂▂▂▂▁▁▁▁▁▁▁▁▁▁▁▁▁▁▁▁▁▁▁▁▁▁▁</td></tr><tr><td>val_accuracy</td><td>▄▄▃▄▂▂▄▃▁▁▆▂▅▅▅▆▆▆▆▅▄▇▆▃▇▆█▂</td></tr><tr><td>val_loss</td><td>▆▁▂▁▂▅▂▂▇▅▁▃▂▂▂▁▁▁▁▃▂▂▂▄▁▁▁█</td></tr></table><br/></div><div class=\"wandb-col\"><h3>Run summary:</h3><br/><table class=\"wandb\"><tr><td>AUC</td><td>0.661</td></tr><tr><td>Test Error Rate</td><td>11.08</td></tr><tr><td>accuracy</td><td>0.93316</td></tr><tr><td>best_epoch</td><td>15</td></tr><tr><td>best_val_loss</td><td>0.42541</td></tr><tr><td>epoch</td><td>27</td></tr><tr><td>loss</td><td>0.16535</td></tr><tr><td>val_accuracy</td><td>0.56</td></tr><tr><td>val_loss</td><td>3.65282</td></tr></table><br/></div></div>"
      ],
      "text/plain": [
       "<IPython.core.display.HTML object>"
      ]
     },
     "metadata": {},
     "output_type": "display_data"
    },
    {
     "data": {
      "text/html": [
       "Synced <strong style=\"color:#cdcd00\">apricot-sweep-12</strong>: <a href=\"https://wandb.ai/ishadowstormi/Coronary%20angiography%20network/runs/galu4gub\" target=\"_blank\">https://wandb.ai/ishadowstormi/Coronary%20angiography%20network/runs/galu4gub</a><br/>Synced 5 W&B file(s), 1 media file(s), 0 artifact file(s) and 0 other file(s)"
      ],
      "text/plain": [
       "<IPython.core.display.HTML object>"
      ]
     },
     "metadata": {},
     "output_type": "display_data"
    },
    {
     "data": {
      "text/html": [
       "Find logs at: <code>./wandb/run-20220324_010531-galu4gub/logs</code>"
      ],
      "text/plain": [
       "<IPython.core.display.HTML object>"
      ]
     },
     "metadata": {},
     "output_type": "display_data"
    },
    {
     "name": "stderr",
     "output_type": "stream",
     "text": [
      "\u001b[34m\u001b[1mwandb\u001b[0m: Agent Starting Run: 3os9jfnz with config:\n",
      "\u001b[34m\u001b[1mwandb\u001b[0m: \tbatch_size: 32\n",
      "\u001b[34m\u001b[1mwandb\u001b[0m: \tconv_layer1: 16\n",
      "\u001b[34m\u001b[1mwandb\u001b[0m: \tconv_layer2: 64\n",
      "\u001b[34m\u001b[1mwandb\u001b[0m: \tconv_layer3: 128\n",
      "\u001b[34m\u001b[1mwandb\u001b[0m: \tconv_layer4: 64\n",
      "\u001b[34m\u001b[1mwandb\u001b[0m: \tdense: 512\n",
      "Failed to detect the name of this notebook, you can set it manually with the WANDB_NOTEBOOK_NAME environment variable to enable code saving.\n"
     ]
    },
    {
     "data": {
      "text/html": [
       "Tracking run with wandb version 0.12.11"
      ],
      "text/plain": [
       "<IPython.core.display.HTML object>"
      ]
     },
     "metadata": {},
     "output_type": "display_data"
    },
    {
     "data": {
      "text/html": [
       "Run data is saved locally in <code>/home/jovyan/data/lightning/FrantisekUrban/wandb/run-20220324_011819-3os9jfnz</code>"
      ],
      "text/plain": [
       "<IPython.core.display.HTML object>"
      ]
     },
     "metadata": {},
     "output_type": "display_data"
    },
    {
     "data": {
      "text/html": [
       "Syncing run <strong><a href=\"https://wandb.ai/ishadowstormi/Coronary%20angiography%20network/runs/3os9jfnz\" target=\"_blank\">volcanic-sweep-13</a></strong> to <a href=\"https://wandb.ai/ishadowstormi/Coronary%20angiography%20network\" target=\"_blank\">Weights & Biases</a> (<a href=\"https://wandb.me/run\" target=\"_blank\">docs</a>)<br/>Sweep page:  <a href=\"https://wandb.ai/ishadowstormi/Coronary%20angiography%20network/sweeps/wco4rtlh\" target=\"_blank\">https://wandb.ai/ishadowstormi/Coronary%20angiography%20network/sweeps/wco4rtlh</a>"
      ],
      "text/plain": [
       "<IPython.core.display.HTML object>"
      ]
     },
     "metadata": {},
     "output_type": "display_data"
    },
    {
     "name": "stdout",
     "output_type": "stream",
     "text": [
      "Epoch 1/28\n",
      "  2/146 [..............................] - ETA: 14s - loss: 6.4628 - accuracy: 0.5312WARNING:tensorflow:Callbacks method `on_train_batch_end` is slow compared to the batch time (batch time: 0.0695s vs `on_train_batch_end` time: 0.1250s). Check your callbacks.\n",
      "146/146 [==============================] - 28s 195ms/step - loss: 2.0240 - accuracy: 0.6677 - val_loss: 0.6323 - val_accuracy: 0.6200\n",
      "Epoch 2/28\n",
      "146/146 [==============================] - 28s 192ms/step - loss: 0.5426 - accuracy: 0.7273 - val_loss: 0.6537 - val_accuracy: 0.6500\n",
      "Epoch 3/28\n",
      "146/146 [==============================] - 28s 192ms/step - loss: 0.4979 - accuracy: 0.7575 - val_loss: 0.6490 - val_accuracy: 0.6600\n",
      "Epoch 4/28\n",
      "146/146 [==============================] - 28s 192ms/step - loss: 0.4903 - accuracy: 0.7667 - val_loss: 0.6145 - val_accuracy: 0.7000\n",
      "Epoch 5/28\n",
      "146/146 [==============================] - 28s 192ms/step - loss: 0.4519 - accuracy: 0.7875 - val_loss: 1.0577 - val_accuracy: 0.6100\n",
      "Epoch 6/28\n",
      "146/146 [==============================] - 28s 192ms/step - loss: 0.4548 - accuracy: 0.7768 - val_loss: 0.5981 - val_accuracy: 0.6500\n",
      "Epoch 7/28\n",
      "146/146 [==============================] - 28s 192ms/step - loss: 0.4164 - accuracy: 0.8016 - val_loss: 0.6412 - val_accuracy: 0.7200\n",
      "Epoch 8/28\n",
      "146/146 [==============================] - 28s 192ms/step - loss: 0.4000 - accuracy: 0.8254 - val_loss: 0.5841 - val_accuracy: 0.7100\n",
      "Epoch 9/28\n",
      "146/146 [==============================] - 28s 192ms/step - loss: 0.3628 - accuracy: 0.8295 - val_loss: 0.7423 - val_accuracy: 0.7100\n",
      "Epoch 10/28\n",
      "146/146 [==============================] - 28s 192ms/step - loss: 0.3659 - accuracy: 0.8355 - val_loss: 0.5445 - val_accuracy: 0.6900\n",
      "Epoch 11/28\n",
      "146/146 [==============================] - 28s 192ms/step - loss: 0.3434 - accuracy: 0.8505 - val_loss: 0.7717 - val_accuracy: 0.6900\n",
      "Epoch 12/28\n",
      "146/146 [==============================] - 28s 192ms/step - loss: 0.3279 - accuracy: 0.8453 - val_loss: 0.6607 - val_accuracy: 0.7100\n",
      "Epoch 13/28\n",
      "146/146 [==============================] - 28s 193ms/step - loss: 0.3230 - accuracy: 0.8507 - val_loss: 1.2142 - val_accuracy: 0.6900\n",
      "Epoch 14/28\n",
      "146/146 [==============================] - 28s 193ms/step - loss: 0.3062 - accuracy: 0.8670 - val_loss: 0.5323 - val_accuracy: 0.7500\n",
      "Epoch 15/28\n",
      "146/146 [==============================] - 28s 193ms/step - loss: 0.2978 - accuracy: 0.8745 - val_loss: 1.2934 - val_accuracy: 0.6100\n",
      "Epoch 16/28\n",
      "146/146 [==============================] - 28s 193ms/step - loss: 0.2792 - accuracy: 0.8764 - val_loss: 0.3017 - val_accuracy: 0.8800\n",
      "Epoch 17/28\n",
      "146/146 [==============================] - 28s 193ms/step - loss: 0.2656 - accuracy: 0.8832 - val_loss: 0.5257 - val_accuracy: 0.7500\n",
      "Epoch 18/28\n",
      "146/146 [==============================] - 28s 193ms/step - loss: 0.2556 - accuracy: 0.8886 - val_loss: 0.8399 - val_accuracy: 0.6900\n",
      "Epoch 19/28\n",
      "146/146 [==============================] - 28s 192ms/step - loss: 0.2541 - accuracy: 0.8843 - val_loss: 0.5931 - val_accuracy: 0.7400\n",
      "Epoch 20/28\n",
      "146/146 [==============================] - 28s 192ms/step - loss: 0.2264 - accuracy: 0.9023 - val_loss: 0.5803 - val_accuracy: 0.7600\n",
      "Epoch 21/28\n",
      "146/146 [==============================] - 28s 192ms/step - loss: 0.2596 - accuracy: 0.8912 - val_loss: 0.9295 - val_accuracy: 0.6500\n",
      "Epoch 22/28\n",
      "146/146 [==============================] - 28s 192ms/step - loss: 0.2122 - accuracy: 0.9135 - val_loss: 0.5001 - val_accuracy: 0.8300\n",
      "Epoch 23/28\n",
      "146/146 [==============================] - 28s 192ms/step - loss: 0.2055 - accuracy: 0.9115 - val_loss: 0.6334 - val_accuracy: 0.8600\n",
      "Epoch 24/28\n",
      "146/146 [==============================] - 28s 192ms/step - loss: 0.2024 - accuracy: 0.9128 - val_loss: 0.5202 - val_accuracy: 0.8700\n",
      "Epoch 25/28\n",
      "146/146 [==============================] - 28s 192ms/step - loss: 0.2144 - accuracy: 0.9141 - val_loss: 0.5063 - val_accuracy: 0.7900\n",
      "Epoch 26/28\n",
      "146/146 [==============================] - 28s 192ms/step - loss: 0.1762 - accuracy: 0.9265 - val_loss: 1.1657 - val_accuracy: 0.7900\n",
      "Epoch 27/28\n",
      "146/146 [==============================] - 28s 192ms/step - loss: 0.1948 - accuracy: 0.9218 - val_loss: 2.6940 - val_accuracy: 0.6600\n",
      "Epoch 28/28\n",
      "146/146 [==============================] - 28s 192ms/step - loss: 0.1808 - accuracy: 0.9222 - val_loss: 0.5637 - val_accuracy: 0.7700\n",
      "\n",
      "-----Model evaluation on test data-----\n",
      "38/38 [==============================] - 2s 55ms/step - loss: 0.8298 - accuracy: 0.6356\n",
      "Test Error Rate:  36.44\n",
      "AUC:  0.932\n",
      "\n"
     ]
    },
    {
     "data": {
      "text/html": [
       "Waiting for W&B process to finish... <strong style=\"color:green\">(success).</strong>"
      ],
      "text/plain": [
       "<IPython.core.display.HTML object>"
      ]
     },
     "metadata": {},
     "output_type": "display_data"
    },
    {
     "data": {
      "application/vnd.jupyter.widget-view+json": {
       "model_id": "",
       "version_major": 2,
       "version_minor": 0
      },
      "text/plain": [
       "VBox(children=(Label(value='0.004 MB of 0.004 MB uploaded (0.000 MB deduped)\\r'), FloatProgress(value=1.0, max…"
      ]
     },
     "metadata": {},
     "output_type": "display_data"
    },
    {
     "data": {
      "text/html": [
       "<style>\n",
       "    table.wandb td:nth-child(1) { padding: 0 10px; text-align: right }\n",
       "    .wandb-row { display: flex; flex-direction: row; flex-wrap: wrap; width: 100% }\n",
       "    .wandb-col { display: flex; flex-direction: column; flex-basis: 100%; flex: 1; padding: 10px; }\n",
       "    </style>\n",
       "<div class=\"wandb-row\"><div class=\"wandb-col\"><h3>Run history:</h3><br/><table class=\"wandb\"><tr><td>AUC</td><td>▁</td></tr><tr><td>Test Error Rate</td><td>▁</td></tr><tr><td>accuracy</td><td>▁▃▃▄▄▄▅▅▅▆▆▆▆▆▇▇▇▇▇▇▇███████</td></tr><tr><td>epoch</td><td>▁▁▂▂▂▂▃▃▃▃▄▄▄▄▅▅▅▅▆▆▆▆▇▇▇▇██</td></tr><tr><td>loss</td><td>█▂▂▂▂▂▂▂▂▂▂▂▂▁▁▁▁▁▁▁▁▁▁▁▁▁▁▁</td></tr><tr><td>val_accuracy</td><td>▁▂▂▃▁▂▄▄▄▃▃▄▃▅▁█▅▃▄▅▂▇▇█▆▆▂▅</td></tr><tr><td>val_loss</td><td>▂▂▂▂▃▂▂▂▂▂▂▂▄▂▄▁▂▃▂▂▃▂▂▂▂▄█▂</td></tr></table><br/></div><div class=\"wandb-col\"><h3>Run summary:</h3><br/><table class=\"wandb\"><tr><td>AUC</td><td>0.932</td></tr><tr><td>Test Error Rate</td><td>36.44</td></tr><tr><td>accuracy</td><td>0.92224</td></tr><tr><td>best_epoch</td><td>15</td></tr><tr><td>best_val_loss</td><td>0.30174</td></tr><tr><td>epoch</td><td>27</td></tr><tr><td>loss</td><td>0.18084</td></tr><tr><td>val_accuracy</td><td>0.77</td></tr><tr><td>val_loss</td><td>0.56368</td></tr></table><br/></div></div>"
      ],
      "text/plain": [
       "<IPython.core.display.HTML object>"
      ]
     },
     "metadata": {},
     "output_type": "display_data"
    },
    {
     "data": {
      "text/html": [
       "Synced <strong style=\"color:#cdcd00\">volcanic-sweep-13</strong>: <a href=\"https://wandb.ai/ishadowstormi/Coronary%20angiography%20network/runs/3os9jfnz\" target=\"_blank\">https://wandb.ai/ishadowstormi/Coronary%20angiography%20network/runs/3os9jfnz</a><br/>Synced 5 W&B file(s), 1 media file(s), 0 artifact file(s) and 0 other file(s)"
      ],
      "text/plain": [
       "<IPython.core.display.HTML object>"
      ]
     },
     "metadata": {},
     "output_type": "display_data"
    },
    {
     "data": {
      "text/html": [
       "Find logs at: <code>./wandb/run-20220324_011819-3os9jfnz/logs</code>"
      ],
      "text/plain": [
       "<IPython.core.display.HTML object>"
      ]
     },
     "metadata": {},
     "output_type": "display_data"
    },
    {
     "name": "stderr",
     "output_type": "stream",
     "text": [
      "\u001b[34m\u001b[1mwandb\u001b[0m: Agent Starting Run: yywj526g with config:\n",
      "\u001b[34m\u001b[1mwandb\u001b[0m: \tbatch_size: 32\n",
      "\u001b[34m\u001b[1mwandb\u001b[0m: \tconv_layer1: 16\n",
      "\u001b[34m\u001b[1mwandb\u001b[0m: \tconv_layer2: 64\n",
      "\u001b[34m\u001b[1mwandb\u001b[0m: \tconv_layer3: 128\n",
      "\u001b[34m\u001b[1mwandb\u001b[0m: \tconv_layer4: 64\n",
      "\u001b[34m\u001b[1mwandb\u001b[0m: \tdense: 1024\n",
      "Failed to detect the name of this notebook, you can set it manually with the WANDB_NOTEBOOK_NAME environment variable to enable code saving.\n"
     ]
    },
    {
     "data": {
      "text/html": [
       "Tracking run with wandb version 0.12.11"
      ],
      "text/plain": [
       "<IPython.core.display.HTML object>"
      ]
     },
     "metadata": {},
     "output_type": "display_data"
    },
    {
     "data": {
      "text/html": [
       "Run data is saved locally in <code>/home/jovyan/data/lightning/FrantisekUrban/wandb/run-20220324_013150-yywj526g</code>"
      ],
      "text/plain": [
       "<IPython.core.display.HTML object>"
      ]
     },
     "metadata": {},
     "output_type": "display_data"
    },
    {
     "data": {
      "text/html": [
       "Syncing run <strong><a href=\"https://wandb.ai/ishadowstormi/Coronary%20angiography%20network/runs/yywj526g\" target=\"_blank\">fiery-sweep-14</a></strong> to <a href=\"https://wandb.ai/ishadowstormi/Coronary%20angiography%20network\" target=\"_blank\">Weights & Biases</a> (<a href=\"https://wandb.me/run\" target=\"_blank\">docs</a>)<br/>Sweep page:  <a href=\"https://wandb.ai/ishadowstormi/Coronary%20angiography%20network/sweeps/wco4rtlh\" target=\"_blank\">https://wandb.ai/ishadowstormi/Coronary%20angiography%20network/sweeps/wco4rtlh</a>"
      ],
      "text/plain": [
       "<IPython.core.display.HTML object>"
      ]
     },
     "metadata": {},
     "output_type": "display_data"
    },
    {
     "name": "stdout",
     "output_type": "stream",
     "text": [
      "Epoch 1/28\n",
      "  2/146 [..............................] - ETA: 15s - loss: 16.1927 - accuracy: 0.3594WARNING:tensorflow:Callbacks method `on_train_batch_end` is slow compared to the batch time (batch time: 0.0770s vs `on_train_batch_end` time: 0.1361s). Check your callbacks.\n",
      "146/146 [==============================] - 28s 195ms/step - loss: 1.9604 - accuracy: 0.6710 - val_loss: 0.8698 - val_accuracy: 0.6200\n",
      "Epoch 2/28\n",
      "146/146 [==============================] - 28s 193ms/step - loss: 0.5991 - accuracy: 0.7121 - val_loss: 0.6600 - val_accuracy: 0.6600\n",
      "Epoch 3/28\n",
      "146/146 [==============================] - 28s 193ms/step - loss: 0.4939 - accuracy: 0.7541 - val_loss: 0.7554 - val_accuracy: 0.6400\n",
      "Epoch 4/28\n",
      "146/146 [==============================] - 28s 193ms/step - loss: 0.4801 - accuracy: 0.7721 - val_loss: 0.8192 - val_accuracy: 0.5400\n",
      "Epoch 5/28\n",
      "146/146 [==============================] - 28s 193ms/step - loss: 0.4790 - accuracy: 0.7616 - val_loss: 0.9210 - val_accuracy: 0.6100\n",
      "Epoch 6/28\n",
      "146/146 [==============================] - 28s 193ms/step - loss: 0.4628 - accuracy: 0.7804 - val_loss: 0.5836 - val_accuracy: 0.6600\n",
      "Epoch 7/28\n",
      "146/146 [==============================] - 28s 193ms/step - loss: 0.4119 - accuracy: 0.8106 - val_loss: 0.8803 - val_accuracy: 0.6700\n",
      "Epoch 8/28\n",
      "146/146 [==============================] - 28s 193ms/step - loss: 0.3975 - accuracy: 0.8149 - val_loss: 1.0521 - val_accuracy: 0.5500\n",
      "Epoch 9/28\n",
      "146/146 [==============================] - 28s 193ms/step - loss: 0.3804 - accuracy: 0.8241 - val_loss: 1.9335 - val_accuracy: 0.5200\n",
      "Epoch 10/28\n",
      "146/146 [==============================] - 28s 193ms/step - loss: 0.3638 - accuracy: 0.8331 - val_loss: 0.6737 - val_accuracy: 0.7100\n",
      "Epoch 11/28\n",
      "146/146 [==============================] - 28s 193ms/step - loss: 0.3399 - accuracy: 0.8475 - val_loss: 0.6247 - val_accuracy: 0.7300\n",
      "Epoch 12/28\n",
      "146/146 [==============================] - 28s 193ms/step - loss: 0.3300 - accuracy: 0.8545 - val_loss: 0.7544 - val_accuracy: 0.7200\n",
      "Epoch 13/28\n",
      "146/146 [==============================] - 28s 193ms/step - loss: 0.3088 - accuracy: 0.8668 - val_loss: 0.5753 - val_accuracy: 0.7700\n",
      "Epoch 14/28\n",
      "146/146 [==============================] - 28s 193ms/step - loss: 0.2754 - accuracy: 0.8762 - val_loss: 0.7907 - val_accuracy: 0.6400\n",
      "Epoch 15/28\n",
      "146/146 [==============================] - 28s 193ms/step - loss: 0.2605 - accuracy: 0.8852 - val_loss: 0.5226 - val_accuracy: 0.7600\n",
      "Epoch 16/28\n",
      "146/146 [==============================] - 28s 193ms/step - loss: 0.2438 - accuracy: 0.8933 - val_loss: 0.8802 - val_accuracy: 0.7100\n",
      "Epoch 17/28\n",
      "146/146 [==============================] - 28s 193ms/step - loss: 0.2538 - accuracy: 0.8890 - val_loss: 1.4130 - val_accuracy: 0.5900\n",
      "Epoch 18/28\n",
      "146/146 [==============================] - 28s 193ms/step - loss: 0.2428 - accuracy: 0.8935 - val_loss: 0.8304 - val_accuracy: 0.7900\n",
      "Epoch 19/28\n",
      "146/146 [==============================] - 28s 194ms/step - loss: 0.2439 - accuracy: 0.8937 - val_loss: 0.6951 - val_accuracy: 0.7300\n",
      "Epoch 20/28\n",
      "146/146 [==============================] - 28s 193ms/step - loss: 0.2219 - accuracy: 0.9027 - val_loss: 0.4391 - val_accuracy: 0.8100\n",
      "Epoch 21/28\n",
      "146/146 [==============================] - 28s 193ms/step - loss: 0.2209 - accuracy: 0.9085 - val_loss: 0.5958 - val_accuracy: 0.8100\n",
      "Epoch 22/28\n",
      "146/146 [==============================] - 28s 193ms/step - loss: 0.2071 - accuracy: 0.9090 - val_loss: 0.8465 - val_accuracy: 0.7500\n",
      "Epoch 23/28\n",
      "146/146 [==============================] - 28s 194ms/step - loss: 0.2267 - accuracy: 0.9047 - val_loss: 0.5047 - val_accuracy: 0.7600\n",
      "Epoch 24/28\n",
      "146/146 [==============================] - 28s 193ms/step - loss: 0.2015 - accuracy: 0.9180 - val_loss: 0.4349 - val_accuracy: 0.8200\n",
      "Epoch 25/28\n",
      "146/146 [==============================] - 28s 193ms/step - loss: 0.1877 - accuracy: 0.9235 - val_loss: 1.3195 - val_accuracy: 0.7900\n",
      "Epoch 26/28\n",
      "146/146 [==============================] - 28s 193ms/step - loss: 0.1812 - accuracy: 0.9207 - val_loss: 0.8738 - val_accuracy: 0.7800\n",
      "Epoch 27/28\n",
      "146/146 [==============================] - 28s 193ms/step - loss: 0.1895 - accuracy: 0.9259 - val_loss: 0.6176 - val_accuracy: 0.7800\n",
      "Epoch 28/28\n",
      "146/146 [==============================] - 28s 193ms/step - loss: 0.1636 - accuracy: 0.9359 - val_loss: 0.3915 - val_accuracy: 0.9000\n",
      "\n",
      "-----Model evaluation on test data-----\n",
      "38/38 [==============================] - 2s 55ms/step - loss: 0.2474 - accuracy: 0.9454\n",
      "Test Error Rate:  5.46\n",
      "AUC:  0.9358\n",
      "\n"
     ]
    },
    {
     "data": {
      "text/html": [
       "Waiting for W&B process to finish... <strong style=\"color:green\">(success).</strong>"
      ],
      "text/plain": [
       "<IPython.core.display.HTML object>"
      ]
     },
     "metadata": {},
     "output_type": "display_data"
    },
    {
     "data": {
      "application/vnd.jupyter.widget-view+json": {
       "model_id": "",
       "version_major": 2,
       "version_minor": 0
      },
      "text/plain": [
       "VBox(children=(Label(value='0.004 MB of 0.004 MB uploaded (0.000 MB deduped)\\r'), FloatProgress(value=1.0, max…"
      ]
     },
     "metadata": {},
     "output_type": "display_data"
    },
    {
     "data": {
      "text/html": [
       "<style>\n",
       "    table.wandb td:nth-child(1) { padding: 0 10px; text-align: right }\n",
       "    .wandb-row { display: flex; flex-direction: row; flex-wrap: wrap; width: 100% }\n",
       "    .wandb-col { display: flex; flex-direction: column; flex-basis: 100%; flex: 1; padding: 10px; }\n",
       "    </style>\n",
       "<div class=\"wandb-row\"><div class=\"wandb-col\"><h3>Run history:</h3><br/><table class=\"wandb\"><tr><td>AUC</td><td>▁</td></tr><tr><td>Test Error Rate</td><td>▁</td></tr><tr><td>accuracy</td><td>▁▂▃▄▃▄▅▅▅▅▆▆▆▆▇▇▇▇▇▇▇▇▇█████</td></tr><tr><td>epoch</td><td>▁▁▂▂▂▂▃▃▃▃▄▄▄▄▅▅▅▅▆▆▆▆▇▇▇▇██</td></tr><tr><td>loss</td><td>█▃▂▂▂▂▂▂▂▂▂▂▂▁▁▁▁▁▁▁▁▁▁▁▁▁▁▁</td></tr><tr><td>val_accuracy</td><td>▃▄▃▁▃▄▄▂▁▅▅▅▆▃▅▅▂▆▅▆▆▅▅▇▆▆▆█</td></tr><tr><td>val_loss</td><td>▃▂▃▃▃▂▃▄█▂▂▃▂▃▂▃▆▃▂▁▂▃▂▁▅▃▂▁</td></tr></table><br/></div><div class=\"wandb-col\"><h3>Run summary:</h3><br/><table class=\"wandb\"><tr><td>AUC</td><td>0.9358</td></tr><tr><td>Test Error Rate</td><td>5.46</td></tr><tr><td>accuracy</td><td>0.93595</td></tr><tr><td>best_epoch</td><td>27</td></tr><tr><td>best_val_loss</td><td>0.39146</td></tr><tr><td>epoch</td><td>27</td></tr><tr><td>loss</td><td>0.16357</td></tr><tr><td>val_accuracy</td><td>0.9</td></tr><tr><td>val_loss</td><td>0.39146</td></tr></table><br/></div></div>"
      ],
      "text/plain": [
       "<IPython.core.display.HTML object>"
      ]
     },
     "metadata": {},
     "output_type": "display_data"
    },
    {
     "data": {
      "text/html": [
       "Synced <strong style=\"color:#cdcd00\">fiery-sweep-14</strong>: <a href=\"https://wandb.ai/ishadowstormi/Coronary%20angiography%20network/runs/yywj526g\" target=\"_blank\">https://wandb.ai/ishadowstormi/Coronary%20angiography%20network/runs/yywj526g</a><br/>Synced 5 W&B file(s), 1 media file(s), 0 artifact file(s) and 0 other file(s)"
      ],
      "text/plain": [
       "<IPython.core.display.HTML object>"
      ]
     },
     "metadata": {},
     "output_type": "display_data"
    },
    {
     "data": {
      "text/html": [
       "Find logs at: <code>./wandb/run-20220324_013150-yywj526g/logs</code>"
      ],
      "text/plain": [
       "<IPython.core.display.HTML object>"
      ]
     },
     "metadata": {},
     "output_type": "display_data"
    },
    {
     "name": "stderr",
     "output_type": "stream",
     "text": [
      "\u001b[34m\u001b[1mwandb\u001b[0m: Agent Starting Run: ehxpr8rt with config:\n",
      "\u001b[34m\u001b[1mwandb\u001b[0m: \tbatch_size: 32\n",
      "\u001b[34m\u001b[1mwandb\u001b[0m: \tconv_layer1: 16\n",
      "\u001b[34m\u001b[1mwandb\u001b[0m: \tconv_layer2: 64\n",
      "\u001b[34m\u001b[1mwandb\u001b[0m: \tconv_layer3: 128\n",
      "\u001b[34m\u001b[1mwandb\u001b[0m: \tconv_layer4: 128\n",
      "\u001b[34m\u001b[1mwandb\u001b[0m: \tdense: 512\n",
      "Failed to detect the name of this notebook, you can set it manually with the WANDB_NOTEBOOK_NAME environment variable to enable code saving.\n"
     ]
    },
    {
     "data": {
      "text/html": [
       "Tracking run with wandb version 0.12.11"
      ],
      "text/plain": [
       "<IPython.core.display.HTML object>"
      ]
     },
     "metadata": {},
     "output_type": "display_data"
    },
    {
     "data": {
      "text/html": [
       "Run data is saved locally in <code>/home/jovyan/data/lightning/FrantisekUrban/wandb/run-20220324_014523-ehxpr8rt</code>"
      ],
      "text/plain": [
       "<IPython.core.display.HTML object>"
      ]
     },
     "metadata": {},
     "output_type": "display_data"
    },
    {
     "data": {
      "text/html": [
       "Syncing run <strong><a href=\"https://wandb.ai/ishadowstormi/Coronary%20angiography%20network/runs/ehxpr8rt\" target=\"_blank\">ruby-sweep-15</a></strong> to <a href=\"https://wandb.ai/ishadowstormi/Coronary%20angiography%20network\" target=\"_blank\">Weights & Biases</a> (<a href=\"https://wandb.me/run\" target=\"_blank\">docs</a>)<br/>Sweep page:  <a href=\"https://wandb.ai/ishadowstormi/Coronary%20angiography%20network/sweeps/wco4rtlh\" target=\"_blank\">https://wandb.ai/ishadowstormi/Coronary%20angiography%20network/sweeps/wco4rtlh</a>"
      ],
      "text/plain": [
       "<IPython.core.display.HTML object>"
      ]
     },
     "metadata": {},
     "output_type": "display_data"
    },
    {
     "name": "stdout",
     "output_type": "stream",
     "text": [
      "Epoch 1/28\n",
      "  2/146 [..............................] - ETA: 15s - loss: 5.0399 - accuracy: 0.5625WARNING:tensorflow:Callbacks method `on_train_batch_end` is slow compared to the batch time (batch time: 0.0716s vs `on_train_batch_end` time: 0.1387s). Check your callbacks.\n",
      "146/146 [==============================] - 29s 200ms/step - loss: 6.4188 - accuracy: 0.6328 - val_loss: 1.0343 - val_accuracy: 0.6200\n",
      "Epoch 2/28\n",
      "146/146 [==============================] - 29s 198ms/step - loss: 2.5546 - accuracy: 0.6660 - val_loss: 0.6492 - val_accuracy: 0.6000\n",
      "Epoch 3/28\n",
      "146/146 [==============================] - 29s 198ms/step - loss: 0.9183 - accuracy: 0.6517 - val_loss: 1.1347 - val_accuracy: 0.4900\n",
      "Epoch 4/28\n",
      "146/146 [==============================] - 29s 198ms/step - loss: 0.5926 - accuracy: 0.7097 - val_loss: 0.6504 - val_accuracy: 0.6300\n",
      "Epoch 5/28\n",
      "146/146 [==============================] - 29s 198ms/step - loss: 0.5171 - accuracy: 0.7442 - val_loss: 0.6025 - val_accuracy: 0.6600\n",
      "Epoch 6/28\n",
      "146/146 [==============================] - 29s 198ms/step - loss: 0.4992 - accuracy: 0.7534 - val_loss: 0.6556 - val_accuracy: 0.6300\n",
      "Epoch 7/28\n",
      "146/146 [==============================] - 29s 198ms/step - loss: 0.4792 - accuracy: 0.7620 - val_loss: 0.6582 - val_accuracy: 0.6600\n",
      "Epoch 8/28\n",
      "146/146 [==============================] - 29s 198ms/step - loss: 0.4567 - accuracy: 0.7836 - val_loss: 0.5850 - val_accuracy: 0.6400\n",
      "Epoch 9/28\n",
      "146/146 [==============================] - 29s 198ms/step - loss: 0.4005 - accuracy: 0.8130 - val_loss: 1.7803 - val_accuracy: 0.5000\n",
      "Epoch 10/28\n",
      "146/146 [==============================] - 29s 198ms/step - loss: 0.3659 - accuracy: 0.8301 - val_loss: 0.7964 - val_accuracy: 0.6400\n",
      "Epoch 11/28\n",
      "146/146 [==============================] - 29s 198ms/step - loss: 0.3522 - accuracy: 0.8355 - val_loss: 1.9052 - val_accuracy: 0.5300\n",
      "Epoch 12/28\n",
      "146/146 [==============================] - 29s 198ms/step - loss: 0.3449 - accuracy: 0.8449 - val_loss: 0.7327 - val_accuracy: 0.6600\n",
      "Epoch 13/28\n",
      "146/146 [==============================] - 29s 198ms/step - loss: 0.3456 - accuracy: 0.8419 - val_loss: 0.5645 - val_accuracy: 0.7100\n",
      "Epoch 14/28\n",
      "146/146 [==============================] - 29s 198ms/step - loss: 0.3429 - accuracy: 0.8492 - val_loss: 3.7598 - val_accuracy: 0.5400\n",
      "Epoch 15/28\n",
      "146/146 [==============================] - 29s 198ms/step - loss: 0.3289 - accuracy: 0.8503 - val_loss: 1.8485 - val_accuracy: 0.4700\n",
      "Epoch 16/28\n",
      "146/146 [==============================] - 29s 198ms/step - loss: 0.3151 - accuracy: 0.8668 - val_loss: 0.5125 - val_accuracy: 0.7400\n",
      "Epoch 17/28\n",
      "146/146 [==============================] - 29s 198ms/step - loss: 0.3114 - accuracy: 0.8612 - val_loss: 0.8775 - val_accuracy: 0.6900\n",
      "Epoch 18/28\n",
      "146/146 [==============================] - 29s 198ms/step - loss: 0.3006 - accuracy: 0.8740 - val_loss: 0.8065 - val_accuracy: 0.6600\n",
      "Epoch 19/28\n",
      "146/146 [==============================] - 29s 198ms/step - loss: 0.2802 - accuracy: 0.8828 - val_loss: 0.5910 - val_accuracy: 0.7800\n",
      "Epoch 20/28\n",
      "146/146 [==============================] - 29s 198ms/step - loss: 0.2930 - accuracy: 0.8732 - val_loss: 0.5722 - val_accuracy: 0.7400\n",
      "Epoch 21/28\n",
      "146/146 [==============================] - 29s 198ms/step - loss: 0.2674 - accuracy: 0.8785 - val_loss: 0.9180 - val_accuracy: 0.7100\n",
      "Epoch 22/28\n",
      "146/146 [==============================] - 29s 198ms/step - loss: 0.2761 - accuracy: 0.8832 - val_loss: 0.5530 - val_accuracy: 0.7900\n",
      "Epoch 23/28\n",
      "146/146 [==============================] - 29s 198ms/step - loss: 0.2503 - accuracy: 0.8907 - val_loss: 0.5561 - val_accuracy: 0.8500\n",
      "Epoch 24/28\n",
      "146/146 [==============================] - 29s 198ms/step - loss: 0.2500 - accuracy: 0.8895 - val_loss: 1.1435 - val_accuracy: 0.6500\n",
      "Epoch 25/28\n",
      "146/146 [==============================] - 29s 198ms/step - loss: 0.2411 - accuracy: 0.8997 - val_loss: 1.1925 - val_accuracy: 0.6900\n",
      "Epoch 26/28\n",
      "146/146 [==============================] - 29s 198ms/step - loss: 0.2334 - accuracy: 0.9008 - val_loss: 0.7834 - val_accuracy: 0.7700\n",
      "Epoch 27/28\n",
      "146/146 [==============================] - 29s 198ms/step - loss: 0.2327 - accuracy: 0.8980 - val_loss: 2.9484 - val_accuracy: 0.5400\n",
      "Epoch 28/28\n",
      "146/146 [==============================] - 29s 198ms/step - loss: 0.2333 - accuracy: 0.9019 - val_loss: 1.4677 - val_accuracy: 0.6400\n",
      "\n",
      "-----Model evaluation on test data-----\n",
      "38/38 [==============================] - 2s 58ms/step - loss: 2.5784 - accuracy: 0.3938\n",
      "Test Error Rate:  60.62\n",
      "AUC:  0.8247\n",
      "\n"
     ]
    },
    {
     "data": {
      "text/html": [
       "Waiting for W&B process to finish... <strong style=\"color:green\">(success).</strong>"
      ],
      "text/plain": [
       "<IPython.core.display.HTML object>"
      ]
     },
     "metadata": {},
     "output_type": "display_data"
    },
    {
     "data": {
      "application/vnd.jupyter.widget-view+json": {
       "model_id": "",
       "version_major": 2,
       "version_minor": 0
      },
      "text/plain": [
       "VBox(children=(Label(value='0.004 MB of 0.004 MB uploaded (0.000 MB deduped)\\r'), FloatProgress(value=1.0, max…"
      ]
     },
     "metadata": {},
     "output_type": "display_data"
    },
    {
     "data": {
      "text/html": [
       "<style>\n",
       "    table.wandb td:nth-child(1) { padding: 0 10px; text-align: right }\n",
       "    .wandb-row { display: flex; flex-direction: row; flex-wrap: wrap; width: 100% }\n",
       "    .wandb-col { display: flex; flex-direction: column; flex-basis: 100%; flex: 1; padding: 10px; }\n",
       "    </style>\n",
       "<div class=\"wandb-row\"><div class=\"wandb-col\"><h3>Run history:</h3><br/><table class=\"wandb\"><tr><td>AUC</td><td>▁</td></tr><tr><td>Test Error Rate</td><td>▁</td></tr><tr><td>accuracy</td><td>▁▂▁▃▄▄▄▅▆▆▆▇▆▇▇▇▇▇█▇▇███████</td></tr><tr><td>epoch</td><td>▁▁▂▂▂▂▃▃▃▃▄▄▄▄▅▅▅▅▆▆▆▆▇▇▇▇██</td></tr><tr><td>loss</td><td>█▄▂▁▁▁▁▁▁▁▁▁▁▁▁▁▁▁▁▁▁▁▁▁▁▁▁▁</td></tr><tr><td>val_accuracy</td><td>▄▃▁▄▅▄▅▄▂▄▂▅▅▂▁▆▅▅▇▆▅▇█▄▅▇▂▄</td></tr><tr><td>val_loss</td><td>▂▁▂▁▁▁▁▁▄▂▄▁▁█▄▁▂▂▁▁▂▁▁▂▂▂▆▃</td></tr></table><br/></div><div class=\"wandb-col\"><h3>Run summary:</h3><br/><table class=\"wandb\"><tr><td>AUC</td><td>0.8247</td></tr><tr><td>Test Error Rate</td><td>60.62</td></tr><tr><td>accuracy</td><td>0.90189</td></tr><tr><td>best_epoch</td><td>15</td></tr><tr><td>best_val_loss</td><td>0.51245</td></tr><tr><td>epoch</td><td>27</td></tr><tr><td>loss</td><td>0.23333</td></tr><tr><td>val_accuracy</td><td>0.64</td></tr><tr><td>val_loss</td><td>1.46768</td></tr></table><br/></div></div>"
      ],
      "text/plain": [
       "<IPython.core.display.HTML object>"
      ]
     },
     "metadata": {},
     "output_type": "display_data"
    },
    {
     "data": {
      "text/html": [
       "Synced <strong style=\"color:#cdcd00\">ruby-sweep-15</strong>: <a href=\"https://wandb.ai/ishadowstormi/Coronary%20angiography%20network/runs/ehxpr8rt\" target=\"_blank\">https://wandb.ai/ishadowstormi/Coronary%20angiography%20network/runs/ehxpr8rt</a><br/>Synced 5 W&B file(s), 1 media file(s), 0 artifact file(s) and 0 other file(s)"
      ],
      "text/plain": [
       "<IPython.core.display.HTML object>"
      ]
     },
     "metadata": {},
     "output_type": "display_data"
    },
    {
     "data": {
      "text/html": [
       "Find logs at: <code>./wandb/run-20220324_014523-ehxpr8rt/logs</code>"
      ],
      "text/plain": [
       "<IPython.core.display.HTML object>"
      ]
     },
     "metadata": {},
     "output_type": "display_data"
    },
    {
     "name": "stderr",
     "output_type": "stream",
     "text": [
      "\u001b[34m\u001b[1mwandb\u001b[0m: Agent Starting Run: v7d14ngj with config:\n",
      "\u001b[34m\u001b[1mwandb\u001b[0m: \tbatch_size: 32\n",
      "\u001b[34m\u001b[1mwandb\u001b[0m: \tconv_layer1: 16\n",
      "\u001b[34m\u001b[1mwandb\u001b[0m: \tconv_layer2: 64\n",
      "\u001b[34m\u001b[1mwandb\u001b[0m: \tconv_layer3: 128\n",
      "\u001b[34m\u001b[1mwandb\u001b[0m: \tconv_layer4: 128\n",
      "\u001b[34m\u001b[1mwandb\u001b[0m: \tdense: 1024\n",
      "Failed to detect the name of this notebook, you can set it manually with the WANDB_NOTEBOOK_NAME environment variable to enable code saving.\n"
     ]
    },
    {
     "data": {
      "text/html": [
       "Tracking run with wandb version 0.12.11"
      ],
      "text/plain": [
       "<IPython.core.display.HTML object>"
      ]
     },
     "metadata": {},
     "output_type": "display_data"
    },
    {
     "data": {
      "text/html": [
       "Run data is saved locally in <code>/home/jovyan/data/lightning/FrantisekUrban/wandb/run-20220324_015920-v7d14ngj</code>"
      ],
      "text/plain": [
       "<IPython.core.display.HTML object>"
      ]
     },
     "metadata": {},
     "output_type": "display_data"
    },
    {
     "data": {
      "text/html": [
       "Syncing run <strong><a href=\"https://wandb.ai/ishadowstormi/Coronary%20angiography%20network/runs/v7d14ngj\" target=\"_blank\">silver-sweep-16</a></strong> to <a href=\"https://wandb.ai/ishadowstormi/Coronary%20angiography%20network\" target=\"_blank\">Weights & Biases</a> (<a href=\"https://wandb.me/run\" target=\"_blank\">docs</a>)<br/>Sweep page:  <a href=\"https://wandb.ai/ishadowstormi/Coronary%20angiography%20network/sweeps/wco4rtlh\" target=\"_blank\">https://wandb.ai/ishadowstormi/Coronary%20angiography%20network/sweeps/wco4rtlh</a>"
      ],
      "text/plain": [
       "<IPython.core.display.HTML object>"
      ]
     },
     "metadata": {},
     "output_type": "display_data"
    },
    {
     "name": "stdout",
     "output_type": "stream",
     "text": [
      "Epoch 1/28\n",
      "  2/146 [..............................] - ETA: 15s - loss: 3.4379 - accuracy: 0.5000WARNING:tensorflow:Callbacks method `on_train_batch_end` is slow compared to the batch time (batch time: 0.0702s vs `on_train_batch_end` time: 0.1379s). Check your callbacks.\n",
      "146/146 [==============================] - 29s 202ms/step - loss: 4.8019 - accuracy: 0.6470 - val_loss: 0.9506 - val_accuracy: 0.5400\n",
      "Epoch 2/28\n",
      "146/146 [==============================] - 29s 200ms/step - loss: 0.8218 - accuracy: 0.7102 - val_loss: 0.8028 - val_accuracy: 0.6400\n",
      "Epoch 3/28\n",
      "146/146 [==============================] - 29s 200ms/step - loss: 0.4904 - accuracy: 0.7524 - val_loss: 1.3239 - val_accuracy: 0.5900\n",
      "Epoch 4/28\n",
      "146/146 [==============================] - 29s 201ms/step - loss: 0.5011 - accuracy: 0.7569 - val_loss: 0.7844 - val_accuracy: 0.6400\n",
      "Epoch 5/28\n",
      "146/146 [==============================] - 29s 201ms/step - loss: 0.4868 - accuracy: 0.7693 - val_loss: 0.9708 - val_accuracy: 0.6200\n",
      "Epoch 6/28\n",
      "146/146 [==============================] - 29s 201ms/step - loss: 0.4616 - accuracy: 0.7768 - val_loss: 0.6679 - val_accuracy: 0.6600\n",
      "Epoch 7/28\n",
      "146/146 [==============================] - 29s 201ms/step - loss: 0.4251 - accuracy: 0.7971 - val_loss: 1.4825 - val_accuracy: 0.6200\n",
      "Epoch 8/28\n",
      "146/146 [==============================] - 29s 201ms/step - loss: 0.4274 - accuracy: 0.8074 - val_loss: 1.1676 - val_accuracy: 0.6400\n",
      "Epoch 9/28\n",
      "146/146 [==============================] - 29s 201ms/step - loss: 0.4034 - accuracy: 0.8111 - val_loss: 0.8200 - val_accuracy: 0.7000\n",
      "Epoch 10/28\n",
      "146/146 [==============================] - 29s 201ms/step - loss: 0.3818 - accuracy: 0.8288 - val_loss: 2.2942 - val_accuracy: 0.5300\n",
      "Epoch 11/28\n",
      "146/146 [==============================] - 29s 201ms/step - loss: 0.3625 - accuracy: 0.8393 - val_loss: 10.8431 - val_accuracy: 0.5000\n",
      "Epoch 12/28\n",
      "146/146 [==============================] - 29s 201ms/step - loss: 0.3570 - accuracy: 0.8477 - val_loss: 1.1973 - val_accuracy: 0.6500\n",
      "Epoch 13/28\n",
      "146/146 [==============================] - 29s 201ms/step - loss: 0.3328 - accuracy: 0.8511 - val_loss: 0.8528 - val_accuracy: 0.7500\n",
      "Epoch 14/28\n",
      "146/146 [==============================] - 29s 201ms/step - loss: 0.3132 - accuracy: 0.8593 - val_loss: 0.4926 - val_accuracy: 0.7600\n",
      "Epoch 15/28\n",
      "146/146 [==============================] - 29s 201ms/step - loss: 0.2965 - accuracy: 0.8659 - val_loss: 0.9378 - val_accuracy: 0.6800\n",
      "Epoch 16/28\n",
      "146/146 [==============================] - 30s 202ms/step - loss: 0.2922 - accuracy: 0.8693 - val_loss: 0.5065 - val_accuracy: 0.7800\n",
      "Epoch 17/28\n",
      "146/146 [==============================] - 29s 201ms/step - loss: 0.2768 - accuracy: 0.8802 - val_loss: 0.3737 - val_accuracy: 0.8200\n",
      "Epoch 18/28\n",
      "146/146 [==============================] - 29s 201ms/step - loss: 0.2559 - accuracy: 0.8867 - val_loss: 0.5070 - val_accuracy: 0.8200\n",
      "Epoch 19/28\n",
      "146/146 [==============================] - 29s 201ms/step - loss: 0.2395 - accuracy: 0.8980 - val_loss: 1.1050 - val_accuracy: 0.7300\n",
      "Epoch 20/28\n",
      "146/146 [==============================] - 29s 201ms/step - loss: 0.2273 - accuracy: 0.9068 - val_loss: 0.4121 - val_accuracy: 0.8600\n",
      "Epoch 21/28\n",
      "146/146 [==============================] - 29s 200ms/step - loss: 0.2441 - accuracy: 0.8955 - val_loss: 0.7522 - val_accuracy: 0.7400\n",
      "Epoch 22/28\n",
      "146/146 [==============================] - 29s 200ms/step - loss: 0.2315 - accuracy: 0.9068 - val_loss: 9.5740 - val_accuracy: 0.5200\n",
      "Epoch 23/28\n",
      "146/146 [==============================] - 29s 200ms/step - loss: 0.2229 - accuracy: 0.9060 - val_loss: 2.2795 - val_accuracy: 0.6800\n",
      "Epoch 24/28\n",
      "146/146 [==============================] - 29s 200ms/step - loss: 0.2145 - accuracy: 0.9102 - val_loss: 1.4844 - val_accuracy: 0.7000\n",
      "Epoch 25/28\n",
      "146/146 [==============================] - 29s 200ms/step - loss: 0.2041 - accuracy: 0.9184 - val_loss: 2.7175 - val_accuracy: 0.5800\n",
      "Epoch 26/28\n",
      "146/146 [==============================] - 29s 200ms/step - loss: 0.1773 - accuracy: 0.9261 - val_loss: 0.5725 - val_accuracy: 0.7400\n",
      "Epoch 27/28\n",
      "146/146 [==============================] - 29s 200ms/step - loss: 0.1723 - accuracy: 0.9254 - val_loss: 0.9925 - val_accuracy: 0.7200\n",
      "Epoch 28/28\n",
      "146/146 [==============================] - 29s 200ms/step - loss: 0.1970 - accuracy: 0.9233 - val_loss: 0.5049 - val_accuracy: 0.8200\n",
      "\n",
      "-----Model evaluation on test data-----\n",
      "38/38 [==============================] - 2s 57ms/step - loss: 0.4321 - accuracy: 0.7792\n",
      "Test Error Rate:  22.08\n",
      "AUC:  0.9218\n",
      "\n"
     ]
    },
    {
     "data": {
      "text/html": [
       "Waiting for W&B process to finish... <strong style=\"color:green\">(success).</strong>"
      ],
      "text/plain": [
       "<IPython.core.display.HTML object>"
      ]
     },
     "metadata": {},
     "output_type": "display_data"
    },
    {
     "data": {
      "application/vnd.jupyter.widget-view+json": {
       "model_id": "",
       "version_major": 2,
       "version_minor": 0
      },
      "text/plain": [
       "VBox(children=(Label(value='0.004 MB of 0.004 MB uploaded (0.000 MB deduped)\\r'), FloatProgress(value=1.0, max…"
      ]
     },
     "metadata": {},
     "output_type": "display_data"
    },
    {
     "data": {
      "text/html": [
       "<style>\n",
       "    table.wandb td:nth-child(1) { padding: 0 10px; text-align: right }\n",
       "    .wandb-row { display: flex; flex-direction: row; flex-wrap: wrap; width: 100% }\n",
       "    .wandb-col { display: flex; flex-direction: column; flex-basis: 100%; flex: 1; padding: 10px; }\n",
       "    </style>\n",
       "<div class=\"wandb-row\"><div class=\"wandb-col\"><h3>Run history:</h3><br/><table class=\"wandb\"><tr><td>AUC</td><td>▁</td></tr><tr><td>Test Error Rate</td><td>▁</td></tr><tr><td>accuracy</td><td>▁▃▄▄▄▄▅▅▅▆▆▆▆▆▆▇▇▇▇█▇█▇█████</td></tr><tr><td>epoch</td><td>▁▁▂▂▂▂▃▃▃▃▄▄▄▄▅▅▅▅▆▆▆▆▇▇▇▇██</td></tr><tr><td>loss</td><td>█▂▁▁▁▁▁▁▁▁▁▁▁▁▁▁▁▁▁▁▁▁▁▁▁▁▁▁</td></tr><tr><td>val_accuracy</td><td>▂▄▃▄▃▄▃▄▅▂▁▄▆▆▄▆▇▇▅█▆▁▄▅▃▆▅▇</td></tr><tr><td>val_loss</td><td>▁▁▂▁▁▁▂▂▁▂█▂▁▁▁▁▁▁▁▁▁▇▂▂▃▁▁▁</td></tr></table><br/></div><div class=\"wandb-col\"><h3>Run summary:</h3><br/><table class=\"wandb\"><tr><td>AUC</td><td>0.9218</td></tr><tr><td>Test Error Rate</td><td>22.08</td></tr><tr><td>accuracy</td><td>0.92331</td></tr><tr><td>best_epoch</td><td>16</td></tr><tr><td>best_val_loss</td><td>0.37372</td></tr><tr><td>epoch</td><td>27</td></tr><tr><td>loss</td><td>0.19696</td></tr><tr><td>val_accuracy</td><td>0.82</td></tr><tr><td>val_loss</td><td>0.50486</td></tr></table><br/></div></div>"
      ],
      "text/plain": [
       "<IPython.core.display.HTML object>"
      ]
     },
     "metadata": {},
     "output_type": "display_data"
    },
    {
     "data": {
      "text/html": [
       "Synced <strong style=\"color:#cdcd00\">silver-sweep-16</strong>: <a href=\"https://wandb.ai/ishadowstormi/Coronary%20angiography%20network/runs/v7d14ngj\" target=\"_blank\">https://wandb.ai/ishadowstormi/Coronary%20angiography%20network/runs/v7d14ngj</a><br/>Synced 5 W&B file(s), 1 media file(s), 0 artifact file(s) and 0 other file(s)"
      ],
      "text/plain": [
       "<IPython.core.display.HTML object>"
      ]
     },
     "metadata": {},
     "output_type": "display_data"
    },
    {
     "data": {
      "text/html": [
       "Find logs at: <code>./wandb/run-20220324_015920-v7d14ngj/logs</code>"
      ],
      "text/plain": [
       "<IPython.core.display.HTML object>"
      ]
     },
     "metadata": {},
     "output_type": "display_data"
    },
    {
     "name": "stderr",
     "output_type": "stream",
     "text": [
      "\u001b[34m\u001b[1mwandb\u001b[0m: Agent Starting Run: bitljma1 with config:\n",
      "\u001b[34m\u001b[1mwandb\u001b[0m: \tbatch_size: 32\n",
      "\u001b[34m\u001b[1mwandb\u001b[0m: \tconv_layer1: 32\n",
      "\u001b[34m\u001b[1mwandb\u001b[0m: \tconv_layer2: 32\n",
      "\u001b[34m\u001b[1mwandb\u001b[0m: \tconv_layer3: 64\n",
      "\u001b[34m\u001b[1mwandb\u001b[0m: \tconv_layer4: 64\n",
      "\u001b[34m\u001b[1mwandb\u001b[0m: \tdense: 512\n",
      "Failed to detect the name of this notebook, you can set it manually with the WANDB_NOTEBOOK_NAME environment variable to enable code saving.\n"
     ]
    },
    {
     "data": {
      "text/html": [
       "Tracking run with wandb version 0.12.11"
      ],
      "text/plain": [
       "<IPython.core.display.HTML object>"
      ]
     },
     "metadata": {},
     "output_type": "display_data"
    },
    {
     "data": {
      "text/html": [
       "Run data is saved locally in <code>/home/jovyan/data/lightning/FrantisekUrban/wandb/run-20220324_021324-bitljma1</code>"
      ],
      "text/plain": [
       "<IPython.core.display.HTML object>"
      ]
     },
     "metadata": {},
     "output_type": "display_data"
    },
    {
     "data": {
      "text/html": [
       "Syncing run <strong><a href=\"https://wandb.ai/ishadowstormi/Coronary%20angiography%20network/runs/bitljma1\" target=\"_blank\">earnest-sweep-17</a></strong> to <a href=\"https://wandb.ai/ishadowstormi/Coronary%20angiography%20network\" target=\"_blank\">Weights & Biases</a> (<a href=\"https://wandb.me/run\" target=\"_blank\">docs</a>)<br/>Sweep page:  <a href=\"https://wandb.ai/ishadowstormi/Coronary%20angiography%20network/sweeps/wco4rtlh\" target=\"_blank\">https://wandb.ai/ishadowstormi/Coronary%20angiography%20network/sweeps/wco4rtlh</a>"
      ],
      "text/plain": [
       "<IPython.core.display.HTML object>"
      ]
     },
     "metadata": {},
     "output_type": "display_data"
    },
    {
     "name": "stdout",
     "output_type": "stream",
     "text": [
      "Epoch 1/28\n",
      "  2/146 [..............................] - ETA: 13s - loss: 14.8126 - accuracy: 0.4375WARNING:tensorflow:Callbacks method `on_train_batch_end` is slow compared to the batch time (batch time: 0.0688s vs `on_train_batch_end` time: 0.1215s). Check your callbacks.\n",
      "146/146 [==============================] - 29s 202ms/step - loss: 1.4393 - accuracy: 0.6718 - val_loss: 0.7246 - val_accuracy: 0.5900\n",
      "Epoch 2/28\n",
      "146/146 [==============================] - 28s 194ms/step - loss: 0.5285 - accuracy: 0.7284 - val_loss: 0.8671 - val_accuracy: 0.5600\n",
      "Epoch 3/28\n",
      "146/146 [==============================] - 28s 194ms/step - loss: 0.5205 - accuracy: 0.7395 - val_loss: 1.0205 - val_accuracy: 0.4900\n",
      "Epoch 4/28\n",
      "146/146 [==============================] - 28s 194ms/step - loss: 0.5160 - accuracy: 0.7476 - val_loss: 0.6577 - val_accuracy: 0.5800\n",
      "Epoch 5/28\n",
      "146/146 [==============================] - 28s 194ms/step - loss: 0.4887 - accuracy: 0.7584 - val_loss: 0.7334 - val_accuracy: 0.6300\n",
      "Epoch 6/28\n",
      "146/146 [==============================] - 28s 194ms/step - loss: 0.4563 - accuracy: 0.7862 - val_loss: 0.7729 - val_accuracy: 0.6700\n",
      "Epoch 7/28\n",
      "146/146 [==============================] - 28s 193ms/step - loss: 0.4215 - accuracy: 0.7950 - val_loss: 0.7739 - val_accuracy: 0.6700\n",
      "Epoch 8/28\n",
      "146/146 [==============================] - 28s 193ms/step - loss: 0.3920 - accuracy: 0.8181 - val_loss: 0.5714 - val_accuracy: 0.7000\n",
      "Epoch 9/28\n",
      "146/146 [==============================] - 28s 193ms/step - loss: 0.3780 - accuracy: 0.8239 - val_loss: 0.7407 - val_accuracy: 0.6600\n",
      "Epoch 10/28\n",
      "146/146 [==============================] - 28s 193ms/step - loss: 0.3545 - accuracy: 0.8374 - val_loss: 1.2957 - val_accuracy: 0.6700\n",
      "Epoch 11/28\n",
      "146/146 [==============================] - 28s 193ms/step - loss: 0.3676 - accuracy: 0.8350 - val_loss: 2.9307 - val_accuracy: 0.6000\n",
      "Epoch 12/28\n",
      "146/146 [==============================] - 28s 193ms/step - loss: 0.3300 - accuracy: 0.8481 - val_loss: 2.5323 - val_accuracy: 0.6100\n",
      "Epoch 13/28\n",
      "146/146 [==============================] - 28s 193ms/step - loss: 0.3100 - accuracy: 0.8610 - val_loss: 0.6058 - val_accuracy: 0.7500\n",
      "Epoch 14/28\n",
      "146/146 [==============================] - 28s 193ms/step - loss: 0.3070 - accuracy: 0.8627 - val_loss: 0.6153 - val_accuracy: 0.7900\n",
      "Epoch 15/28\n",
      "146/146 [==============================] - 28s 193ms/step - loss: 0.2883 - accuracy: 0.8710 - val_loss: 0.8521 - val_accuracy: 0.7800\n",
      "Epoch 16/28\n",
      "146/146 [==============================] - 28s 193ms/step - loss: 0.2827 - accuracy: 0.8783 - val_loss: 0.8497 - val_accuracy: 0.6900\n",
      "Epoch 17/28\n",
      "146/146 [==============================] - 28s 193ms/step - loss: 0.2817 - accuracy: 0.8766 - val_loss: 0.8087 - val_accuracy: 0.7000\n",
      "Epoch 18/28\n",
      "146/146 [==============================] - 28s 193ms/step - loss: 0.2872 - accuracy: 0.8800 - val_loss: 0.5106 - val_accuracy: 0.8000\n",
      "Epoch 19/28\n",
      "146/146 [==============================] - 28s 194ms/step - loss: 0.2380 - accuracy: 0.9034 - val_loss: 4.1506 - val_accuracy: 0.5700\n",
      "Epoch 20/28\n",
      "146/146 [==============================] - 28s 194ms/step - loss: 0.2251 - accuracy: 0.9079 - val_loss: 0.6634 - val_accuracy: 0.7200\n",
      "Epoch 21/28\n",
      "146/146 [==============================] - 28s 193ms/step - loss: 0.2371 - accuracy: 0.9017 - val_loss: 0.4900 - val_accuracy: 0.8200\n",
      "Epoch 22/28\n",
      "146/146 [==============================] - 28s 193ms/step - loss: 0.2109 - accuracy: 0.9079 - val_loss: 0.6261 - val_accuracy: 0.7500\n",
      "Epoch 23/28\n",
      "146/146 [==============================] - 28s 194ms/step - loss: 0.1911 - accuracy: 0.9177 - val_loss: 0.5802 - val_accuracy: 0.7300\n",
      "Epoch 24/28\n",
      "146/146 [==============================] - 28s 193ms/step - loss: 0.2130 - accuracy: 0.9107 - val_loss: 0.4602 - val_accuracy: 0.8500\n",
      "Epoch 25/28\n",
      "146/146 [==============================] - 28s 193ms/step - loss: 0.1906 - accuracy: 0.9173 - val_loss: 0.5914 - val_accuracy: 0.8000\n",
      "Epoch 26/28\n",
      "146/146 [==============================] - 28s 193ms/step - loss: 0.1890 - accuracy: 0.9201 - val_loss: 0.6398 - val_accuracy: 0.8100\n",
      "Epoch 27/28\n",
      "146/146 [==============================] - 28s 193ms/step - loss: 0.1702 - accuracy: 0.9259 - val_loss: 1.2835 - val_accuracy: 0.7400\n",
      "Epoch 28/28\n",
      "146/146 [==============================] - 28s 193ms/step - loss: 0.1771 - accuracy: 0.9280 - val_loss: 0.6054 - val_accuracy: 0.7900\n",
      "\n",
      "-----Model evaluation on test data-----\n",
      "38/38 [==============================] - 2s 63ms/step - loss: 0.3094 - accuracy: 0.9144\n",
      "Test Error Rate:  8.56\n",
      "AUC:  0.8979\n",
      "\n"
     ]
    },
    {
     "data": {
      "text/html": [
       "Waiting for W&B process to finish... <strong style=\"color:green\">(success).</strong>"
      ],
      "text/plain": [
       "<IPython.core.display.HTML object>"
      ]
     },
     "metadata": {},
     "output_type": "display_data"
    },
    {
     "data": {
      "application/vnd.jupyter.widget-view+json": {
       "model_id": "",
       "version_major": 2,
       "version_minor": 0
      },
      "text/plain": [
       "VBox(children=(Label(value='0.004 MB of 0.004 MB uploaded (0.000 MB deduped)\\r'), FloatProgress(value=1.0, max…"
      ]
     },
     "metadata": {},
     "output_type": "display_data"
    },
    {
     "data": {
      "text/html": [
       "<style>\n",
       "    table.wandb td:nth-child(1) { padding: 0 10px; text-align: right }\n",
       "    .wandb-row { display: flex; flex-direction: row; flex-wrap: wrap; width: 100% }\n",
       "    .wandb-col { display: flex; flex-direction: column; flex-basis: 100%; flex: 1; padding: 10px; }\n",
       "    </style>\n",
       "<div class=\"wandb-row\"><div class=\"wandb-col\"><h3>Run history:</h3><br/><table class=\"wandb\"><tr><td>AUC</td><td>▁</td></tr><tr><td>Test Error Rate</td><td>▁</td></tr><tr><td>accuracy</td><td>▁▃▃▃▃▄▄▅▅▆▅▆▆▆▆▇▇▇▇▇▇▇██████</td></tr><tr><td>epoch</td><td>▁▁▂▂▂▂▃▃▃▃▄▄▄▄▅▅▅▅▆▆▆▆▇▇▇▇██</td></tr><tr><td>loss</td><td>█▃▃▃▃▃▂▂▂▂▂▂▂▂▂▂▂▂▁▁▁▁▁▁▁▁▁▁</td></tr><tr><td>val_accuracy</td><td>▃▂▁▃▄▄▄▅▄▄▃▃▆▇▇▅▅▇▃▅▇▆▆█▇▇▆▇</td></tr><tr><td>val_loss</td><td>▂▂▂▁▂▂▂▁▂▃▆▅▁▁▂▂▂▁█▁▁▁▁▁▁▁▃▁</td></tr></table><br/></div><div class=\"wandb-col\"><h3>Run summary:</h3><br/><table class=\"wandb\"><tr><td>AUC</td><td>0.8979</td></tr><tr><td>Test Error Rate</td><td>8.56</td></tr><tr><td>accuracy</td><td>0.92802</td></tr><tr><td>best_epoch</td><td>23</td></tr><tr><td>best_val_loss</td><td>0.46022</td></tr><tr><td>epoch</td><td>27</td></tr><tr><td>loss</td><td>0.17711</td></tr><tr><td>val_accuracy</td><td>0.79</td></tr><tr><td>val_loss</td><td>0.60541</td></tr></table><br/></div></div>"
      ],
      "text/plain": [
       "<IPython.core.display.HTML object>"
      ]
     },
     "metadata": {},
     "output_type": "display_data"
    },
    {
     "data": {
      "text/html": [
       "Synced <strong style=\"color:#cdcd00\">earnest-sweep-17</strong>: <a href=\"https://wandb.ai/ishadowstormi/Coronary%20angiography%20network/runs/bitljma1\" target=\"_blank\">https://wandb.ai/ishadowstormi/Coronary%20angiography%20network/runs/bitljma1</a><br/>Synced 5 W&B file(s), 1 media file(s), 0 artifact file(s) and 0 other file(s)"
      ],
      "text/plain": [
       "<IPython.core.display.HTML object>"
      ]
     },
     "metadata": {},
     "output_type": "display_data"
    },
    {
     "data": {
      "text/html": [
       "Find logs at: <code>./wandb/run-20220324_021324-bitljma1/logs</code>"
      ],
      "text/plain": [
       "<IPython.core.display.HTML object>"
      ]
     },
     "metadata": {},
     "output_type": "display_data"
    },
    {
     "name": "stderr",
     "output_type": "stream",
     "text": [
      "\u001b[34m\u001b[1mwandb\u001b[0m: Sweep Agent: Waiting for job.\n",
      "\u001b[34m\u001b[1mwandb\u001b[0m: Job received.\n",
      "\u001b[34m\u001b[1mwandb\u001b[0m: Agent Starting Run: 463bntcb with config:\n",
      "\u001b[34m\u001b[1mwandb\u001b[0m: \tbatch_size: 32\n",
      "\u001b[34m\u001b[1mwandb\u001b[0m: \tconv_layer1: 32\n",
      "\u001b[34m\u001b[1mwandb\u001b[0m: \tconv_layer2: 32\n",
      "\u001b[34m\u001b[1mwandb\u001b[0m: \tconv_layer3: 64\n",
      "\u001b[34m\u001b[1mwandb\u001b[0m: \tconv_layer4: 64\n",
      "\u001b[34m\u001b[1mwandb\u001b[0m: \tdense: 1024\n",
      "Failed to detect the name of this notebook, you can set it manually with the WANDB_NOTEBOOK_NAME environment variable to enable code saving.\n"
     ]
    },
    {
     "data": {
      "text/html": [
       "Tracking run with wandb version 0.12.11"
      ],
      "text/plain": [
       "<IPython.core.display.HTML object>"
      ]
     },
     "metadata": {},
     "output_type": "display_data"
    },
    {
     "data": {
      "text/html": [
       "Run data is saved locally in <code>/home/jovyan/data/lightning/FrantisekUrban/wandb/run-20220324_022710-463bntcb</code>"
      ],
      "text/plain": [
       "<IPython.core.display.HTML object>"
      ]
     },
     "metadata": {},
     "output_type": "display_data"
    },
    {
     "data": {
      "text/html": [
       "Syncing run <strong><a href=\"https://wandb.ai/ishadowstormi/Coronary%20angiography%20network/runs/463bntcb\" target=\"_blank\">celestial-sweep-18</a></strong> to <a href=\"https://wandb.ai/ishadowstormi/Coronary%20angiography%20network\" target=\"_blank\">Weights & Biases</a> (<a href=\"https://wandb.me/run\" target=\"_blank\">docs</a>)<br/>Sweep page:  <a href=\"https://wandb.ai/ishadowstormi/Coronary%20angiography%20network/sweeps/wco4rtlh\" target=\"_blank\">https://wandb.ai/ishadowstormi/Coronary%20angiography%20network/sweeps/wco4rtlh</a>"
      ],
      "text/plain": [
       "<IPython.core.display.HTML object>"
      ]
     },
     "metadata": {},
     "output_type": "display_data"
    },
    {
     "name": "stdout",
     "output_type": "stream",
     "text": [
      "Epoch 1/28\n",
      "  2/146 [..............................] - ETA: 14s - loss: 6.1861 - accuracy: 0.4844WARNING:tensorflow:Callbacks method `on_train_batch_end` is slow compared to the batch time (batch time: 0.0775s vs `on_train_batch_end` time: 0.1282s). Check your callbacks.\n",
      "146/146 [==============================] - 29s 197ms/step - loss: 2.0057 - accuracy: 0.6692 - val_loss: 1.7896 - val_accuracy: 0.3900\n",
      "Epoch 2/28\n",
      "146/146 [==============================] - 29s 196ms/step - loss: 0.5308 - accuracy: 0.7416 - val_loss: 0.8777 - val_accuracy: 0.6100\n",
      "Epoch 3/28\n",
      "146/146 [==============================] - 28s 195ms/step - loss: 0.5044 - accuracy: 0.7453 - val_loss: 0.8919 - val_accuracy: 0.5600\n",
      "Epoch 4/28\n",
      "146/146 [==============================] - 29s 195ms/step - loss: 0.4633 - accuracy: 0.7721 - val_loss: 2.1627 - val_accuracy: 0.4700\n",
      "Epoch 5/28\n",
      "146/146 [==============================] - 29s 196ms/step - loss: 0.4528 - accuracy: 0.7866 - val_loss: 0.8486 - val_accuracy: 0.7100\n",
      "Epoch 6/28\n",
      "146/146 [==============================] - 29s 195ms/step - loss: 0.4158 - accuracy: 0.8066 - val_loss: 0.6758 - val_accuracy: 0.7300\n",
      "Epoch 7/28\n",
      "146/146 [==============================] - 29s 196ms/step - loss: 0.3954 - accuracy: 0.8113 - val_loss: 1.8421 - val_accuracy: 0.6500\n",
      "Epoch 8/28\n",
      "146/146 [==============================] - 28s 195ms/step - loss: 0.3654 - accuracy: 0.8314 - val_loss: 3.0277 - val_accuracy: 0.5000\n",
      "Epoch 9/28\n",
      "146/146 [==============================] - 28s 195ms/step - loss: 0.3541 - accuracy: 0.8391 - val_loss: 1.0781 - val_accuracy: 0.6400\n",
      "Epoch 10/28\n",
      "146/146 [==============================] - 28s 195ms/step - loss: 0.3412 - accuracy: 0.8458 - val_loss: 2.0789 - val_accuracy: 0.5700\n",
      "Epoch 11/28\n",
      "146/146 [==============================] - 28s 195ms/step - loss: 0.3390 - accuracy: 0.8462 - val_loss: 0.4270 - val_accuracy: 0.7700\n",
      "Epoch 12/28\n",
      "146/146 [==============================] - 28s 195ms/step - loss: 0.3092 - accuracy: 0.8618 - val_loss: 0.7739 - val_accuracy: 0.7300\n",
      "Epoch 13/28\n",
      "146/146 [==============================] - 29s 196ms/step - loss: 0.2811 - accuracy: 0.8772 - val_loss: 0.5945 - val_accuracy: 0.7700\n",
      "Epoch 14/28\n",
      "146/146 [==============================] - 29s 196ms/step - loss: 0.2654 - accuracy: 0.8809 - val_loss: 0.9656 - val_accuracy: 0.6500\n",
      "Epoch 15/28\n",
      "146/146 [==============================] - 28s 195ms/step - loss: 0.2791 - accuracy: 0.8839 - val_loss: 0.5462 - val_accuracy: 0.7900\n",
      "Epoch 16/28\n",
      "146/146 [==============================] - 28s 195ms/step - loss: 0.2600 - accuracy: 0.8914 - val_loss: 0.4475 - val_accuracy: 0.7700\n",
      "Epoch 17/28\n",
      "146/146 [==============================] - 28s 195ms/step - loss: 0.2502 - accuracy: 0.9015 - val_loss: 0.5701 - val_accuracy: 0.6800\n",
      "Epoch 18/28\n",
      "146/146 [==============================] - 28s 195ms/step - loss: 0.2255 - accuracy: 0.9032 - val_loss: 1.0867 - val_accuracy: 0.6800\n",
      "Epoch 19/28\n",
      "146/146 [==============================] - 28s 195ms/step - loss: 0.2108 - accuracy: 0.9139 - val_loss: 0.5662 - val_accuracy: 0.7300\n",
      "Epoch 20/28\n",
      "146/146 [==============================] - 28s 195ms/step - loss: 0.2039 - accuracy: 0.9135 - val_loss: 0.6041 - val_accuracy: 0.8200\n",
      "Epoch 21/28\n",
      "146/146 [==============================] - 28s 195ms/step - loss: 0.1709 - accuracy: 0.9282 - val_loss: 0.7930 - val_accuracy: 0.7500\n",
      "Epoch 22/28\n",
      "146/146 [==============================] - 28s 194ms/step - loss: 0.2094 - accuracy: 0.9195 - val_loss: 1.0891 - val_accuracy: 0.7100\n",
      "Epoch 23/28\n",
      "146/146 [==============================] - 28s 195ms/step - loss: 0.1838 - accuracy: 0.9252 - val_loss: 0.7521 - val_accuracy: 0.7900\n",
      "Epoch 24/28\n",
      "146/146 [==============================] - 28s 195ms/step - loss: 0.1672 - accuracy: 0.9325 - val_loss: 0.7576 - val_accuracy: 0.7600\n",
      "Epoch 25/28\n",
      "146/146 [==============================] - 28s 195ms/step - loss: 0.1633 - accuracy: 0.9317 - val_loss: 0.7045 - val_accuracy: 0.7800\n",
      "Epoch 26/28\n",
      "146/146 [==============================] - 28s 195ms/step - loss: 0.1379 - accuracy: 0.9437 - val_loss: 1.1054 - val_accuracy: 0.7900\n",
      "Epoch 27/28\n",
      "146/146 [==============================] - 28s 195ms/step - loss: 0.1340 - accuracy: 0.9488 - val_loss: 0.8853 - val_accuracy: 0.8400\n",
      "Epoch 28/28\n",
      "146/146 [==============================] - 28s 195ms/step - loss: 0.1388 - accuracy: 0.9456 - val_loss: 0.5730 - val_accuracy: 0.8500\n",
      "\n",
      "-----Model evaluation on test data-----\n",
      "38/38 [==============================] - 2s 60ms/step - loss: 0.5062 - accuracy: 0.7918\n",
      "Test Error Rate:  20.82\n",
      "AUC:  0.8986\n",
      "\n"
     ]
    },
    {
     "data": {
      "text/html": [
       "Waiting for W&B process to finish... <strong style=\"color:green\">(success).</strong>"
      ],
      "text/plain": [
       "<IPython.core.display.HTML object>"
      ]
     },
     "metadata": {},
     "output_type": "display_data"
    },
    {
     "data": {
      "application/vnd.jupyter.widget-view+json": {
       "model_id": "",
       "version_major": 2,
       "version_minor": 0
      },
      "text/plain": [
       "VBox(children=(Label(value='0.004 MB of 0.004 MB uploaded (0.000 MB deduped)\\r'), FloatProgress(value=1.0, max…"
      ]
     },
     "metadata": {},
     "output_type": "display_data"
    },
    {
     "data": {
      "text/html": [
       "<style>\n",
       "    table.wandb td:nth-child(1) { padding: 0 10px; text-align: right }\n",
       "    .wandb-row { display: flex; flex-direction: row; flex-wrap: wrap; width: 100% }\n",
       "    .wandb-col { display: flex; flex-direction: column; flex-basis: 100%; flex: 1; padding: 10px; }\n",
       "    </style>\n",
       "<div class=\"wandb-row\"><div class=\"wandb-col\"><h3>Run history:</h3><br/><table class=\"wandb\"><tr><td>AUC</td><td>▁</td></tr><tr><td>Test Error Rate</td><td>▁</td></tr><tr><td>accuracy</td><td>▁▃▃▄▄▄▅▅▅▅▅▆▆▆▆▇▇▇▇▇▇▇▇█████</td></tr><tr><td>epoch</td><td>▁▁▂▂▂▂▃▃▃▃▄▄▄▄▅▅▅▅▆▆▆▆▇▇▇▇██</td></tr><tr><td>loss</td><td>█▂▂▂▂▂▂▂▂▂▂▂▂▁▂▁▁▁▁▁▁▁▁▁▁▁▁▁</td></tr><tr><td>val_accuracy</td><td>▁▄▄▂▆▆▅▃▅▄▇▆▇▅▇▇▅▅▆█▆▆▇▇▇▇██</td></tr><tr><td>val_loss</td><td>▅▂▂▆▂▂▅█▃▅▁▂▁▂▁▁▁▃▁▁▂▃▂▂▂▃▂▁</td></tr></table><br/></div><div class=\"wandb-col\"><h3>Run summary:</h3><br/><table class=\"wandb\"><tr><td>AUC</td><td>0.8986</td></tr><tr><td>Test Error Rate</td><td>20.82</td></tr><tr><td>accuracy</td><td>0.94559</td></tr><tr><td>best_epoch</td><td>10</td></tr><tr><td>best_val_loss</td><td>0.42705</td></tr><tr><td>epoch</td><td>27</td></tr><tr><td>loss</td><td>0.1388</td></tr><tr><td>val_accuracy</td><td>0.85</td></tr><tr><td>val_loss</td><td>0.57303</td></tr></table><br/></div></div>"
      ],
      "text/plain": [
       "<IPython.core.display.HTML object>"
      ]
     },
     "metadata": {},
     "output_type": "display_data"
    },
    {
     "data": {
      "text/html": [
       "Synced <strong style=\"color:#cdcd00\">celestial-sweep-18</strong>: <a href=\"https://wandb.ai/ishadowstormi/Coronary%20angiography%20network/runs/463bntcb\" target=\"_blank\">https://wandb.ai/ishadowstormi/Coronary%20angiography%20network/runs/463bntcb</a><br/>Synced 5 W&B file(s), 1 media file(s), 0 artifact file(s) and 0 other file(s)"
      ],
      "text/plain": [
       "<IPython.core.display.HTML object>"
      ]
     },
     "metadata": {},
     "output_type": "display_data"
    },
    {
     "data": {
      "text/html": [
       "Find logs at: <code>./wandb/run-20220324_022710-463bntcb/logs</code>"
      ],
      "text/plain": [
       "<IPython.core.display.HTML object>"
      ]
     },
     "metadata": {},
     "output_type": "display_data"
    },
    {
     "name": "stderr",
     "output_type": "stream",
     "text": [
      "\u001b[34m\u001b[1mwandb\u001b[0m: Agent Starting Run: ot529xv4 with config:\n",
      "\u001b[34m\u001b[1mwandb\u001b[0m: \tbatch_size: 32\n",
      "\u001b[34m\u001b[1mwandb\u001b[0m: \tconv_layer1: 32\n",
      "\u001b[34m\u001b[1mwandb\u001b[0m: \tconv_layer2: 32\n",
      "\u001b[34m\u001b[1mwandb\u001b[0m: \tconv_layer3: 64\n",
      "\u001b[34m\u001b[1mwandb\u001b[0m: \tconv_layer4: 128\n",
      "\u001b[34m\u001b[1mwandb\u001b[0m: \tdense: 512\n",
      "Failed to detect the name of this notebook, you can set it manually with the WANDB_NOTEBOOK_NAME environment variable to enable code saving.\n"
     ]
    },
    {
     "data": {
      "text/html": [
       "Tracking run with wandb version 0.12.11"
      ],
      "text/plain": [
       "<IPython.core.display.HTML object>"
      ]
     },
     "metadata": {},
     "output_type": "display_data"
    },
    {
     "data": {
      "text/html": [
       "Run data is saved locally in <code>/home/jovyan/data/lightning/FrantisekUrban/wandb/run-20220324_024053-ot529xv4</code>"
      ],
      "text/plain": [
       "<IPython.core.display.HTML object>"
      ]
     },
     "metadata": {},
     "output_type": "display_data"
    },
    {
     "data": {
      "text/html": [
       "Syncing run <strong><a href=\"https://wandb.ai/ishadowstormi/Coronary%20angiography%20network/runs/ot529xv4\" target=\"_blank\">deft-sweep-19</a></strong> to <a href=\"https://wandb.ai/ishadowstormi/Coronary%20angiography%20network\" target=\"_blank\">Weights & Biases</a> (<a href=\"https://wandb.me/run\" target=\"_blank\">docs</a>)<br/>Sweep page:  <a href=\"https://wandb.ai/ishadowstormi/Coronary%20angiography%20network/sweeps/wco4rtlh\" target=\"_blank\">https://wandb.ai/ishadowstormi/Coronary%20angiography%20network/sweeps/wco4rtlh</a>"
      ],
      "text/plain": [
       "<IPython.core.display.HTML object>"
      ]
     },
     "metadata": {},
     "output_type": "display_data"
    },
    {
     "name": "stdout",
     "output_type": "stream",
     "text": [
      "Epoch 1/28\n",
      "  2/146 [..............................] - ETA: 15s - loss: 4.5271 - accuracy: 0.5781WARNING:tensorflow:Callbacks method `on_train_batch_end` is slow compared to the batch time (batch time: 0.0777s vs `on_train_batch_end` time: 0.1308s). Check your callbacks.\n",
      "146/146 [==============================] - 29s 202ms/step - loss: 3.5663 - accuracy: 0.6425 - val_loss: 2.2415 - val_accuracy: 0.7000\n",
      "Epoch 2/28\n",
      "146/146 [==============================] - 29s 200ms/step - loss: 0.5651 - accuracy: 0.7104 - val_loss: 0.6665 - val_accuracy: 0.6300\n",
      "Epoch 3/28\n",
      "146/146 [==============================] - 29s 201ms/step - loss: 0.5237 - accuracy: 0.7446 - val_loss: 0.7841 - val_accuracy: 0.6300\n",
      "Epoch 4/28\n",
      "146/146 [==============================] - 29s 201ms/step - loss: 0.5002 - accuracy: 0.7457 - val_loss: 0.6671 - val_accuracy: 0.6400\n",
      "Epoch 5/28\n",
      "146/146 [==============================] - 29s 201ms/step - loss: 0.4798 - accuracy: 0.7684 - val_loss: 1.4335 - val_accuracy: 0.6200\n",
      "Epoch 6/28\n",
      "146/146 [==============================] - 29s 201ms/step - loss: 0.4754 - accuracy: 0.7693 - val_loss: 0.6445 - val_accuracy: 0.6600\n",
      "Epoch 7/28\n",
      "146/146 [==============================] - 29s 201ms/step - loss: 0.4663 - accuracy: 0.7847 - val_loss: 1.2334 - val_accuracy: 0.5500\n",
      "Epoch 8/28\n",
      "146/146 [==============================] - 29s 200ms/step - loss: 0.4397 - accuracy: 0.7937 - val_loss: 0.7130 - val_accuracy: 0.6400\n",
      "Epoch 9/28\n",
      "146/146 [==============================] - 29s 201ms/step - loss: 0.4078 - accuracy: 0.8081 - val_loss: 0.6578 - val_accuracy: 0.6800\n",
      "Epoch 10/28\n",
      "146/146 [==============================] - 30s 202ms/step - loss: 0.3846 - accuracy: 0.8186 - val_loss: 17.8590 - val_accuracy: 0.5700\n",
      "Epoch 11/28\n",
      "146/146 [==============================] - 29s 201ms/step - loss: 0.3616 - accuracy: 0.8323 - val_loss: 1.2670 - val_accuracy: 0.5300\n",
      "Epoch 12/28\n",
      "146/146 [==============================] - 29s 201ms/step - loss: 0.3443 - accuracy: 0.8447 - val_loss: 0.6048 - val_accuracy: 0.6900\n",
      "Epoch 13/28\n",
      "146/146 [==============================] - 29s 200ms/step - loss: 0.3476 - accuracy: 0.8455 - val_loss: 3.0208 - val_accuracy: 0.5000\n",
      "Epoch 14/28\n",
      "146/146 [==============================] - 29s 201ms/step - loss: 0.3410 - accuracy: 0.8447 - val_loss: 0.7092 - val_accuracy: 0.7000\n",
      "Epoch 15/28\n",
      "146/146 [==============================] - 29s 200ms/step - loss: 0.3022 - accuracy: 0.8627 - val_loss: 0.6069 - val_accuracy: 0.7300\n",
      "Epoch 16/28\n",
      "146/146 [==============================] - 29s 201ms/step - loss: 0.3139 - accuracy: 0.8586 - val_loss: 1.1543 - val_accuracy: 0.7000\n",
      "Epoch 17/28\n",
      "146/146 [==============================] - 29s 200ms/step - loss: 0.3197 - accuracy: 0.8580 - val_loss: 1.7148 - val_accuracy: 0.5300\n",
      "Epoch 18/28\n",
      "146/146 [==============================] - 29s 200ms/step - loss: 0.3063 - accuracy: 0.8665 - val_loss: 0.6908 - val_accuracy: 0.7200\n",
      "Epoch 19/28\n",
      "146/146 [==============================] - 29s 200ms/step - loss: 0.2771 - accuracy: 0.8826 - val_loss: 0.5959 - val_accuracy: 0.7800\n",
      "Epoch 20/28\n",
      "146/146 [==============================] - 29s 200ms/step - loss: 0.2550 - accuracy: 0.8944 - val_loss: 1.2272 - val_accuracy: 0.7300\n",
      "Epoch 21/28\n",
      "146/146 [==============================] - 29s 201ms/step - loss: 0.2779 - accuracy: 0.8828 - val_loss: 1.1913 - val_accuracy: 0.5400\n",
      "Epoch 22/28\n",
      "146/146 [==============================] - 29s 199ms/step - loss: 0.2718 - accuracy: 0.8766 - val_loss: 0.8764 - val_accuracy: 0.7200\n",
      "Epoch 23/28\n",
      "146/146 [==============================] - 29s 199ms/step - loss: 0.2269 - accuracy: 0.9049 - val_loss: 2.0388 - val_accuracy: 0.5900\n",
      "Epoch 24/28\n",
      "146/146 [==============================] - 29s 200ms/step - loss: 0.2480 - accuracy: 0.8933 - val_loss: 0.5150 - val_accuracy: 0.8400\n",
      "Epoch 25/28\n",
      "146/146 [==============================] - 29s 199ms/step - loss: 0.2147 - accuracy: 0.9036 - val_loss: 0.9871 - val_accuracy: 0.8000\n",
      "Epoch 26/28\n",
      "146/146 [==============================] - 29s 200ms/step - loss: 0.2166 - accuracy: 0.9143 - val_loss: 1.6130 - val_accuracy: 0.7000\n",
      "Epoch 27/28\n",
      "146/146 [==============================] - 29s 199ms/step - loss: 0.2125 - accuracy: 0.9100 - val_loss: 0.6719 - val_accuracy: 0.7300\n",
      "Epoch 28/28\n",
      "146/146 [==============================] - 29s 199ms/step - loss: 0.1996 - accuracy: 0.9162 - val_loss: 0.6684 - val_accuracy: 0.7700\n",
      "\n",
      "-----Model evaluation on test data-----\n",
      "38/38 [==============================] - 2s 63ms/step - loss: 0.5593 - accuracy: 0.7825\n",
      "Test Error Rate:  21.75\n",
      "AUC:  0.8781\n",
      "\n"
     ]
    },
    {
     "data": {
      "text/html": [
       "Waiting for W&B process to finish... <strong style=\"color:green\">(success).</strong>"
      ],
      "text/plain": [
       "<IPython.core.display.HTML object>"
      ]
     },
     "metadata": {},
     "output_type": "display_data"
    },
    {
     "data": {
      "application/vnd.jupyter.widget-view+json": {
       "model_id": "",
       "version_major": 2,
       "version_minor": 0
      },
      "text/plain": [
       "VBox(children=(Label(value='0.004 MB of 0.004 MB uploaded (0.000 MB deduped)\\r'), FloatProgress(value=1.0, max…"
      ]
     },
     "metadata": {},
     "output_type": "display_data"
    },
    {
     "data": {
      "text/html": [
       "<style>\n",
       "    table.wandb td:nth-child(1) { padding: 0 10px; text-align: right }\n",
       "    .wandb-row { display: flex; flex-direction: row; flex-wrap: wrap; width: 100% }\n",
       "    .wandb-col { display: flex; flex-direction: column; flex-basis: 100%; flex: 1; padding: 10px; }\n",
       "    </style>\n",
       "<div class=\"wandb-row\"><div class=\"wandb-col\"><h3>Run history:</h3><br/><table class=\"wandb\"><tr><td>AUC</td><td>▁</td></tr><tr><td>Test Error Rate</td><td>▁</td></tr><tr><td>accuracy</td><td>▁▃▄▄▄▄▅▅▅▆▆▆▆▆▇▇▇▇▇▇▇▇█▇████</td></tr><tr><td>epoch</td><td>▁▁▂▂▂▂▃▃▃▃▄▄▄▄▅▅▅▅▆▆▆▆▇▇▇▇██</td></tr><tr><td>loss</td><td>█▂▂▂▂▂▂▁▁▁▁▁▁▁▁▁▁▁▁▁▁▁▁▁▁▁▁▁</td></tr><tr><td>val_accuracy</td><td>▅▄▄▄▃▄▂▄▅▂▂▅▁▅▆▅▂▆▇▆▂▆▃█▇▅▆▇</td></tr><tr><td>val_loss</td><td>▂▁▁▁▁▁▁▁▁█▁▁▂▁▁▁▁▁▁▁▁▁▂▁▁▁▁▁</td></tr></table><br/></div><div class=\"wandb-col\"><h3>Run summary:</h3><br/><table class=\"wandb\"><tr><td>AUC</td><td>0.8781</td></tr><tr><td>Test Error Rate</td><td>21.75</td></tr><tr><td>accuracy</td><td>0.91624</td></tr><tr><td>best_epoch</td><td>23</td></tr><tr><td>best_val_loss</td><td>0.51495</td></tr><tr><td>epoch</td><td>27</td></tr><tr><td>loss</td><td>0.19962</td></tr><tr><td>val_accuracy</td><td>0.77</td></tr><tr><td>val_loss</td><td>0.66836</td></tr></table><br/></div></div>"
      ],
      "text/plain": [
       "<IPython.core.display.HTML object>"
      ]
     },
     "metadata": {},
     "output_type": "display_data"
    },
    {
     "data": {
      "text/html": [
       "Synced <strong style=\"color:#cdcd00\">deft-sweep-19</strong>: <a href=\"https://wandb.ai/ishadowstormi/Coronary%20angiography%20network/runs/ot529xv4\" target=\"_blank\">https://wandb.ai/ishadowstormi/Coronary%20angiography%20network/runs/ot529xv4</a><br/>Synced 5 W&B file(s), 1 media file(s), 0 artifact file(s) and 0 other file(s)"
      ],
      "text/plain": [
       "<IPython.core.display.HTML object>"
      ]
     },
     "metadata": {},
     "output_type": "display_data"
    },
    {
     "data": {
      "text/html": [
       "Find logs at: <code>./wandb/run-20220324_024053-ot529xv4/logs</code>"
      ],
      "text/plain": [
       "<IPython.core.display.HTML object>"
      ]
     },
     "metadata": {},
     "output_type": "display_data"
    },
    {
     "name": "stderr",
     "output_type": "stream",
     "text": [
      "\u001b[34m\u001b[1mwandb\u001b[0m: Agent Starting Run: 7jh7t3u4 with config:\n",
      "\u001b[34m\u001b[1mwandb\u001b[0m: \tbatch_size: 32\n",
      "\u001b[34m\u001b[1mwandb\u001b[0m: \tconv_layer1: 32\n",
      "\u001b[34m\u001b[1mwandb\u001b[0m: \tconv_layer2: 32\n",
      "\u001b[34m\u001b[1mwandb\u001b[0m: \tconv_layer3: 64\n",
      "\u001b[34m\u001b[1mwandb\u001b[0m: \tconv_layer4: 128\n",
      "\u001b[34m\u001b[1mwandb\u001b[0m: \tdense: 1024\n",
      "Failed to detect the name of this notebook, you can set it manually with the WANDB_NOTEBOOK_NAME environment variable to enable code saving.\n"
     ]
    },
    {
     "data": {
      "text/html": [
       "Tracking run with wandb version 0.12.11"
      ],
      "text/plain": [
       "<IPython.core.display.HTML object>"
      ]
     },
     "metadata": {},
     "output_type": "display_data"
    },
    {
     "data": {
      "text/html": [
       "Run data is saved locally in <code>/home/jovyan/data/lightning/FrantisekUrban/wandb/run-20220324_025457-7jh7t3u4</code>"
      ],
      "text/plain": [
       "<IPython.core.display.HTML object>"
      ]
     },
     "metadata": {},
     "output_type": "display_data"
    },
    {
     "data": {
      "text/html": [
       "Syncing run <strong><a href=\"https://wandb.ai/ishadowstormi/Coronary%20angiography%20network/runs/7jh7t3u4\" target=\"_blank\">treasured-sweep-20</a></strong> to <a href=\"https://wandb.ai/ishadowstormi/Coronary%20angiography%20network\" target=\"_blank\">Weights & Biases</a> (<a href=\"https://wandb.me/run\" target=\"_blank\">docs</a>)<br/>Sweep page:  <a href=\"https://wandb.ai/ishadowstormi/Coronary%20angiography%20network/sweeps/wco4rtlh\" target=\"_blank\">https://wandb.ai/ishadowstormi/Coronary%20angiography%20network/sweeps/wco4rtlh</a>"
      ],
      "text/plain": [
       "<IPython.core.display.HTML object>"
      ]
     },
     "metadata": {},
     "output_type": "display_data"
    },
    {
     "name": "stdout",
     "output_type": "stream",
     "text": [
      "Epoch 1/28\n",
      "  2/146 [..............................] - ETA: 15s - loss: 12.9123 - accuracy: 0.6094WARNING:tensorflow:Callbacks method `on_train_batch_end` is slow compared to the batch time (batch time: 0.0759s vs `on_train_batch_end` time: 0.1345s). Check your callbacks.\n",
      "146/146 [==============================] - 30s 202ms/step - loss: 4.7688 - accuracy: 0.6515 - val_loss: 0.9642 - val_accuracy: 0.4500\n",
      "Epoch 2/28\n",
      "146/146 [==============================] - 29s 201ms/step - loss: 1.2343 - accuracy: 0.6853 - val_loss: 0.7605 - val_accuracy: 0.6600\n",
      "Epoch 3/28\n",
      "146/146 [==============================] - 29s 201ms/step - loss: 0.5254 - accuracy: 0.7303 - val_loss: 1.1392 - val_accuracy: 0.6600\n",
      "Epoch 4/28\n",
      "146/146 [==============================] - 29s 202ms/step - loss: 0.5118 - accuracy: 0.7472 - val_loss: 0.8542 - val_accuracy: 0.6400\n",
      "Epoch 5/28\n",
      "146/146 [==============================] - 29s 202ms/step - loss: 0.4715 - accuracy: 0.7699 - val_loss: 0.7147 - val_accuracy: 0.5900\n",
      "Epoch 6/28\n",
      "146/146 [==============================] - 29s 202ms/step - loss: 0.4543 - accuracy: 0.7862 - val_loss: 0.6401 - val_accuracy: 0.6800\n",
      "Epoch 7/28\n",
      "146/146 [==============================] - 29s 202ms/step - loss: 0.4283 - accuracy: 0.8010 - val_loss: 1.1884 - val_accuracy: 0.6600\n",
      "Epoch 8/28\n",
      "146/146 [==============================] - 30s 202ms/step - loss: 0.3984 - accuracy: 0.8138 - val_loss: 0.8495 - val_accuracy: 0.6800\n",
      "Epoch 9/28\n",
      "146/146 [==============================] - 29s 201ms/step - loss: 0.4105 - accuracy: 0.7995 - val_loss: 3.1522 - val_accuracy: 0.5000\n",
      "Epoch 10/28\n",
      "146/146 [==============================] - 29s 201ms/step - loss: 0.3723 - accuracy: 0.8207 - val_loss: 0.6117 - val_accuracy: 0.7000\n",
      "Epoch 11/28\n",
      "146/146 [==============================] - 29s 201ms/step - loss: 0.3563 - accuracy: 0.8342 - val_loss: 2.3829 - val_accuracy: 0.5200\n",
      "Epoch 12/28\n",
      "146/146 [==============================] - 29s 201ms/step - loss: 0.3649 - accuracy: 0.8267 - val_loss: 1.5094 - val_accuracy: 0.6400\n",
      "Epoch 13/28\n",
      "146/146 [==============================] - 29s 201ms/step - loss: 0.3376 - accuracy: 0.8400 - val_loss: 1.4205 - val_accuracy: 0.6400\n",
      "Epoch 14/28\n",
      "146/146 [==============================] - 29s 202ms/step - loss: 0.3241 - accuracy: 0.8595 - val_loss: 1.5387 - val_accuracy: 0.6400\n",
      "Epoch 15/28\n",
      "146/146 [==============================] - 29s 201ms/step - loss: 0.3055 - accuracy: 0.8680 - val_loss: 0.6487 - val_accuracy: 0.6600\n",
      "Epoch 16/28\n",
      "146/146 [==============================] - 29s 201ms/step - loss: 0.2918 - accuracy: 0.8698 - val_loss: 0.4504 - val_accuracy: 0.7800\n",
      "Epoch 17/28\n",
      "146/146 [==============================] - 29s 201ms/step - loss: 0.2825 - accuracy: 0.8719 - val_loss: 0.9045 - val_accuracy: 0.7400\n",
      "Epoch 18/28\n",
      "146/146 [==============================] - 29s 201ms/step - loss: 0.2840 - accuracy: 0.8800 - val_loss: 2.3515 - val_accuracy: 0.5900\n",
      "Epoch 19/28\n",
      "146/146 [==============================] - 29s 201ms/step - loss: 0.2610 - accuracy: 0.8845 - val_loss: 0.5987 - val_accuracy: 0.7400\n",
      "Epoch 20/28\n",
      "146/146 [==============================] - 29s 201ms/step - loss: 0.2435 - accuracy: 0.8935 - val_loss: 0.4863 - val_accuracy: 0.7500\n",
      "Epoch 21/28\n",
      "146/146 [==============================] - 29s 201ms/step - loss: 0.2531 - accuracy: 0.8937 - val_loss: 2.4137 - val_accuracy: 0.6500\n",
      "Epoch 22/28\n",
      "146/146 [==============================] - 29s 201ms/step - loss: 0.2465 - accuracy: 0.8931 - val_loss: 0.4469 - val_accuracy: 0.8100\n",
      "Epoch 23/28\n",
      "146/146 [==============================] - 29s 201ms/step - loss: 0.2063 - accuracy: 0.9124 - val_loss: 0.4143 - val_accuracy: 0.8200\n",
      "Epoch 24/28\n",
      "146/146 [==============================] - 29s 201ms/step - loss: 0.2201 - accuracy: 0.9079 - val_loss: 15.2861 - val_accuracy: 0.5100\n",
      "Epoch 25/28\n",
      "146/146 [==============================] - 29s 201ms/step - loss: 0.2117 - accuracy: 0.9132 - val_loss: 3.0247 - val_accuracy: 0.7100\n",
      "Epoch 26/28\n",
      "146/146 [==============================] - 29s 201ms/step - loss: 0.2301 - accuracy: 0.9036 - val_loss: 0.8973 - val_accuracy: 0.7100\n",
      "Epoch 27/28\n",
      "146/146 [==============================] - 29s 201ms/step - loss: 0.2222 - accuracy: 0.9113 - val_loss: 1.5116 - val_accuracy: 0.7500\n",
      "Epoch 28/28\n",
      "146/146 [==============================] - 29s 201ms/step - loss: 0.1707 - accuracy: 0.9308 - val_loss: 1.9687 - val_accuracy: 0.6400\n",
      "\n",
      "-----Model evaluation on test data-----\n",
      "38/38 [==============================] - 2s 61ms/step - loss: 0.8034 - accuracy: 0.7439\n",
      "Test Error Rate:  25.61\n",
      "AUC:  0.7476\n",
      "\n"
     ]
    },
    {
     "data": {
      "text/html": [
       "Waiting for W&B process to finish... <strong style=\"color:green\">(success).</strong>"
      ],
      "text/plain": [
       "<IPython.core.display.HTML object>"
      ]
     },
     "metadata": {},
     "output_type": "display_data"
    },
    {
     "data": {
      "application/vnd.jupyter.widget-view+json": {
       "model_id": "",
       "version_major": 2,
       "version_minor": 0
      },
      "text/plain": [
       "VBox(children=(Label(value='0.004 MB of 0.004 MB uploaded (0.000 MB deduped)\\r'), FloatProgress(value=1.0, max…"
      ]
     },
     "metadata": {},
     "output_type": "display_data"
    },
    {
     "data": {
      "text/html": [
       "<style>\n",
       "    table.wandb td:nth-child(1) { padding: 0 10px; text-align: right }\n",
       "    .wandb-row { display: flex; flex-direction: row; flex-wrap: wrap; width: 100% }\n",
       "    .wandb-col { display: flex; flex-direction: column; flex-basis: 100%; flex: 1; padding: 10px; }\n",
       "    </style>\n",
       "<div class=\"wandb-row\"><div class=\"wandb-col\"><h3>Run history:</h3><br/><table class=\"wandb\"><tr><td>AUC</td><td>▁</td></tr><tr><td>Test Error Rate</td><td>▁</td></tr><tr><td>accuracy</td><td>▁▂▃▃▄▄▅▅▅▅▆▅▆▆▆▆▇▇▇▇▇▇█▇█▇██</td></tr><tr><td>epoch</td><td>▁▁▂▂▂▂▃▃▃▃▄▄▄▄▅▅▅▅▆▆▆▆▇▇▇▇██</td></tr><tr><td>loss</td><td>█▃▂▂▁▁▁▁▁▁▁▁▁▁▁▁▁▁▁▁▁▁▁▁▁▁▁▁</td></tr><tr><td>val_accuracy</td><td>▁▅▅▅▄▅▅▅▂▆▂▅▅▅▅▇▆▄▆▇▅██▂▆▆▇▅</td></tr><tr><td>val_loss</td><td>▁▁▁▁▁▁▁▁▂▁▂▂▁▂▁▁▁▂▁▁▂▁▁█▂▁▂▂</td></tr></table><br/></div><div class=\"wandb-col\"><h3>Run summary:</h3><br/><table class=\"wandb\"><tr><td>AUC</td><td>0.7476</td></tr><tr><td>Test Error Rate</td><td>25.61</td></tr><tr><td>accuracy</td><td>0.93081</td></tr><tr><td>best_epoch</td><td>22</td></tr><tr><td>best_val_loss</td><td>0.41433</td></tr><tr><td>epoch</td><td>27</td></tr><tr><td>loss</td><td>0.17065</td></tr><tr><td>val_accuracy</td><td>0.64</td></tr><tr><td>val_loss</td><td>1.96871</td></tr></table><br/></div></div>"
      ],
      "text/plain": [
       "<IPython.core.display.HTML object>"
      ]
     },
     "metadata": {},
     "output_type": "display_data"
    },
    {
     "data": {
      "text/html": [
       "Synced <strong style=\"color:#cdcd00\">treasured-sweep-20</strong>: <a href=\"https://wandb.ai/ishadowstormi/Coronary%20angiography%20network/runs/7jh7t3u4\" target=\"_blank\">https://wandb.ai/ishadowstormi/Coronary%20angiography%20network/runs/7jh7t3u4</a><br/>Synced 5 W&B file(s), 1 media file(s), 0 artifact file(s) and 0 other file(s)"
      ],
      "text/plain": [
       "<IPython.core.display.HTML object>"
      ]
     },
     "metadata": {},
     "output_type": "display_data"
    },
    {
     "data": {
      "text/html": [
       "Find logs at: <code>./wandb/run-20220324_025457-7jh7t3u4/logs</code>"
      ],
      "text/plain": [
       "<IPython.core.display.HTML object>"
      ]
     },
     "metadata": {},
     "output_type": "display_data"
    },
    {
     "name": "stderr",
     "output_type": "stream",
     "text": [
      "\u001b[34m\u001b[1mwandb\u001b[0m: Agent Starting Run: 7wktnrgr with config:\n",
      "\u001b[34m\u001b[1mwandb\u001b[0m: \tbatch_size: 32\n",
      "\u001b[34m\u001b[1mwandb\u001b[0m: \tconv_layer1: 32\n",
      "\u001b[34m\u001b[1mwandb\u001b[0m: \tconv_layer2: 32\n",
      "\u001b[34m\u001b[1mwandb\u001b[0m: \tconv_layer3: 128\n",
      "\u001b[34m\u001b[1mwandb\u001b[0m: \tconv_layer4: 64\n",
      "\u001b[34m\u001b[1mwandb\u001b[0m: \tdense: 512\n",
      "Failed to detect the name of this notebook, you can set it manually with the WANDB_NOTEBOOK_NAME environment variable to enable code saving.\n"
     ]
    },
    {
     "data": {
      "text/html": [
       "Tracking run with wandb version 0.12.11"
      ],
      "text/plain": [
       "<IPython.core.display.HTML object>"
      ]
     },
     "metadata": {},
     "output_type": "display_data"
    },
    {
     "data": {
      "text/html": [
       "Run data is saved locally in <code>/home/jovyan/data/lightning/FrantisekUrban/wandb/run-20220324_030908-7wktnrgr</code>"
      ],
      "text/plain": [
       "<IPython.core.display.HTML object>"
      ]
     },
     "metadata": {},
     "output_type": "display_data"
    },
    {
     "data": {
      "text/html": [
       "Syncing run <strong><a href=\"https://wandb.ai/ishadowstormi/Coronary%20angiography%20network/runs/7wktnrgr\" target=\"_blank\">fresh-sweep-21</a></strong> to <a href=\"https://wandb.ai/ishadowstormi/Coronary%20angiography%20network\" target=\"_blank\">Weights & Biases</a> (<a href=\"https://wandb.me/run\" target=\"_blank\">docs</a>)<br/>Sweep page:  <a href=\"https://wandb.ai/ishadowstormi/Coronary%20angiography%20network/sweeps/wco4rtlh\" target=\"_blank\">https://wandb.ai/ishadowstormi/Coronary%20angiography%20network/sweeps/wco4rtlh</a>"
      ],
      "text/plain": [
       "<IPython.core.display.HTML object>"
      ]
     },
     "metadata": {},
     "output_type": "display_data"
    },
    {
     "name": "stdout",
     "output_type": "stream",
     "text": [
      "Epoch 1/28\n",
      "  2/146 [..............................] - ETA: 15s - loss: 1.9873 - accuracy: 0.5625WARNING:tensorflow:Callbacks method `on_train_batch_end` is slow compared to the batch time (batch time: 0.0809s vs `on_train_batch_end` time: 0.1382s). Check your callbacks.\n",
      "146/146 [==============================] - 31s 213ms/step - loss: 1.5628 - accuracy: 0.6699 - val_loss: 0.6102 - val_accuracy: 0.6600\n",
      "Epoch 2/28\n",
      "146/146 [==============================] - 31s 211ms/step - loss: 0.5356 - accuracy: 0.7395 - val_loss: 2.0141 - val_accuracy: 0.5700\n",
      "Epoch 3/28\n",
      "146/146 [==============================] - 31s 212ms/step - loss: 0.5139 - accuracy: 0.7455 - val_loss: 2.2425 - val_accuracy: 0.5600\n",
      "Epoch 4/28\n",
      "146/146 [==============================] - 31s 212ms/step - loss: 0.4870 - accuracy: 0.7652 - val_loss: 2.4326 - val_accuracy: 0.5000\n",
      "Epoch 5/28\n",
      "146/146 [==============================] - 31s 212ms/step - loss: 0.4718 - accuracy: 0.7791 - val_loss: 1.1428 - val_accuracy: 0.5900\n",
      "Epoch 6/28\n",
      "146/146 [==============================] - 31s 212ms/step - loss: 0.4508 - accuracy: 0.7879 - val_loss: 1.7589 - val_accuracy: 0.6100\n",
      "Epoch 7/28\n",
      "146/146 [==============================] - 31s 212ms/step - loss: 0.4437 - accuracy: 0.7999 - val_loss: 0.7334 - val_accuracy: 0.5500\n",
      "Epoch 8/28\n",
      "146/146 [==============================] - 31s 211ms/step - loss: 0.4176 - accuracy: 0.8033 - val_loss: 0.5348 - val_accuracy: 0.7500\n",
      "Epoch 9/28\n",
      "146/146 [==============================] - 31s 211ms/step - loss: 0.4020 - accuracy: 0.8072 - val_loss: 0.9507 - val_accuracy: 0.6200\n",
      "Epoch 10/28\n",
      "146/146 [==============================] - 31s 211ms/step - loss: 0.3584 - accuracy: 0.8305 - val_loss: 2.3138 - val_accuracy: 0.6100\n",
      "Epoch 11/28\n",
      "146/146 [==============================] - 31s 212ms/step - loss: 0.3629 - accuracy: 0.8363 - val_loss: 3.6210 - val_accuracy: 0.5000\n",
      "Epoch 12/28\n",
      "146/146 [==============================] - 31s 211ms/step - loss: 0.3341 - accuracy: 0.8485 - val_loss: 0.6233 - val_accuracy: 0.7100\n",
      "Epoch 13/28\n",
      "146/146 [==============================] - 31s 211ms/step - loss: 0.3130 - accuracy: 0.8601 - val_loss: 0.4582 - val_accuracy: 0.7400\n",
      "Epoch 14/28\n",
      "146/146 [==============================] - 31s 211ms/step - loss: 0.3052 - accuracy: 0.8657 - val_loss: 0.6995 - val_accuracy: 0.7500\n",
      "Epoch 15/28\n",
      "146/146 [==============================] - 31s 211ms/step - loss: 0.3048 - accuracy: 0.8653 - val_loss: 0.3965 - val_accuracy: 0.8500\n",
      "Epoch 16/28\n",
      "146/146 [==============================] - 31s 211ms/step - loss: 0.2603 - accuracy: 0.8899 - val_loss: 0.4475 - val_accuracy: 0.8500\n",
      "Epoch 17/28\n",
      "146/146 [==============================] - 31s 211ms/step - loss: 0.2579 - accuracy: 0.8890 - val_loss: 2.0330 - val_accuracy: 0.6000\n",
      "Epoch 18/28\n",
      "146/146 [==============================] - 31s 211ms/step - loss: 0.2600 - accuracy: 0.8854 - val_loss: 0.3707 - val_accuracy: 0.8400\n",
      "Epoch 19/28\n",
      "146/146 [==============================] - 31s 211ms/step - loss: 0.2367 - accuracy: 0.8957 - val_loss: 0.6458 - val_accuracy: 0.7000\n",
      "Epoch 20/28\n",
      "146/146 [==============================] - 31s 211ms/step - loss: 0.2284 - accuracy: 0.9070 - val_loss: 1.4095 - val_accuracy: 0.6600\n",
      "Epoch 21/28\n",
      "146/146 [==============================] - 31s 211ms/step - loss: 0.2432 - accuracy: 0.8967 - val_loss: 3.6146 - val_accuracy: 0.5700\n",
      "Epoch 22/28\n",
      "146/146 [==============================] - 31s 211ms/step - loss: 0.1959 - accuracy: 0.9141 - val_loss: 0.5660 - val_accuracy: 0.8300\n",
      "Epoch 23/28\n",
      "146/146 [==============================] - 31s 211ms/step - loss: 0.2229 - accuracy: 0.9090 - val_loss: 0.9801 - val_accuracy: 0.7600\n",
      "Epoch 24/28\n",
      "146/146 [==============================] - 31s 211ms/step - loss: 0.2039 - accuracy: 0.9152 - val_loss: 0.4308 - val_accuracy: 0.8000\n",
      "Epoch 25/28\n",
      "146/146 [==============================] - 31s 211ms/step - loss: 0.1868 - accuracy: 0.9246 - val_loss: 0.5007 - val_accuracy: 0.8000\n",
      "Epoch 26/28\n",
      "146/146 [==============================] - 31s 211ms/step - loss: 0.1778 - accuracy: 0.9272 - val_loss: 0.7484 - val_accuracy: 0.7500\n",
      "Epoch 27/28\n",
      "146/146 [==============================] - 31s 211ms/step - loss: 0.1646 - accuracy: 0.9377 - val_loss: 0.5572 - val_accuracy: 0.8500\n",
      "Epoch 28/28\n",
      "146/146 [==============================] - 31s 211ms/step - loss: 0.1697 - accuracy: 0.9314 - val_loss: 0.6098 - val_accuracy: 0.8100\n",
      "\n",
      "-----Model evaluation on test data-----\n",
      "38/38 [==============================] - 2s 66ms/step - loss: 0.1923 - accuracy: 0.9353\n",
      "Test Error Rate:  6.47\n",
      "AUC:  0.9319\n",
      "\n"
     ]
    },
    {
     "data": {
      "text/html": [
       "Waiting for W&B process to finish... <strong style=\"color:green\">(success).</strong>"
      ],
      "text/plain": [
       "<IPython.core.display.HTML object>"
      ]
     },
     "metadata": {},
     "output_type": "display_data"
    },
    {
     "data": {
      "application/vnd.jupyter.widget-view+json": {
       "model_id": "",
       "version_major": 2,
       "version_minor": 0
      },
      "text/plain": [
       "VBox(children=(Label(value='0.004 MB of 0.004 MB uploaded (0.000 MB deduped)\\r'), FloatProgress(value=1.0, max…"
      ]
     },
     "metadata": {},
     "output_type": "display_data"
    },
    {
     "data": {
      "text/html": [
       "<style>\n",
       "    table.wandb td:nth-child(1) { padding: 0 10px; text-align: right }\n",
       "    .wandb-row { display: flex; flex-direction: row; flex-wrap: wrap; width: 100% }\n",
       "    .wandb-col { display: flex; flex-direction: column; flex-basis: 100%; flex: 1; padding: 10px; }\n",
       "    </style>\n",
       "<div class=\"wandb-row\"><div class=\"wandb-col\"><h3>Run history:</h3><br/><table class=\"wandb\"><tr><td>AUC</td><td>▁</td></tr><tr><td>Test Error Rate</td><td>▁</td></tr><tr><td>accuracy</td><td>▁▃▃▃▄▄▄▄▅▅▅▆▆▆▆▇▇▇▇▇▇▇▇▇████</td></tr><tr><td>epoch</td><td>▁▁▂▂▂▂▃▃▃▃▄▄▄▄▅▅▅▅▆▆▆▆▇▇▇▇██</td></tr><tr><td>loss</td><td>█▃▃▃▃▂▂▂▂▂▂▂▂▂▂▁▁▁▁▁▁▁▁▁▁▁▁▁</td></tr><tr><td>val_accuracy</td><td>▄▂▂▁▃▃▂▆▃▃▁▅▆▆██▃█▅▄▂█▆▇▇▆█▇</td></tr><tr><td>val_loss</td><td>▂▅▅▅▃▄▂▁▂▅█▂▁▂▁▁▅▁▂▃█▁▂▁▁▂▁▂</td></tr></table><br/></div><div class=\"wandb-col\"><h3>Run summary:</h3><br/><table class=\"wandb\"><tr><td>AUC</td><td>0.9319</td></tr><tr><td>Test Error Rate</td><td>6.47</td></tr><tr><td>accuracy</td><td>0.93145</td></tr><tr><td>best_epoch</td><td>17</td></tr><tr><td>best_val_loss</td><td>0.37071</td></tr><tr><td>epoch</td><td>27</td></tr><tr><td>loss</td><td>0.16967</td></tr><tr><td>val_accuracy</td><td>0.81</td></tr><tr><td>val_loss</td><td>0.60978</td></tr></table><br/></div></div>"
      ],
      "text/plain": [
       "<IPython.core.display.HTML object>"
      ]
     },
     "metadata": {},
     "output_type": "display_data"
    },
    {
     "data": {
      "text/html": [
       "Synced <strong style=\"color:#cdcd00\">fresh-sweep-21</strong>: <a href=\"https://wandb.ai/ishadowstormi/Coronary%20angiography%20network/runs/7wktnrgr\" target=\"_blank\">https://wandb.ai/ishadowstormi/Coronary%20angiography%20network/runs/7wktnrgr</a><br/>Synced 5 W&B file(s), 1 media file(s), 0 artifact file(s) and 0 other file(s)"
      ],
      "text/plain": [
       "<IPython.core.display.HTML object>"
      ]
     },
     "metadata": {},
     "output_type": "display_data"
    },
    {
     "data": {
      "text/html": [
       "Find logs at: <code>./wandb/run-20220324_030908-7wktnrgr/logs</code>"
      ],
      "text/plain": [
       "<IPython.core.display.HTML object>"
      ]
     },
     "metadata": {},
     "output_type": "display_data"
    },
    {
     "name": "stderr",
     "output_type": "stream",
     "text": [
      "\u001b[34m\u001b[1mwandb\u001b[0m: Agent Starting Run: qo48odwi with config:\n",
      "\u001b[34m\u001b[1mwandb\u001b[0m: \tbatch_size: 32\n",
      "\u001b[34m\u001b[1mwandb\u001b[0m: \tconv_layer1: 32\n",
      "\u001b[34m\u001b[1mwandb\u001b[0m: \tconv_layer2: 32\n",
      "\u001b[34m\u001b[1mwandb\u001b[0m: \tconv_layer3: 128\n",
      "\u001b[34m\u001b[1mwandb\u001b[0m: \tconv_layer4: 64\n",
      "\u001b[34m\u001b[1mwandb\u001b[0m: \tdense: 1024\n",
      "Failed to detect the name of this notebook, you can set it manually with the WANDB_NOTEBOOK_NAME environment variable to enable code saving.\n"
     ]
    },
    {
     "data": {
      "text/html": [
       "Tracking run with wandb version 0.12.11"
      ],
      "text/plain": [
       "<IPython.core.display.HTML object>"
      ]
     },
     "metadata": {},
     "output_type": "display_data"
    },
    {
     "data": {
      "text/html": [
       "Run data is saved locally in <code>/home/jovyan/data/lightning/FrantisekUrban/wandb/run-20220324_032356-qo48odwi</code>"
      ],
      "text/plain": [
       "<IPython.core.display.HTML object>"
      ]
     },
     "metadata": {},
     "output_type": "display_data"
    },
    {
     "data": {
      "text/html": [
       "Syncing run <strong><a href=\"https://wandb.ai/ishadowstormi/Coronary%20angiography%20network/runs/qo48odwi\" target=\"_blank\">dark-sweep-22</a></strong> to <a href=\"https://wandb.ai/ishadowstormi/Coronary%20angiography%20network\" target=\"_blank\">Weights & Biases</a> (<a href=\"https://wandb.me/run\" target=\"_blank\">docs</a>)<br/>Sweep page:  <a href=\"https://wandb.ai/ishadowstormi/Coronary%20angiography%20network/sweeps/wco4rtlh\" target=\"_blank\">https://wandb.ai/ishadowstormi/Coronary%20angiography%20network/sweeps/wco4rtlh</a>"
      ],
      "text/plain": [
       "<IPython.core.display.HTML object>"
      ]
     },
     "metadata": {},
     "output_type": "display_data"
    },
    {
     "name": "stdout",
     "output_type": "stream",
     "text": [
      "Epoch 1/28\n",
      "  2/146 [..............................] - ETA: 15s - loss: 1.6943 - accuracy: 0.6094WARNING:tensorflow:Callbacks method `on_train_batch_end` is slow compared to the batch time (batch time: 0.0799s vs `on_train_batch_end` time: 0.1398s). Check your callbacks.\n",
      "146/146 [==============================] - 31s 214ms/step - loss: 2.6650 - accuracy: 0.6562 - val_loss: 3.8811 - val_accuracy: 0.6300\n",
      "Epoch 2/28\n",
      "146/146 [==============================] - 31s 212ms/step - loss: 0.7258 - accuracy: 0.7256 - val_loss: 1.5014 - val_accuracy: 0.5800\n",
      "Epoch 3/28\n",
      "146/146 [==============================] - 31s 212ms/step - loss: 0.4965 - accuracy: 0.7725 - val_loss: 0.6154 - val_accuracy: 0.6600\n",
      "Epoch 4/28\n",
      "146/146 [==============================] - 31s 212ms/step - loss: 0.4191 - accuracy: 0.8130 - val_loss: 0.9877 - val_accuracy: 0.6700\n",
      "Epoch 5/28\n",
      "146/146 [==============================] - 31s 213ms/step - loss: 0.4145 - accuracy: 0.8040 - val_loss: 0.6056 - val_accuracy: 0.6000\n",
      "Epoch 6/28\n",
      "146/146 [==============================] - 31s 213ms/step - loss: 0.3663 - accuracy: 0.8269 - val_loss: 1.9999 - val_accuracy: 0.6000\n",
      "Epoch 7/28\n",
      "146/146 [==============================] - 31s 213ms/step - loss: 0.3499 - accuracy: 0.8357 - val_loss: 0.5879 - val_accuracy: 0.7300\n",
      "Epoch 8/28\n",
      "146/146 [==============================] - 31s 213ms/step - loss: 0.3337 - accuracy: 0.8492 - val_loss: 0.5363 - val_accuracy: 0.7800\n",
      "Epoch 9/28\n",
      "146/146 [==============================] - 31s 212ms/step - loss: 0.3063 - accuracy: 0.8685 - val_loss: 0.6550 - val_accuracy: 0.6500\n",
      "Epoch 10/28\n",
      "146/146 [==============================] - 31s 212ms/step - loss: 0.2833 - accuracy: 0.8747 - val_loss: 0.6117 - val_accuracy: 0.7500\n",
      "Epoch 11/28\n",
      "146/146 [==============================] - 31s 212ms/step - loss: 0.2908 - accuracy: 0.8717 - val_loss: 0.9217 - val_accuracy: 0.6900\n",
      "Epoch 12/28\n",
      "146/146 [==============================] - 31s 212ms/step - loss: 0.2639 - accuracy: 0.8845 - val_loss: 0.3761 - val_accuracy: 0.8400\n",
      "Epoch 13/28\n",
      "146/146 [==============================] - 31s 212ms/step - loss: 0.2388 - accuracy: 0.8991 - val_loss: 0.6928 - val_accuracy: 0.7800\n",
      "Epoch 14/28\n",
      "146/146 [==============================] - 31s 212ms/step - loss: 0.2646 - accuracy: 0.8905 - val_loss: 0.6609 - val_accuracy: 0.6600\n",
      "Epoch 15/28\n",
      "146/146 [==============================] - 31s 212ms/step - loss: 0.2178 - accuracy: 0.9064 - val_loss: 0.6407 - val_accuracy: 0.7900\n",
      "Epoch 16/28\n",
      "146/146 [==============================] - 31s 212ms/step - loss: 0.2218 - accuracy: 0.9070 - val_loss: 1.6037 - val_accuracy: 0.6500\n",
      "Epoch 17/28\n",
      "146/146 [==============================] - 31s 212ms/step - loss: 0.2191 - accuracy: 0.9066 - val_loss: 2.0611 - val_accuracy: 0.5900\n",
      "Epoch 18/28\n",
      "146/146 [==============================] - 31s 213ms/step - loss: 0.1951 - accuracy: 0.9190 - val_loss: 5.1427 - val_accuracy: 0.5200\n",
      "Epoch 19/28\n",
      "146/146 [==============================] - 31s 213ms/step - loss: 0.1999 - accuracy: 0.9150 - val_loss: 0.5468 - val_accuracy: 0.8000\n",
      "Epoch 20/28\n",
      "146/146 [==============================] - 31s 213ms/step - loss: 0.1694 - accuracy: 0.9284 - val_loss: 0.9545 - val_accuracy: 0.7100\n",
      "Epoch 21/28\n",
      "146/146 [==============================] - 31s 215ms/step - loss: 0.1757 - accuracy: 0.9287 - val_loss: 0.8778 - val_accuracy: 0.8300\n",
      "Epoch 22/28\n",
      "146/146 [==============================] - 31s 213ms/step - loss: 0.1597 - accuracy: 0.9336 - val_loss: 0.6387 - val_accuracy: 0.7900\n",
      "Epoch 23/28\n",
      "146/146 [==============================] - 31s 213ms/step - loss: 0.1538 - accuracy: 0.9383 - val_loss: 1.1179 - val_accuracy: 0.7200\n",
      "Epoch 24/28\n",
      "146/146 [==============================] - 31s 212ms/step - loss: 0.1806 - accuracy: 0.9269 - val_loss: 1.1436 - val_accuracy: 0.7200\n",
      "Epoch 25/28\n",
      "146/146 [==============================] - 31s 212ms/step - loss: 0.1496 - accuracy: 0.9417 - val_loss: 0.6448 - val_accuracy: 0.8200\n",
      "Epoch 26/28\n",
      "146/146 [==============================] - 31s 212ms/step - loss: 0.1458 - accuracy: 0.9432 - val_loss: 1.5310 - val_accuracy: 0.7300\n",
      "Epoch 27/28\n",
      "146/146 [==============================] - 31s 212ms/step - loss: 0.1373 - accuracy: 0.9447 - val_loss: 0.7033 - val_accuracy: 0.8000\n",
      "Epoch 28/28\n",
      "146/146 [==============================] - 31s 212ms/step - loss: 0.1358 - accuracy: 0.9518 - val_loss: 0.7518 - val_accuracy: 0.7400\n",
      "\n",
      "-----Model evaluation on test data-----\n",
      "38/38 [==============================] - 2s 65ms/step - loss: 0.3819 - accuracy: 0.8665\n",
      "Test Error Rate:  13.35\n",
      "AUC:  0.8944\n",
      "\n"
     ]
    },
    {
     "data": {
      "text/html": [
       "Waiting for W&B process to finish... <strong style=\"color:green\">(success).</strong>"
      ],
      "text/plain": [
       "<IPython.core.display.HTML object>"
      ]
     },
     "metadata": {},
     "output_type": "display_data"
    },
    {
     "data": {
      "application/vnd.jupyter.widget-view+json": {
       "model_id": "",
       "version_major": 2,
       "version_minor": 0
      },
      "text/plain": [
       "VBox(children=(Label(value='0.004 MB of 0.004 MB uploaded (0.000 MB deduped)\\r'), FloatProgress(value=1.0, max…"
      ]
     },
     "metadata": {},
     "output_type": "display_data"
    },
    {
     "data": {
      "text/html": [
       "<style>\n",
       "    table.wandb td:nth-child(1) { padding: 0 10px; text-align: right }\n",
       "    .wandb-row { display: flex; flex-direction: row; flex-wrap: wrap; width: 100% }\n",
       "    .wandb-col { display: flex; flex-direction: column; flex-basis: 100%; flex: 1; padding: 10px; }\n",
       "    </style>\n",
       "<div class=\"wandb-row\"><div class=\"wandb-col\"><h3>Run history:</h3><br/><table class=\"wandb\"><tr><td>AUC</td><td>▁</td></tr><tr><td>Test Error Rate</td><td>▁</td></tr><tr><td>accuracy</td><td>▁▃▄▅▅▅▅▆▆▆▆▆▇▇▇▇▇▇▇▇▇██▇████</td></tr><tr><td>epoch</td><td>▁▁▂▂▂▂▃▃▃▃▄▄▄▄▅▅▅▅▆▆▆▆▇▇▇▇██</td></tr><tr><td>loss</td><td>█▃▂▂▂▂▂▂▁▁▁▁▁▁▁▁▁▁▁▁▁▁▁▁▁▁▁▁</td></tr><tr><td>val_accuracy</td><td>▃▂▄▄▃▃▆▇▄▆▅█▇▄▇▄▃▁▇▅█▇▅▅█▆▇▆</td></tr><tr><td>val_loss</td><td>▆▃▁▂▁▃▁▁▁▁▂▁▁▁▁▃▃█▁▂▂▁▂▂▁▃▁▂</td></tr></table><br/></div><div class=\"wandb-col\"><h3>Run summary:</h3><br/><table class=\"wandb\"><tr><td>AUC</td><td>0.8944</td></tr><tr><td>Test Error Rate</td><td>13.35</td></tr><tr><td>accuracy</td><td>0.9518</td></tr><tr><td>best_epoch</td><td>11</td></tr><tr><td>best_val_loss</td><td>0.37609</td></tr><tr><td>epoch</td><td>27</td></tr><tr><td>loss</td><td>0.13583</td></tr><tr><td>val_accuracy</td><td>0.74</td></tr><tr><td>val_loss</td><td>0.75183</td></tr></table><br/></div></div>"
      ],
      "text/plain": [
       "<IPython.core.display.HTML object>"
      ]
     },
     "metadata": {},
     "output_type": "display_data"
    },
    {
     "data": {
      "text/html": [
       "Synced <strong style=\"color:#cdcd00\">dark-sweep-22</strong>: <a href=\"https://wandb.ai/ishadowstormi/Coronary%20angiography%20network/runs/qo48odwi\" target=\"_blank\">https://wandb.ai/ishadowstormi/Coronary%20angiography%20network/runs/qo48odwi</a><br/>Synced 5 W&B file(s), 1 media file(s), 0 artifact file(s) and 0 other file(s)"
      ],
      "text/plain": [
       "<IPython.core.display.HTML object>"
      ]
     },
     "metadata": {},
     "output_type": "display_data"
    },
    {
     "data": {
      "text/html": [
       "Find logs at: <code>./wandb/run-20220324_032356-qo48odwi/logs</code>"
      ],
      "text/plain": [
       "<IPython.core.display.HTML object>"
      ]
     },
     "metadata": {},
     "output_type": "display_data"
    },
    {
     "name": "stderr",
     "output_type": "stream",
     "text": [
      "\u001b[34m\u001b[1mwandb\u001b[0m: Agent Starting Run: k47krr5v with config:\n",
      "\u001b[34m\u001b[1mwandb\u001b[0m: \tbatch_size: 32\n",
      "\u001b[34m\u001b[1mwandb\u001b[0m: \tconv_layer1: 32\n",
      "\u001b[34m\u001b[1mwandb\u001b[0m: \tconv_layer2: 32\n",
      "\u001b[34m\u001b[1mwandb\u001b[0m: \tconv_layer3: 128\n",
      "\u001b[34m\u001b[1mwandb\u001b[0m: \tconv_layer4: 128\n",
      "\u001b[34m\u001b[1mwandb\u001b[0m: \tdense: 512\n",
      "Failed to detect the name of this notebook, you can set it manually with the WANDB_NOTEBOOK_NAME environment variable to enable code saving.\n"
     ]
    },
    {
     "data": {
      "text/html": [
       "Tracking run with wandb version 0.12.11"
      ],
      "text/plain": [
       "<IPython.core.display.HTML object>"
      ]
     },
     "metadata": {},
     "output_type": "display_data"
    },
    {
     "data": {
      "text/html": [
       "Run data is saved locally in <code>/home/jovyan/data/lightning/FrantisekUrban/wandb/run-20220324_033852-k47krr5v</code>"
      ],
      "text/plain": [
       "<IPython.core.display.HTML object>"
      ]
     },
     "metadata": {},
     "output_type": "display_data"
    },
    {
     "data": {
      "text/html": [
       "Syncing run <strong><a href=\"https://wandb.ai/ishadowstormi/Coronary%20angiography%20network/runs/k47krr5v\" target=\"_blank\">noble-sweep-23</a></strong> to <a href=\"https://wandb.ai/ishadowstormi/Coronary%20angiography%20network\" target=\"_blank\">Weights & Biases</a> (<a href=\"https://wandb.me/run\" target=\"_blank\">docs</a>)<br/>Sweep page:  <a href=\"https://wandb.ai/ishadowstormi/Coronary%20angiography%20network/sweeps/wco4rtlh\" target=\"_blank\">https://wandb.ai/ishadowstormi/Coronary%20angiography%20network/sweeps/wco4rtlh</a>"
      ],
      "text/plain": [
       "<IPython.core.display.HTML object>"
      ]
     },
     "metadata": {},
     "output_type": "display_data"
    },
    {
     "name": "stdout",
     "output_type": "stream",
     "text": [
      "Epoch 1/28\n",
      "  2/146 [..............................] - ETA: 16s - loss: 5.5853 - accuracy: 0.3906WARNING:tensorflow:Callbacks method `on_train_batch_end` is slow compared to the batch time (batch time: 0.0816s vs `on_train_batch_end` time: 0.1437s). Check your callbacks.\n",
      "146/146 [==============================] - 32s 219ms/step - loss: 3.9646 - accuracy: 0.6493 - val_loss: 1.3305 - val_accuracy: 0.4600\n",
      "Epoch 2/28\n",
      "146/146 [==============================] - 32s 218ms/step - loss: 0.6438 - accuracy: 0.7018 - val_loss: 2.7215 - val_accuracy: 0.4900\n",
      "Epoch 3/28\n",
      "146/146 [==============================] - 32s 218ms/step - loss: 0.5223 - accuracy: 0.7354 - val_loss: 1.9205 - val_accuracy: 0.6000\n",
      "Epoch 4/28\n",
      "146/146 [==============================] - 32s 217ms/step - loss: 0.5106 - accuracy: 0.7436 - val_loss: 0.6355 - val_accuracy: 0.6800\n",
      "Epoch 5/28\n",
      "146/146 [==============================] - 32s 217ms/step - loss: 0.4925 - accuracy: 0.7601 - val_loss: 0.6084 - val_accuracy: 0.6300\n",
      "Epoch 6/28\n",
      "146/146 [==============================] - 32s 218ms/step - loss: 0.4842 - accuracy: 0.7669 - val_loss: 0.6669 - val_accuracy: 0.6800\n",
      "Epoch 7/28\n",
      "146/146 [==============================] - 32s 218ms/step - loss: 0.4614 - accuracy: 0.7815 - val_loss: 1.2130 - val_accuracy: 0.5900\n",
      "Epoch 8/28\n",
      "146/146 [==============================] - 32s 218ms/step - loss: 0.4337 - accuracy: 0.8076 - val_loss: 0.7291 - val_accuracy: 0.5900\n",
      "Epoch 9/28\n",
      "146/146 [==============================] - 32s 217ms/step - loss: 0.4118 - accuracy: 0.8087 - val_loss: 0.6279 - val_accuracy: 0.7200\n",
      "Epoch 10/28\n",
      "146/146 [==============================] - 32s 217ms/step - loss: 0.3850 - accuracy: 0.8260 - val_loss: 0.7507 - val_accuracy: 0.6500\n",
      "Epoch 11/28\n",
      "146/146 [==============================] - 32s 218ms/step - loss: 0.3707 - accuracy: 0.8256 - val_loss: 0.6020 - val_accuracy: 0.7400\n",
      "Epoch 12/28\n",
      "146/146 [==============================] - 32s 218ms/step - loss: 0.3688 - accuracy: 0.8271 - val_loss: 1.1240 - val_accuracy: 0.6500\n",
      "Epoch 13/28\n",
      "146/146 [==============================] - 32s 218ms/step - loss: 0.3841 - accuracy: 0.8171 - val_loss: 0.8343 - val_accuracy: 0.6200\n",
      "Epoch 14/28\n",
      "146/146 [==============================] - 32s 218ms/step - loss: 0.3338 - accuracy: 0.8438 - val_loss: 0.7339 - val_accuracy: 0.6700\n",
      "Epoch 15/28\n",
      "146/146 [==============================] - 32s 217ms/step - loss: 0.3385 - accuracy: 0.8483 - val_loss: 1.8834 - val_accuracy: 0.5800\n",
      "Epoch 16/28\n",
      "146/146 [==============================] - 32s 217ms/step - loss: 0.3382 - accuracy: 0.8425 - val_loss: 0.6168 - val_accuracy: 0.6700\n",
      "Epoch 17/28\n",
      "146/146 [==============================] - 32s 218ms/step - loss: 0.2961 - accuracy: 0.8569 - val_loss: 0.6119 - val_accuracy: 0.7600\n",
      "Epoch 18/28\n",
      "146/146 [==============================] - 32s 217ms/step - loss: 0.2983 - accuracy: 0.8612 - val_loss: 0.5239 - val_accuracy: 0.7700\n",
      "Epoch 19/28\n",
      "146/146 [==============================] - 32s 217ms/step - loss: 0.3042 - accuracy: 0.8633 - val_loss: 0.6083 - val_accuracy: 0.7400\n",
      "Epoch 20/28\n",
      "146/146 [==============================] - 32s 217ms/step - loss: 0.2835 - accuracy: 0.8766 - val_loss: 0.9088 - val_accuracy: 0.6100\n",
      "Epoch 21/28\n",
      "146/146 [==============================] - 32s 217ms/step - loss: 0.3221 - accuracy: 0.8518 - val_loss: 0.7260 - val_accuracy: 0.7000\n",
      "Epoch 22/28\n",
      "146/146 [==============================] - 32s 217ms/step - loss: 0.2797 - accuracy: 0.8736 - val_loss: 0.5043 - val_accuracy: 0.6900\n",
      "Epoch 23/28\n",
      "146/146 [==============================] - 32s 217ms/step - loss: 0.2678 - accuracy: 0.8873 - val_loss: 0.6995 - val_accuracy: 0.7300\n",
      "Epoch 24/28\n",
      "146/146 [==============================] - 32s 218ms/step - loss: 0.2591 - accuracy: 0.8852 - val_loss: 0.4220 - val_accuracy: 0.7800\n",
      "Epoch 25/28\n",
      "146/146 [==============================] - 32s 217ms/step - loss: 0.2538 - accuracy: 0.8884 - val_loss: 1.1487 - val_accuracy: 0.7200\n",
      "Epoch 26/28\n",
      "146/146 [==============================] - 32s 217ms/step - loss: 0.2391 - accuracy: 0.8965 - val_loss: 0.3044 - val_accuracy: 0.8800\n",
      "Epoch 27/28\n",
      "146/146 [==============================] - 32s 217ms/step - loss: 0.2448 - accuracy: 0.8918 - val_loss: 0.4746 - val_accuracy: 0.8200\n",
      "Epoch 28/28\n",
      "146/146 [==============================] - 32s 217ms/step - loss: 0.2206 - accuracy: 0.9081 - val_loss: 0.4609 - val_accuracy: 0.8400\n",
      "\n",
      "-----Model evaluation on test data-----\n",
      "38/38 [==============================] - 3s 67ms/step - loss: 0.2301 - accuracy: 0.8984\n",
      "Test Error Rate:  10.16\n",
      "AUC:  0.9256\n",
      "\n"
     ]
    },
    {
     "data": {
      "text/html": [
       "Waiting for W&B process to finish... <strong style=\"color:green\">(success).</strong>"
      ],
      "text/plain": [
       "<IPython.core.display.HTML object>"
      ]
     },
     "metadata": {},
     "output_type": "display_data"
    },
    {
     "data": {
      "application/vnd.jupyter.widget-view+json": {
       "model_id": "",
       "version_major": 2,
       "version_minor": 0
      },
      "text/plain": [
       "VBox(children=(Label(value='0.004 MB of 0.004 MB uploaded (0.000 MB deduped)\\r'), FloatProgress(value=1.0, max…"
      ]
     },
     "metadata": {},
     "output_type": "display_data"
    },
    {
     "data": {
      "text/html": [
       "<style>\n",
       "    table.wandb td:nth-child(1) { padding: 0 10px; text-align: right }\n",
       "    .wandb-row { display: flex; flex-direction: row; flex-wrap: wrap; width: 100% }\n",
       "    .wandb-col { display: flex; flex-direction: column; flex-basis: 100%; flex: 1; padding: 10px; }\n",
       "    </style>\n",
       "<div class=\"wandb-row\"><div class=\"wandb-col\"><h3>Run history:</h3><br/><table class=\"wandb\"><tr><td>AUC</td><td>▁</td></tr><tr><td>Test Error Rate</td><td>▁</td></tr><tr><td>accuracy</td><td>▁▂▃▄▄▄▅▅▅▆▆▆▆▆▆▆▇▇▇▇▆▇▇▇▇███</td></tr><tr><td>epoch</td><td>▁▁▂▂▂▂▃▃▃▃▄▄▄▄▅▅▅▅▆▆▆▆▇▇▇▇██</td></tr><tr><td>loss</td><td>█▂▂▂▂▁▁▁▁▁▁▁▁▁▁▁▁▁▁▁▁▁▁▁▁▁▁▁</td></tr><tr><td>val_accuracy</td><td>▁▂▃▅▄▅▃▃▅▄▆▄▄▅▃▅▆▆▆▄▅▅▆▆▅█▇▇</td></tr><tr><td>val_loss</td><td>▄█▆▂▂▂▄▂▂▂▂▃▃▂▆▂▂▂▂▃▂▂▂▁▃▁▁▁</td></tr></table><br/></div><div class=\"wandb-col\"><h3>Run summary:</h3><br/><table class=\"wandb\"><tr><td>AUC</td><td>0.9256</td></tr><tr><td>Test Error Rate</td><td>10.16</td></tr><tr><td>accuracy</td><td>0.9081</td></tr><tr><td>best_epoch</td><td>25</td></tr><tr><td>best_val_loss</td><td>0.30437</td></tr><tr><td>epoch</td><td>27</td></tr><tr><td>loss</td><td>0.22057</td></tr><tr><td>val_accuracy</td><td>0.84</td></tr><tr><td>val_loss</td><td>0.46094</td></tr></table><br/></div></div>"
      ],
      "text/plain": [
       "<IPython.core.display.HTML object>"
      ]
     },
     "metadata": {},
     "output_type": "display_data"
    },
    {
     "data": {
      "text/html": [
       "Synced <strong style=\"color:#cdcd00\">noble-sweep-23</strong>: <a href=\"https://wandb.ai/ishadowstormi/Coronary%20angiography%20network/runs/k47krr5v\" target=\"_blank\">https://wandb.ai/ishadowstormi/Coronary%20angiography%20network/runs/k47krr5v</a><br/>Synced 5 W&B file(s), 1 media file(s), 0 artifact file(s) and 0 other file(s)"
      ],
      "text/plain": [
       "<IPython.core.display.HTML object>"
      ]
     },
     "metadata": {},
     "output_type": "display_data"
    },
    {
     "data": {
      "text/html": [
       "Find logs at: <code>./wandb/run-20220324_033852-k47krr5v/logs</code>"
      ],
      "text/plain": [
       "<IPython.core.display.HTML object>"
      ]
     },
     "metadata": {},
     "output_type": "display_data"
    },
    {
     "name": "stderr",
     "output_type": "stream",
     "text": [
      "\u001b[34m\u001b[1mwandb\u001b[0m: Agent Starting Run: 6xuy3c4l with config:\n",
      "\u001b[34m\u001b[1mwandb\u001b[0m: \tbatch_size: 32\n",
      "\u001b[34m\u001b[1mwandb\u001b[0m: \tconv_layer1: 32\n",
      "\u001b[34m\u001b[1mwandb\u001b[0m: \tconv_layer2: 32\n",
      "\u001b[34m\u001b[1mwandb\u001b[0m: \tconv_layer3: 128\n",
      "\u001b[34m\u001b[1mwandb\u001b[0m: \tconv_layer4: 128\n",
      "\u001b[34m\u001b[1mwandb\u001b[0m: \tdense: 1024\n",
      "Failed to detect the name of this notebook, you can set it manually with the WANDB_NOTEBOOK_NAME environment variable to enable code saving.\n"
     ]
    },
    {
     "data": {
      "text/html": [
       "Tracking run with wandb version 0.12.11"
      ],
      "text/plain": [
       "<IPython.core.display.HTML object>"
      ]
     },
     "metadata": {},
     "output_type": "display_data"
    },
    {
     "data": {
      "text/html": [
       "Run data is saved locally in <code>/home/jovyan/data/lightning/FrantisekUrban/wandb/run-20220324_035406-6xuy3c4l</code>"
      ],
      "text/plain": [
       "<IPython.core.display.HTML object>"
      ]
     },
     "metadata": {},
     "output_type": "display_data"
    },
    {
     "data": {
      "text/html": [
       "Syncing run <strong><a href=\"https://wandb.ai/ishadowstormi/Coronary%20angiography%20network/runs/6xuy3c4l\" target=\"_blank\">honest-sweep-24</a></strong> to <a href=\"https://wandb.ai/ishadowstormi/Coronary%20angiography%20network\" target=\"_blank\">Weights & Biases</a> (<a href=\"https://wandb.me/run\" target=\"_blank\">docs</a>)<br/>Sweep page:  <a href=\"https://wandb.ai/ishadowstormi/Coronary%20angiography%20network/sweeps/wco4rtlh\" target=\"_blank\">https://wandb.ai/ishadowstormi/Coronary%20angiography%20network/sweeps/wco4rtlh</a>"
      ],
      "text/plain": [
       "<IPython.core.display.HTML object>"
      ]
     },
     "metadata": {},
     "output_type": "display_data"
    },
    {
     "name": "stdout",
     "output_type": "stream",
     "text": [
      "Epoch 1/28\n",
      "  2/146 [..............................] - ETA: 16s - loss: 7.6601 - accuracy: 0.6250WARNING:tensorflow:Callbacks method `on_train_batch_end` is slow compared to the batch time (batch time: 0.0830s vs `on_train_batch_end` time: 0.1442s). Check your callbacks.\n",
      "146/146 [==============================] - 32s 221ms/step - loss: 3.9705 - accuracy: 0.6418 - val_loss: 0.6575 - val_accuracy: 0.6200\n",
      "Epoch 2/28\n",
      "146/146 [==============================] - 32s 220ms/step - loss: 0.7118 - accuracy: 0.6913 - val_loss: 1.0550 - val_accuracy: 0.5500\n",
      "Epoch 3/28\n",
      "146/146 [==============================] - 32s 220ms/step - loss: 0.5324 - accuracy: 0.7333 - val_loss: 0.6931 - val_accuracy: 0.6500\n",
      "Epoch 4/28\n",
      "146/146 [==============================] - 32s 220ms/step - loss: 0.5049 - accuracy: 0.7472 - val_loss: 1.0633 - val_accuracy: 0.6300\n",
      "Epoch 5/28\n",
      "146/146 [==============================] - 32s 220ms/step - loss: 0.5065 - accuracy: 0.7534 - val_loss: 0.6082 - val_accuracy: 0.6700\n",
      "Epoch 6/28\n",
      "146/146 [==============================] - 32s 219ms/step - loss: 0.4917 - accuracy: 0.7626 - val_loss: 0.7608 - val_accuracy: 0.6200\n",
      "Epoch 7/28\n",
      "146/146 [==============================] - 32s 219ms/step - loss: 0.4702 - accuracy: 0.7684 - val_loss: 1.1199 - val_accuracy: 0.5400\n",
      "Epoch 8/28\n",
      "146/146 [==============================] - 32s 220ms/step - loss: 0.4860 - accuracy: 0.7695 - val_loss: 0.7753 - val_accuracy: 0.6600\n",
      "Epoch 9/28\n",
      "146/146 [==============================] - 32s 220ms/step - loss: 0.4573 - accuracy: 0.7853 - val_loss: 2.3422 - val_accuracy: 0.5000\n",
      "Epoch 10/28\n",
      "146/146 [==============================] - 32s 220ms/step - loss: 0.4247 - accuracy: 0.7982 - val_loss: 0.6354 - val_accuracy: 0.6300\n",
      "Epoch 11/28\n",
      "146/146 [==============================] - 32s 220ms/step - loss: 0.4106 - accuracy: 0.8098 - val_loss: 0.6780 - val_accuracy: 0.6400\n",
      "Epoch 12/28\n",
      "146/146 [==============================] - 32s 220ms/step - loss: 0.3862 - accuracy: 0.8151 - val_loss: 0.8408 - val_accuracy: 0.6400\n",
      "Epoch 13/28\n",
      "146/146 [==============================] - 32s 220ms/step - loss: 0.3639 - accuracy: 0.8314 - val_loss: 0.8110 - val_accuracy: 0.6500\n",
      "Epoch 14/28\n",
      "146/146 [==============================] - 32s 219ms/step - loss: 0.3638 - accuracy: 0.8395 - val_loss: 0.5983 - val_accuracy: 0.6800\n",
      "Epoch 15/28\n",
      "146/146 [==============================] - 32s 221ms/step - loss: 0.3222 - accuracy: 0.8539 - val_loss: 1.0916 - val_accuracy: 0.6400\n",
      "Epoch 16/28\n",
      "146/146 [==============================] - 32s 220ms/step - loss: 0.3392 - accuracy: 0.8468 - val_loss: 0.6117 - val_accuracy: 0.7800\n",
      "Epoch 17/28\n",
      "146/146 [==============================] - 32s 219ms/step - loss: 0.3149 - accuracy: 0.8601 - val_loss: 0.4340 - val_accuracy: 0.7900\n",
      "Epoch 18/28\n",
      "146/146 [==============================] - 32s 219ms/step - loss: 0.3149 - accuracy: 0.8680 - val_loss: 6.4287 - val_accuracy: 0.5000\n",
      "Epoch 19/28\n",
      "146/146 [==============================] - 32s 219ms/step - loss: 0.3077 - accuracy: 0.8661 - val_loss: 0.5455 - val_accuracy: 0.7400\n",
      "Epoch 20/28\n",
      "146/146 [==============================] - 32s 219ms/step - loss: 0.2789 - accuracy: 0.8738 - val_loss: 0.6737 - val_accuracy: 0.7400\n",
      "Epoch 21/28\n",
      "146/146 [==============================] - 32s 219ms/step - loss: 0.2489 - accuracy: 0.8918 - val_loss: 0.5421 - val_accuracy: 0.7900\n",
      "Epoch 22/28\n",
      "146/146 [==============================] - 32s 219ms/step - loss: 0.2493 - accuracy: 0.8871 - val_loss: 0.9181 - val_accuracy: 0.7300\n",
      "Epoch 23/28\n",
      "146/146 [==============================] - 32s 219ms/step - loss: 0.2635 - accuracy: 0.8884 - val_loss: 1.3017 - val_accuracy: 0.6700\n",
      "Epoch 24/28\n",
      "146/146 [==============================] - 32s 219ms/step - loss: 0.2553 - accuracy: 0.8884 - val_loss: 0.9753 - val_accuracy: 0.7100\n",
      "Epoch 25/28\n",
      "146/146 [==============================] - 32s 219ms/step - loss: 0.2647 - accuracy: 0.8905 - val_loss: 2.7040 - val_accuracy: 0.5500\n",
      "Epoch 26/28\n",
      "146/146 [==============================] - 32s 220ms/step - loss: 0.2884 - accuracy: 0.8728 - val_loss: 0.3842 - val_accuracy: 0.8500\n",
      "Epoch 27/28\n",
      "146/146 [==============================] - 32s 220ms/step - loss: 0.2453 - accuracy: 0.9000 - val_loss: 1.0185 - val_accuracy: 0.7100\n",
      "Epoch 28/28\n",
      "146/146 [==============================] - 32s 220ms/step - loss: 0.2225 - accuracy: 0.9004 - val_loss: 0.3933 - val_accuracy: 0.8400\n",
      "\n",
      "-----Model evaluation on test data-----\n",
      "38/38 [==============================] - 2s 66ms/step - loss: 0.3703 - accuracy: 0.8212\n",
      "Test Error Rate:  17.88\n",
      "AUC:  0.9526\n",
      "\n"
     ]
    },
    {
     "data": {
      "text/html": [
       "Waiting for W&B process to finish... <strong style=\"color:green\">(success).</strong>"
      ],
      "text/plain": [
       "<IPython.core.display.HTML object>"
      ]
     },
     "metadata": {},
     "output_type": "display_data"
    },
    {
     "data": {
      "application/vnd.jupyter.widget-view+json": {
       "model_id": "",
       "version_major": 2,
       "version_minor": 0
      },
      "text/plain": [
       "VBox(children=(Label(value='0.004 MB of 0.004 MB uploaded (0.000 MB deduped)\\r'), FloatProgress(value=1.0, max…"
      ]
     },
     "metadata": {},
     "output_type": "display_data"
    },
    {
     "data": {
      "text/html": [
       "<style>\n",
       "    table.wandb td:nth-child(1) { padding: 0 10px; text-align: right }\n",
       "    .wandb-row { display: flex; flex-direction: row; flex-wrap: wrap; width: 100% }\n",
       "    .wandb-col { display: flex; flex-direction: column; flex-basis: 100%; flex: 1; padding: 10px; }\n",
       "    </style>\n",
       "<div class=\"wandb-row\"><div class=\"wandb-col\"><h3>Run history:</h3><br/><table class=\"wandb\"><tr><td>AUC</td><td>▁</td></tr><tr><td>Test Error Rate</td><td>▁</td></tr><tr><td>accuracy</td><td>▁▂▃▄▄▄▄▄▅▅▆▆▆▆▇▇▇▇▇▇█████▇██</td></tr><tr><td>epoch</td><td>▁▁▂▂▂▂▃▃▃▃▄▄▄▄▅▅▅▅▆▆▆▆▇▇▇▇██</td></tr><tr><td>loss</td><td>█▂▂▂▂▂▁▁▁▁▁▁▁▁▁▁▁▁▁▁▁▁▁▁▁▁▁▁</td></tr><tr><td>val_accuracy</td><td>▃▂▄▄▄▃▂▄▁▄▄▄▄▅▄▇▇▁▆▆▇▆▄▅▂█▅█</td></tr><tr><td>val_loss</td><td>▁▂▁▂▁▁▂▁▃▁▁▂▁▁▂▁▁█▁▁▁▂▂▂▄▁▂▁</td></tr></table><br/></div><div class=\"wandb-col\"><h3>Run summary:</h3><br/><table class=\"wandb\"><tr><td>AUC</td><td>0.9526</td></tr><tr><td>Test Error Rate</td><td>17.88</td></tr><tr><td>accuracy</td><td>0.90039</td></tr><tr><td>best_epoch</td><td>25</td></tr><tr><td>best_val_loss</td><td>0.38423</td></tr><tr><td>epoch</td><td>27</td></tr><tr><td>loss</td><td>0.22252</td></tr><tr><td>val_accuracy</td><td>0.84</td></tr><tr><td>val_loss</td><td>0.39333</td></tr></table><br/></div></div>"
      ],
      "text/plain": [
       "<IPython.core.display.HTML object>"
      ]
     },
     "metadata": {},
     "output_type": "display_data"
    },
    {
     "data": {
      "text/html": [
       "Synced <strong style=\"color:#cdcd00\">honest-sweep-24</strong>: <a href=\"https://wandb.ai/ishadowstormi/Coronary%20angiography%20network/runs/6xuy3c4l\" target=\"_blank\">https://wandb.ai/ishadowstormi/Coronary%20angiography%20network/runs/6xuy3c4l</a><br/>Synced 5 W&B file(s), 1 media file(s), 0 artifact file(s) and 0 other file(s)"
      ],
      "text/plain": [
       "<IPython.core.display.HTML object>"
      ]
     },
     "metadata": {},
     "output_type": "display_data"
    },
    {
     "data": {
      "text/html": [
       "Find logs at: <code>./wandb/run-20220324_035406-6xuy3c4l/logs</code>"
      ],
      "text/plain": [
       "<IPython.core.display.HTML object>"
      ]
     },
     "metadata": {},
     "output_type": "display_data"
    },
    {
     "name": "stderr",
     "output_type": "stream",
     "text": [
      "\u001b[34m\u001b[1mwandb\u001b[0m: Agent Starting Run: 61blp5dy with config:\n",
      "\u001b[34m\u001b[1mwandb\u001b[0m: \tbatch_size: 32\n",
      "\u001b[34m\u001b[1mwandb\u001b[0m: \tconv_layer1: 32\n",
      "\u001b[34m\u001b[1mwandb\u001b[0m: \tconv_layer2: 64\n",
      "\u001b[34m\u001b[1mwandb\u001b[0m: \tconv_layer3: 64\n",
      "\u001b[34m\u001b[1mwandb\u001b[0m: \tconv_layer4: 64\n",
      "\u001b[34m\u001b[1mwandb\u001b[0m: \tdense: 512\n",
      "Failed to detect the name of this notebook, you can set it manually with the WANDB_NOTEBOOK_NAME environment variable to enable code saving.\n"
     ]
    },
    {
     "data": {
      "text/html": [
       "Tracking run with wandb version 0.12.11"
      ],
      "text/plain": [
       "<IPython.core.display.HTML object>"
      ]
     },
     "metadata": {},
     "output_type": "display_data"
    },
    {
     "data": {
      "text/html": [
       "Run data is saved locally in <code>/home/jovyan/data/lightning/FrantisekUrban/wandb/run-20220324_040932-61blp5dy</code>"
      ],
      "text/plain": [
       "<IPython.core.display.HTML object>"
      ]
     },
     "metadata": {},
     "output_type": "display_data"
    },
    {
     "data": {
      "text/html": [
       "Syncing run <strong><a href=\"https://wandb.ai/ishadowstormi/Coronary%20angiography%20network/runs/61blp5dy\" target=\"_blank\">deft-sweep-25</a></strong> to <a href=\"https://wandb.ai/ishadowstormi/Coronary%20angiography%20network\" target=\"_blank\">Weights & Biases</a> (<a href=\"https://wandb.me/run\" target=\"_blank\">docs</a>)<br/>Sweep page:  <a href=\"https://wandb.ai/ishadowstormi/Coronary%20angiography%20network/sweeps/wco4rtlh\" target=\"_blank\">https://wandb.ai/ishadowstormi/Coronary%20angiography%20network/sweeps/wco4rtlh</a>"
      ],
      "text/plain": [
       "<IPython.core.display.HTML object>"
      ]
     },
     "metadata": {},
     "output_type": "display_data"
    },
    {
     "name": "stdout",
     "output_type": "stream",
     "text": [
      "Epoch 1/28\n",
      "  2/146 [..............................] - ETA: 16s - loss: 5.2422 - accuracy: 0.5156WARNING:tensorflow:Callbacks method `on_train_batch_end` is slow compared to the batch time (batch time: 0.0873s vs `on_train_batch_end` time: 0.1485s). Check your callbacks.\n",
      "146/146 [==============================] - 35s 240ms/step - loss: 1.3575 - accuracy: 0.6729 - val_loss: 3.5501 - val_accuracy: 0.3200\n",
      "Epoch 2/28\n",
      "146/146 [==============================] - 35s 237ms/step - loss: 0.5356 - accuracy: 0.7241 - val_loss: 0.8563 - val_accuracy: 0.5400\n",
      "Epoch 3/28\n",
      "146/146 [==============================] - 35s 237ms/step - loss: 0.4605 - accuracy: 0.7646 - val_loss: 0.7136 - val_accuracy: 0.6000\n",
      "Epoch 4/28\n",
      "146/146 [==============================] - 35s 236ms/step - loss: 0.4387 - accuracy: 0.7892 - val_loss: 0.5252 - val_accuracy: 0.7000\n",
      "Epoch 5/28\n",
      "146/146 [==============================] - 35s 237ms/step - loss: 0.3949 - accuracy: 0.8147 - val_loss: 0.6027 - val_accuracy: 0.7000\n",
      "Epoch 6/28\n",
      "146/146 [==============================] - 35s 237ms/step - loss: 0.3954 - accuracy: 0.8066 - val_loss: 0.6719 - val_accuracy: 0.6700\n",
      "Epoch 7/28\n",
      "146/146 [==============================] - 35s 236ms/step - loss: 0.3511 - accuracy: 0.8372 - val_loss: 1.3206 - val_accuracy: 0.6700\n",
      "Epoch 8/28\n",
      "146/146 [==============================] - 35s 237ms/step - loss: 0.3540 - accuracy: 0.8447 - val_loss: 1.0250 - val_accuracy: 0.5600\n",
      "Epoch 9/28\n",
      "146/146 [==============================] - 35s 237ms/step - loss: 0.3226 - accuracy: 0.8490 - val_loss: 0.6955 - val_accuracy: 0.6900\n",
      "Epoch 10/28\n",
      "146/146 [==============================] - 34s 236ms/step - loss: 0.3257 - accuracy: 0.8518 - val_loss: 0.5441 - val_accuracy: 0.7000\n",
      "Epoch 11/28\n",
      "146/146 [==============================] - 34s 236ms/step - loss: 0.3092 - accuracy: 0.8625 - val_loss: 0.7444 - val_accuracy: 0.7100\n",
      "Epoch 12/28\n",
      "146/146 [==============================] - 34s 235ms/step - loss: 0.3064 - accuracy: 0.8618 - val_loss: 1.8913 - val_accuracy: 0.6000\n",
      "Epoch 13/28\n",
      "146/146 [==============================] - 34s 235ms/step - loss: 0.2609 - accuracy: 0.8800 - val_loss: 0.4238 - val_accuracy: 0.7500\n",
      "Epoch 14/28\n",
      "146/146 [==============================] - 34s 235ms/step - loss: 0.2529 - accuracy: 0.8940 - val_loss: 0.8166 - val_accuracy: 0.7200\n",
      "Epoch 15/28\n",
      "146/146 [==============================] - 34s 235ms/step - loss: 0.2344 - accuracy: 0.8961 - val_loss: 0.3629 - val_accuracy: 0.8200\n",
      "Epoch 16/28\n",
      "146/146 [==============================] - 34s 235ms/step - loss: 0.2287 - accuracy: 0.9025 - val_loss: 1.9211 - val_accuracy: 0.7700\n",
      "Epoch 17/28\n",
      "146/146 [==============================] - 34s 235ms/step - loss: 0.2300 - accuracy: 0.8957 - val_loss: 1.5407 - val_accuracy: 0.8000\n",
      "Epoch 18/28\n",
      "146/146 [==============================] - 34s 235ms/step - loss: 0.2051 - accuracy: 0.9137 - val_loss: 0.7193 - val_accuracy: 0.8200\n",
      "Epoch 19/28\n",
      "146/146 [==============================] - 34s 235ms/step - loss: 0.2106 - accuracy: 0.9081 - val_loss: 0.6436 - val_accuracy: 0.7700\n",
      "Epoch 20/28\n",
      "146/146 [==============================] - 34s 235ms/step - loss: 0.1982 - accuracy: 0.9184 - val_loss: 1.2460 - val_accuracy: 0.7400\n",
      "Epoch 21/28\n",
      "146/146 [==============================] - 34s 236ms/step - loss: 0.1958 - accuracy: 0.9218 - val_loss: 2.1303 - val_accuracy: 0.6300\n",
      "Epoch 22/28\n",
      "146/146 [==============================] - 34s 235ms/step - loss: 0.1760 - accuracy: 0.9310 - val_loss: 1.2649 - val_accuracy: 0.7300\n",
      "Epoch 23/28\n",
      "146/146 [==============================] - 34s 235ms/step - loss: 0.1670 - accuracy: 0.9304 - val_loss: 0.9731 - val_accuracy: 0.8000\n",
      "Epoch 24/28\n",
      "146/146 [==============================] - 35s 237ms/step - loss: 0.1415 - accuracy: 0.9445 - val_loss: 0.5551 - val_accuracy: 0.8400\n",
      "Epoch 25/28\n",
      "146/146 [==============================] - 34s 236ms/step - loss: 0.1480 - accuracy: 0.9434 - val_loss: 0.7959 - val_accuracy: 0.8300\n",
      "Epoch 26/28\n",
      "146/146 [==============================] - 34s 236ms/step - loss: 0.1638 - accuracy: 0.9370 - val_loss: 1.9687 - val_accuracy: 0.7400\n",
      "Epoch 27/28\n",
      "146/146 [==============================] - 34s 236ms/step - loss: 0.1508 - accuracy: 0.9392 - val_loss: 0.7421 - val_accuracy: 0.6900\n",
      "Epoch 28/28\n",
      "146/146 [==============================] - 34s 235ms/step - loss: 0.1260 - accuracy: 0.9514 - val_loss: 0.7219 - val_accuracy: 0.8500\n",
      "\n",
      "-----Model evaluation on test data-----\n",
      "38/38 [==============================] - 3s 72ms/step - loss: 0.3860 - accuracy: 0.8497\n",
      "Test Error Rate:  15.03\n",
      "AUC:  0.9248\n",
      "\n"
     ]
    },
    {
     "data": {
      "text/html": [
       "Waiting for W&B process to finish... <strong style=\"color:green\">(success).</strong>"
      ],
      "text/plain": [
       "<IPython.core.display.HTML object>"
      ]
     },
     "metadata": {},
     "output_type": "display_data"
    },
    {
     "data": {
      "application/vnd.jupyter.widget-view+json": {
       "model_id": "",
       "version_major": 2,
       "version_minor": 0
      },
      "text/plain": [
       "VBox(children=(Label(value='0.004 MB of 0.004 MB uploaded (0.000 MB deduped)\\r'), FloatProgress(value=1.0, max…"
      ]
     },
     "metadata": {},
     "output_type": "display_data"
    },
    {
     "data": {
      "text/html": [
       "<style>\n",
       "    table.wandb td:nth-child(1) { padding: 0 10px; text-align: right }\n",
       "    .wandb-row { display: flex; flex-direction: row; flex-wrap: wrap; width: 100% }\n",
       "    .wandb-col { display: flex; flex-direction: column; flex-basis: 100%; flex: 1; padding: 10px; }\n",
       "    </style>\n",
       "<div class=\"wandb-row\"><div class=\"wandb-col\"><h3>Run history:</h3><br/><table class=\"wandb\"><tr><td>AUC</td><td>▁</td></tr><tr><td>Test Error Rate</td><td>▁</td></tr><tr><td>accuracy</td><td>▁▂▃▄▅▄▅▅▅▅▆▆▆▇▇▇▇▇▇▇▇▇▇█████</td></tr><tr><td>epoch</td><td>▁▁▂▂▂▂▃▃▃▃▄▄▄▄▅▅▅▅▆▆▆▆▇▇▇▇██</td></tr><tr><td>loss</td><td>█▃▃▃▃▃▂▂▂▂▂▂▂▂▂▂▂▁▁▁▁▁▁▁▁▁▁▁</td></tr><tr><td>val_accuracy</td><td>▁▄▅▆▆▆▆▄▆▆▆▅▇▆█▇▇█▇▇▅▆▇██▇▆█</td></tr><tr><td>val_loss</td><td>█▂▂▁▂▂▃▂▂▁▂▄▁▂▁▄▄▂▂▃▅▃▂▁▂▅▂▂</td></tr></table><br/></div><div class=\"wandb-col\"><h3>Run summary:</h3><br/><table class=\"wandb\"><tr><td>AUC</td><td>0.9248</td></tr><tr><td>Test Error Rate</td><td>15.03</td></tr><tr><td>accuracy</td><td>0.95137</td></tr><tr><td>best_epoch</td><td>14</td></tr><tr><td>best_val_loss</td><td>0.36293</td></tr><tr><td>epoch</td><td>27</td></tr><tr><td>loss</td><td>0.126</td></tr><tr><td>val_accuracy</td><td>0.85</td></tr><tr><td>val_loss</td><td>0.72186</td></tr></table><br/></div></div>"
      ],
      "text/plain": [
       "<IPython.core.display.HTML object>"
      ]
     },
     "metadata": {},
     "output_type": "display_data"
    },
    {
     "data": {
      "text/html": [
       "Synced <strong style=\"color:#cdcd00\">deft-sweep-25</strong>: <a href=\"https://wandb.ai/ishadowstormi/Coronary%20angiography%20network/runs/61blp5dy\" target=\"_blank\">https://wandb.ai/ishadowstormi/Coronary%20angiography%20network/runs/61blp5dy</a><br/>Synced 5 W&B file(s), 1 media file(s), 0 artifact file(s) and 0 other file(s)"
      ],
      "text/plain": [
       "<IPython.core.display.HTML object>"
      ]
     },
     "metadata": {},
     "output_type": "display_data"
    },
    {
     "data": {
      "text/html": [
       "Find logs at: <code>./wandb/run-20220324_040932-61blp5dy/logs</code>"
      ],
      "text/plain": [
       "<IPython.core.display.HTML object>"
      ]
     },
     "metadata": {},
     "output_type": "display_data"
    },
    {
     "name": "stderr",
     "output_type": "stream",
     "text": [
      "\u001b[34m\u001b[1mwandb\u001b[0m: Agent Starting Run: sgkg3t76 with config:\n",
      "\u001b[34m\u001b[1mwandb\u001b[0m: \tbatch_size: 32\n",
      "\u001b[34m\u001b[1mwandb\u001b[0m: \tconv_layer1: 32\n",
      "\u001b[34m\u001b[1mwandb\u001b[0m: \tconv_layer2: 64\n",
      "\u001b[34m\u001b[1mwandb\u001b[0m: \tconv_layer3: 64\n",
      "\u001b[34m\u001b[1mwandb\u001b[0m: \tconv_layer4: 64\n",
      "\u001b[34m\u001b[1mwandb\u001b[0m: \tdense: 1024\n",
      "Failed to detect the name of this notebook, you can set it manually with the WANDB_NOTEBOOK_NAME environment variable to enable code saving.\n"
     ]
    },
    {
     "data": {
      "text/html": [
       "Tracking run with wandb version 0.12.11"
      ],
      "text/plain": [
       "<IPython.core.display.HTML object>"
      ]
     },
     "metadata": {},
     "output_type": "display_data"
    },
    {
     "data": {
      "text/html": [
       "Run data is saved locally in <code>/home/jovyan/data/lightning/FrantisekUrban/wandb/run-20220324_042603-sgkg3t76</code>"
      ],
      "text/plain": [
       "<IPython.core.display.HTML object>"
      ]
     },
     "metadata": {},
     "output_type": "display_data"
    },
    {
     "data": {
      "text/html": [
       "Syncing run <strong><a href=\"https://wandb.ai/ishadowstormi/Coronary%20angiography%20network/runs/sgkg3t76\" target=\"_blank\">woven-sweep-26</a></strong> to <a href=\"https://wandb.ai/ishadowstormi/Coronary%20angiography%20network\" target=\"_blank\">Weights & Biases</a> (<a href=\"https://wandb.me/run\" target=\"_blank\">docs</a>)<br/>Sweep page:  <a href=\"https://wandb.ai/ishadowstormi/Coronary%20angiography%20network/sweeps/wco4rtlh\" target=\"_blank\">https://wandb.ai/ishadowstormi/Coronary%20angiography%20network/sweeps/wco4rtlh</a>"
      ],
      "text/plain": [
       "<IPython.core.display.HTML object>"
      ]
     },
     "metadata": {},
     "output_type": "display_data"
    },
    {
     "name": "stdout",
     "output_type": "stream",
     "text": [
      "Epoch 1/28\n",
      "  2/146 [..............................] - ETA: 17s - loss: 9.5132 - accuracy: 0.5000WARNING:tensorflow:Callbacks method `on_train_batch_end` is slow compared to the batch time (batch time: 0.0880s vs `on_train_batch_end` time: 0.1572s). Check your callbacks.\n",
      "146/146 [==============================] - 35s 239ms/step - loss: 2.4495 - accuracy: 0.6485 - val_loss: 0.7095 - val_accuracy: 0.6000\n",
      "Epoch 2/28\n",
      "146/146 [==============================] - 35s 237ms/step - loss: 0.6266 - accuracy: 0.7247 - val_loss: 0.8133 - val_accuracy: 0.6300\n",
      "Epoch 3/28\n",
      "146/146 [==============================] - 35s 237ms/step - loss: 0.5250 - accuracy: 0.7464 - val_loss: 0.6754 - val_accuracy: 0.6700\n",
      "Epoch 4/28\n",
      "146/146 [==============================] - 35s 237ms/step - loss: 0.4833 - accuracy: 0.7631 - val_loss: 0.7991 - val_accuracy: 0.6600\n",
      "Epoch 5/28\n",
      "146/146 [==============================] - 35s 237ms/step - loss: 0.4593 - accuracy: 0.7714 - val_loss: 0.8929 - val_accuracy: 0.6600\n",
      "Epoch 6/28\n",
      "146/146 [==============================] - 35s 237ms/step - loss: 0.4567 - accuracy: 0.7928 - val_loss: 1.3961 - val_accuracy: 0.5300\n",
      "Epoch 7/28\n",
      "146/146 [==============================] - 35s 237ms/step - loss: 0.4329 - accuracy: 0.7973 - val_loss: 0.6663 - val_accuracy: 0.7200\n",
      "Epoch 8/28\n",
      "146/146 [==============================] - 35s 237ms/step - loss: 0.4350 - accuracy: 0.7978 - val_loss: 0.8017 - val_accuracy: 0.6400\n",
      "Epoch 9/28\n",
      "146/146 [==============================] - 35s 237ms/step - loss: 0.3969 - accuracy: 0.8179 - val_loss: 0.7874 - val_accuracy: 0.6700\n",
      "Epoch 10/28\n",
      "146/146 [==============================] - 35s 236ms/step - loss: 0.3773 - accuracy: 0.8201 - val_loss: 1.3608 - val_accuracy: 0.6400\n",
      "Epoch 11/28\n",
      "146/146 [==============================] - 35s 236ms/step - loss: 0.3489 - accuracy: 0.8432 - val_loss: 1.9509 - val_accuracy: 0.5300\n",
      "Epoch 12/28\n",
      "146/146 [==============================] - 34s 236ms/step - loss: 0.3536 - accuracy: 0.8395 - val_loss: 0.6320 - val_accuracy: 0.7500\n",
      "Epoch 13/28\n",
      "146/146 [==============================] - 35s 237ms/step - loss: 0.3237 - accuracy: 0.8541 - val_loss: 1.5319 - val_accuracy: 0.6400\n",
      "Epoch 14/28\n",
      "146/146 [==============================] - 35s 237ms/step - loss: 0.3135 - accuracy: 0.8642 - val_loss: 0.5876 - val_accuracy: 0.7000\n",
      "Epoch 15/28\n",
      "146/146 [==============================] - 35s 237ms/step - loss: 0.3050 - accuracy: 0.8648 - val_loss: 1.4908 - val_accuracy: 0.5900\n",
      "Epoch 16/28\n",
      "146/146 [==============================] - 35s 237ms/step - loss: 0.2904 - accuracy: 0.8745 - val_loss: 0.8462 - val_accuracy: 0.6500\n",
      "Epoch 17/28\n",
      "146/146 [==============================] - 35s 236ms/step - loss: 0.2621 - accuracy: 0.8841 - val_loss: 0.5825 - val_accuracy: 0.7700\n",
      "Epoch 18/28\n",
      "146/146 [==============================] - 34s 236ms/step - loss: 0.2711 - accuracy: 0.8873 - val_loss: 0.6009 - val_accuracy: 0.8200\n",
      "Epoch 19/28\n",
      "146/146 [==============================] - 34s 236ms/step - loss: 0.2512 - accuracy: 0.8929 - val_loss: 0.5728 - val_accuracy: 0.7700\n",
      "Epoch 20/28\n",
      "146/146 [==============================] - 34s 236ms/step - loss: 0.2412 - accuracy: 0.8940 - val_loss: 0.6869 - val_accuracy: 0.7000\n",
      "Epoch 21/28\n",
      "146/146 [==============================] - 35s 236ms/step - loss: 0.2302 - accuracy: 0.9079 - val_loss: 0.9822 - val_accuracy: 0.7500\n",
      "Epoch 22/28\n",
      "146/146 [==============================] - 34s 236ms/step - loss: 0.2526 - accuracy: 0.8927 - val_loss: 0.8075 - val_accuracy: 0.7200\n",
      "Epoch 23/28\n",
      "146/146 [==============================] - 35s 236ms/step - loss: 0.2362 - accuracy: 0.8935 - val_loss: 0.6330 - val_accuracy: 0.6800\n",
      "Epoch 24/28\n",
      "146/146 [==============================] - 34s 236ms/step - loss: 0.2014 - accuracy: 0.9128 - val_loss: 1.0720 - val_accuracy: 0.6700\n",
      "Epoch 25/28\n",
      "146/146 [==============================] - 35s 237ms/step - loss: 0.2221 - accuracy: 0.9040 - val_loss: 0.5858 - val_accuracy: 0.7500\n",
      "Epoch 26/28\n",
      "146/146 [==============================] - 34s 236ms/step - loss: 0.2010 - accuracy: 0.9195 - val_loss: 1.0303 - val_accuracy: 0.7300\n",
      "Epoch 27/28\n",
      "146/146 [==============================] - 34s 236ms/step - loss: 0.2204 - accuracy: 0.9100 - val_loss: 1.2486 - val_accuracy: 0.7200\n",
      "Epoch 28/28\n",
      "146/146 [==============================] - 35s 237ms/step - loss: 0.1874 - accuracy: 0.9246 - val_loss: 0.5967 - val_accuracy: 0.7900\n",
      "\n",
      "-----Model evaluation on test data-----\n",
      "38/38 [==============================] - 3s 71ms/step - loss: 0.2207 - accuracy: 0.9211\n",
      "Test Error Rate:  7.89\n",
      "AUC:  0.9199\n",
      "\n"
     ]
    },
    {
     "data": {
      "text/html": [
       "Waiting for W&B process to finish... <strong style=\"color:green\">(success).</strong>"
      ],
      "text/plain": [
       "<IPython.core.display.HTML object>"
      ]
     },
     "metadata": {},
     "output_type": "display_data"
    },
    {
     "data": {
      "application/vnd.jupyter.widget-view+json": {
       "model_id": "",
       "version_major": 2,
       "version_minor": 0
      },
      "text/plain": [
       "VBox(children=(Label(value='0.004 MB of 0.004 MB uploaded (0.000 MB deduped)\\r'), FloatProgress(value=1.0, max…"
      ]
     },
     "metadata": {},
     "output_type": "display_data"
    },
    {
     "data": {
      "text/html": [
       "<style>\n",
       "    table.wandb td:nth-child(1) { padding: 0 10px; text-align: right }\n",
       "    .wandb-row { display: flex; flex-direction: row; flex-wrap: wrap; width: 100% }\n",
       "    .wandb-col { display: flex; flex-direction: column; flex-basis: 100%; flex: 1; padding: 10px; }\n",
       "    </style>\n",
       "<div class=\"wandb-row\"><div class=\"wandb-col\"><h3>Run history:</h3><br/><table class=\"wandb\"><tr><td>AUC</td><td>▁</td></tr><tr><td>Test Error Rate</td><td>▁</td></tr><tr><td>accuracy</td><td>▁▃▃▄▄▅▅▅▅▅▆▆▆▆▆▇▇▇▇▇█▇▇█▇███</td></tr><tr><td>epoch</td><td>▁▁▂▂▂▂▃▃▃▃▄▄▄▄▅▅▅▅▆▆▆▆▇▇▇▇██</td></tr><tr><td>loss</td><td>█▂▂▂▂▂▂▂▂▂▁▂▁▁▁▁▁▁▁▁▁▁▁▁▁▁▁▁</td></tr><tr><td>val_accuracy</td><td>▃▃▄▄▄▁▆▄▄▄▁▆▄▅▂▄▇█▇▅▆▆▅▄▆▆▆▇</td></tr><tr><td>val_loss</td><td>▂▂▂▂▃▅▁▂▂▅█▁▆▁▆▂▁▁▁▂▃▂▁▄▁▃▄▁</td></tr></table><br/></div><div class=\"wandb-col\"><h3>Run summary:</h3><br/><table class=\"wandb\"><tr><td>AUC</td><td>0.9199</td></tr><tr><td>Test Error Rate</td><td>7.89</td></tr><tr><td>accuracy</td><td>0.92459</td></tr><tr><td>best_epoch</td><td>18</td></tr><tr><td>best_val_loss</td><td>0.57278</td></tr><tr><td>epoch</td><td>27</td></tr><tr><td>loss</td><td>0.18742</td></tr><tr><td>val_accuracy</td><td>0.79</td></tr><tr><td>val_loss</td><td>0.59671</td></tr></table><br/></div></div>"
      ],
      "text/plain": [
       "<IPython.core.display.HTML object>"
      ]
     },
     "metadata": {},
     "output_type": "display_data"
    },
    {
     "data": {
      "text/html": [
       "Synced <strong style=\"color:#cdcd00\">woven-sweep-26</strong>: <a href=\"https://wandb.ai/ishadowstormi/Coronary%20angiography%20network/runs/sgkg3t76\" target=\"_blank\">https://wandb.ai/ishadowstormi/Coronary%20angiography%20network/runs/sgkg3t76</a><br/>Synced 5 W&B file(s), 1 media file(s), 0 artifact file(s) and 0 other file(s)"
      ],
      "text/plain": [
       "<IPython.core.display.HTML object>"
      ]
     },
     "metadata": {},
     "output_type": "display_data"
    },
    {
     "data": {
      "text/html": [
       "Find logs at: <code>./wandb/run-20220324_042603-sgkg3t76/logs</code>"
      ],
      "text/plain": [
       "<IPython.core.display.HTML object>"
      ]
     },
     "metadata": {},
     "output_type": "display_data"
    },
    {
     "name": "stderr",
     "output_type": "stream",
     "text": [
      "\u001b[34m\u001b[1mwandb\u001b[0m: Agent Starting Run: pp44tsta with config:\n",
      "\u001b[34m\u001b[1mwandb\u001b[0m: \tbatch_size: 32\n",
      "\u001b[34m\u001b[1mwandb\u001b[0m: \tconv_layer1: 32\n",
      "\u001b[34m\u001b[1mwandb\u001b[0m: \tconv_layer2: 64\n",
      "\u001b[34m\u001b[1mwandb\u001b[0m: \tconv_layer3: 64\n",
      "\u001b[34m\u001b[1mwandb\u001b[0m: \tconv_layer4: 128\n",
      "\u001b[34m\u001b[1mwandb\u001b[0m: \tdense: 512\n",
      "Failed to detect the name of this notebook, you can set it manually with the WANDB_NOTEBOOK_NAME environment variable to enable code saving.\n"
     ]
    },
    {
     "data": {
      "text/html": [
       "Tracking run with wandb version 0.12.11"
      ],
      "text/plain": [
       "<IPython.core.display.HTML object>"
      ]
     },
     "metadata": {},
     "output_type": "display_data"
    },
    {
     "data": {
      "text/html": [
       "Run data is saved locally in <code>/home/jovyan/data/lightning/FrantisekUrban/wandb/run-20220324_044240-pp44tsta</code>"
      ],
      "text/plain": [
       "<IPython.core.display.HTML object>"
      ]
     },
     "metadata": {},
     "output_type": "display_data"
    },
    {
     "data": {
      "text/html": [
       "Syncing run <strong><a href=\"https://wandb.ai/ishadowstormi/Coronary%20angiography%20network/runs/pp44tsta\" target=\"_blank\">absurd-sweep-27</a></strong> to <a href=\"https://wandb.ai/ishadowstormi/Coronary%20angiography%20network\" target=\"_blank\">Weights & Biases</a> (<a href=\"https://wandb.me/run\" target=\"_blank\">docs</a>)<br/>Sweep page:  <a href=\"https://wandb.ai/ishadowstormi/Coronary%20angiography%20network/sweeps/wco4rtlh\" target=\"_blank\">https://wandb.ai/ishadowstormi/Coronary%20angiography%20network/sweeps/wco4rtlh</a>"
      ],
      "text/plain": [
       "<IPython.core.display.HTML object>"
      ]
     },
     "metadata": {},
     "output_type": "display_data"
    },
    {
     "name": "stdout",
     "output_type": "stream",
     "text": [
      "Epoch 1/28\n",
      "  2/146 [..............................] - ETA: 18s - loss: 3.6363 - accuracy: 0.5000WARNING:tensorflow:Callbacks method `on_train_batch_end` is slow compared to the batch time (batch time: 0.0897s vs `on_train_batch_end` time: 0.1613s). Check your callbacks.\n",
      "146/146 [==============================] - 35s 242ms/step - loss: 4.7412 - accuracy: 0.6459 - val_loss: 1.1501 - val_accuracy: 0.6800\n",
      "Epoch 2/28\n",
      "146/146 [==============================] - 35s 241ms/step - loss: 0.7509 - accuracy: 0.7179 - val_loss: 1.2546 - val_accuracy: 0.5600\n",
      "Epoch 3/28\n",
      "146/146 [==============================] - 35s 242ms/step - loss: 0.5358 - accuracy: 0.7393 - val_loss: 0.6692 - val_accuracy: 0.6800\n",
      "Epoch 4/28\n",
      "146/146 [==============================] - 35s 241ms/step - loss: 0.5159 - accuracy: 0.7470 - val_loss: 0.6335 - val_accuracy: 0.6400\n",
      "Epoch 5/28\n",
      "146/146 [==============================] - 35s 241ms/step - loss: 0.4899 - accuracy: 0.7560 - val_loss: 0.6177 - val_accuracy: 0.6600\n",
      "Epoch 6/28\n",
      "146/146 [==============================] - 35s 241ms/step - loss: 0.4889 - accuracy: 0.7560 - val_loss: 0.6488 - val_accuracy: 0.6400\n",
      "Epoch 7/28\n",
      "146/146 [==============================] - 35s 241ms/step - loss: 0.4789 - accuracy: 0.7644 - val_loss: 1.2179 - val_accuracy: 0.5900\n",
      "Epoch 8/28\n",
      "146/146 [==============================] - 35s 241ms/step - loss: 0.4669 - accuracy: 0.7815 - val_loss: 0.7887 - val_accuracy: 0.6600\n",
      "Epoch 9/28\n",
      "146/146 [==============================] - 35s 241ms/step - loss: 0.4475 - accuracy: 0.7868 - val_loss: 1.8264 - val_accuracy: 0.6500\n",
      "Epoch 10/28\n",
      "146/146 [==============================] - 35s 241ms/step - loss: 0.4284 - accuracy: 0.7967 - val_loss: 1.0096 - val_accuracy: 0.6100\n",
      "Epoch 11/28\n",
      "146/146 [==============================] - 35s 241ms/step - loss: 0.4131 - accuracy: 0.8042 - val_loss: 2.6009 - val_accuracy: 0.5800\n",
      "Epoch 12/28\n",
      "146/146 [==============================] - 35s 240ms/step - loss: 0.3875 - accuracy: 0.8164 - val_loss: 0.6833 - val_accuracy: 0.6200\n",
      "Epoch 13/28\n",
      "146/146 [==============================] - 35s 240ms/step - loss: 0.3704 - accuracy: 0.8258 - val_loss: 0.5620 - val_accuracy: 0.6900\n",
      "Epoch 14/28\n",
      "146/146 [==============================] - 35s 240ms/step - loss: 0.3754 - accuracy: 0.8295 - val_loss: 0.8841 - val_accuracy: 0.7000\n",
      "Epoch 15/28\n",
      "146/146 [==============================] - 35s 240ms/step - loss: 0.3517 - accuracy: 0.8372 - val_loss: 0.9629 - val_accuracy: 0.6500\n",
      "Epoch 16/28\n",
      "146/146 [==============================] - 35s 241ms/step - loss: 0.3403 - accuracy: 0.8419 - val_loss: 1.3776 - val_accuracy: 0.5700\n",
      "Epoch 17/28\n",
      "146/146 [==============================] - 35s 240ms/step - loss: 0.3347 - accuracy: 0.8533 - val_loss: 1.0332 - val_accuracy: 0.5900\n",
      "Epoch 18/28\n",
      "146/146 [==============================] - 35s 240ms/step - loss: 0.3421 - accuracy: 0.8410 - val_loss: 1.5061 - val_accuracy: 0.5400\n",
      "Epoch 19/28\n",
      "146/146 [==============================] - 35s 240ms/step - loss: 0.3199 - accuracy: 0.8455 - val_loss: 0.5588 - val_accuracy: 0.7400\n",
      "Epoch 20/28\n",
      "146/146 [==============================] - 35s 240ms/step - loss: 0.3154 - accuracy: 0.8518 - val_loss: 0.5469 - val_accuracy: 0.7200\n",
      "Epoch 21/28\n",
      "146/146 [==============================] - 35s 240ms/step - loss: 0.3047 - accuracy: 0.8599 - val_loss: 1.1969 - val_accuracy: 0.6100\n",
      "Epoch 22/28\n",
      "146/146 [==============================] - 35s 240ms/step - loss: 0.2943 - accuracy: 0.8757 - val_loss: 1.1408 - val_accuracy: 0.6400\n",
      "Epoch 23/28\n",
      "146/146 [==============================] - 35s 240ms/step - loss: 0.2898 - accuracy: 0.8745 - val_loss: 0.7636 - val_accuracy: 0.6900\n",
      "Epoch 24/28\n",
      "146/146 [==============================] - 35s 240ms/step - loss: 0.2610 - accuracy: 0.8847 - val_loss: 0.7844 - val_accuracy: 0.7300\n",
      "Epoch 25/28\n",
      "146/146 [==============================] - 35s 240ms/step - loss: 0.2832 - accuracy: 0.8800 - val_loss: 0.6948 - val_accuracy: 0.7100\n",
      "Epoch 26/28\n",
      "146/146 [==============================] - 35s 240ms/step - loss: 0.2451 - accuracy: 0.8916 - val_loss: 1.2702 - val_accuracy: 0.6900\n",
      "Epoch 27/28\n",
      "146/146 [==============================] - 35s 240ms/step - loss: 0.2363 - accuracy: 0.8965 - val_loss: 0.5947 - val_accuracy: 0.7600\n",
      "Epoch 28/28\n",
      "146/146 [==============================] - 35s 240ms/step - loss: 0.2388 - accuracy: 0.8901 - val_loss: 0.5060 - val_accuracy: 0.7800\n",
      "\n",
      "-----Model evaluation on test data-----\n",
      "38/38 [==============================] - 3s 72ms/step - loss: 0.4078 - accuracy: 0.8086\n",
      "Test Error Rate:  19.14\n",
      "AUC:  0.8879\n",
      "\n"
     ]
    },
    {
     "data": {
      "text/html": [
       "Waiting for W&B process to finish... <strong style=\"color:green\">(success).</strong>"
      ],
      "text/plain": [
       "<IPython.core.display.HTML object>"
      ]
     },
     "metadata": {},
     "output_type": "display_data"
    },
    {
     "data": {
      "application/vnd.jupyter.widget-view+json": {
       "model_id": "",
       "version_major": 2,
       "version_minor": 0
      },
      "text/plain": [
       "VBox(children=(Label(value='0.004 MB of 0.004 MB uploaded (0.000 MB deduped)\\r'), FloatProgress(value=1.0, max…"
      ]
     },
     "metadata": {},
     "output_type": "display_data"
    },
    {
     "data": {
      "text/html": [
       "<style>\n",
       "    table.wandb td:nth-child(1) { padding: 0 10px; text-align: right }\n",
       "    .wandb-row { display: flex; flex-direction: row; flex-wrap: wrap; width: 100% }\n",
       "    .wandb-col { display: flex; flex-direction: column; flex-basis: 100%; flex: 1; padding: 10px; }\n",
       "    </style>\n",
       "<div class=\"wandb-row\"><div class=\"wandb-col\"><h3>Run history:</h3><br/><table class=\"wandb\"><tr><td>AUC</td><td>▁</td></tr><tr><td>Test Error Rate</td><td>▁</td></tr><tr><td>accuracy</td><td>▁▃▄▄▄▄▄▅▅▅▅▆▆▆▆▆▇▆▇▇▇▇▇█████</td></tr><tr><td>epoch</td><td>▁▁▂▂▂▂▃▃▃▃▄▄▄▄▅▅▅▅▆▆▆▆▇▇▇▇██</td></tr><tr><td>loss</td><td>█▂▁▁▁▁▁▁▁▁▁▁▁▁▁▁▁▁▁▁▁▁▁▁▁▁▁▁</td></tr><tr><td>val_accuracy</td><td>▅▂▅▄▅▄▂▅▄▃▂▃▅▆▄▂▂▁▇▆▃▄▅▇▆▅▇█</td></tr><tr><td>val_loss</td><td>▃▄▂▁▁▁▃▂▅▃█▂▁▂▃▄▃▄▁▁▃▃▂▂▂▄▁▁</td></tr></table><br/></div><div class=\"wandb-col\"><h3>Run summary:</h3><br/><table class=\"wandb\"><tr><td>AUC</td><td>0.8879</td></tr><tr><td>Test Error Rate</td><td>19.14</td></tr><tr><td>accuracy</td><td>0.8901</td></tr><tr><td>best_epoch</td><td>27</td></tr><tr><td>best_val_loss</td><td>0.50602</td></tr><tr><td>epoch</td><td>27</td></tr><tr><td>loss</td><td>0.23877</td></tr><tr><td>val_accuracy</td><td>0.78</td></tr><tr><td>val_loss</td><td>0.50602</td></tr></table><br/></div></div>"
      ],
      "text/plain": [
       "<IPython.core.display.HTML object>"
      ]
     },
     "metadata": {},
     "output_type": "display_data"
    },
    {
     "data": {
      "text/html": [
       "Synced <strong style=\"color:#cdcd00\">absurd-sweep-27</strong>: <a href=\"https://wandb.ai/ishadowstormi/Coronary%20angiography%20network/runs/pp44tsta\" target=\"_blank\">https://wandb.ai/ishadowstormi/Coronary%20angiography%20network/runs/pp44tsta</a><br/>Synced 5 W&B file(s), 1 media file(s), 0 artifact file(s) and 0 other file(s)"
      ],
      "text/plain": [
       "<IPython.core.display.HTML object>"
      ]
     },
     "metadata": {},
     "output_type": "display_data"
    },
    {
     "data": {
      "text/html": [
       "Find logs at: <code>./wandb/run-20220324_044240-pp44tsta/logs</code>"
      ],
      "text/plain": [
       "<IPython.core.display.HTML object>"
      ]
     },
     "metadata": {},
     "output_type": "display_data"
    },
    {
     "name": "stderr",
     "output_type": "stream",
     "text": [
      "\u001b[34m\u001b[1mwandb\u001b[0m: Agent Starting Run: bran4hfn with config:\n",
      "\u001b[34m\u001b[1mwandb\u001b[0m: \tbatch_size: 32\n",
      "\u001b[34m\u001b[1mwandb\u001b[0m: \tconv_layer1: 32\n",
      "\u001b[34m\u001b[1mwandb\u001b[0m: \tconv_layer2: 64\n",
      "\u001b[34m\u001b[1mwandb\u001b[0m: \tconv_layer3: 64\n",
      "\u001b[34m\u001b[1mwandb\u001b[0m: \tconv_layer4: 128\n",
      "\u001b[34m\u001b[1mwandb\u001b[0m: \tdense: 1024\n",
      "Failed to detect the name of this notebook, you can set it manually with the WANDB_NOTEBOOK_NAME environment variable to enable code saving.\n"
     ]
    },
    {
     "data": {
      "text/html": [
       "Tracking run with wandb version 0.12.11"
      ],
      "text/plain": [
       "<IPython.core.display.HTML object>"
      ]
     },
     "metadata": {},
     "output_type": "display_data"
    },
    {
     "data": {
      "text/html": [
       "Run data is saved locally in <code>/home/jovyan/data/lightning/FrantisekUrban/wandb/run-20220324_045929-bran4hfn</code>"
      ],
      "text/plain": [
       "<IPython.core.display.HTML object>"
      ]
     },
     "metadata": {},
     "output_type": "display_data"
    },
    {
     "data": {
      "text/html": [
       "Syncing run <strong><a href=\"https://wandb.ai/ishadowstormi/Coronary%20angiography%20network/runs/bran4hfn\" target=\"_blank\">faithful-sweep-28</a></strong> to <a href=\"https://wandb.ai/ishadowstormi/Coronary%20angiography%20network\" target=\"_blank\">Weights & Biases</a> (<a href=\"https://wandb.me/run\" target=\"_blank\">docs</a>)<br/>Sweep page:  <a href=\"https://wandb.ai/ishadowstormi/Coronary%20angiography%20network/sweeps/wco4rtlh\" target=\"_blank\">https://wandb.ai/ishadowstormi/Coronary%20angiography%20network/sweeps/wco4rtlh</a>"
      ],
      "text/plain": [
       "<IPython.core.display.HTML object>"
      ]
     },
     "metadata": {},
     "output_type": "display_data"
    },
    {
     "name": "stdout",
     "output_type": "stream",
     "text": [
      "Epoch 1/28\n",
      "  2/146 [..............................] - ETA: 18s - loss: 24.8800 - accuracy: 0.5938WARNING:tensorflow:Callbacks method `on_train_batch_end` is slow compared to the batch time (batch time: 0.0891s vs `on_train_batch_end` time: 0.1639s). Check your callbacks.\n",
      "146/146 [==============================] - 36s 247ms/step - loss: 3.9590 - accuracy: 0.6459 - val_loss: 0.7082 - val_accuracy: 0.5700\n",
      "Epoch 2/28\n",
      "146/146 [==============================] - 36s 244ms/step - loss: 0.5796 - accuracy: 0.7237 - val_loss: 0.9094 - val_accuracy: 0.6400\n",
      "Epoch 3/28\n",
      "146/146 [==============================] - 36s 243ms/step - loss: 0.5031 - accuracy: 0.7429 - val_loss: 0.6371 - val_accuracy: 0.6500\n",
      "Epoch 4/28\n",
      "146/146 [==============================] - 36s 244ms/step - loss: 0.4816 - accuracy: 0.7594 - val_loss: 1.0212 - val_accuracy: 0.5300\n",
      "Epoch 5/28\n",
      "146/146 [==============================] - 36s 243ms/step - loss: 0.4871 - accuracy: 0.7515 - val_loss: 0.6916 - val_accuracy: 0.6700\n",
      "Epoch 6/28\n",
      "146/146 [==============================] - 36s 244ms/step - loss: 0.4601 - accuracy: 0.7800 - val_loss: 0.6339 - val_accuracy: 0.7000\n",
      "Epoch 7/28\n",
      "146/146 [==============================] - 36s 244ms/step - loss: 0.4398 - accuracy: 0.7903 - val_loss: 0.7051 - val_accuracy: 0.6800\n",
      "Epoch 8/28\n",
      "146/146 [==============================] - 36s 244ms/step - loss: 0.4298 - accuracy: 0.7980 - val_loss: 1.2393 - val_accuracy: 0.5500\n",
      "Epoch 9/28\n",
      "146/146 [==============================] - 36s 243ms/step - loss: 0.4447 - accuracy: 0.7976 - val_loss: 0.8377 - val_accuracy: 0.6600\n",
      "Epoch 10/28\n",
      "146/146 [==============================] - 36s 243ms/step - loss: 0.3865 - accuracy: 0.8218 - val_loss: 0.8243 - val_accuracy: 0.6400\n",
      "Epoch 11/28\n",
      "146/146 [==============================] - 35s 243ms/step - loss: 0.3504 - accuracy: 0.8428 - val_loss: 1.3791 - val_accuracy: 0.6800\n",
      "Epoch 12/28\n",
      "146/146 [==============================] - 36s 243ms/step - loss: 0.3575 - accuracy: 0.8370 - val_loss: 1.2523 - val_accuracy: 0.5900\n",
      "Epoch 13/28\n",
      "146/146 [==============================] - 35s 243ms/step - loss: 0.3154 - accuracy: 0.8575 - val_loss: 1.0713 - val_accuracy: 0.5500\n",
      "Epoch 14/28\n",
      "146/146 [==============================] - 35s 243ms/step - loss: 0.2995 - accuracy: 0.8603 - val_loss: 2.8918 - val_accuracy: 0.5500\n",
      "Epoch 15/28\n",
      "146/146 [==============================] - 35s 243ms/step - loss: 0.3065 - accuracy: 0.8635 - val_loss: 0.9588 - val_accuracy: 0.6500\n",
      "Epoch 16/28\n",
      "146/146 [==============================] - 35s 243ms/step - loss: 0.2865 - accuracy: 0.8768 - val_loss: 1.4448 - val_accuracy: 0.6700\n",
      "Epoch 17/28\n",
      "146/146 [==============================] - 35s 243ms/step - loss: 0.2812 - accuracy: 0.8779 - val_loss: 1.6978 - val_accuracy: 0.6500\n",
      "Epoch 18/28\n",
      "146/146 [==============================] - 36s 243ms/step - loss: 0.2693 - accuracy: 0.8815 - val_loss: 2.0993 - val_accuracy: 0.5800\n",
      "Epoch 19/28\n",
      "146/146 [==============================] - 35s 243ms/step - loss: 0.2622 - accuracy: 0.8865 - val_loss: 0.7346 - val_accuracy: 0.7900\n",
      "Epoch 20/28\n",
      "146/146 [==============================] - 35s 243ms/step - loss: 0.2733 - accuracy: 0.8854 - val_loss: 1.1261 - val_accuracy: 0.5800\n",
      "Epoch 21/28\n",
      "146/146 [==============================] - 35s 243ms/step - loss: 0.2479 - accuracy: 0.8952 - val_loss: 0.6267 - val_accuracy: 0.8000\n",
      "Epoch 22/28\n",
      "146/146 [==============================] - 35s 243ms/step - loss: 0.2399 - accuracy: 0.8965 - val_loss: 0.4091 - val_accuracy: 0.8500\n",
      "Epoch 23/28\n",
      "146/146 [==============================] - 35s 243ms/step - loss: 0.2269 - accuracy: 0.9038 - val_loss: 7.3492 - val_accuracy: 0.5400\n",
      "Epoch 24/28\n",
      "146/146 [==============================] - 35s 243ms/step - loss: 0.2388 - accuracy: 0.9027 - val_loss: 0.4810 - val_accuracy: 0.8100\n",
      "Epoch 25/28\n",
      "146/146 [==============================] - 36s 244ms/step - loss: 0.2287 - accuracy: 0.9012 - val_loss: 0.6425 - val_accuracy: 0.6800\n",
      "Epoch 26/28\n",
      "146/146 [==============================] - 35s 243ms/step - loss: 0.2270 - accuracy: 0.9021 - val_loss: 10.0125 - val_accuracy: 0.5000\n",
      "Epoch 27/28\n",
      "146/146 [==============================] - 35s 243ms/step - loss: 0.2003 - accuracy: 0.9132 - val_loss: 0.3492 - val_accuracy: 0.8800\n",
      "Epoch 28/28\n",
      "146/146 [==============================] - 35s 242ms/step - loss: 0.1982 - accuracy: 0.9220 - val_loss: 0.5742 - val_accuracy: 0.7900\n",
      "\n",
      "-----Model evaluation on test data-----\n",
      "38/38 [==============================] - 3s 73ms/step - loss: 0.2228 - accuracy: 0.8992\n",
      "Test Error Rate:  10.08\n",
      "AUC:  0.9463\n",
      "\n"
     ]
    },
    {
     "data": {
      "text/html": [
       "Waiting for W&B process to finish... <strong style=\"color:green\">(success).</strong>"
      ],
      "text/plain": [
       "<IPython.core.display.HTML object>"
      ]
     },
     "metadata": {},
     "output_type": "display_data"
    },
    {
     "data": {
      "application/vnd.jupyter.widget-view+json": {
       "model_id": "",
       "version_major": 2,
       "version_minor": 0
      },
      "text/plain": [
       "VBox(children=(Label(value='0.004 MB of 0.004 MB uploaded (0.000 MB deduped)\\r'), FloatProgress(value=1.0, max…"
      ]
     },
     "metadata": {},
     "output_type": "display_data"
    },
    {
     "data": {
      "text/html": [
       "<style>\n",
       "    table.wandb td:nth-child(1) { padding: 0 10px; text-align: right }\n",
       "    .wandb-row { display: flex; flex-direction: row; flex-wrap: wrap; width: 100% }\n",
       "    .wandb-col { display: flex; flex-direction: column; flex-basis: 100%; flex: 1; padding: 10px; }\n",
       "    </style>\n",
       "<div class=\"wandb-row\"><div class=\"wandb-col\"><h3>Run history:</h3><br/><table class=\"wandb\"><tr><td>AUC</td><td>▁</td></tr><tr><td>Test Error Rate</td><td>▁</td></tr><tr><td>accuracy</td><td>▁▃▃▄▄▄▅▅▅▅▆▆▆▆▇▇▇▇▇▇▇▇██▇▇██</td></tr><tr><td>epoch</td><td>▁▁▂▂▂▂▃▃▃▃▄▄▄▄▅▅▅▅▆▆▆▆▇▇▇▇██</td></tr><tr><td>loss</td><td>█▂▂▂▂▁▁▁▁▁▁▁▁▁▁▁▁▁▁▁▁▁▁▁▁▁▁▁</td></tr><tr><td>val_accuracy</td><td>▂▄▄▂▄▅▄▂▄▄▄▃▂▂▄▄▄▂▆▂▇▇▂▇▄▁█▆</td></tr><tr><td>val_loss</td><td>▁▁▁▁▁▁▁▂▁▁▂▂▂▃▁▂▂▂▁▂▁▁▆▁▁█▁▁</td></tr></table><br/></div><div class=\"wandb-col\"><h3>Run summary:</h3><br/><table class=\"wandb\"><tr><td>AUC</td><td>0.9463</td></tr><tr><td>Test Error Rate</td><td>10.08</td></tr><tr><td>accuracy</td><td>0.92202</td></tr><tr><td>best_epoch</td><td>26</td></tr><tr><td>best_val_loss</td><td>0.34923</td></tr><tr><td>epoch</td><td>27</td></tr><tr><td>loss</td><td>0.19817</td></tr><tr><td>val_accuracy</td><td>0.79</td></tr><tr><td>val_loss</td><td>0.57417</td></tr></table><br/></div></div>"
      ],
      "text/plain": [
       "<IPython.core.display.HTML object>"
      ]
     },
     "metadata": {},
     "output_type": "display_data"
    },
    {
     "data": {
      "text/html": [
       "Synced <strong style=\"color:#cdcd00\">faithful-sweep-28</strong>: <a href=\"https://wandb.ai/ishadowstormi/Coronary%20angiography%20network/runs/bran4hfn\" target=\"_blank\">https://wandb.ai/ishadowstormi/Coronary%20angiography%20network/runs/bran4hfn</a><br/>Synced 5 W&B file(s), 1 media file(s), 0 artifact file(s) and 0 other file(s)"
      ],
      "text/plain": [
       "<IPython.core.display.HTML object>"
      ]
     },
     "metadata": {},
     "output_type": "display_data"
    },
    {
     "data": {
      "text/html": [
       "Find logs at: <code>./wandb/run-20220324_045929-bran4hfn/logs</code>"
      ],
      "text/plain": [
       "<IPython.core.display.HTML object>"
      ]
     },
     "metadata": {},
     "output_type": "display_data"
    },
    {
     "name": "stderr",
     "output_type": "stream",
     "text": [
      "\u001b[34m\u001b[1mwandb\u001b[0m: Agent Starting Run: 0knlyb02 with config:\n",
      "\u001b[34m\u001b[1mwandb\u001b[0m: \tbatch_size: 32\n",
      "\u001b[34m\u001b[1mwandb\u001b[0m: \tconv_layer1: 32\n",
      "\u001b[34m\u001b[1mwandb\u001b[0m: \tconv_layer2: 64\n",
      "\u001b[34m\u001b[1mwandb\u001b[0m: \tconv_layer3: 128\n",
      "\u001b[34m\u001b[1mwandb\u001b[0m: \tconv_layer4: 64\n",
      "\u001b[34m\u001b[1mwandb\u001b[0m: \tdense: 512\n",
      "Failed to detect the name of this notebook, you can set it manually with the WANDB_NOTEBOOK_NAME environment variable to enable code saving.\n"
     ]
    },
    {
     "data": {
      "text/html": [
       "Tracking run with wandb version 0.12.11"
      ],
      "text/plain": [
       "<IPython.core.display.HTML object>"
      ]
     },
     "metadata": {},
     "output_type": "display_data"
    },
    {
     "data": {
      "text/html": [
       "Run data is saved locally in <code>/home/jovyan/data/lightning/FrantisekUrban/wandb/run-20220324_051635-0knlyb02</code>"
      ],
      "text/plain": [
       "<IPython.core.display.HTML object>"
      ]
     },
     "metadata": {},
     "output_type": "display_data"
    },
    {
     "data": {
      "text/html": [
       "Syncing run <strong><a href=\"https://wandb.ai/ishadowstormi/Coronary%20angiography%20network/runs/0knlyb02\" target=\"_blank\">magic-sweep-29</a></strong> to <a href=\"https://wandb.ai/ishadowstormi/Coronary%20angiography%20network\" target=\"_blank\">Weights & Biases</a> (<a href=\"https://wandb.me/run\" target=\"_blank\">docs</a>)<br/>Sweep page:  <a href=\"https://wandb.ai/ishadowstormi/Coronary%20angiography%20network/sweeps/wco4rtlh\" target=\"_blank\">https://wandb.ai/ishadowstormi/Coronary%20angiography%20network/sweeps/wco4rtlh</a>"
      ],
      "text/plain": [
       "<IPython.core.display.HTML object>"
      ]
     },
     "metadata": {},
     "output_type": "display_data"
    },
    {
     "name": "stdout",
     "output_type": "stream",
     "text": [
      "Epoch 1/28\n",
      "  2/146 [..............................] - ETA: 19s - loss: 10.4971 - accuracy: 0.5781WARNING:tensorflow:Callbacks method `on_train_batch_end` is slow compared to the batch time (batch time: 0.0965s vs `on_train_batch_end` time: 0.1693s). Check your callbacks.\n",
      "146/146 [==============================] - 37s 256ms/step - loss: 1.2890 - accuracy: 0.6789 - val_loss: 0.7288 - val_accuracy: 0.6600\n",
      "Epoch 2/28\n",
      "146/146 [==============================] - 37s 254ms/step - loss: 0.5441 - accuracy: 0.7219 - val_loss: 0.6319 - val_accuracy: 0.6600\n",
      "Epoch 3/28\n",
      "146/146 [==============================] - 37s 255ms/step - loss: 0.5163 - accuracy: 0.7382 - val_loss: 0.7364 - val_accuracy: 0.5100\n",
      "Epoch 4/28\n",
      "146/146 [==============================] - 37s 255ms/step - loss: 0.4977 - accuracy: 0.7517 - val_loss: 0.8817 - val_accuracy: 0.6500\n",
      "Epoch 5/28\n",
      "146/146 [==============================] - 37s 255ms/step - loss: 0.4850 - accuracy: 0.7719 - val_loss: 2.1677 - val_accuracy: 0.5100\n",
      "Epoch 6/28\n",
      "146/146 [==============================] - 37s 255ms/step - loss: 0.4512 - accuracy: 0.7776 - val_loss: 0.6804 - val_accuracy: 0.7100\n",
      "Epoch 7/28\n",
      "146/146 [==============================] - 37s 255ms/step - loss: 0.4289 - accuracy: 0.7993 - val_loss: 0.9170 - val_accuracy: 0.5500\n",
      "Epoch 8/28\n",
      "146/146 [==============================] - 37s 255ms/step - loss: 0.4071 - accuracy: 0.8113 - val_loss: 0.6407 - val_accuracy: 0.7300\n",
      "Epoch 9/28\n",
      "146/146 [==============================] - 37s 254ms/step - loss: 0.4072 - accuracy: 0.8168 - val_loss: 0.6104 - val_accuracy: 0.7300\n",
      "Epoch 10/28\n",
      "146/146 [==============================] - 37s 254ms/step - loss: 0.3693 - accuracy: 0.8329 - val_loss: 0.6210 - val_accuracy: 0.7500\n",
      "Epoch 11/28\n",
      "146/146 [==============================] - 37s 254ms/step - loss: 0.3298 - accuracy: 0.8470 - val_loss: 0.4180 - val_accuracy: 0.7800\n",
      "Epoch 12/28\n",
      "146/146 [==============================] - 37s 255ms/step - loss: 0.3676 - accuracy: 0.8284 - val_loss: 0.4230 - val_accuracy: 0.7600\n",
      "Epoch 13/28\n",
      "146/146 [==============================] - 37s 255ms/step - loss: 0.3238 - accuracy: 0.8455 - val_loss: 0.4795 - val_accuracy: 0.7100\n",
      "Epoch 14/28\n",
      "146/146 [==============================] - 37s 254ms/step - loss: 0.2915 - accuracy: 0.8674 - val_loss: 0.6083 - val_accuracy: 0.7200\n",
      "Epoch 15/28\n",
      "146/146 [==============================] - 37s 254ms/step - loss: 0.2771 - accuracy: 0.8685 - val_loss: 0.6593 - val_accuracy: 0.7400\n",
      "Epoch 16/28\n",
      "146/146 [==============================] - 37s 255ms/step - loss: 0.2944 - accuracy: 0.8693 - val_loss: 1.0269 - val_accuracy: 0.5900\n",
      "Epoch 17/28\n",
      "146/146 [==============================] - 37s 255ms/step - loss: 0.2766 - accuracy: 0.8817 - val_loss: 2.4312 - val_accuracy: 0.6200\n",
      "Epoch 18/28\n",
      "146/146 [==============================] - 37s 255ms/step - loss: 0.2695 - accuracy: 0.8807 - val_loss: 0.9598 - val_accuracy: 0.7200\n",
      "Epoch 19/28\n",
      "146/146 [==============================] - 37s 255ms/step - loss: 0.2479 - accuracy: 0.8903 - val_loss: 1.0850 - val_accuracy: 0.6500\n",
      "Epoch 20/28\n",
      "146/146 [==============================] - 37s 255ms/step - loss: 0.2368 - accuracy: 0.8972 - val_loss: 0.6515 - val_accuracy: 0.8300\n",
      "Epoch 21/28\n",
      "146/146 [==============================] - 37s 254ms/step - loss: 0.2383 - accuracy: 0.8946 - val_loss: 0.4235 - val_accuracy: 0.8200\n",
      "Epoch 22/28\n",
      "146/146 [==============================] - 37s 254ms/step - loss: 0.2606 - accuracy: 0.8854 - val_loss: 0.5358 - val_accuracy: 0.8000\n",
      "Epoch 23/28\n",
      "146/146 [==============================] - 37s 254ms/step - loss: 0.2346 - accuracy: 0.8970 - val_loss: 0.6037 - val_accuracy: 0.6900\n",
      "Epoch 24/28\n",
      "146/146 [==============================] - 37s 254ms/step - loss: 0.2322 - accuracy: 0.9042 - val_loss: 0.8337 - val_accuracy: 0.8100\n",
      "Epoch 25/28\n",
      "146/146 [==============================] - 37s 254ms/step - loss: 0.2117 - accuracy: 0.9057 - val_loss: 0.7575 - val_accuracy: 0.7600\n",
      "Epoch 26/28\n",
      "146/146 [==============================] - 37s 254ms/step - loss: 0.2017 - accuracy: 0.9130 - val_loss: 0.4403 - val_accuracy: 0.7800\n",
      "Epoch 27/28\n",
      "146/146 [==============================] - 37s 254ms/step - loss: 0.1937 - accuracy: 0.9188 - val_loss: 1.1013 - val_accuracy: 0.7100\n",
      "Epoch 28/28\n",
      "146/146 [==============================] - 37s 254ms/step - loss: 0.1922 - accuracy: 0.9216 - val_loss: 0.9292 - val_accuracy: 0.6700\n",
      "\n",
      "-----Model evaluation on test data-----\n",
      "38/38 [==============================] - 3s 77ms/step - loss: 1.3612 - accuracy: 0.5726\n",
      "Test Error Rate:  42.74\n",
      "AUC:  0.9378\n",
      "\n"
     ]
    },
    {
     "data": {
      "text/html": [
       "Waiting for W&B process to finish... <strong style=\"color:green\">(success).</strong>"
      ],
      "text/plain": [
       "<IPython.core.display.HTML object>"
      ]
     },
     "metadata": {},
     "output_type": "display_data"
    },
    {
     "data": {
      "application/vnd.jupyter.widget-view+json": {
       "model_id": "",
       "version_major": 2,
       "version_minor": 0
      },
      "text/plain": [
       "VBox(children=(Label(value='0.004 MB of 0.004 MB uploaded (0.000 MB deduped)\\r'), FloatProgress(value=1.0, max…"
      ]
     },
     "metadata": {},
     "output_type": "display_data"
    },
    {
     "data": {
      "text/html": [
       "<style>\n",
       "    table.wandb td:nth-child(1) { padding: 0 10px; text-align: right }\n",
       "    .wandb-row { display: flex; flex-direction: row; flex-wrap: wrap; width: 100% }\n",
       "    .wandb-col { display: flex; flex-direction: column; flex-basis: 100%; flex: 1; padding: 10px; }\n",
       "    </style>\n",
       "<div class=\"wandb-row\"><div class=\"wandb-col\"><h3>Run history:</h3><br/><table class=\"wandb\"><tr><td>AUC</td><td>▁</td></tr><tr><td>Test Error Rate</td><td>▁</td></tr><tr><td>accuracy</td><td>▁▂▃▃▄▄▄▅▅▅▆▅▆▆▆▆▇▇▇▇▇▇▇▇████</td></tr><tr><td>epoch</td><td>▁▁▂▂▂▂▃▃▃▃▄▄▄▄▅▅▅▅▆▆▆▆▇▇▇▇██</td></tr><tr><td>loss</td><td>█▃▃▃▃▃▃▂▂▂▂▂▂▂▂▂▂▁▁▁▁▁▁▁▁▁▁▁</td></tr><tr><td>val_accuracy</td><td>▄▄▁▄▁▅▂▆▆▆▇▆▅▆▆▃▃▆▄██▇▅█▆▇▅▅</td></tr><tr><td>val_loss</td><td>▂▂▂▃▇▂▃▂▂▂▁▁▁▂▂▃█▃▃▂▁▁▂▂▂▁▃▃</td></tr></table><br/></div><div class=\"wandb-col\"><h3>Run summary:</h3><br/><table class=\"wandb\"><tr><td>AUC</td><td>0.9378</td></tr><tr><td>Test Error Rate</td><td>42.74</td></tr><tr><td>accuracy</td><td>0.92159</td></tr><tr><td>best_epoch</td><td>10</td></tr><tr><td>best_val_loss</td><td>0.41804</td></tr><tr><td>epoch</td><td>27</td></tr><tr><td>loss</td><td>0.19218</td></tr><tr><td>val_accuracy</td><td>0.67</td></tr><tr><td>val_loss</td><td>0.92918</td></tr></table><br/></div></div>"
      ],
      "text/plain": [
       "<IPython.core.display.HTML object>"
      ]
     },
     "metadata": {},
     "output_type": "display_data"
    },
    {
     "data": {
      "text/html": [
       "Synced <strong style=\"color:#cdcd00\">magic-sweep-29</strong>: <a href=\"https://wandb.ai/ishadowstormi/Coronary%20angiography%20network/runs/0knlyb02\" target=\"_blank\">https://wandb.ai/ishadowstormi/Coronary%20angiography%20network/runs/0knlyb02</a><br/>Synced 5 W&B file(s), 1 media file(s), 0 artifact file(s) and 0 other file(s)"
      ],
      "text/plain": [
       "<IPython.core.display.HTML object>"
      ]
     },
     "metadata": {},
     "output_type": "display_data"
    },
    {
     "data": {
      "text/html": [
       "Find logs at: <code>./wandb/run-20220324_051635-0knlyb02/logs</code>"
      ],
      "text/plain": [
       "<IPython.core.display.HTML object>"
      ]
     },
     "metadata": {},
     "output_type": "display_data"
    },
    {
     "name": "stderr",
     "output_type": "stream",
     "text": [
      "\u001b[34m\u001b[1mwandb\u001b[0m: Sweep Agent: Waiting for job.\n",
      "\u001b[34m\u001b[1mwandb\u001b[0m: Job received.\n",
      "\u001b[34m\u001b[1mwandb\u001b[0m: Agent Starting Run: 8xvelwti with config:\n",
      "\u001b[34m\u001b[1mwandb\u001b[0m: \tbatch_size: 32\n",
      "\u001b[34m\u001b[1mwandb\u001b[0m: \tconv_layer1: 32\n",
      "\u001b[34m\u001b[1mwandb\u001b[0m: \tconv_layer2: 64\n",
      "\u001b[34m\u001b[1mwandb\u001b[0m: \tconv_layer3: 128\n",
      "\u001b[34m\u001b[1mwandb\u001b[0m: \tconv_layer4: 64\n",
      "\u001b[34m\u001b[1mwandb\u001b[0m: \tdense: 1024\n",
      "Failed to detect the name of this notebook, you can set it manually with the WANDB_NOTEBOOK_NAME environment variable to enable code saving.\n"
     ]
    },
    {
     "data": {
      "text/html": [
       "Tracking run with wandb version 0.12.11"
      ],
      "text/plain": [
       "<IPython.core.display.HTML object>"
      ]
     },
     "metadata": {},
     "output_type": "display_data"
    },
    {
     "data": {
      "text/html": [
       "Run data is saved locally in <code>/home/jovyan/data/lightning/FrantisekUrban/wandb/run-20220324_053431-8xvelwti</code>"
      ],
      "text/plain": [
       "<IPython.core.display.HTML object>"
      ]
     },
     "metadata": {},
     "output_type": "display_data"
    },
    {
     "data": {
      "text/html": [
       "Syncing run <strong><a href=\"https://wandb.ai/ishadowstormi/Coronary%20angiography%20network/runs/8xvelwti\" target=\"_blank\">worldly-sweep-30</a></strong> to <a href=\"https://wandb.ai/ishadowstormi/Coronary%20angiography%20network\" target=\"_blank\">Weights & Biases</a> (<a href=\"https://wandb.me/run\" target=\"_blank\">docs</a>)<br/>Sweep page:  <a href=\"https://wandb.ai/ishadowstormi/Coronary%20angiography%20network/sweeps/wco4rtlh\" target=\"_blank\">https://wandb.ai/ishadowstormi/Coronary%20angiography%20network/sweeps/wco4rtlh</a>"
      ],
      "text/plain": [
       "<IPython.core.display.HTML object>"
      ]
     },
     "metadata": {},
     "output_type": "display_data"
    },
    {
     "name": "stdout",
     "output_type": "stream",
     "text": [
      "Epoch 1/28\n",
      "  2/146 [..............................] - ETA: 18s - loss: 2.9110 - accuracy: 0.5156WARNING:tensorflow:Callbacks method `on_train_batch_end` is slow compared to the batch time (batch time: 0.0944s vs `on_train_batch_end` time: 0.1667s). Check your callbacks.\n",
      "146/146 [==============================] - 38s 258ms/step - loss: 3.0315 - accuracy: 0.6594 - val_loss: 1.2437 - val_accuracy: 0.6100\n",
      "Epoch 2/28\n",
      "146/146 [==============================] - 37s 256ms/step - loss: 0.9353 - accuracy: 0.6656 - val_loss: 1.1170 - val_accuracy: 0.5500\n",
      "Epoch 3/28\n",
      "146/146 [==============================] - 37s 256ms/step - loss: 0.5387 - accuracy: 0.7365 - val_loss: 0.8229 - val_accuracy: 0.6000\n",
      "Epoch 4/28\n",
      "146/146 [==============================] - 37s 256ms/step - loss: 0.4980 - accuracy: 0.7526 - val_loss: 1.3095 - val_accuracy: 0.6900\n",
      "Epoch 5/28\n",
      "146/146 [==============================] - 37s 256ms/step - loss: 0.4813 - accuracy: 0.7676 - val_loss: 0.5508 - val_accuracy: 0.6900\n",
      "Epoch 6/28\n",
      "146/146 [==============================] - 37s 256ms/step - loss: 0.4543 - accuracy: 0.7757 - val_loss: 1.9315 - val_accuracy: 0.6100\n",
      "Epoch 7/28\n",
      "146/146 [==============================] - 37s 256ms/step - loss: 0.4500 - accuracy: 0.7772 - val_loss: 0.5264 - val_accuracy: 0.7200\n",
      "Epoch 8/28\n",
      "146/146 [==============================] - 37s 256ms/step - loss: 0.4114 - accuracy: 0.7986 - val_loss: 0.8705 - val_accuracy: 0.6900\n",
      "Epoch 9/28\n",
      "146/146 [==============================] - 37s 255ms/step - loss: 0.3985 - accuracy: 0.8130 - val_loss: 0.6652 - val_accuracy: 0.6600\n",
      "Epoch 10/28\n",
      "146/146 [==============================] - 37s 256ms/step - loss: 0.3807 - accuracy: 0.8265 - val_loss: 0.7472 - val_accuracy: 0.7500\n",
      "Epoch 11/28\n",
      "146/146 [==============================] - 37s 255ms/step - loss: 0.3505 - accuracy: 0.8318 - val_loss: 0.5278 - val_accuracy: 0.7100\n",
      "Epoch 12/28\n",
      "146/146 [==============================] - 37s 255ms/step - loss: 0.3203 - accuracy: 0.8530 - val_loss: 0.6466 - val_accuracy: 0.7100\n",
      "Epoch 13/28\n",
      "146/146 [==============================] - 37s 255ms/step - loss: 0.3237 - accuracy: 0.8605 - val_loss: 0.6667 - val_accuracy: 0.7100\n",
      "Epoch 14/28\n",
      "146/146 [==============================] - 37s 256ms/step - loss: 0.3227 - accuracy: 0.8543 - val_loss: 0.7001 - val_accuracy: 0.6600\n",
      "Epoch 15/28\n",
      "146/146 [==============================] - 37s 255ms/step - loss: 0.3070 - accuracy: 0.8642 - val_loss: 0.6353 - val_accuracy: 0.7900\n",
      "Epoch 16/28\n",
      "146/146 [==============================] - 37s 255ms/step - loss: 0.2802 - accuracy: 0.8815 - val_loss: 0.6206 - val_accuracy: 0.6900\n",
      "Epoch 17/28\n",
      "146/146 [==============================] - 37s 256ms/step - loss: 0.2812 - accuracy: 0.8790 - val_loss: 0.5041 - val_accuracy: 0.7800\n",
      "Epoch 18/28\n",
      "146/146 [==============================] - 38s 257ms/step - loss: 0.2563 - accuracy: 0.8873 - val_loss: 0.5579 - val_accuracy: 0.7800\n",
      "Epoch 19/28\n",
      "146/146 [==============================] - 37s 255ms/step - loss: 0.2638 - accuracy: 0.8875 - val_loss: 0.5690 - val_accuracy: 0.7900\n",
      "Epoch 20/28\n",
      "146/146 [==============================] - 37s 255ms/step - loss: 0.2560 - accuracy: 0.8886 - val_loss: 0.5168 - val_accuracy: 0.7600\n",
      "Epoch 21/28\n",
      "146/146 [==============================] - 37s 255ms/step - loss: 0.2334 - accuracy: 0.9032 - val_loss: 0.7327 - val_accuracy: 0.7500\n",
      "Epoch 22/28\n",
      "146/146 [==============================] - 37s 255ms/step - loss: 0.2381 - accuracy: 0.9015 - val_loss: 0.4216 - val_accuracy: 0.8300\n",
      "Epoch 23/28\n",
      "146/146 [==============================] - 37s 255ms/step - loss: 0.2142 - accuracy: 0.9100 - val_loss: 0.6083 - val_accuracy: 0.7800\n",
      "Epoch 24/28\n",
      "146/146 [==============================] - 37s 255ms/step - loss: 0.2165 - accuracy: 0.9004 - val_loss: 0.6213 - val_accuracy: 0.7600\n",
      "Epoch 25/28\n",
      "146/146 [==============================] - 37s 255ms/step - loss: 0.2038 - accuracy: 0.9075 - val_loss: 0.5658 - val_accuracy: 0.8000\n",
      "Epoch 26/28\n",
      "146/146 [==============================] - 37s 256ms/step - loss: 0.2116 - accuracy: 0.9158 - val_loss: 0.7994 - val_accuracy: 0.7300\n",
      "Epoch 27/28\n",
      "146/146 [==============================] - 37s 255ms/step - loss: 0.1870 - accuracy: 0.9199 - val_loss: 1.1456 - val_accuracy: 0.7200\n",
      "Epoch 28/28\n",
      "146/146 [==============================] - 37s 255ms/step - loss: 0.1869 - accuracy: 0.9252 - val_loss: 0.5811 - val_accuracy: 0.8500\n",
      "\n",
      "-----Model evaluation on test data-----\n",
      "38/38 [==============================] - 3s 77ms/step - loss: 0.6296 - accuracy: 0.8035\n",
      "Test Error Rate:  19.65\n",
      "AUC:  0.8813\n",
      "\n"
     ]
    },
    {
     "data": {
      "text/html": [
       "Waiting for W&B process to finish... <strong style=\"color:green\">(success).</strong>"
      ],
      "text/plain": [
       "<IPython.core.display.HTML object>"
      ]
     },
     "metadata": {},
     "output_type": "display_data"
    },
    {
     "data": {
      "application/vnd.jupyter.widget-view+json": {
       "model_id": "",
       "version_major": 2,
       "version_minor": 0
      },
      "text/plain": [
       "VBox(children=(Label(value='0.004 MB of 0.004 MB uploaded (0.000 MB deduped)\\r'), FloatProgress(value=1.0, max…"
      ]
     },
     "metadata": {},
     "output_type": "display_data"
    },
    {
     "data": {
      "text/html": [
       "<style>\n",
       "    table.wandb td:nth-child(1) { padding: 0 10px; text-align: right }\n",
       "    .wandb-row { display: flex; flex-direction: row; flex-wrap: wrap; width: 100% }\n",
       "    .wandb-col { display: flex; flex-direction: column; flex-basis: 100%; flex: 1; padding: 10px; }\n",
       "    </style>\n",
       "<div class=\"wandb-row\"><div class=\"wandb-col\"><h3>Run history:</h3><br/><table class=\"wandb\"><tr><td>AUC</td><td>▁</td></tr><tr><td>Test Error Rate</td><td>▁</td></tr><tr><td>accuracy</td><td>▁▁▃▃▄▄▄▅▅▅▆▆▆▆▆▇▇▇▇▇▇▇█▇████</td></tr><tr><td>epoch</td><td>▁▁▂▂▂▂▃▃▃▃▄▄▄▄▅▅▅▅▆▆▆▆▇▇▇▇██</td></tr><tr><td>loss</td><td>█▃▂▂▂▂▂▂▂▁▁▁▁▁▁▁▁▁▁▁▁▁▁▁▁▁▁▁</td></tr><tr><td>val_accuracy</td><td>▂▁▂▄▄▂▅▄▄▆▅▅▅▄▇▄▆▆▇▆▆█▆▆▇▅▅█</td></tr><tr><td>val_loss</td><td>▅▄▃▅▂█▁▃▂▃▁▂▂▂▂▂▁▂▂▁▂▁▂▂▂▃▄▂</td></tr></table><br/></div><div class=\"wandb-col\"><h3>Run summary:</h3><br/><table class=\"wandb\"><tr><td>AUC</td><td>0.8813</td></tr><tr><td>Test Error Rate</td><td>19.65</td></tr><tr><td>accuracy</td><td>0.92524</td></tr><tr><td>best_epoch</td><td>21</td></tr><tr><td>best_val_loss</td><td>0.42157</td></tr><tr><td>epoch</td><td>27</td></tr><tr><td>loss</td><td>0.18686</td></tr><tr><td>val_accuracy</td><td>0.85</td></tr><tr><td>val_loss</td><td>0.58112</td></tr></table><br/></div></div>"
      ],
      "text/plain": [
       "<IPython.core.display.HTML object>"
      ]
     },
     "metadata": {},
     "output_type": "display_data"
    },
    {
     "data": {
      "text/html": [
       "Synced <strong style=\"color:#cdcd00\">worldly-sweep-30</strong>: <a href=\"https://wandb.ai/ishadowstormi/Coronary%20angiography%20network/runs/8xvelwti\" target=\"_blank\">https://wandb.ai/ishadowstormi/Coronary%20angiography%20network/runs/8xvelwti</a><br/>Synced 5 W&B file(s), 1 media file(s), 0 artifact file(s) and 0 other file(s)"
      ],
      "text/plain": [
       "<IPython.core.display.HTML object>"
      ]
     },
     "metadata": {},
     "output_type": "display_data"
    },
    {
     "data": {
      "text/html": [
       "Find logs at: <code>./wandb/run-20220324_053431-8xvelwti/logs</code>"
      ],
      "text/plain": [
       "<IPython.core.display.HTML object>"
      ]
     },
     "metadata": {},
     "output_type": "display_data"
    },
    {
     "name": "stderr",
     "output_type": "stream",
     "text": [
      "\u001b[34m\u001b[1mwandb\u001b[0m: Agent Starting Run: d7tghrd2 with config:\n",
      "\u001b[34m\u001b[1mwandb\u001b[0m: \tbatch_size: 32\n",
      "\u001b[34m\u001b[1mwandb\u001b[0m: \tconv_layer1: 32\n",
      "\u001b[34m\u001b[1mwandb\u001b[0m: \tconv_layer2: 64\n",
      "\u001b[34m\u001b[1mwandb\u001b[0m: \tconv_layer3: 128\n",
      "\u001b[34m\u001b[1mwandb\u001b[0m: \tconv_layer4: 128\n",
      "\u001b[34m\u001b[1mwandb\u001b[0m: \tdense: 512\n",
      "Failed to detect the name of this notebook, you can set it manually with the WANDB_NOTEBOOK_NAME environment variable to enable code saving.\n"
     ]
    },
    {
     "data": {
      "text/html": [
       "Tracking run with wandb version 0.12.11"
      ],
      "text/plain": [
       "<IPython.core.display.HTML object>"
      ]
     },
     "metadata": {},
     "output_type": "display_data"
    },
    {
     "data": {
      "text/html": [
       "Run data is saved locally in <code>/home/jovyan/data/lightning/FrantisekUrban/wandb/run-20220324_055226-d7tghrd2</code>"
      ],
      "text/plain": [
       "<IPython.core.display.HTML object>"
      ]
     },
     "metadata": {},
     "output_type": "display_data"
    },
    {
     "data": {
      "text/html": [
       "Syncing run <strong><a href=\"https://wandb.ai/ishadowstormi/Coronary%20angiography%20network/runs/d7tghrd2\" target=\"_blank\">absurd-sweep-31</a></strong> to <a href=\"https://wandb.ai/ishadowstormi/Coronary%20angiography%20network\" target=\"_blank\">Weights & Biases</a> (<a href=\"https://wandb.me/run\" target=\"_blank\">docs</a>)<br/>Sweep page:  <a href=\"https://wandb.ai/ishadowstormi/Coronary%20angiography%20network/sweeps/wco4rtlh\" target=\"_blank\">https://wandb.ai/ishadowstormi/Coronary%20angiography%20network/sweeps/wco4rtlh</a>"
      ],
      "text/plain": [
       "<IPython.core.display.HTML object>"
      ]
     },
     "metadata": {},
     "output_type": "display_data"
    },
    {
     "name": "stdout",
     "output_type": "stream",
     "text": [
      "Epoch 1/28\n",
      "  2/146 [..............................] - ETA: 19s - loss: 4.1891 - accuracy: 0.5312WARNING:tensorflow:Callbacks method `on_train_batch_end` is slow compared to the batch time (batch time: 0.0963s vs `on_train_batch_end` time: 0.1710s). Check your callbacks.\n",
      "146/146 [==============================] - 38s 263ms/step - loss: 2.6368 - accuracy: 0.6386 - val_loss: 0.8037 - val_accuracy: 0.4800\n",
      "Epoch 2/28\n",
      "146/146 [==============================] - 38s 261ms/step - loss: 0.6306 - accuracy: 0.6962 - val_loss: 0.6049 - val_accuracy: 0.6700\n",
      "Epoch 3/28\n",
      "146/146 [==============================] - 38s 261ms/step - loss: 0.5454 - accuracy: 0.7121 - val_loss: 0.7278 - val_accuracy: 0.6000\n",
      "Epoch 4/28\n",
      "146/146 [==============================] - 38s 261ms/step - loss: 0.5147 - accuracy: 0.7419 - val_loss: 0.7052 - val_accuracy: 0.6400\n",
      "Epoch 5/28\n",
      "146/146 [==============================] - 38s 261ms/step - loss: 0.4880 - accuracy: 0.7532 - val_loss: 0.7776 - val_accuracy: 0.6000\n",
      "Epoch 6/28\n",
      "146/146 [==============================] - 38s 261ms/step - loss: 0.4773 - accuracy: 0.7581 - val_loss: 1.1551 - val_accuracy: 0.5100\n",
      "Epoch 7/28\n",
      "146/146 [==============================] - 38s 261ms/step - loss: 0.4383 - accuracy: 0.7853 - val_loss: 3.4421 - val_accuracy: 0.5000\n",
      "Epoch 8/28\n",
      "146/146 [==============================] - 38s 261ms/step - loss: 0.4157 - accuracy: 0.7952 - val_loss: 0.6462 - val_accuracy: 0.7700\n",
      "Epoch 9/28\n",
      "146/146 [==============================] - 38s 261ms/step - loss: 0.4114 - accuracy: 0.8014 - val_loss: 0.4989 - val_accuracy: 0.7200\n",
      "Epoch 10/28\n",
      "146/146 [==============================] - 38s 261ms/step - loss: 0.3859 - accuracy: 0.8147 - val_loss: 0.5033 - val_accuracy: 0.7200\n",
      "Epoch 11/28\n",
      "146/146 [==============================] - 38s 260ms/step - loss: 0.3787 - accuracy: 0.8106 - val_loss: 1.0672 - val_accuracy: 0.6500\n",
      "Epoch 12/28\n",
      "146/146 [==============================] - 38s 262ms/step - loss: 0.3548 - accuracy: 0.8293 - val_loss: 0.5350 - val_accuracy: 0.7100\n",
      "Epoch 13/28\n",
      "146/146 [==============================] - 38s 261ms/step - loss: 0.3306 - accuracy: 0.8404 - val_loss: 0.4597 - val_accuracy: 0.8400\n",
      "Epoch 14/28\n",
      "146/146 [==============================] - 38s 261ms/step - loss: 0.3228 - accuracy: 0.8593 - val_loss: 0.6186 - val_accuracy: 0.6600\n",
      "Epoch 15/28\n",
      "146/146 [==============================] - 38s 261ms/step - loss: 0.3447 - accuracy: 0.8436 - val_loss: 0.4965 - val_accuracy: 0.7900\n",
      "Epoch 16/28\n",
      "146/146 [==============================] - 38s 261ms/step - loss: 0.3236 - accuracy: 0.8460 - val_loss: 1.0766 - val_accuracy: 0.7200\n",
      "Epoch 17/28\n",
      "146/146 [==============================] - 38s 261ms/step - loss: 0.3136 - accuracy: 0.8573 - val_loss: 0.5390 - val_accuracy: 0.7800\n",
      "Epoch 18/28\n",
      "146/146 [==============================] - 38s 261ms/step - loss: 0.2880 - accuracy: 0.8719 - val_loss: 2.8324 - val_accuracy: 0.6400\n",
      "Epoch 19/28\n",
      "146/146 [==============================] - 38s 260ms/step - loss: 0.2740 - accuracy: 0.8732 - val_loss: 0.8403 - val_accuracy: 0.7300\n",
      "Epoch 20/28\n",
      "146/146 [==============================] - 38s 260ms/step - loss: 0.2921 - accuracy: 0.8687 - val_loss: 0.6197 - val_accuracy: 0.7000\n",
      "Epoch 21/28\n",
      "146/146 [==============================] - 38s 261ms/step - loss: 0.2824 - accuracy: 0.8802 - val_loss: 0.6170 - val_accuracy: 0.8000\n",
      "Epoch 22/28\n",
      "146/146 [==============================] - 38s 260ms/step - loss: 0.2699 - accuracy: 0.8845 - val_loss: 0.5668 - val_accuracy: 0.7700\n",
      "Epoch 23/28\n",
      "146/146 [==============================] - 38s 260ms/step - loss: 0.2643 - accuracy: 0.8858 - val_loss: 0.4765 - val_accuracy: 0.7900\n",
      "Epoch 24/28\n",
      "146/146 [==============================] - 38s 261ms/step - loss: 0.2460 - accuracy: 0.8946 - val_loss: 0.9176 - val_accuracy: 0.7400\n",
      "Epoch 25/28\n",
      "146/146 [==============================] - 38s 261ms/step - loss: 0.2358 - accuracy: 0.9012 - val_loss: 0.4861 - val_accuracy: 0.8400\n",
      "Epoch 26/28\n",
      "146/146 [==============================] - 38s 261ms/step - loss: 0.2422 - accuracy: 0.8963 - val_loss: 0.5745 - val_accuracy: 0.7500\n",
      "Epoch 27/28\n",
      "146/146 [==============================] - 38s 261ms/step - loss: 0.2439 - accuracy: 0.8952 - val_loss: 0.3500 - val_accuracy: 0.8900\n",
      "Epoch 28/28\n",
      "146/146 [==============================] - 38s 261ms/step - loss: 0.3833 - accuracy: 0.8460 - val_loss: 0.6193 - val_accuracy: 0.8300\n",
      "\n",
      "-----Model evaluation on test data-----\n",
      "38/38 [==============================] - 3s 78ms/step - loss: 0.2698 - accuracy: 0.9337\n",
      "Test Error Rate:  6.63\n",
      "AUC:  0.8785\n",
      "\n"
     ]
    },
    {
     "data": {
      "text/html": [
       "Waiting for W&B process to finish... <strong style=\"color:green\">(success).</strong>"
      ],
      "text/plain": [
       "<IPython.core.display.HTML object>"
      ]
     },
     "metadata": {},
     "output_type": "display_data"
    },
    {
     "data": {
      "application/vnd.jupyter.widget-view+json": {
       "model_id": "",
       "version_major": 2,
       "version_minor": 0
      },
      "text/plain": [
       "VBox(children=(Label(value='0.004 MB of 0.004 MB uploaded (0.000 MB deduped)\\r'), FloatProgress(value=1.0, max…"
      ]
     },
     "metadata": {},
     "output_type": "display_data"
    },
    {
     "data": {
      "text/html": [
       "<style>\n",
       "    table.wandb td:nth-child(1) { padding: 0 10px; text-align: right }\n",
       "    .wandb-row { display: flex; flex-direction: row; flex-wrap: wrap; width: 100% }\n",
       "    .wandb-col { display: flex; flex-direction: column; flex-basis: 100%; flex: 1; padding: 10px; }\n",
       "    </style>\n",
       "<div class=\"wandb-row\"><div class=\"wandb-col\"><h3>Run history:</h3><br/><table class=\"wandb\"><tr><td>AUC</td><td>▁</td></tr><tr><td>Test Error Rate</td><td>▁</td></tr><tr><td>accuracy</td><td>▁▃▃▄▄▄▅▅▅▆▆▆▆▇▆▇▇▇▇▇▇██████▇</td></tr><tr><td>epoch</td><td>▁▁▂▂▂▂▃▃▃▃▄▄▄▄▅▅▅▅▆▆▆▆▇▇▇▇██</td></tr><tr><td>loss</td><td>█▂▂▂▂▂▂▂▂▁▁▁▁▁▁▁▁▁▁▁▁▁▁▁▁▁▁▁</td></tr><tr><td>val_accuracy</td><td>▁▄▃▄▃▂▁▆▅▅▄▅▇▄▆▅▆▄▅▅▆▆▆▅▇▆█▇</td></tr><tr><td>val_loss</td><td>▂▂▂▂▂▃█▂▁▁▃▁▁▂▁▃▁▇▂▂▂▁▁▂▁▂▁▂</td></tr></table><br/></div><div class=\"wandb-col\"><h3>Run summary:</h3><br/><table class=\"wandb\"><tr><td>AUC</td><td>0.8785</td></tr><tr><td>Test Error Rate</td><td>6.63</td></tr><tr><td>accuracy</td><td>0.84597</td></tr><tr><td>best_epoch</td><td>26</td></tr><tr><td>best_val_loss</td><td>0.34999</td></tr><tr><td>epoch</td><td>27</td></tr><tr><td>loss</td><td>0.38325</td></tr><tr><td>val_accuracy</td><td>0.83</td></tr><tr><td>val_loss</td><td>0.61929</td></tr></table><br/></div></div>"
      ],
      "text/plain": [
       "<IPython.core.display.HTML object>"
      ]
     },
     "metadata": {},
     "output_type": "display_data"
    },
    {
     "data": {
      "text/html": [
       "Synced <strong style=\"color:#cdcd00\">absurd-sweep-31</strong>: <a href=\"https://wandb.ai/ishadowstormi/Coronary%20angiography%20network/runs/d7tghrd2\" target=\"_blank\">https://wandb.ai/ishadowstormi/Coronary%20angiography%20network/runs/d7tghrd2</a><br/>Synced 5 W&B file(s), 1 media file(s), 0 artifact file(s) and 0 other file(s)"
      ],
      "text/plain": [
       "<IPython.core.display.HTML object>"
      ]
     },
     "metadata": {},
     "output_type": "display_data"
    },
    {
     "data": {
      "text/html": [
       "Find logs at: <code>./wandb/run-20220324_055226-d7tghrd2/logs</code>"
      ],
      "text/plain": [
       "<IPython.core.display.HTML object>"
      ]
     },
     "metadata": {},
     "output_type": "display_data"
    },
    {
     "name": "stderr",
     "output_type": "stream",
     "text": [
      "\u001b[34m\u001b[1mwandb\u001b[0m: Agent Starting Run: rqdfrsag with config:\n",
      "\u001b[34m\u001b[1mwandb\u001b[0m: \tbatch_size: 32\n",
      "\u001b[34m\u001b[1mwandb\u001b[0m: \tconv_layer1: 32\n",
      "\u001b[34m\u001b[1mwandb\u001b[0m: \tconv_layer2: 64\n",
      "\u001b[34m\u001b[1mwandb\u001b[0m: \tconv_layer3: 128\n",
      "\u001b[34m\u001b[1mwandb\u001b[0m: \tconv_layer4: 128\n",
      "\u001b[34m\u001b[1mwandb\u001b[0m: \tdense: 1024\n",
      "Failed to detect the name of this notebook, you can set it manually with the WANDB_NOTEBOOK_NAME environment variable to enable code saving.\n"
     ]
    },
    {
     "data": {
      "text/html": [
       "Tracking run with wandb version 0.12.11"
      ],
      "text/plain": [
       "<IPython.core.display.HTML object>"
      ]
     },
     "metadata": {},
     "output_type": "display_data"
    },
    {
     "data": {
      "text/html": [
       "Run data is saved locally in <code>/home/jovyan/data/lightning/FrantisekUrban/wandb/run-20220324_061040-rqdfrsag</code>"
      ],
      "text/plain": [
       "<IPython.core.display.HTML object>"
      ]
     },
     "metadata": {},
     "output_type": "display_data"
    },
    {
     "data": {
      "text/html": [
       "Syncing run <strong><a href=\"https://wandb.ai/ishadowstormi/Coronary%20angiography%20network/runs/rqdfrsag\" target=\"_blank\">winter-sweep-32</a></strong> to <a href=\"https://wandb.ai/ishadowstormi/Coronary%20angiography%20network\" target=\"_blank\">Weights & Biases</a> (<a href=\"https://wandb.me/run\" target=\"_blank\">docs</a>)<br/>Sweep page:  <a href=\"https://wandb.ai/ishadowstormi/Coronary%20angiography%20network/sweeps/wco4rtlh\" target=\"_blank\">https://wandb.ai/ishadowstormi/Coronary%20angiography%20network/sweeps/wco4rtlh</a>"
      ],
      "text/plain": [
       "<IPython.core.display.HTML object>"
      ]
     },
     "metadata": {},
     "output_type": "display_data"
    },
    {
     "name": "stdout",
     "output_type": "stream",
     "text": [
      "Epoch 1/28\n",
      "  2/146 [..............................] - ETA: 19s - loss: 12.2806 - accuracy: 0.5938WARNING:tensorflow:Callbacks method `on_train_batch_end` is slow compared to the batch time (batch time: 0.0944s vs `on_train_batch_end` time: 0.1731s). Check your callbacks.\n",
      "146/146 [==============================] - 39s 265ms/step - loss: 6.2916 - accuracy: 0.6407 - val_loss: 4.7650 - val_accuracy: 0.5000\n",
      "Epoch 2/28\n",
      "146/146 [==============================] - 38s 263ms/step - loss: 2.6028 - accuracy: 0.6600 - val_loss: 2.8722 - val_accuracy: 0.5400\n",
      "Epoch 3/28\n",
      "146/146 [==============================] - 38s 263ms/step - loss: 0.7325 - accuracy: 0.7234 - val_loss: 1.7570 - val_accuracy: 0.5000\n",
      "Epoch 4/28\n",
      "146/146 [==============================] - 38s 263ms/step - loss: 0.4819 - accuracy: 0.7817 - val_loss: 1.8207 - val_accuracy: 0.3700\n",
      "Epoch 5/28\n",
      "146/146 [==============================] - 38s 263ms/step - loss: 0.4330 - accuracy: 0.7980 - val_loss: 1.2103 - val_accuracy: 0.5000\n",
      "Epoch 6/28\n",
      "146/146 [==============================] - 38s 263ms/step - loss: 0.4219 - accuracy: 0.7993 - val_loss: 0.6850 - val_accuracy: 0.6500\n",
      "Epoch 7/28\n",
      "146/146 [==============================] - 38s 263ms/step - loss: 0.3843 - accuracy: 0.8271 - val_loss: 0.6513 - val_accuracy: 0.7400\n",
      "Epoch 8/28\n",
      "146/146 [==============================] - 38s 263ms/step - loss: 0.3699 - accuracy: 0.8284 - val_loss: 0.6186 - val_accuracy: 0.7000\n",
      "Epoch 9/28\n",
      "146/146 [==============================] - 38s 264ms/step - loss: 0.3492 - accuracy: 0.8417 - val_loss: 0.8669 - val_accuracy: 0.6800\n",
      "Epoch 10/28\n",
      "146/146 [==============================] - 38s 263ms/step - loss: 0.3365 - accuracy: 0.8470 - val_loss: 0.6918 - val_accuracy: 0.7300\n",
      "Epoch 11/28\n",
      "146/146 [==============================] - 38s 263ms/step - loss: 0.3244 - accuracy: 0.8556 - val_loss: 1.9285 - val_accuracy: 0.5000\n",
      "Epoch 12/28\n",
      "146/146 [==============================] - 38s 263ms/step - loss: 0.3143 - accuracy: 0.8595 - val_loss: 3.2053 - val_accuracy: 0.5600\n",
      "Epoch 13/28\n",
      "146/146 [==============================] - 38s 263ms/step - loss: 0.2882 - accuracy: 0.8730 - val_loss: 1.2986 - val_accuracy: 0.6200\n",
      "Epoch 14/28\n",
      "146/146 [==============================] - 38s 264ms/step - loss: 0.2895 - accuracy: 0.8768 - val_loss: 0.8095 - val_accuracy: 0.7600\n",
      "Epoch 15/28\n",
      "146/146 [==============================] - 39s 264ms/step - loss: 0.2782 - accuracy: 0.8781 - val_loss: 0.5355 - val_accuracy: 0.7800\n",
      "Epoch 16/28\n",
      "146/146 [==============================] - 38s 263ms/step - loss: 0.2799 - accuracy: 0.8790 - val_loss: 0.5023 - val_accuracy: 0.7900\n",
      "Epoch 17/28\n",
      "146/146 [==============================] - 38s 264ms/step - loss: 0.2551 - accuracy: 0.8888 - val_loss: 0.8629 - val_accuracy: 0.7100\n",
      "Epoch 18/28\n",
      "146/146 [==============================] - 38s 263ms/step - loss: 0.2592 - accuracy: 0.8910 - val_loss: 1.5241 - val_accuracy: 0.5800\n",
      "Epoch 19/28\n",
      "146/146 [==============================] - 39s 264ms/step - loss: 0.2519 - accuracy: 0.8961 - val_loss: 0.5622 - val_accuracy: 0.7800\n",
      "Epoch 20/28\n",
      "146/146 [==============================] - 38s 263ms/step - loss: 0.2723 - accuracy: 0.8820 - val_loss: 1.7011 - val_accuracy: 0.6300\n",
      "Epoch 21/28\n",
      "146/146 [==============================] - 38s 263ms/step - loss: 0.2355 - accuracy: 0.8963 - val_loss: 0.5233 - val_accuracy: 0.8100\n",
      "Epoch 22/28\n",
      "146/146 [==============================] - 39s 265ms/step - loss: 0.2417 - accuracy: 0.8965 - val_loss: 0.3895 - val_accuracy: 0.8000\n",
      "Epoch 23/28\n",
      "146/146 [==============================] - 39s 266ms/step - loss: 0.2162 - accuracy: 0.9122 - val_loss: 0.4906 - val_accuracy: 0.7500\n",
      "Epoch 24/28\n",
      "146/146 [==============================] - 38s 263ms/step - loss: 0.2159 - accuracy: 0.9147 - val_loss: 0.6203 - val_accuracy: 0.7500\n",
      "Epoch 25/28\n",
      "146/146 [==============================] - 38s 263ms/step - loss: 0.2109 - accuracy: 0.9158 - val_loss: 0.8288 - val_accuracy: 0.7700\n",
      "Epoch 26/28\n",
      "146/146 [==============================] - 38s 263ms/step - loss: 0.2084 - accuracy: 0.9207 - val_loss: 0.6291 - val_accuracy: 0.8400\n",
      "Epoch 27/28\n",
      "146/146 [==============================] - 38s 263ms/step - loss: 0.1993 - accuracy: 0.9171 - val_loss: 0.7792 - val_accuracy: 0.7400\n",
      "Epoch 28/28\n",
      "146/146 [==============================] - 38s 263ms/step - loss: 0.2063 - accuracy: 0.9162 - val_loss: 0.6625 - val_accuracy: 0.7800\n",
      "\n",
      "-----Model evaluation on test data-----\n",
      "38/38 [==============================] - 3s 77ms/step - loss: 0.8920 - accuracy: 0.6247\n",
      "Test Error Rate:  37.53\n",
      "AUC:  0.9171\n",
      "\n"
     ]
    },
    {
     "data": {
      "text/html": [
       "Waiting for W&B process to finish... <strong style=\"color:green\">(success).</strong>"
      ],
      "text/plain": [
       "<IPython.core.display.HTML object>"
      ]
     },
     "metadata": {},
     "output_type": "display_data"
    },
    {
     "data": {
      "application/vnd.jupyter.widget-view+json": {
       "model_id": "",
       "version_major": 2,
       "version_minor": 0
      },
      "text/plain": [
       "VBox(children=(Label(value='0.004 MB of 0.004 MB uploaded (0.000 MB deduped)\\r'), FloatProgress(value=1.0, max…"
      ]
     },
     "metadata": {},
     "output_type": "display_data"
    },
    {
     "data": {
      "text/html": [
       "<style>\n",
       "    table.wandb td:nth-child(1) { padding: 0 10px; text-align: right }\n",
       "    .wandb-row { display: flex; flex-direction: row; flex-wrap: wrap; width: 100% }\n",
       "    .wandb-col { display: flex; flex-direction: column; flex-basis: 100%; flex: 1; padding: 10px; }\n",
       "    </style>\n",
       "<div class=\"wandb-row\"><div class=\"wandb-col\"><h3>Run history:</h3><br/><table class=\"wandb\"><tr><td>AUC</td><td>▁</td></tr><tr><td>Test Error Rate</td><td>▁</td></tr><tr><td>accuracy</td><td>▁▁▃▅▅▅▆▆▆▆▆▆▇▇▇▇▇▇▇▇▇▇██████</td></tr><tr><td>epoch</td><td>▁▁▂▂▂▂▃▃▃▃▄▄▄▄▅▅▅▅▆▆▆▆▇▇▇▇██</td></tr><tr><td>loss</td><td>█▄▂▁▁▁▁▁▁▁▁▁▁▁▁▁▁▁▁▁▁▁▁▁▁▁▁▁</td></tr><tr><td>val_accuracy</td><td>▃▄▃▁▃▅▇▆▆▆▃▄▅▇▇▇▆▄▇▅█▇▇▇▇█▇▇</td></tr><tr><td>val_loss</td><td>█▅▃▃▂▁▁▁▂▁▃▆▂▂▁▁▂▃▁▃▁▁▁▁▂▁▂▁</td></tr></table><br/></div><div class=\"wandb-col\"><h3>Run summary:</h3><br/><table class=\"wandb\"><tr><td>AUC</td><td>0.9171</td></tr><tr><td>Test Error Rate</td><td>37.53</td></tr><tr><td>accuracy</td><td>0.91624</td></tr><tr><td>best_epoch</td><td>21</td></tr><tr><td>best_val_loss</td><td>0.38955</td></tr><tr><td>epoch</td><td>27</td></tr><tr><td>loss</td><td>0.2063</td></tr><tr><td>val_accuracy</td><td>0.78</td></tr><tr><td>val_loss</td><td>0.66252</td></tr></table><br/></div></div>"
      ],
      "text/plain": [
       "<IPython.core.display.HTML object>"
      ]
     },
     "metadata": {},
     "output_type": "display_data"
    },
    {
     "data": {
      "text/html": [
       "Synced <strong style=\"color:#cdcd00\">winter-sweep-32</strong>: <a href=\"https://wandb.ai/ishadowstormi/Coronary%20angiography%20network/runs/rqdfrsag\" target=\"_blank\">https://wandb.ai/ishadowstormi/Coronary%20angiography%20network/runs/rqdfrsag</a><br/>Synced 5 W&B file(s), 1 media file(s), 0 artifact file(s) and 0 other file(s)"
      ],
      "text/plain": [
       "<IPython.core.display.HTML object>"
      ]
     },
     "metadata": {},
     "output_type": "display_data"
    },
    {
     "data": {
      "text/html": [
       "Find logs at: <code>./wandb/run-20220324_061040-rqdfrsag/logs</code>"
      ],
      "text/plain": [
       "<IPython.core.display.HTML object>"
      ]
     },
     "metadata": {},
     "output_type": "display_data"
    },
    {
     "name": "stderr",
     "output_type": "stream",
     "text": [
      "\u001b[34m\u001b[1mwandb\u001b[0m: Agent Starting Run: dyy60zgj with config:\n",
      "\u001b[34m\u001b[1mwandb\u001b[0m: \tbatch_size: 64\n",
      "\u001b[34m\u001b[1mwandb\u001b[0m: \tconv_layer1: 16\n",
      "\u001b[34m\u001b[1mwandb\u001b[0m: \tconv_layer2: 32\n",
      "\u001b[34m\u001b[1mwandb\u001b[0m: \tconv_layer3: 64\n",
      "\u001b[34m\u001b[1mwandb\u001b[0m: \tconv_layer4: 64\n",
      "\u001b[34m\u001b[1mwandb\u001b[0m: \tdense: 512\n",
      "Failed to detect the name of this notebook, you can set it manually with the WANDB_NOTEBOOK_NAME environment variable to enable code saving.\n"
     ]
    },
    {
     "data": {
      "text/html": [
       "Tracking run with wandb version 0.12.11"
      ],
      "text/plain": [
       "<IPython.core.display.HTML object>"
      ]
     },
     "metadata": {},
     "output_type": "display_data"
    },
    {
     "data": {
      "text/html": [
       "Run data is saved locally in <code>/home/jovyan/data/lightning/FrantisekUrban/wandb/run-20220324_062907-dyy60zgj</code>"
      ],
      "text/plain": [
       "<IPython.core.display.HTML object>"
      ]
     },
     "metadata": {},
     "output_type": "display_data"
    },
    {
     "data": {
      "text/html": [
       "Syncing run <strong><a href=\"https://wandb.ai/ishadowstormi/Coronary%20angiography%20network/runs/dyy60zgj\" target=\"_blank\">cerulean-sweep-33</a></strong> to <a href=\"https://wandb.ai/ishadowstormi/Coronary%20angiography%20network\" target=\"_blank\">Weights & Biases</a> (<a href=\"https://wandb.me/run\" target=\"_blank\">docs</a>)<br/>Sweep page:  <a href=\"https://wandb.ai/ishadowstormi/Coronary%20angiography%20network/sweeps/wco4rtlh\" target=\"_blank\">https://wandb.ai/ishadowstormi/Coronary%20angiography%20network/sweeps/wco4rtlh</a>"
      ],
      "text/plain": [
       "<IPython.core.display.HTML object>"
      ]
     },
     "metadata": {},
     "output_type": "display_data"
    },
    {
     "name": "stdout",
     "output_type": "stream",
     "text": [
      "Epoch 1/28\n",
      "73/73 [==============================] - 21s 287ms/step - loss: 1.7913 - accuracy: 0.6645 - val_loss: 0.9929 - val_accuracy: 0.5100\n",
      "Epoch 2/28\n",
      "73/73 [==============================] - 19s 260ms/step - loss: 0.6369 - accuracy: 0.7112 - val_loss: 0.8885 - val_accuracy: 0.5700\n",
      "Epoch 3/28\n",
      "73/73 [==============================] - 19s 261ms/step - loss: 0.5194 - accuracy: 0.7371 - val_loss: 0.6555 - val_accuracy: 0.6100\n",
      "Epoch 4/28\n",
      "73/73 [==============================] - 19s 260ms/step - loss: 0.4992 - accuracy: 0.7577 - val_loss: 1.1359 - val_accuracy: 0.5800\n",
      "Epoch 5/28\n",
      "73/73 [==============================] - 19s 261ms/step - loss: 0.4585 - accuracy: 0.7716 - val_loss: 0.7481 - val_accuracy: 0.6100\n",
      "Epoch 6/28\n",
      "73/73 [==============================] - 19s 261ms/step - loss: 0.4329 - accuracy: 0.8023 - val_loss: 0.7660 - val_accuracy: 0.6400\n",
      "Epoch 7/28\n",
      "73/73 [==============================] - 19s 263ms/step - loss: 0.4211 - accuracy: 0.7991 - val_loss: 1.0311 - val_accuracy: 0.6200\n",
      "Epoch 8/28\n",
      "73/73 [==============================] - 19s 262ms/step - loss: 0.3919 - accuracy: 0.8153 - val_loss: 0.9057 - val_accuracy: 0.5900\n",
      "Epoch 9/28\n",
      "73/73 [==============================] - 19s 261ms/step - loss: 0.3760 - accuracy: 0.8258 - val_loss: 1.5281 - val_accuracy: 0.6900\n",
      "Epoch 10/28\n",
      "73/73 [==============================] - 19s 261ms/step - loss: 0.3391 - accuracy: 0.8400 - val_loss: 0.7215 - val_accuracy: 0.7200\n",
      "Epoch 11/28\n",
      "73/73 [==============================] - 19s 261ms/step - loss: 0.3225 - accuracy: 0.8567 - val_loss: 0.9565 - val_accuracy: 0.7200\n",
      "Epoch 12/28\n",
      "73/73 [==============================] - 19s 263ms/step - loss: 0.3013 - accuracy: 0.8638 - val_loss: 0.9742 - val_accuracy: 0.6400\n",
      "Epoch 13/28\n",
      "73/73 [==============================] - 19s 262ms/step - loss: 0.2859 - accuracy: 0.8777 - val_loss: 0.5462 - val_accuracy: 0.8000\n",
      "Epoch 14/28\n",
      "73/73 [==============================] - 19s 262ms/step - loss: 0.2710 - accuracy: 0.8790 - val_loss: 0.6731 - val_accuracy: 0.7800\n",
      "Epoch 15/28\n",
      "73/73 [==============================] - 19s 263ms/step - loss: 0.2743 - accuracy: 0.8802 - val_loss: 0.6981 - val_accuracy: 0.7400\n",
      "Epoch 16/28\n",
      "73/73 [==============================] - 19s 262ms/step - loss: 0.2334 - accuracy: 0.9012 - val_loss: 0.6435 - val_accuracy: 0.7700\n",
      "Epoch 17/28\n",
      "73/73 [==============================] - 19s 262ms/step - loss: 0.2434 - accuracy: 0.8925 - val_loss: 2.5567 - val_accuracy: 0.5800\n",
      "Epoch 18/28\n",
      "73/73 [==============================] - 19s 261ms/step - loss: 0.2347 - accuracy: 0.8995 - val_loss: 0.8407 - val_accuracy: 0.7600\n",
      "Epoch 19/28\n",
      "73/73 [==============================] - 19s 261ms/step - loss: 0.2120 - accuracy: 0.9094 - val_loss: 0.9492 - val_accuracy: 0.7400\n",
      "Epoch 20/28\n",
      "73/73 [==============================] - 19s 262ms/step - loss: 0.1997 - accuracy: 0.9124 - val_loss: 0.5659 - val_accuracy: 0.7800\n",
      "Epoch 21/28\n",
      "73/73 [==============================] - 19s 261ms/step - loss: 0.2057 - accuracy: 0.9126 - val_loss: 1.3809 - val_accuracy: 0.6900\n",
      "Epoch 22/28\n",
      "73/73 [==============================] - 19s 262ms/step - loss: 0.2043 - accuracy: 0.9147 - val_loss: 1.0660 - val_accuracy: 0.6400\n",
      "Epoch 23/28\n",
      "73/73 [==============================] - 19s 262ms/step - loss: 0.1909 - accuracy: 0.9182 - val_loss: 0.5573 - val_accuracy: 0.7700\n",
      "Epoch 24/28\n",
      "73/73 [==============================] - 19s 261ms/step - loss: 0.1893 - accuracy: 0.9218 - val_loss: 0.6523 - val_accuracy: 0.7600\n",
      "Epoch 25/28\n",
      "73/73 [==============================] - 19s 262ms/step - loss: 0.1644 - accuracy: 0.9329 - val_loss: 6.2115 - val_accuracy: 0.5600\n",
      "Epoch 26/28\n",
      "73/73 [==============================] - 19s 262ms/step - loss: 0.1570 - accuracy: 0.9362 - val_loss: 0.5723 - val_accuracy: 0.8800\n",
      "Epoch 27/28\n",
      "73/73 [==============================] - 19s 263ms/step - loss: 0.1462 - accuracy: 0.9428 - val_loss: 0.6036 - val_accuracy: 0.8500\n",
      "Epoch 28/28\n",
      "73/73 [==============================] - 19s 265ms/step - loss: 0.1357 - accuracy: 0.9432 - val_loss: 0.7810 - val_accuracy: 0.7900\n",
      "\n",
      "-----Model evaluation on test data-----\n",
      "38/38 [==============================] - 2s 40ms/step - loss: 0.4098 - accuracy: 0.8489\n",
      "Test Error Rate:  15.11\n",
      "AUC:  0.8896\n",
      "\n"
     ]
    },
    {
     "data": {
      "text/html": [
       "Waiting for W&B process to finish... <strong style=\"color:green\">(success).</strong>"
      ],
      "text/plain": [
       "<IPython.core.display.HTML object>"
      ]
     },
     "metadata": {},
     "output_type": "display_data"
    },
    {
     "data": {
      "application/vnd.jupyter.widget-view+json": {
       "model_id": "",
       "version_major": 2,
       "version_minor": 0
      },
      "text/plain": [
       "VBox(children=(Label(value='0.004 MB of 0.004 MB uploaded (0.000 MB deduped)\\r'), FloatProgress(value=1.0, max…"
      ]
     },
     "metadata": {},
     "output_type": "display_data"
    },
    {
     "data": {
      "text/html": [
       "<style>\n",
       "    table.wandb td:nth-child(1) { padding: 0 10px; text-align: right }\n",
       "    .wandb-row { display: flex; flex-direction: row; flex-wrap: wrap; width: 100% }\n",
       "    .wandb-col { display: flex; flex-direction: column; flex-basis: 100%; flex: 1; padding: 10px; }\n",
       "    </style>\n",
       "<div class=\"wandb-row\"><div class=\"wandb-col\"><h3>Run history:</h3><br/><table class=\"wandb\"><tr><td>AUC</td><td>▁</td></tr><tr><td>Test Error Rate</td><td>▁</td></tr><tr><td>accuracy</td><td>▁▂▃▃▄▄▄▅▅▅▆▆▆▆▆▇▇▇▇▇▇▇▇▇████</td></tr><tr><td>epoch</td><td>▁▁▂▂▂▂▃▃▃▃▄▄▄▄▅▅▅▅▆▆▆▆▇▇▇▇██</td></tr><tr><td>loss</td><td>█▃▃▃▂▂▂▂▂▂▂▂▂▂▂▁▁▁▁▁▁▁▁▁▁▁▁▁</td></tr><tr><td>val_accuracy</td><td>▁▂▃▂▃▃▃▃▄▅▅▃▆▆▅▆▂▆▅▆▄▃▆▆▂█▇▆</td></tr><tr><td>val_loss</td><td>▂▁▁▂▁▁▂▁▂▁▂▂▁▁▁▁▃▁▁▁▂▂▁▁█▁▁▁</td></tr></table><br/></div><div class=\"wandb-col\"><h3>Run summary:</h3><br/><table class=\"wandb\"><tr><td>AUC</td><td>0.8896</td></tr><tr><td>Test Error Rate</td><td>15.11</td></tr><tr><td>accuracy</td><td>0.94323</td></tr><tr><td>best_epoch</td><td>12</td></tr><tr><td>best_val_loss</td><td>0.54615</td></tr><tr><td>epoch</td><td>27</td></tr><tr><td>loss</td><td>0.1357</td></tr><tr><td>val_accuracy</td><td>0.79</td></tr><tr><td>val_loss</td><td>0.78095</td></tr></table><br/></div></div>"
      ],
      "text/plain": [
       "<IPython.core.display.HTML object>"
      ]
     },
     "metadata": {},
     "output_type": "display_data"
    },
    {
     "data": {
      "text/html": [
       "Synced <strong style=\"color:#cdcd00\">cerulean-sweep-33</strong>: <a href=\"https://wandb.ai/ishadowstormi/Coronary%20angiography%20network/runs/dyy60zgj\" target=\"_blank\">https://wandb.ai/ishadowstormi/Coronary%20angiography%20network/runs/dyy60zgj</a><br/>Synced 5 W&B file(s), 1 media file(s), 0 artifact file(s) and 0 other file(s)"
      ],
      "text/plain": [
       "<IPython.core.display.HTML object>"
      ]
     },
     "metadata": {},
     "output_type": "display_data"
    },
    {
     "data": {
      "text/html": [
       "Find logs at: <code>./wandb/run-20220324_062907-dyy60zgj/logs</code>"
      ],
      "text/plain": [
       "<IPython.core.display.HTML object>"
      ]
     },
     "metadata": {},
     "output_type": "display_data"
    },
    {
     "name": "stderr",
     "output_type": "stream",
     "text": [
      "\u001b[34m\u001b[1mwandb\u001b[0m: Agent Starting Run: 18g7bc1w with config:\n",
      "\u001b[34m\u001b[1mwandb\u001b[0m: \tbatch_size: 64\n",
      "\u001b[34m\u001b[1mwandb\u001b[0m: \tconv_layer1: 16\n",
      "\u001b[34m\u001b[1mwandb\u001b[0m: \tconv_layer2: 32\n",
      "\u001b[34m\u001b[1mwandb\u001b[0m: \tconv_layer3: 64\n",
      "\u001b[34m\u001b[1mwandb\u001b[0m: \tconv_layer4: 64\n",
      "\u001b[34m\u001b[1mwandb\u001b[0m: \tdense: 1024\n",
      "Failed to detect the name of this notebook, you can set it manually with the WANDB_NOTEBOOK_NAME environment variable to enable code saving.\n"
     ]
    },
    {
     "data": {
      "text/html": [
       "Tracking run with wandb version 0.12.11"
      ],
      "text/plain": [
       "<IPython.core.display.HTML object>"
      ]
     },
     "metadata": {},
     "output_type": "display_data"
    },
    {
     "data": {
      "text/html": [
       "Run data is saved locally in <code>/home/jovyan/data/lightning/FrantisekUrban/wandb/run-20220324_063830-18g7bc1w</code>"
      ],
      "text/plain": [
       "<IPython.core.display.HTML object>"
      ]
     },
     "metadata": {},
     "output_type": "display_data"
    },
    {
     "data": {
      "text/html": [
       "Syncing run <strong><a href=\"https://wandb.ai/ishadowstormi/Coronary%20angiography%20network/runs/18g7bc1w\" target=\"_blank\">swift-sweep-34</a></strong> to <a href=\"https://wandb.ai/ishadowstormi/Coronary%20angiography%20network\" target=\"_blank\">Weights & Biases</a> (<a href=\"https://wandb.me/run\" target=\"_blank\">docs</a>)<br/>Sweep page:  <a href=\"https://wandb.ai/ishadowstormi/Coronary%20angiography%20network/sweeps/wco4rtlh\" target=\"_blank\">https://wandb.ai/ishadowstormi/Coronary%20angiography%20network/sweeps/wco4rtlh</a>"
      ],
      "text/plain": [
       "<IPython.core.display.HTML object>"
      ]
     },
     "metadata": {},
     "output_type": "display_data"
    },
    {
     "name": "stdout",
     "output_type": "stream",
     "text": [
      "Epoch 1/28\n",
      " 2/73 [..............................] - ETA: 9s - loss: 1.9856 - accuracy: 0.5781WARNING:tensorflow:Callbacks method `on_train_batch_end` is slow compared to the batch time (batch time: 0.0947s vs `on_train_batch_end` time: 0.1748s). Check your callbacks.\n",
      "73/73 [==============================] - 19s 266ms/step - loss: 2.9062 - accuracy: 0.6448 - val_loss: 2.6862 - val_accuracy: 0.4500\n",
      "Epoch 2/28\n",
      "73/73 [==============================] - 19s 265ms/step - loss: 0.6789 - accuracy: 0.7239 - val_loss: 1.5487 - val_accuracy: 0.4700\n",
      "Epoch 3/28\n",
      "73/73 [==============================] - 19s 263ms/step - loss: 0.5301 - accuracy: 0.7446 - val_loss: 1.3323 - val_accuracy: 0.4000\n",
      "Epoch 4/28\n",
      "73/73 [==============================] - 19s 262ms/step - loss: 0.4385 - accuracy: 0.7943 - val_loss: 0.8493 - val_accuracy: 0.5900\n",
      "Epoch 5/28\n",
      "73/73 [==============================] - 19s 262ms/step - loss: 0.4079 - accuracy: 0.8057 - val_loss: 0.7473 - val_accuracy: 0.6100\n",
      "Epoch 6/28\n",
      "73/73 [==============================] - 19s 262ms/step - loss: 0.3794 - accuracy: 0.8273 - val_loss: 0.7060 - val_accuracy: 0.6900\n",
      "Epoch 7/28\n",
      "73/73 [==============================] - 19s 263ms/step - loss: 0.3688 - accuracy: 0.8346 - val_loss: 0.7913 - val_accuracy: 0.6600\n",
      "Epoch 8/28\n",
      "73/73 [==============================] - 19s 263ms/step - loss: 0.3409 - accuracy: 0.8464 - val_loss: 2.8282 - val_accuracy: 0.6100\n",
      "Epoch 9/28\n",
      "73/73 [==============================] - 19s 262ms/step - loss: 0.3143 - accuracy: 0.8548 - val_loss: 1.3100 - val_accuracy: 0.5900\n",
      "Epoch 10/28\n",
      "73/73 [==============================] - 19s 263ms/step - loss: 0.3092 - accuracy: 0.8575 - val_loss: 3.1821 - val_accuracy: 0.5200\n",
      "Epoch 11/28\n",
      "73/73 [==============================] - 19s 263ms/step - loss: 0.2932 - accuracy: 0.8710 - val_loss: 2.6412 - val_accuracy: 0.5500\n",
      "Epoch 12/28\n",
      "73/73 [==============================] - 19s 262ms/step - loss: 0.2691 - accuracy: 0.8824 - val_loss: 0.7638 - val_accuracy: 0.6800\n",
      "Epoch 13/28\n",
      "73/73 [==============================] - 19s 263ms/step - loss: 0.2618 - accuracy: 0.8856 - val_loss: 0.5565 - val_accuracy: 0.7600\n",
      "Epoch 14/28\n",
      "73/73 [==============================] - 19s 262ms/step - loss: 0.2326 - accuracy: 0.9000 - val_loss: 8.6635 - val_accuracy: 0.5200\n",
      "Epoch 15/28\n",
      "73/73 [==============================] - 19s 262ms/step - loss: 0.2245 - accuracy: 0.9040 - val_loss: 0.5564 - val_accuracy: 0.7700\n",
      "Epoch 16/28\n",
      "73/73 [==============================] - 19s 262ms/step - loss: 0.2345 - accuracy: 0.8950 - val_loss: 0.5889 - val_accuracy: 0.8000\n",
      "Epoch 17/28\n",
      "73/73 [==============================] - 19s 262ms/step - loss: 0.2307 - accuracy: 0.9045 - val_loss: 0.7689 - val_accuracy: 0.7000\n",
      "Epoch 18/28\n",
      "73/73 [==============================] - 19s 262ms/step - loss: 0.2044 - accuracy: 0.9150 - val_loss: 0.6276 - val_accuracy: 0.7800\n",
      "Epoch 19/28\n",
      "73/73 [==============================] - 19s 262ms/step - loss: 0.1966 - accuracy: 0.9199 - val_loss: 0.6232 - val_accuracy: 0.7600\n",
      "Epoch 20/28\n",
      "73/73 [==============================] - 19s 262ms/step - loss: 0.1784 - accuracy: 0.9244 - val_loss: 1.1876 - val_accuracy: 0.7400\n",
      "Epoch 21/28\n",
      "73/73 [==============================] - 19s 263ms/step - loss: 0.1688 - accuracy: 0.9276 - val_loss: 0.8856 - val_accuracy: 0.7400\n",
      "Epoch 22/28\n",
      "73/73 [==============================] - 19s 262ms/step - loss: 0.1813 - accuracy: 0.9248 - val_loss: 0.7437 - val_accuracy: 0.7700\n",
      "Epoch 23/28\n",
      "73/73 [==============================] - ETA: 0s - loss: 0.1435 - accuracy: 0.9419\n"
     ]
    },
    {
     "data": {
      "text/html": [
       "Waiting for W&B process to finish... <strong style=\"color:red\">(failed 1).</strong> Press Control-C to abort syncing."
      ],
      "text/plain": [
       "<IPython.core.display.HTML object>"
      ]
     },
     "metadata": {},
     "output_type": "display_data"
    },
    {
     "data": {
      "application/vnd.jupyter.widget-view+json": {
       "model_id": "",
       "version_major": 2,
       "version_minor": 0
      },
      "text/plain": [
       "VBox(children=(Label(value='0.004 MB of 0.004 MB uploaded (0.000 MB deduped)\\r'), FloatProgress(value=1.0, max…"
      ]
     },
     "metadata": {},
     "output_type": "display_data"
    },
    {
     "data": {
      "text/html": [
       "<style>\n",
       "    table.wandb td:nth-child(1) { padding: 0 10px; text-align: right }\n",
       "    .wandb-row { display: flex; flex-direction: row; flex-wrap: wrap; width: 100% }\n",
       "    .wandb-col { display: flex; flex-direction: column; flex-basis: 100%; flex: 1; padding: 10px; }\n",
       "    </style>\n",
       "<div class=\"wandb-row\"><div class=\"wandb-col\"><h3>Run history:</h3><br/><table class=\"wandb\"><tr><td>accuracy</td><td>▁▃▃▅▅▆▆▆▆▆▇▇▇▇▇▇▇█████</td></tr><tr><td>epoch</td><td>▁▁▂▂▂▃▃▃▄▄▄▅▅▅▆▆▆▇▇▇██</td></tr><tr><td>loss</td><td>█▂▂▂▂▂▂▁▁▁▁▁▁▁▁▁▁▁▁▁▁▁</td></tr><tr><td>val_accuracy</td><td>▂▂▁▄▅▆▆▅▄▃▄▆▇▃▇█▆█▇▇▇▇</td></tr><tr><td>val_loss</td><td>▃▂▂▁▁▁▁▃▂▃▃▁▁█▁▁▁▁▁▂▁▁</td></tr></table><br/></div><div class=\"wandb-col\"><h3>Run summary:</h3><br/><table class=\"wandb\"><tr><td>accuracy</td><td>0.92481</td></tr><tr><td>best_epoch</td><td>14</td></tr><tr><td>best_val_loss</td><td>0.55645</td></tr><tr><td>epoch</td><td>21</td></tr><tr><td>loss</td><td>0.18131</td></tr><tr><td>val_accuracy</td><td>0.77</td></tr><tr><td>val_loss</td><td>0.74369</td></tr></table><br/></div></div>"
      ],
      "text/plain": [
       "<IPython.core.display.HTML object>"
      ]
     },
     "metadata": {},
     "output_type": "display_data"
    },
    {
     "data": {
      "text/html": [
       "Synced <strong style=\"color:#cdcd00\">swift-sweep-34</strong>: <a href=\"https://wandb.ai/ishadowstormi/Coronary%20angiography%20network/runs/18g7bc1w\" target=\"_blank\">https://wandb.ai/ishadowstormi/Coronary%20angiography%20network/runs/18g7bc1w</a><br/>Synced 5 W&B file(s), 1 media file(s), 0 artifact file(s) and 0 other file(s)"
      ],
      "text/plain": [
       "<IPython.core.display.HTML object>"
      ]
     },
     "metadata": {},
     "output_type": "display_data"
    },
    {
     "data": {
      "text/html": [
       "Find logs at: <code>./wandb/run-20220324_063830-18g7bc1w/logs</code>"
      ],
      "text/plain": [
       "<IPython.core.display.HTML object>"
      ]
     },
     "metadata": {},
     "output_type": "display_data"
    },
    {
     "name": "stderr",
     "output_type": "stream",
     "text": [
      "\u001b[34m\u001b[1mwandb\u001b[0m: Agent Starting Run: kcs2fylg with config:\n",
      "\u001b[34m\u001b[1mwandb\u001b[0m: \tbatch_size: 64\n",
      "\u001b[34m\u001b[1mwandb\u001b[0m: \tconv_layer1: 16\n",
      "\u001b[34m\u001b[1mwandb\u001b[0m: \tconv_layer2: 32\n",
      "\u001b[34m\u001b[1mwandb\u001b[0m: \tconv_layer3: 64\n",
      "\u001b[34m\u001b[1mwandb\u001b[0m: \tconv_layer4: 128\n",
      "\u001b[34m\u001b[1mwandb\u001b[0m: \tdense: 512\n",
      "Failed to detect the name of this notebook, you can set it manually with the WANDB_NOTEBOOK_NAME environment variable to enable code saving.\n"
     ]
    },
    {
     "data": {
      "text/html": [
       "Tracking run with wandb version 0.12.11"
      ],
      "text/plain": [
       "<IPython.core.display.HTML object>"
      ]
     },
     "metadata": {},
     "output_type": "display_data"
    },
    {
     "data": {
      "text/html": [
       "Run data is saved locally in <code>/home/jovyan/data/lightning/FrantisekUrban/wandb/run-20220324_064610-kcs2fylg</code>"
      ],
      "text/plain": [
       "<IPython.core.display.HTML object>"
      ]
     },
     "metadata": {},
     "output_type": "display_data"
    },
    {
     "data": {
      "text/html": [
       "Syncing run <strong><a href=\"https://wandb.ai/ishadowstormi/Coronary%20angiography%20network/runs/kcs2fylg\" target=\"_blank\">pleasant-sweep-35</a></strong> to <a href=\"https://wandb.ai/ishadowstormi/Coronary%20angiography%20network\" target=\"_blank\">Weights & Biases</a> (<a href=\"https://wandb.me/run\" target=\"_blank\">docs</a>)<br/>Sweep page:  <a href=\"https://wandb.ai/ishadowstormi/Coronary%20angiography%20network/sweeps/wco4rtlh\" target=\"_blank\">https://wandb.ai/ishadowstormi/Coronary%20angiography%20network/sweeps/wco4rtlh</a>"
      ],
      "text/plain": [
       "<IPython.core.display.HTML object>"
      ]
     },
     "metadata": {},
     "output_type": "display_data"
    },
    {
     "name": "stdout",
     "output_type": "stream",
     "text": [
      "Epoch 1/28\n",
      " 2/73 [..............................] - ETA: 9s - loss: 15.0238 - accuracy: 0.5156WARNING:tensorflow:Callbacks method `on_train_batch_end` is slow compared to the batch time (batch time: 0.0923s vs `on_train_batch_end` time: 0.1750s). Check your callbacks.\n",
      "73/73 [==============================] - 20s 275ms/step - loss: 2.5325 - accuracy: 0.6695 - val_loss: 0.8839 - val_accuracy: 0.5400\n",
      "Epoch 2/28\n",
      "73/73 [==============================] - 20s 272ms/step - loss: 0.6128 - accuracy: 0.7299 - val_loss: 2.6266 - val_accuracy: 0.5400\n",
      "Epoch 3/28\n",
      "73/73 [==============================] - 20s 272ms/step - loss: 0.5234 - accuracy: 0.7554 - val_loss: 5.1086 - val_accuracy: 0.5100\n",
      "Epoch 4/28\n",
      "73/73 [==============================] - 20s 269ms/step - loss: 0.4775 - accuracy: 0.7830 - val_loss: 3.6620 - val_accuracy: 0.3800\n",
      "Epoch 5/28\n",
      "73/73 [==============================] - 20s 270ms/step - loss: 0.4472 - accuracy: 0.7905 - val_loss: 1.7708 - val_accuracy: 0.5800\n",
      "Epoch 6/28\n",
      "73/73 [==============================] - 20s 270ms/step - loss: 0.4049 - accuracy: 0.8190 - val_loss: 1.6607 - val_accuracy: 0.5400\n",
      "Epoch 7/28\n",
      "73/73 [==============================] - 20s 270ms/step - loss: 0.4039 - accuracy: 0.8113 - val_loss: 1.3395 - val_accuracy: 0.5800\n",
      "Epoch 8/28\n",
      "73/73 [==============================] - 20s 269ms/step - loss: 0.3633 - accuracy: 0.8385 - val_loss: 1.6257 - val_accuracy: 0.5400\n",
      "Epoch 9/28\n",
      "47/73 [==================>...........] - ETA: 6s - loss: 0.3447 - accuracy: 0.8442\n"
     ]
    },
    {
     "data": {
      "text/html": [
       "Waiting for W&B process to finish... <strong style=\"color:red\">(failed 1).</strong> Press Control-C to abort syncing."
      ],
      "text/plain": [
       "<IPython.core.display.HTML object>"
      ]
     },
     "metadata": {},
     "output_type": "display_data"
    },
    {
     "data": {
      "application/vnd.jupyter.widget-view+json": {
       "model_id": "",
       "version_major": 2,
       "version_minor": 0
      },
      "text/plain": [
       "VBox(children=(Label(value='0.004 MB of 0.004 MB uploaded (0.000 MB deduped)\\r'), FloatProgress(value=1.0, max…"
      ]
     },
     "metadata": {},
     "output_type": "display_data"
    },
    {
     "data": {
      "text/html": [
       "<style>\n",
       "    table.wandb td:nth-child(1) { padding: 0 10px; text-align: right }\n",
       "    .wandb-row { display: flex; flex-direction: row; flex-wrap: wrap; width: 100% }\n",
       "    .wandb-col { display: flex; flex-direction: column; flex-basis: 100%; flex: 1; padding: 10px; }\n",
       "    </style>\n",
       "<div class=\"wandb-row\"><div class=\"wandb-col\"><h3>Run history:</h3><br/><table class=\"wandb\"><tr><td>accuracy</td><td>▁▄▅▆▆▇▇█</td></tr><tr><td>epoch</td><td>▁▂▃▄▅▆▇█</td></tr><tr><td>loss</td><td>█▂▂▁▁▁▁▁</td></tr><tr><td>val_accuracy</td><td>▇▇▆▁█▇█▇</td></tr><tr><td>val_loss</td><td>▁▄█▆▂▂▂▂</td></tr></table><br/></div><div class=\"wandb-col\"><h3>Run summary:</h3><br/><table class=\"wandb\"><tr><td>accuracy</td><td>0.83847</td></tr><tr><td>best_epoch</td><td>0</td></tr><tr><td>best_val_loss</td><td>0.88393</td></tr><tr><td>epoch</td><td>7</td></tr><tr><td>loss</td><td>0.36335</td></tr><tr><td>val_accuracy</td><td>0.54</td></tr><tr><td>val_loss</td><td>1.6257</td></tr></table><br/></div></div>"
      ],
      "text/plain": [
       "<IPython.core.display.HTML object>"
      ]
     },
     "metadata": {},
     "output_type": "display_data"
    },
    {
     "data": {
      "text/html": [
       "Synced <strong style=\"color:#cdcd00\">pleasant-sweep-35</strong>: <a href=\"https://wandb.ai/ishadowstormi/Coronary%20angiography%20network/runs/kcs2fylg\" target=\"_blank\">https://wandb.ai/ishadowstormi/Coronary%20angiography%20network/runs/kcs2fylg</a><br/>Synced 5 W&B file(s), 1 media file(s), 0 artifact file(s) and 0 other file(s)"
      ],
      "text/plain": [
       "<IPython.core.display.HTML object>"
      ]
     },
     "metadata": {},
     "output_type": "display_data"
    },
    {
     "data": {
      "text/html": [
       "Find logs at: <code>./wandb/run-20220324_064610-kcs2fylg/logs</code>"
      ],
      "text/plain": [
       "<IPython.core.display.HTML object>"
      ]
     },
     "metadata": {},
     "output_type": "display_data"
    },
    {
     "name": "stderr",
     "output_type": "stream",
     "text": [
      "\u001b[34m\u001b[1mwandb\u001b[0m: Agent Starting Run: prq2tjog with config:\n",
      "\u001b[34m\u001b[1mwandb\u001b[0m: \tbatch_size: 64\n",
      "\u001b[34m\u001b[1mwandb\u001b[0m: \tconv_layer1: 16\n",
      "\u001b[34m\u001b[1mwandb\u001b[0m: \tconv_layer2: 32\n",
      "\u001b[34m\u001b[1mwandb\u001b[0m: \tconv_layer3: 64\n",
      "\u001b[34m\u001b[1mwandb\u001b[0m: \tconv_layer4: 128\n",
      "\u001b[34m\u001b[1mwandb\u001b[0m: \tdense: 1024\n",
      "Failed to detect the name of this notebook, you can set it manually with the WANDB_NOTEBOOK_NAME environment variable to enable code saving.\n"
     ]
    },
    {
     "data": {
      "text/html": [
       "Tracking run with wandb version 0.12.11"
      ],
      "text/plain": [
       "<IPython.core.display.HTML object>"
      ]
     },
     "metadata": {},
     "output_type": "display_data"
    },
    {
     "data": {
      "text/html": [
       "Run data is saved locally in <code>/home/jovyan/data/lightning/FrantisekUrban/wandb/run-20220324_064915-prq2tjog</code>"
      ],
      "text/plain": [
       "<IPython.core.display.HTML object>"
      ]
     },
     "metadata": {},
     "output_type": "display_data"
    },
    {
     "data": {
      "text/html": [
       "Syncing run <strong><a href=\"https://wandb.ai/ishadowstormi/Coronary%20angiography%20network/runs/prq2tjog\" target=\"_blank\">avid-sweep-36</a></strong> to <a href=\"https://wandb.ai/ishadowstormi/Coronary%20angiography%20network\" target=\"_blank\">Weights & Biases</a> (<a href=\"https://wandb.me/run\" target=\"_blank\">docs</a>)<br/>Sweep page:  <a href=\"https://wandb.ai/ishadowstormi/Coronary%20angiography%20network/sweeps/wco4rtlh\" target=\"_blank\">https://wandb.ai/ishadowstormi/Coronary%20angiography%20network/sweeps/wco4rtlh</a>"
      ],
      "text/plain": [
       "<IPython.core.display.HTML object>"
      ]
     },
     "metadata": {},
     "output_type": "display_data"
    },
    {
     "name": "stdout",
     "output_type": "stream",
     "text": [
      "Epoch 1/28\n",
      " 2/73 [..............................] - ETA: 10s - loss: 10.5092 - accuracy: 0.5547WARNING:tensorflow:Callbacks method `on_train_batch_end` is slow compared to the batch time (batch time: 0.1073s vs `on_train_batch_end` time: 0.1780s). Check your callbacks.\n",
      "73/73 [==============================] - 20s 276ms/step - loss: 3.7684 - accuracy: 0.6596 - val_loss: 0.8168 - val_accuracy: 0.5700\n",
      "Epoch 2/28\n",
      "73/73 [==============================] - 20s 273ms/step - loss: 1.3778 - accuracy: 0.6982 - val_loss: 1.4891 - val_accuracy: 0.6600\n",
      "Epoch 3/28\n",
      "73/73 [==============================] - 20s 273ms/step - loss: 0.5809 - accuracy: 0.7296 - val_loss: 2.5134 - val_accuracy: 0.4800\n",
      "Epoch 4/28\n",
      "73/73 [==============================] - 20s 273ms/step - loss: 0.4795 - accuracy: 0.7689 - val_loss: 0.7741 - val_accuracy: 0.5600\n",
      "Epoch 5/28\n",
      "73/73 [==============================] - 20s 273ms/step - loss: 0.4438 - accuracy: 0.7849 - val_loss: 0.7693 - val_accuracy: 0.6200\n",
      "Epoch 6/28\n",
      "73/73 [==============================] - 20s 273ms/step - loss: 0.4436 - accuracy: 0.7933 - val_loss: 1.2280 - val_accuracy: 0.6300\n",
      "Epoch 7/28\n",
      "73/73 [==============================] - 20s 274ms/step - loss: 0.4224 - accuracy: 0.8046 - val_loss: 3.0769 - val_accuracy: 0.5300\n",
      "Epoch 8/28\n",
      "73/73 [==============================] - 20s 273ms/step - loss: 0.3673 - accuracy: 0.8235 - val_loss: 1.6217 - val_accuracy: 0.6100\n",
      "Epoch 9/28\n",
      "73/73 [==============================] - 20s 273ms/step - loss: 0.3335 - accuracy: 0.8503 - val_loss: 0.9703 - val_accuracy: 0.7400\n",
      "Epoch 10/28\n",
      "73/73 [==============================] - 20s 273ms/step - loss: 0.3361 - accuracy: 0.8541 - val_loss: 0.6731 - val_accuracy: 0.7000\n",
      "Epoch 11/28\n",
      "73/73 [==============================] - 20s 273ms/step - loss: 0.3156 - accuracy: 0.8635 - val_loss: 4.9008 - val_accuracy: 0.5200\n",
      "Epoch 12/28\n",
      "73/73 [==============================] - 20s 273ms/step - loss: 0.3051 - accuracy: 0.8528 - val_loss: 0.9350 - val_accuracy: 0.7900\n",
      "Epoch 13/28\n",
      "73/73 [==============================] - 20s 273ms/step - loss: 0.2842 - accuracy: 0.8757 - val_loss: 2.3579 - val_accuracy: 0.6100\n",
      "Epoch 14/28\n",
      "73/73 [==============================] - 20s 274ms/step - loss: 0.2819 - accuracy: 0.8715 - val_loss: 0.5606 - val_accuracy: 0.7300\n",
      "Epoch 15/28\n",
      "73/73 [==============================] - 20s 274ms/step - loss: 0.2670 - accuracy: 0.8794 - val_loss: 2.1356 - val_accuracy: 0.6800\n",
      "Epoch 16/28\n",
      "73/73 [==============================] - 20s 273ms/step - loss: 0.2597 - accuracy: 0.8860 - val_loss: 0.5144 - val_accuracy: 0.7600\n",
      "Epoch 17/28\n",
      "73/73 [==============================] - 20s 272ms/step - loss: 0.2476 - accuracy: 0.8916 - val_loss: 0.6460 - val_accuracy: 0.8100\n",
      "Epoch 18/28\n",
      "73/73 [==============================] - 20s 273ms/step - loss: 0.2420 - accuracy: 0.8978 - val_loss: 0.7395 - val_accuracy: 0.6400\n",
      "Epoch 19/28\n",
      "73/73 [==============================] - 20s 273ms/step - loss: 0.2409 - accuracy: 0.8970 - val_loss: 7.4080 - val_accuracy: 0.5100\n",
      "Epoch 20/28\n",
      "73/73 [==============================] - 20s 273ms/step - loss: 0.2069 - accuracy: 0.9137 - val_loss: 0.4810 - val_accuracy: 0.8100\n",
      "Epoch 21/28\n",
      "73/73 [==============================] - 20s 272ms/step - loss: 0.1919 - accuracy: 0.9171 - val_loss: 3.2893 - val_accuracy: 0.6600\n",
      "Epoch 22/28\n",
      "73/73 [==============================] - 20s 273ms/step - loss: 0.1820 - accuracy: 0.9233 - val_loss: 0.6367 - val_accuracy: 0.7900\n",
      "Epoch 23/28\n",
      "73/73 [==============================] - 20s 273ms/step - loss: 0.1701 - accuracy: 0.9284 - val_loss: 1.3575 - val_accuracy: 0.7500\n",
      "Epoch 24/28\n",
      "73/73 [==============================] - 20s 273ms/step - loss: 0.1784 - accuracy: 0.9272 - val_loss: 0.5680 - val_accuracy: 0.8200\n",
      "Epoch 25/28\n",
      "73/73 [==============================] - 20s 274ms/step - loss: 0.1743 - accuracy: 0.9274 - val_loss: 0.7841 - val_accuracy: 0.7500\n",
      "Epoch 26/28\n",
      "73/73 [==============================] - 20s 273ms/step - loss: 0.1484 - accuracy: 0.9394 - val_loss: 0.7218 - val_accuracy: 0.8300\n",
      "Epoch 27/28\n",
      "73/73 [==============================] - 20s 274ms/step - loss: 0.1578 - accuracy: 0.9383 - val_loss: 6.9038 - val_accuracy: 0.5700\n",
      "Epoch 28/28\n",
      "73/73 [==============================] - 20s 273ms/step - loss: 0.1432 - accuracy: 0.9415 - val_loss: 0.8285 - val_accuracy: 0.7800\n",
      "\n",
      "-----Model evaluation on test data-----\n",
      "38/38 [==============================] - 2s 42ms/step - loss: 1.0762 - accuracy: 0.6709\n",
      "Test Error Rate:  32.91\n",
      "AUC:  0.9123\n",
      "\n"
     ]
    },
    {
     "data": {
      "text/html": [
       "Waiting for W&B process to finish... <strong style=\"color:green\">(success).</strong>"
      ],
      "text/plain": [
       "<IPython.core.display.HTML object>"
      ]
     },
     "metadata": {},
     "output_type": "display_data"
    },
    {
     "data": {
      "application/vnd.jupyter.widget-view+json": {
       "model_id": "",
       "version_major": 2,
       "version_minor": 0
      },
      "text/plain": [
       "VBox(children=(Label(value='0.004 MB of 0.004 MB uploaded (0.000 MB deduped)\\r'), FloatProgress(value=1.0, max…"
      ]
     },
     "metadata": {},
     "output_type": "display_data"
    },
    {
     "data": {
      "text/html": [
       "<style>\n",
       "    table.wandb td:nth-child(1) { padding: 0 10px; text-align: right }\n",
       "    .wandb-row { display: flex; flex-direction: row; flex-wrap: wrap; width: 100% }\n",
       "    .wandb-col { display: flex; flex-direction: column; flex-basis: 100%; flex: 1; padding: 10px; }\n",
       "    </style>\n",
       "<div class=\"wandb-row\"><div class=\"wandb-col\"><h3>Run history:</h3><br/><table class=\"wandb\"><tr><td>AUC</td><td>▁</td></tr><tr><td>Test Error Rate</td><td>▁</td></tr><tr><td>accuracy</td><td>▁▂▃▄▄▄▅▅▆▆▆▆▆▆▆▇▇▇▇▇▇███████</td></tr><tr><td>epoch</td><td>▁▁▂▂▂▂▃▃▃▃▄▄▄▄▅▅▅▅▆▆▆▆▇▇▇▇██</td></tr><tr><td>loss</td><td>█▃▂▂▂▂▂▁▁▁▁▁▁▁▁▁▁▁▁▁▁▁▁▁▁▁▁▁</td></tr><tr><td>val_accuracy</td><td>▃▅▁▃▄▄▂▄▆▅▂▇▄▆▅▇█▄▂█▅▇▆█▆█▃▇</td></tr><tr><td>val_loss</td><td>▁▂▃▁▁▂▄▂▁▁▅▁▃▁▃▁▁▁█▁▄▁▂▁▁▁▇▁</td></tr></table><br/></div><div class=\"wandb-col\"><h3>Run summary:</h3><br/><table class=\"wandb\"><tr><td>AUC</td><td>0.9123</td></tr><tr><td>Test Error Rate</td><td>32.91</td></tr><tr><td>accuracy</td><td>0.94152</td></tr><tr><td>best_epoch</td><td>19</td></tr><tr><td>best_val_loss</td><td>0.48099</td></tr><tr><td>epoch</td><td>27</td></tr><tr><td>loss</td><td>0.14315</td></tr><tr><td>val_accuracy</td><td>0.78</td></tr><tr><td>val_loss</td><td>0.8285</td></tr></table><br/></div></div>"
      ],
      "text/plain": [
       "<IPython.core.display.HTML object>"
      ]
     },
     "metadata": {},
     "output_type": "display_data"
    },
    {
     "data": {
      "text/html": [
       "Synced <strong style=\"color:#cdcd00\">avid-sweep-36</strong>: <a href=\"https://wandb.ai/ishadowstormi/Coronary%20angiography%20network/runs/prq2tjog\" target=\"_blank\">https://wandb.ai/ishadowstormi/Coronary%20angiography%20network/runs/prq2tjog</a><br/>Synced 5 W&B file(s), 1 media file(s), 0 artifact file(s) and 0 other file(s)"
      ],
      "text/plain": [
       "<IPython.core.display.HTML object>"
      ]
     },
     "metadata": {},
     "output_type": "display_data"
    },
    {
     "data": {
      "text/html": [
       "Find logs at: <code>./wandb/run-20220324_064915-prq2tjog/logs</code>"
      ],
      "text/plain": [
       "<IPython.core.display.HTML object>"
      ]
     },
     "metadata": {},
     "output_type": "display_data"
    },
    {
     "name": "stderr",
     "output_type": "stream",
     "text": [
      "\u001b[34m\u001b[1mwandb\u001b[0m: Agent Starting Run: pnyu3fca with config:\n",
      "\u001b[34m\u001b[1mwandb\u001b[0m: \tbatch_size: 64\n",
      "\u001b[34m\u001b[1mwandb\u001b[0m: \tconv_layer1: 16\n",
      "\u001b[34m\u001b[1mwandb\u001b[0m: \tconv_layer2: 32\n",
      "\u001b[34m\u001b[1mwandb\u001b[0m: \tconv_layer3: 128\n",
      "\u001b[34m\u001b[1mwandb\u001b[0m: \tconv_layer4: 64\n",
      "\u001b[34m\u001b[1mwandb\u001b[0m: \tdense: 512\n",
      "Failed to detect the name of this notebook, you can set it manually with the WANDB_NOTEBOOK_NAME environment variable to enable code saving.\n"
     ]
    },
    {
     "data": {
      "text/html": [
       "Tracking run with wandb version 0.12.11"
      ],
      "text/plain": [
       "<IPython.core.display.HTML object>"
      ]
     },
     "metadata": {},
     "output_type": "display_data"
    },
    {
     "data": {
      "text/html": [
       "Run data is saved locally in <code>/home/jovyan/data/lightning/FrantisekUrban/wandb/run-20220324_065903-pnyu3fca</code>"
      ],
      "text/plain": [
       "<IPython.core.display.HTML object>"
      ]
     },
     "metadata": {},
     "output_type": "display_data"
    },
    {
     "data": {
      "text/html": [
       "Syncing run <strong><a href=\"https://wandb.ai/ishadowstormi/Coronary%20angiography%20network/runs/pnyu3fca\" target=\"_blank\">spring-sweep-37</a></strong> to <a href=\"https://wandb.ai/ishadowstormi/Coronary%20angiography%20network\" target=\"_blank\">Weights & Biases</a> (<a href=\"https://wandb.me/run\" target=\"_blank\">docs</a>)<br/>Sweep page:  <a href=\"https://wandb.ai/ishadowstormi/Coronary%20angiography%20network/sweeps/wco4rtlh\" target=\"_blank\">https://wandb.ai/ishadowstormi/Coronary%20angiography%20network/sweeps/wco4rtlh</a>"
      ],
      "text/plain": [
       "<IPython.core.display.HTML object>"
      ]
     },
     "metadata": {},
     "output_type": "display_data"
    },
    {
     "name": "stdout",
     "output_type": "stream",
     "text": [
      "Epoch 1/28\n",
      " 2/73 [..............................] - ETA: 10s - loss: 8.3922 - accuracy: 0.5156WARNING:tensorflow:Callbacks method `on_train_batch_end` is slow compared to the batch time (batch time: 0.1018s vs `on_train_batch_end` time: 0.1936s). Check your callbacks.\n",
      "73/73 [==============================] - 23s 309ms/step - loss: 1.4453 - accuracy: 0.6650 - val_loss: 1.7976 - val_accuracy: 0.5000\n",
      "Epoch 2/28\n",
      "73/73 [==============================] - 22s 297ms/step - loss: 0.5364 - accuracy: 0.7408 - val_loss: 2.0071 - val_accuracy: 0.4700\n",
      "Epoch 3/28\n",
      "73/73 [==============================] - 22s 298ms/step - loss: 0.4743 - accuracy: 0.7723 - val_loss: 2.6462 - val_accuracy: 0.5000\n",
      "Epoch 4/28\n",
      "73/73 [==============================] - 22s 297ms/step - loss: 0.4558 - accuracy: 0.7918 - val_loss: 1.2733 - val_accuracy: 0.5500\n",
      "Epoch 5/28\n",
      "73/73 [==============================] - 22s 297ms/step - loss: 0.4139 - accuracy: 0.8089 - val_loss: 1.7735 - val_accuracy: 0.5100\n",
      "Epoch 6/28\n",
      "73/73 [==============================] - 22s 298ms/step - loss: 0.3908 - accuracy: 0.8211 - val_loss: 1.2593 - val_accuracy: 0.6000\n",
      "Epoch 7/28\n",
      "73/73 [==============================] - 22s 298ms/step - loss: 0.3613 - accuracy: 0.8355 - val_loss: 1.4077 - val_accuracy: 0.5700\n",
      "Epoch 8/28\n",
      "73/73 [==============================] - 22s 299ms/step - loss: 0.3299 - accuracy: 0.8569 - val_loss: 0.9340 - val_accuracy: 0.7000\n",
      "Epoch 9/28\n",
      "73/73 [==============================] - 22s 300ms/step - loss: 0.3243 - accuracy: 0.8571 - val_loss: 0.7977 - val_accuracy: 0.6700\n",
      "Epoch 10/28\n",
      "73/73 [==============================] - 22s 298ms/step - loss: 0.3064 - accuracy: 0.8618 - val_loss: 0.6916 - val_accuracy: 0.7800\n",
      "Epoch 11/28\n",
      "73/73 [==============================] - 22s 298ms/step - loss: 0.2866 - accuracy: 0.8717 - val_loss: 1.1061 - val_accuracy: 0.5900\n",
      "Epoch 12/28\n",
      "73/73 [==============================] - 22s 298ms/step - loss: 0.2597 - accuracy: 0.8860 - val_loss: 1.0149 - val_accuracy: 0.6600\n",
      "Epoch 13/28\n",
      "73/73 [==============================] - 22s 298ms/step - loss: 0.2466 - accuracy: 0.8961 - val_loss: 0.5560 - val_accuracy: 0.7600\n",
      "Epoch 14/28\n",
      "73/73 [==============================] - 22s 298ms/step - loss: 0.2613 - accuracy: 0.8867 - val_loss: 1.0008 - val_accuracy: 0.7500\n",
      "Epoch 15/28\n",
      "73/73 [==============================] - 22s 298ms/step - loss: 0.2217 - accuracy: 0.9010 - val_loss: 2.2223 - val_accuracy: 0.6900\n",
      "Epoch 16/28\n",
      "73/73 [==============================] - 22s 298ms/step - loss: 0.2074 - accuracy: 0.9120 - val_loss: 2.1686 - val_accuracy: 0.5400\n",
      "Epoch 17/28\n",
      "73/73 [==============================] - 22s 298ms/step - loss: 0.2334 - accuracy: 0.9004 - val_loss: 0.6851 - val_accuracy: 0.7800\n",
      "Epoch 18/28\n",
      "73/73 [==============================] - 22s 302ms/step - loss: 0.2285 - accuracy: 0.9017 - val_loss: 1.0444 - val_accuracy: 0.6000\n",
      "Epoch 19/28\n",
      "73/73 [==============================] - 22s 298ms/step - loss: 0.2050 - accuracy: 0.9167 - val_loss: 0.4609 - val_accuracy: 0.8600\n",
      "Epoch 20/28\n",
      "73/73 [==============================] - 22s 299ms/step - loss: 0.1746 - accuracy: 0.9269 - val_loss: 1.0065 - val_accuracy: 0.7000\n",
      "Epoch 21/28\n",
      "73/73 [==============================] - 22s 299ms/step - loss: 0.1665 - accuracy: 0.9310 - val_loss: 0.7894 - val_accuracy: 0.8100\n",
      "Epoch 22/28\n",
      "73/73 [==============================] - 22s 299ms/step - loss: 0.1485 - accuracy: 0.9366 - val_loss: 0.6409 - val_accuracy: 0.8300\n",
      "Epoch 23/28\n",
      "73/73 [==============================] - 22s 298ms/step - loss: 0.1517 - accuracy: 0.9430 - val_loss: 0.7618 - val_accuracy: 0.7100\n",
      "Epoch 24/28\n",
      "73/73 [==============================] - 22s 298ms/step - loss: 0.1478 - accuracy: 0.9400 - val_loss: 0.4431 - val_accuracy: 0.8600\n",
      "Epoch 25/28\n",
      "73/73 [==============================] - 22s 298ms/step - loss: 0.1243 - accuracy: 0.9505 - val_loss: 0.8689 - val_accuracy: 0.7600\n",
      "Epoch 26/28\n",
      "73/73 [==============================] - 22s 299ms/step - loss: 0.1213 - accuracy: 0.9501 - val_loss: 0.4697 - val_accuracy: 0.8400\n",
      "Epoch 27/28\n",
      "73/73 [==============================] - 22s 298ms/step - loss: 0.1235 - accuracy: 0.9462 - val_loss: 0.3386 - val_accuracy: 0.8600\n",
      "Epoch 28/28\n",
      "73/73 [==============================] - 22s 299ms/step - loss: 0.1128 - accuracy: 0.9580 - val_loss: 1.2656 - val_accuracy: 0.7600\n",
      "\n",
      "-----Model evaluation on test data-----\n",
      "38/38 [==============================] - 2s 46ms/step - loss: 1.3490 - accuracy: 0.7271\n",
      "Test Error Rate:  27.29\n",
      "AUC:  0.8584\n",
      "\n"
     ]
    },
    {
     "data": {
      "text/html": [
       "Waiting for W&B process to finish... <strong style=\"color:green\">(success).</strong>"
      ],
      "text/plain": [
       "<IPython.core.display.HTML object>"
      ]
     },
     "metadata": {},
     "output_type": "display_data"
    },
    {
     "data": {
      "application/vnd.jupyter.widget-view+json": {
       "model_id": "",
       "version_major": 2,
       "version_minor": 0
      },
      "text/plain": [
       "VBox(children=(Label(value='0.004 MB of 0.004 MB uploaded (0.000 MB deduped)\\r'), FloatProgress(value=1.0, max…"
      ]
     },
     "metadata": {},
     "output_type": "display_data"
    },
    {
     "data": {
      "text/html": [
       "<style>\n",
       "    table.wandb td:nth-child(1) { padding: 0 10px; text-align: right }\n",
       "    .wandb-row { display: flex; flex-direction: row; flex-wrap: wrap; width: 100% }\n",
       "    .wandb-col { display: flex; flex-direction: column; flex-basis: 100%; flex: 1; padding: 10px; }\n",
       "    </style>\n",
       "<div class=\"wandb-row\"><div class=\"wandb-col\"><h3>Run history:</h3><br/><table class=\"wandb\"><tr><td>AUC</td><td>▁</td></tr><tr><td>Test Error Rate</td><td>▁</td></tr><tr><td>accuracy</td><td>▁▃▄▄▄▅▅▆▆▆▆▆▇▆▇▇▇▇▇▇▇▇██████</td></tr><tr><td>epoch</td><td>▁▁▂▂▂▂▃▃▃▃▄▄▄▄▅▅▅▅▆▆▆▆▇▇▇▇██</td></tr><tr><td>loss</td><td>█▃▃▃▃▂▂▂▂▂▂▂▂▂▂▁▂▂▁▁▁▁▁▁▁▁▁▁</td></tr><tr><td>val_accuracy</td><td>▂▁▂▂▂▃▃▅▅▇▃▄▆▆▅▂▇▃█▅▇▇▅█▆██▆</td></tr><tr><td>val_loss</td><td>▅▆█▄▅▄▄▃▂▂▃▃▂▃▇▇▂▃▁▃▂▂▂▁▃▁▁▄</td></tr></table><br/></div><div class=\"wandb-col\"><h3>Run summary:</h3><br/><table class=\"wandb\"><tr><td>AUC</td><td>0.8584</td></tr><tr><td>Test Error Rate</td><td>27.29</td></tr><tr><td>accuracy</td><td>0.95801</td></tr><tr><td>best_epoch</td><td>26</td></tr><tr><td>best_val_loss</td><td>0.33864</td></tr><tr><td>epoch</td><td>27</td></tr><tr><td>loss</td><td>0.11277</td></tr><tr><td>val_accuracy</td><td>0.76</td></tr><tr><td>val_loss</td><td>1.26558</td></tr></table><br/></div></div>"
      ],
      "text/plain": [
       "<IPython.core.display.HTML object>"
      ]
     },
     "metadata": {},
     "output_type": "display_data"
    },
    {
     "data": {
      "text/html": [
       "Synced <strong style=\"color:#cdcd00\">spring-sweep-37</strong>: <a href=\"https://wandb.ai/ishadowstormi/Coronary%20angiography%20network/runs/pnyu3fca\" target=\"_blank\">https://wandb.ai/ishadowstormi/Coronary%20angiography%20network/runs/pnyu3fca</a><br/>Synced 5 W&B file(s), 1 media file(s), 0 artifact file(s) and 0 other file(s)"
      ],
      "text/plain": [
       "<IPython.core.display.HTML object>"
      ]
     },
     "metadata": {},
     "output_type": "display_data"
    },
    {
     "data": {
      "text/html": [
       "Find logs at: <code>./wandb/run-20220324_065903-pnyu3fca/logs</code>"
      ],
      "text/plain": [
       "<IPython.core.display.HTML object>"
      ]
     },
     "metadata": {},
     "output_type": "display_data"
    },
    {
     "name": "stderr",
     "output_type": "stream",
     "text": [
      "\u001b[34m\u001b[1mwandb\u001b[0m: Agent Starting Run: e4tsnu7m with config:\n",
      "\u001b[34m\u001b[1mwandb\u001b[0m: \tbatch_size: 64\n",
      "\u001b[34m\u001b[1mwandb\u001b[0m: \tconv_layer1: 16\n",
      "\u001b[34m\u001b[1mwandb\u001b[0m: \tconv_layer2: 32\n",
      "\u001b[34m\u001b[1mwandb\u001b[0m: \tconv_layer3: 128\n",
      "\u001b[34m\u001b[1mwandb\u001b[0m: \tconv_layer4: 64\n",
      "\u001b[34m\u001b[1mwandb\u001b[0m: \tdense: 1024\n",
      "Failed to detect the name of this notebook, you can set it manually with the WANDB_NOTEBOOK_NAME environment variable to enable code saving.\n"
     ]
    },
    {
     "data": {
      "text/html": [
       "Tracking run with wandb version 0.12.11"
      ],
      "text/plain": [
       "<IPython.core.display.HTML object>"
      ]
     },
     "metadata": {},
     "output_type": "display_data"
    },
    {
     "data": {
      "text/html": [
       "Run data is saved locally in <code>/home/jovyan/data/lightning/FrantisekUrban/wandb/run-20220324_070941-e4tsnu7m</code>"
      ],
      "text/plain": [
       "<IPython.core.display.HTML object>"
      ]
     },
     "metadata": {},
     "output_type": "display_data"
    },
    {
     "data": {
      "text/html": [
       "Syncing run <strong><a href=\"https://wandb.ai/ishadowstormi/Coronary%20angiography%20network/runs/e4tsnu7m\" target=\"_blank\">whole-sweep-38</a></strong> to <a href=\"https://wandb.ai/ishadowstormi/Coronary%20angiography%20network\" target=\"_blank\">Weights & Biases</a> (<a href=\"https://wandb.me/run\" target=\"_blank\">docs</a>)<br/>Sweep page:  <a href=\"https://wandb.ai/ishadowstormi/Coronary%20angiography%20network/sweeps/wco4rtlh\" target=\"_blank\">https://wandb.ai/ishadowstormi/Coronary%20angiography%20network/sweeps/wco4rtlh</a>"
      ],
      "text/plain": [
       "<IPython.core.display.HTML object>"
      ]
     },
     "metadata": {},
     "output_type": "display_data"
    },
    {
     "name": "stdout",
     "output_type": "stream",
     "text": [
      "Epoch 1/28\n",
      " 2/73 [..............................] - ETA: 10s - loss: 15.2348 - accuracy: 0.5547WARNING:tensorflow:Callbacks method `on_train_batch_end` is slow compared to the batch time (batch time: 0.1057s vs `on_train_batch_end` time: 0.1962s). Check your callbacks.\n",
      "73/73 [==============================] - 22s 302ms/step - loss: 2.2608 - accuracy: 0.6620 - val_loss: 1.7354 - val_accuracy: 0.6200\n",
      "Epoch 2/28\n",
      "73/73 [==============================] - 22s 299ms/step - loss: 0.6400 - accuracy: 0.7093 - val_loss: 3.0993 - val_accuracy: 0.6600\n",
      "Epoch 3/28\n",
      "73/73 [==============================] - 22s 300ms/step - loss: 0.5134 - accuracy: 0.7442 - val_loss: 0.8243 - val_accuracy: 0.5800\n",
      "Epoch 4/28\n",
      "73/73 [==============================] - 22s 302ms/step - loss: 0.4586 - accuracy: 0.7721 - val_loss: 1.9157 - val_accuracy: 0.5000\n",
      "Epoch 5/28\n",
      "73/73 [==============================] - 22s 301ms/step - loss: 0.4329 - accuracy: 0.7916 - val_loss: 0.7513 - val_accuracy: 0.6600\n",
      "Epoch 6/28\n",
      "73/73 [==============================] - 22s 300ms/step - loss: 0.3901 - accuracy: 0.8106 - val_loss: 0.5502 - val_accuracy: 0.6600\n",
      "Epoch 7/28\n",
      "73/73 [==============================] - 22s 300ms/step - loss: 0.3586 - accuracy: 0.8293 - val_loss: 1.4118 - val_accuracy: 0.6600\n",
      "Epoch 8/28\n",
      "73/73 [==============================] - 22s 302ms/step - loss: 0.3339 - accuracy: 0.8451 - val_loss: 1.8266 - val_accuracy: 0.5100\n",
      "Epoch 9/28\n",
      "73/73 [==============================] - 22s 300ms/step - loss: 0.3432 - accuracy: 0.8445 - val_loss: 1.0759 - val_accuracy: 0.6300\n",
      "Epoch 10/28\n",
      "73/73 [==============================] - 22s 299ms/step - loss: 0.3108 - accuracy: 0.8586 - val_loss: 2.6971 - val_accuracy: 0.4000\n",
      "Epoch 11/28\n",
      "73/73 [==============================] - 22s 300ms/step - loss: 0.2826 - accuracy: 0.8728 - val_loss: 0.6750 - val_accuracy: 0.7200\n",
      "Epoch 12/28\n",
      "73/73 [==============================] - 22s 300ms/step - loss: 0.2676 - accuracy: 0.8792 - val_loss: 0.7589 - val_accuracy: 0.6700\n",
      "Epoch 13/28\n",
      "73/73 [==============================] - 22s 299ms/step - loss: 0.2461 - accuracy: 0.8920 - val_loss: 0.4783 - val_accuracy: 0.8400\n",
      "Epoch 14/28\n",
      "73/73 [==============================] - 22s 300ms/step - loss: 0.2587 - accuracy: 0.8854 - val_loss: 0.5946 - val_accuracy: 0.7000\n",
      "Epoch 15/28\n",
      "73/73 [==============================] - 22s 299ms/step - loss: 0.2104 - accuracy: 0.9092 - val_loss: 1.4928 - val_accuracy: 0.6000\n",
      "Epoch 16/28\n",
      "73/73 [==============================] - 22s 300ms/step - loss: 0.2179 - accuracy: 0.9098 - val_loss: 0.8325 - val_accuracy: 0.6900\n",
      "Epoch 17/28\n",
      "73/73 [==============================] - 22s 299ms/step - loss: 0.2026 - accuracy: 0.9109 - val_loss: 0.8316 - val_accuracy: 0.6600\n",
      "Epoch 18/28\n",
      "73/73 [==============================] - 22s 299ms/step - loss: 0.1819 - accuracy: 0.9235 - val_loss: 0.9173 - val_accuracy: 0.7600\n",
      "Epoch 19/28\n",
      "73/73 [==============================] - 22s 299ms/step - loss: 0.1488 - accuracy: 0.9351 - val_loss: 0.5451 - val_accuracy: 0.7800\n",
      "Epoch 20/28\n",
      "73/73 [==============================] - 22s 300ms/step - loss: 0.1643 - accuracy: 0.9329 - val_loss: 1.3301 - val_accuracy: 0.6500\n",
      "Epoch 21/28\n",
      "73/73 [==============================] - 22s 299ms/step - loss: 0.1375 - accuracy: 0.9475 - val_loss: 0.4852 - val_accuracy: 0.8600\n",
      "Epoch 22/28\n",
      "73/73 [==============================] - 22s 299ms/step - loss: 0.1491 - accuracy: 0.9413 - val_loss: 1.6825 - val_accuracy: 0.6100\n",
      "Epoch 23/28\n",
      "73/73 [==============================] - 22s 300ms/step - loss: 0.1477 - accuracy: 0.9389 - val_loss: 0.8883 - val_accuracy: 0.6900\n",
      "Epoch 24/28\n",
      "73/73 [==============================] - 22s 299ms/step - loss: 0.1356 - accuracy: 0.9432 - val_loss: 0.5678 - val_accuracy: 0.7600\n",
      "Epoch 25/28\n",
      "73/73 [==============================] - 22s 299ms/step - loss: 0.1185 - accuracy: 0.9494 - val_loss: 0.8498 - val_accuracy: 0.7300\n",
      "Epoch 26/28\n",
      "73/73 [==============================] - 22s 300ms/step - loss: 0.1244 - accuracy: 0.9518 - val_loss: 0.7264 - val_accuracy: 0.7900\n",
      "Epoch 27/28\n",
      "73/73 [==============================] - 22s 301ms/step - loss: 0.1138 - accuracy: 0.9561 - val_loss: 0.5422 - val_accuracy: 0.8000\n",
      "Epoch 28/28\n",
      "73/73 [==============================] - 22s 300ms/step - loss: 0.1114 - accuracy: 0.9584 - val_loss: 0.9669 - val_accuracy: 0.7800\n",
      "\n",
      "-----Model evaluation on test data-----\n",
      "38/38 [==============================] - 2s 46ms/step - loss: 1.0609 - accuracy: 0.6919\n",
      "Test Error Rate:  30.81\n",
      "AUC:  0.8633\n",
      "\n"
     ]
    },
    {
     "data": {
      "text/html": [
       "Waiting for W&B process to finish... <strong style=\"color:green\">(success).</strong>"
      ],
      "text/plain": [
       "<IPython.core.display.HTML object>"
      ]
     },
     "metadata": {},
     "output_type": "display_data"
    },
    {
     "data": {
      "application/vnd.jupyter.widget-view+json": {
       "model_id": "",
       "version_major": 2,
       "version_minor": 0
      },
      "text/plain": [
       "VBox(children=(Label(value='0.004 MB of 0.004 MB uploaded (0.000 MB deduped)\\r'), FloatProgress(value=1.0, max…"
      ]
     },
     "metadata": {},
     "output_type": "display_data"
    },
    {
     "data": {
      "text/html": [
       "<style>\n",
       "    table.wandb td:nth-child(1) { padding: 0 10px; text-align: right }\n",
       "    .wandb-row { display: flex; flex-direction: row; flex-wrap: wrap; width: 100% }\n",
       "    .wandb-col { display: flex; flex-direction: column; flex-basis: 100%; flex: 1; padding: 10px; }\n",
       "    </style>\n",
       "<div class=\"wandb-row\"><div class=\"wandb-col\"><h3>Run history:</h3><br/><table class=\"wandb\"><tr><td>AUC</td><td>▁</td></tr><tr><td>Test Error Rate</td><td>▁</td></tr><tr><td>accuracy</td><td>▁▂▃▄▄▅▅▅▅▆▆▆▆▆▇▇▇▇▇▇████████</td></tr><tr><td>epoch</td><td>▁▁▂▂▂▂▃▃▃▃▄▄▄▄▅▅▅▅▆▆▆▆▇▇▇▇██</td></tr><tr><td>loss</td><td>█▃▂▂▂▂▂▂▂▂▂▂▁▁▁▁▁▁▁▁▁▁▁▁▁▁▁▁</td></tr><tr><td>val_accuracy</td><td>▄▅▄▃▅▅▅▃▄▁▆▅█▆▄▅▅▆▇▅█▄▅▆▆▇▇▇</td></tr><tr><td>val_loss</td><td>▄█▂▅▂▁▃▅▃▇▂▂▁▁▄▂▂▂▁▃▁▄▂▁▂▂▁▂</td></tr></table><br/></div><div class=\"wandb-col\"><h3>Run summary:</h3><br/><table class=\"wandb\"><tr><td>AUC</td><td>0.8633</td></tr><tr><td>Test Error Rate</td><td>30.81</td></tr><tr><td>accuracy</td><td>0.95844</td></tr><tr><td>best_epoch</td><td>12</td></tr><tr><td>best_val_loss</td><td>0.47828</td></tr><tr><td>epoch</td><td>27</td></tr><tr><td>loss</td><td>0.11138</td></tr><tr><td>val_accuracy</td><td>0.78</td></tr><tr><td>val_loss</td><td>0.96693</td></tr></table><br/></div></div>"
      ],
      "text/plain": [
       "<IPython.core.display.HTML object>"
      ]
     },
     "metadata": {},
     "output_type": "display_data"
    },
    {
     "data": {
      "text/html": [
       "Synced <strong style=\"color:#cdcd00\">whole-sweep-38</strong>: <a href=\"https://wandb.ai/ishadowstormi/Coronary%20angiography%20network/runs/e4tsnu7m\" target=\"_blank\">https://wandb.ai/ishadowstormi/Coronary%20angiography%20network/runs/e4tsnu7m</a><br/>Synced 5 W&B file(s), 1 media file(s), 0 artifact file(s) and 0 other file(s)"
      ],
      "text/plain": [
       "<IPython.core.display.HTML object>"
      ]
     },
     "metadata": {},
     "output_type": "display_data"
    },
    {
     "data": {
      "text/html": [
       "Find logs at: <code>./wandb/run-20220324_070941-e4tsnu7m/logs</code>"
      ],
      "text/plain": [
       "<IPython.core.display.HTML object>"
      ]
     },
     "metadata": {},
     "output_type": "display_data"
    },
    {
     "name": "stderr",
     "output_type": "stream",
     "text": [
      "\u001b[34m\u001b[1mwandb\u001b[0m: Agent Starting Run: hf5m5mkc with config:\n",
      "\u001b[34m\u001b[1mwandb\u001b[0m: \tbatch_size: 64\n",
      "\u001b[34m\u001b[1mwandb\u001b[0m: \tconv_layer1: 16\n",
      "\u001b[34m\u001b[1mwandb\u001b[0m: \tconv_layer2: 32\n",
      "\u001b[34m\u001b[1mwandb\u001b[0m: \tconv_layer3: 128\n",
      "\u001b[34m\u001b[1mwandb\u001b[0m: \tconv_layer4: 128\n",
      "\u001b[34m\u001b[1mwandb\u001b[0m: \tdense: 512\n",
      "Failed to detect the name of this notebook, you can set it manually with the WANDB_NOTEBOOK_NAME environment variable to enable code saving.\n"
     ]
    },
    {
     "data": {
      "text/html": [
       "Tracking run with wandb version 0.12.11"
      ],
      "text/plain": [
       "<IPython.core.display.HTML object>"
      ]
     },
     "metadata": {},
     "output_type": "display_data"
    },
    {
     "data": {
      "text/html": [
       "Run data is saved locally in <code>/home/jovyan/data/lightning/FrantisekUrban/wandb/run-20220324_072024-hf5m5mkc</code>"
      ],
      "text/plain": [
       "<IPython.core.display.HTML object>"
      ]
     },
     "metadata": {},
     "output_type": "display_data"
    },
    {
     "data": {
      "text/html": [
       "Syncing run <strong><a href=\"https://wandb.ai/ishadowstormi/Coronary%20angiography%20network/runs/hf5m5mkc\" target=\"_blank\">azure-sweep-39</a></strong> to <a href=\"https://wandb.ai/ishadowstormi/Coronary%20angiography%20network\" target=\"_blank\">Weights & Biases</a> (<a href=\"https://wandb.me/run\" target=\"_blank\">docs</a>)<br/>Sweep page:  <a href=\"https://wandb.ai/ishadowstormi/Coronary%20angiography%20network/sweeps/wco4rtlh\" target=\"_blank\">https://wandb.ai/ishadowstormi/Coronary%20angiography%20network/sweeps/wco4rtlh</a>"
      ],
      "text/plain": [
       "<IPython.core.display.HTML object>"
      ]
     },
     "metadata": {},
     "output_type": "display_data"
    },
    {
     "name": "stdout",
     "output_type": "stream",
     "text": [
      "Epoch 1/28\n",
      " 2/73 [..............................] - ETA: 10s - loss: 17.6094 - accuracy: 0.5312WARNING:tensorflow:Callbacks method `on_train_batch_end` is slow compared to the batch time (batch time: 0.1039s vs `on_train_batch_end` time: 0.1992s). Check your callbacks.\n",
      "73/73 [==============================] - 23s 310ms/step - loss: 2.7455 - accuracy: 0.6587 - val_loss: 2.5020 - val_accuracy: 0.3900\n",
      "Epoch 2/28\n",
      "73/73 [==============================] - 22s 305ms/step - loss: 0.8416 - accuracy: 0.7084 - val_loss: 2.9724 - val_accuracy: 0.5900\n",
      "Epoch 3/28\n",
      "73/73 [==============================] - 22s 305ms/step - loss: 0.5753 - accuracy: 0.7346 - val_loss: 2.4946 - val_accuracy: 0.5000\n",
      "Epoch 4/28\n",
      "73/73 [==============================] - 22s 305ms/step - loss: 0.4748 - accuracy: 0.7727 - val_loss: 0.9836 - val_accuracy: 0.5800\n",
      "Epoch 5/28\n",
      "73/73 [==============================] - 22s 305ms/step - loss: 0.4398 - accuracy: 0.7860 - val_loss: 1.0626 - val_accuracy: 0.6000\n",
      "Epoch 6/28\n",
      "73/73 [==============================] - 22s 305ms/step - loss: 0.3890 - accuracy: 0.8220 - val_loss: 0.6298 - val_accuracy: 0.6700\n",
      "Epoch 7/28\n",
      "73/73 [==============================] - 22s 306ms/step - loss: 0.3656 - accuracy: 0.8335 - val_loss: 2.2604 - val_accuracy: 0.5600\n",
      "Epoch 8/28\n",
      "73/73 [==============================] - 22s 307ms/step - loss: 0.3533 - accuracy: 0.8438 - val_loss: 1.6878 - val_accuracy: 0.5300\n",
      "Epoch 9/28\n",
      "73/73 [==============================] - 22s 306ms/step - loss: 0.3215 - accuracy: 0.8505 - val_loss: 0.6666 - val_accuracy: 0.6200\n",
      "Epoch 10/28\n",
      "73/73 [==============================] - 22s 305ms/step - loss: 0.3127 - accuracy: 0.8593 - val_loss: 8.1533 - val_accuracy: 0.5200\n",
      "Epoch 11/28\n",
      "73/73 [==============================] - 22s 306ms/step - loss: 0.3047 - accuracy: 0.8599 - val_loss: 0.5232 - val_accuracy: 0.7700\n",
      "Epoch 12/28\n",
      "73/73 [==============================] - 22s 306ms/step - loss: 0.2670 - accuracy: 0.8805 - val_loss: 1.7449 - val_accuracy: 0.5200\n",
      "Epoch 13/28\n",
      "73/73 [==============================] - 22s 307ms/step - loss: 0.2752 - accuracy: 0.8753 - val_loss: 1.1932 - val_accuracy: 0.6600\n",
      "Epoch 14/28\n",
      "73/73 [==============================] - 22s 305ms/step - loss: 0.2668 - accuracy: 0.8832 - val_loss: 0.6791 - val_accuracy: 0.7200\n",
      "Epoch 15/28\n",
      "73/73 [==============================] - 22s 305ms/step - loss: 0.2493 - accuracy: 0.8929 - val_loss: 0.8024 - val_accuracy: 0.7500\n",
      "Epoch 16/28\n",
      "73/73 [==============================] - 22s 305ms/step - loss: 0.2301 - accuracy: 0.9002 - val_loss: 2.0340 - val_accuracy: 0.5700\n",
      "Epoch 17/28\n",
      "73/73 [==============================] - 22s 304ms/step - loss: 0.2323 - accuracy: 0.8978 - val_loss: 0.9765 - val_accuracy: 0.7500\n",
      "Epoch 18/28\n",
      "73/73 [==============================] - 22s 305ms/step - loss: 0.2437 - accuracy: 0.8970 - val_loss: 0.4613 - val_accuracy: 0.7700\n",
      "Epoch 19/28\n",
      "73/73 [==============================] - 22s 305ms/step - loss: 0.1941 - accuracy: 0.9150 - val_loss: 1.9928 - val_accuracy: 0.6600\n",
      "Epoch 20/28\n",
      "73/73 [==============================] - 22s 306ms/step - loss: 0.1942 - accuracy: 0.9197 - val_loss: 0.8646 - val_accuracy: 0.7500\n",
      "Epoch 21/28\n",
      "73/73 [==============================] - 22s 305ms/step - loss: 0.1701 - accuracy: 0.9272 - val_loss: 1.0857 - val_accuracy: 0.7200\n",
      "Epoch 22/28\n",
      "73/73 [==============================] - 22s 305ms/step - loss: 0.1672 - accuracy: 0.9302 - val_loss: 1.2333 - val_accuracy: 0.7700\n",
      "Epoch 23/28\n",
      "73/73 [==============================] - 22s 305ms/step - loss: 0.1675 - accuracy: 0.9325 - val_loss: 0.5203 - val_accuracy: 0.7700\n",
      "Epoch 24/28\n",
      "73/73 [==============================] - 22s 305ms/step - loss: 0.1486 - accuracy: 0.9364 - val_loss: 0.3958 - val_accuracy: 0.8400\n",
      "Epoch 25/28\n",
      "73/73 [==============================] - 22s 305ms/step - loss: 0.1341 - accuracy: 0.9473 - val_loss: 0.8595 - val_accuracy: 0.7900\n",
      "Epoch 26/28\n",
      "73/73 [==============================] - 22s 305ms/step - loss: 0.1501 - accuracy: 0.9372 - val_loss: 1.0264 - val_accuracy: 0.6200\n",
      "Epoch 27/28\n",
      "73/73 [==============================] - 22s 305ms/step - loss: 0.1231 - accuracy: 0.9503 - val_loss: 0.4326 - val_accuracy: 0.8400\n",
      "Epoch 28/28\n",
      "73/73 [==============================] - 22s 305ms/step - loss: 0.1401 - accuracy: 0.9497 - val_loss: 1.6690 - val_accuracy: 0.6400\n",
      "\n",
      "-----Model evaluation on test data-----\n",
      "38/38 [==============================] - 2s 48ms/step - loss: 0.4602 - accuracy: 0.8690\n",
      "Test Error Rate:  13.1\n",
      "AUC:  0.7758\n",
      "\n"
     ]
    },
    {
     "data": {
      "text/html": [
       "Waiting for W&B process to finish... <strong style=\"color:green\">(success).</strong>"
      ],
      "text/plain": [
       "<IPython.core.display.HTML object>"
      ]
     },
     "metadata": {},
     "output_type": "display_data"
    },
    {
     "data": {
      "application/vnd.jupyter.widget-view+json": {
       "model_id": "",
       "version_major": 2,
       "version_minor": 0
      },
      "text/plain": [
       "VBox(children=(Label(value='0.004 MB of 0.004 MB uploaded (0.000 MB deduped)\\r'), FloatProgress(value=1.0, max…"
      ]
     },
     "metadata": {},
     "output_type": "display_data"
    },
    {
     "data": {
      "text/html": [
       "<style>\n",
       "    table.wandb td:nth-child(1) { padding: 0 10px; text-align: right }\n",
       "    .wandb-row { display: flex; flex-direction: row; flex-wrap: wrap; width: 100% }\n",
       "    .wandb-col { display: flex; flex-direction: column; flex-basis: 100%; flex: 1; padding: 10px; }\n",
       "    </style>\n",
       "<div class=\"wandb-row\"><div class=\"wandb-col\"><h3>Run history:</h3><br/><table class=\"wandb\"><tr><td>AUC</td><td>▁</td></tr><tr><td>Test Error Rate</td><td>▁</td></tr><tr><td>accuracy</td><td>▁▂▃▄▄▅▅▅▆▆▆▆▆▆▇▇▇▇▇▇▇███████</td></tr><tr><td>epoch</td><td>▁▁▂▂▂▂▃▃▃▃▄▄▄▄▅▅▅▅▆▆▆▆▇▇▇▇██</td></tr><tr><td>loss</td><td>█▃▂▂▂▂▂▂▂▂▁▁▁▁▁▁▁▁▁▁▁▁▁▁▁▁▁▁</td></tr><tr><td>val_accuracy</td><td>▁▄▃▄▄▅▄▃▅▃▇▃▅▆▇▄▇▇▅▇▆▇▇█▇▅█▅</td></tr><tr><td>val_loss</td><td>▃▃▃▂▂▁▃▂▁█▁▂▂▁▁▂▂▁▂▁▂▂▁▁▁▂▁▂</td></tr></table><br/></div><div class=\"wandb-col\"><h3>Run summary:</h3><br/><table class=\"wandb\"><tr><td>AUC</td><td>0.7758</td></tr><tr><td>Test Error Rate</td><td>13.1</td></tr><tr><td>accuracy</td><td>0.94966</td></tr><tr><td>best_epoch</td><td>23</td></tr><tr><td>best_val_loss</td><td>0.3958</td></tr><tr><td>epoch</td><td>27</td></tr><tr><td>loss</td><td>0.14011</td></tr><tr><td>val_accuracy</td><td>0.64</td></tr><tr><td>val_loss</td><td>1.66903</td></tr></table><br/></div></div>"
      ],
      "text/plain": [
       "<IPython.core.display.HTML object>"
      ]
     },
     "metadata": {},
     "output_type": "display_data"
    },
    {
     "data": {
      "text/html": [
       "Synced <strong style=\"color:#cdcd00\">azure-sweep-39</strong>: <a href=\"https://wandb.ai/ishadowstormi/Coronary%20angiography%20network/runs/hf5m5mkc\" target=\"_blank\">https://wandb.ai/ishadowstormi/Coronary%20angiography%20network/runs/hf5m5mkc</a><br/>Synced 5 W&B file(s), 1 media file(s), 0 artifact file(s) and 0 other file(s)"
      ],
      "text/plain": [
       "<IPython.core.display.HTML object>"
      ]
     },
     "metadata": {},
     "output_type": "display_data"
    },
    {
     "data": {
      "text/html": [
       "Find logs at: <code>./wandb/run-20220324_072024-hf5m5mkc/logs</code>"
      ],
      "text/plain": [
       "<IPython.core.display.HTML object>"
      ]
     },
     "metadata": {},
     "output_type": "display_data"
    },
    {
     "name": "stderr",
     "output_type": "stream",
     "text": [
      "\u001b[34m\u001b[1mwandb\u001b[0m: Agent Starting Run: ysjqfv0y with config:\n",
      "\u001b[34m\u001b[1mwandb\u001b[0m: \tbatch_size: 64\n",
      "\u001b[34m\u001b[1mwandb\u001b[0m: \tconv_layer1: 16\n",
      "\u001b[34m\u001b[1mwandb\u001b[0m: \tconv_layer2: 32\n",
      "\u001b[34m\u001b[1mwandb\u001b[0m: \tconv_layer3: 128\n",
      "\u001b[34m\u001b[1mwandb\u001b[0m: \tconv_layer4: 128\n",
      "\u001b[34m\u001b[1mwandb\u001b[0m: \tdense: 1024\n",
      "Failed to detect the name of this notebook, you can set it manually with the WANDB_NOTEBOOK_NAME environment variable to enable code saving.\n"
     ]
    },
    {
     "data": {
      "text/html": [
       "Tracking run with wandb version 0.12.11"
      ],
      "text/plain": [
       "<IPython.core.display.HTML object>"
      ]
     },
     "metadata": {},
     "output_type": "display_data"
    },
    {
     "data": {
      "text/html": [
       "Run data is saved locally in <code>/home/jovyan/data/lightning/FrantisekUrban/wandb/run-20220324_073117-ysjqfv0y</code>"
      ],
      "text/plain": [
       "<IPython.core.display.HTML object>"
      ]
     },
     "metadata": {},
     "output_type": "display_data"
    },
    {
     "data": {
      "text/html": [
       "Syncing run <strong><a href=\"https://wandb.ai/ishadowstormi/Coronary%20angiography%20network/runs/ysjqfv0y\" target=\"_blank\">vague-sweep-40</a></strong> to <a href=\"https://wandb.ai/ishadowstormi/Coronary%20angiography%20network\" target=\"_blank\">Weights & Biases</a> (<a href=\"https://wandb.me/run\" target=\"_blank\">docs</a>)<br/>Sweep page:  <a href=\"https://wandb.ai/ishadowstormi/Coronary%20angiography%20network/sweeps/wco4rtlh\" target=\"_blank\">https://wandb.ai/ishadowstormi/Coronary%20angiography%20network/sweeps/wco4rtlh</a>"
      ],
      "text/plain": [
       "<IPython.core.display.HTML object>"
      ]
     },
     "metadata": {},
     "output_type": "display_data"
    },
    {
     "name": "stdout",
     "output_type": "stream",
     "text": [
      "Epoch 1/28\n",
      " 2/73 [..............................] - ETA: 11s - loss: 21.3738 - accuracy: 0.5078WARNING:tensorflow:Callbacks method `on_train_batch_end` is slow compared to the batch time (batch time: 0.1104s vs `on_train_batch_end` time: 0.2069s). Check your callbacks.\n",
      "73/73 [==============================] - 23s 312ms/step - loss: 4.2289 - accuracy: 0.6390 - val_loss: 3.0882 - val_accuracy: 0.4900\n",
      "Epoch 2/28\n",
      "73/73 [==============================] - 23s 309ms/step - loss: 0.7375 - accuracy: 0.7102 - val_loss: 9.8199 - val_accuracy: 0.5000\n",
      "Epoch 3/28\n",
      "73/73 [==============================] - 23s 309ms/step - loss: 0.5197 - accuracy: 0.7464 - val_loss: 6.5841 - val_accuracy: 0.3800\n",
      "Epoch 4/28\n",
      "73/73 [==============================] - 23s 309ms/step - loss: 0.4836 - accuracy: 0.7684 - val_loss: 5.9630 - val_accuracy: 0.4200\n",
      "Epoch 5/28\n",
      "73/73 [==============================] - 23s 309ms/step - loss: 0.4533 - accuracy: 0.7856 - val_loss: 2.4985 - val_accuracy: 0.3900\n",
      "Epoch 6/28\n",
      "73/73 [==============================] - 23s 309ms/step - loss: 0.4396 - accuracy: 0.7933 - val_loss: 2.3166 - val_accuracy: 0.4900\n",
      "Epoch 7/28\n",
      "73/73 [==============================] - 23s 309ms/step - loss: 0.4014 - accuracy: 0.8173 - val_loss: 1.9571 - val_accuracy: 0.4800\n",
      "Epoch 8/28\n",
      "73/73 [==============================] - 23s 309ms/step - loss: 0.3855 - accuracy: 0.8231 - val_loss: 4.2459 - val_accuracy: 0.5100\n",
      "Epoch 9/28\n",
      "73/73 [==============================] - 23s 309ms/step - loss: 0.3565 - accuracy: 0.8430 - val_loss: 2.2404 - val_accuracy: 0.5900\n",
      "Epoch 10/28\n",
      "55/73 [=====================>........] - ETA: 5s - loss: 0.3413 - accuracy: 0.8483\n"
     ]
    },
    {
     "data": {
      "text/html": [
       "Waiting for W&B process to finish... <strong style=\"color:red\">(failed 1).</strong> Press Control-C to abort syncing."
      ],
      "text/plain": [
       "<IPython.core.display.HTML object>"
      ]
     },
     "metadata": {},
     "output_type": "display_data"
    },
    {
     "data": {
      "application/vnd.jupyter.widget-view+json": {
       "model_id": "",
       "version_major": 2,
       "version_minor": 0
      },
      "text/plain": [
       "VBox(children=(Label(value='0.004 MB of 0.004 MB uploaded (0.000 MB deduped)\\r'), FloatProgress(value=1.0, max…"
      ]
     },
     "metadata": {},
     "output_type": "display_data"
    },
    {
     "data": {
      "text/html": [
       "<style>\n",
       "    table.wandb td:nth-child(1) { padding: 0 10px; text-align: right }\n",
       "    .wandb-row { display: flex; flex-direction: row; flex-wrap: wrap; width: 100% }\n",
       "    .wandb-col { display: flex; flex-direction: column; flex-basis: 100%; flex: 1; padding: 10px; }\n",
       "    </style>\n",
       "<div class=\"wandb-row\"><div class=\"wandb-col\"><h3>Run history:</h3><br/><table class=\"wandb\"><tr><td>accuracy</td><td>▁▃▅▅▆▆▇▇█</td></tr><tr><td>epoch</td><td>▁▂▃▄▅▅▆▇█</td></tr><tr><td>loss</td><td>█▂▁▁▁▁▁▁▁</td></tr><tr><td>val_accuracy</td><td>▅▅▁▂▁▅▄▅█</td></tr><tr><td>val_loss</td><td>▂█▅▅▁▁▁▃▁</td></tr></table><br/></div><div class=\"wandb-col\"><h3>Run summary:</h3><br/><table class=\"wandb\"><tr><td>accuracy</td><td>0.84297</td></tr><tr><td>best_epoch</td><td>6</td></tr><tr><td>best_val_loss</td><td>1.95706</td></tr><tr><td>epoch</td><td>8</td></tr><tr><td>loss</td><td>0.3565</td></tr><tr><td>val_accuracy</td><td>0.59</td></tr><tr><td>val_loss</td><td>2.24036</td></tr></table><br/></div></div>"
      ],
      "text/plain": [
       "<IPython.core.display.HTML object>"
      ]
     },
     "metadata": {},
     "output_type": "display_data"
    },
    {
     "data": {
      "text/html": [
       "Synced <strong style=\"color:#cdcd00\">vague-sweep-40</strong>: <a href=\"https://wandb.ai/ishadowstormi/Coronary%20angiography%20network/runs/ysjqfv0y\" target=\"_blank\">https://wandb.ai/ishadowstormi/Coronary%20angiography%20network/runs/ysjqfv0y</a><br/>Synced 5 W&B file(s), 1 media file(s), 0 artifact file(s) and 0 other file(s)"
      ],
      "text/plain": [
       "<IPython.core.display.HTML object>"
      ]
     },
     "metadata": {},
     "output_type": "display_data"
    },
    {
     "data": {
      "text/html": [
       "Find logs at: <code>./wandb/run-20220324_073117-ysjqfv0y/logs</code>"
      ],
      "text/plain": [
       "<IPython.core.display.HTML object>"
      ]
     },
     "metadata": {},
     "output_type": "display_data"
    },
    {
     "name": "stderr",
     "output_type": "stream",
     "text": [
      "\u001b[34m\u001b[1mwandb\u001b[0m: Agent Starting Run: 0z634ydk with config:\n",
      "\u001b[34m\u001b[1mwandb\u001b[0m: \tbatch_size: 64\n",
      "\u001b[34m\u001b[1mwandb\u001b[0m: \tconv_layer1: 16\n",
      "\u001b[34m\u001b[1mwandb\u001b[0m: \tconv_layer2: 64\n",
      "\u001b[34m\u001b[1mwandb\u001b[0m: \tconv_layer3: 64\n",
      "\u001b[34m\u001b[1mwandb\u001b[0m: \tconv_layer4: 64\n",
      "\u001b[34m\u001b[1mwandb\u001b[0m: \tdense: 512\n",
      "Failed to detect the name of this notebook, you can set it manually with the WANDB_NOTEBOOK_NAME environment variable to enable code saving.\n"
     ]
    },
    {
     "data": {
      "text/html": [
       "Tracking run with wandb version 0.12.11"
      ],
      "text/plain": [
       "<IPython.core.display.HTML object>"
      ]
     },
     "metadata": {},
     "output_type": "display_data"
    },
    {
     "data": {
      "text/html": [
       "Run data is saved locally in <code>/home/jovyan/data/lightning/FrantisekUrban/wandb/run-20220324_073512-0z634ydk</code>"
      ],
      "text/plain": [
       "<IPython.core.display.HTML object>"
      ]
     },
     "metadata": {},
     "output_type": "display_data"
    },
    {
     "data": {
      "text/html": [
       "Syncing run <strong><a href=\"https://wandb.ai/ishadowstormi/Coronary%20angiography%20network/runs/0z634ydk\" target=\"_blank\">silvery-sweep-41</a></strong> to <a href=\"https://wandb.ai/ishadowstormi/Coronary%20angiography%20network\" target=\"_blank\">Weights & Biases</a> (<a href=\"https://wandb.me/run\" target=\"_blank\">docs</a>)<br/>Sweep page:  <a href=\"https://wandb.ai/ishadowstormi/Coronary%20angiography%20network/sweeps/wco4rtlh\" target=\"_blank\">https://wandb.ai/ishadowstormi/Coronary%20angiography%20network/sweeps/wco4rtlh</a>"
      ],
      "text/plain": [
       "<IPython.core.display.HTML object>"
      ]
     },
     "metadata": {},
     "output_type": "display_data"
    },
    {
     "name": "stdout",
     "output_type": "stream",
     "text": [
      "Epoch 1/28\n",
      " 2/73 [..............................] - ETA: 12s - loss: 1.9534 - accuracy: 0.5859WARNING:tensorflow:Callbacks method `on_train_batch_end` is slow compared to the batch time (batch time: 0.1123s vs `on_train_batch_end` time: 0.2304s). Check your callbacks.\n",
      "73/73 [==============================] - 26s 360ms/step - loss: 1.7556 - accuracy: 0.6682 - val_loss: 0.8183 - val_accuracy: 0.4800\n",
      "Epoch 2/28\n",
      "73/73 [==============================] - 25s 343ms/step - loss: 0.5986 - accuracy: 0.7226 - val_loss: 0.6421 - val_accuracy: 0.6500\n",
      "Epoch 3/28\n",
      "73/73 [==============================] - 25s 343ms/step - loss: 0.4984 - accuracy: 0.7517 - val_loss: 0.6590 - val_accuracy: 0.6600\n",
      "Epoch 4/28\n",
      "73/73 [==============================] - 25s 343ms/step - loss: 0.4753 - accuracy: 0.7661 - val_loss: 0.6327 - val_accuracy: 0.6700\n",
      "Epoch 5/28\n",
      "73/73 [==============================] - 25s 343ms/step - loss: 0.4572 - accuracy: 0.7774 - val_loss: 1.2194 - val_accuracy: 0.6200\n",
      "Epoch 6/28\n",
      "73/73 [==============================] - 25s 344ms/step - loss: 0.4472 - accuracy: 0.7819 - val_loss: 0.7865 - val_accuracy: 0.6300\n",
      "Epoch 7/28\n",
      "73/73 [==============================] - 25s 344ms/step - loss: 0.4086 - accuracy: 0.8031 - val_loss: 0.6306 - val_accuracy: 0.6800\n",
      "Epoch 8/28\n",
      "73/73 [==============================] - 25s 343ms/step - loss: 0.4161 - accuracy: 0.7922 - val_loss: 0.9833 - val_accuracy: 0.5600\n",
      "Epoch 9/28\n",
      "73/73 [==============================] - 25s 343ms/step - loss: 0.3890 - accuracy: 0.8102 - val_loss: 2.1760 - val_accuracy: 0.5700\n",
      "Epoch 10/28\n",
      "73/73 [==============================] - 25s 345ms/step - loss: 0.3651 - accuracy: 0.8297 - val_loss: 1.0855 - val_accuracy: 0.5900\n",
      "Epoch 11/28\n",
      "73/73 [==============================] - 25s 345ms/step - loss: 0.3768 - accuracy: 0.8260 - val_loss: 0.6050 - val_accuracy: 0.6900\n",
      "Epoch 12/28\n",
      "73/73 [==============================] - 25s 343ms/step - loss: 0.3292 - accuracy: 0.8520 - val_loss: 1.3640 - val_accuracy: 0.5900\n",
      "Epoch 13/28\n",
      "73/73 [==============================] - 25s 344ms/step - loss: 0.3093 - accuracy: 0.8603 - val_loss: 1.1239 - val_accuracy: 0.6800\n",
      "Epoch 14/28\n",
      "73/73 [==============================] - 25s 343ms/step - loss: 0.2991 - accuracy: 0.8670 - val_loss: 2.4416 - val_accuracy: 0.5500\n",
      "Epoch 15/28\n",
      "73/73 [==============================] - 25s 343ms/step - loss: 0.2599 - accuracy: 0.8918 - val_loss: 0.7357 - val_accuracy: 0.6900\n",
      "Epoch 16/28\n",
      "73/73 [==============================] - 25s 343ms/step - loss: 0.2616 - accuracy: 0.8794 - val_loss: 0.7419 - val_accuracy: 0.7000\n",
      "Epoch 17/28\n",
      "73/73 [==============================] - 25s 343ms/step - loss: 0.2483 - accuracy: 0.8890 - val_loss: 0.8609 - val_accuracy: 0.7200\n",
      "Epoch 18/28\n",
      "73/73 [==============================] - 25s 343ms/step - loss: 0.2577 - accuracy: 0.8850 - val_loss: 1.5612 - val_accuracy: 0.6300\n",
      "Epoch 19/28\n",
      "73/73 [==============================] - 25s 343ms/step - loss: 0.2648 - accuracy: 0.8886 - val_loss: 0.4697 - val_accuracy: 0.7900\n",
      "Epoch 20/28\n",
      "73/73 [==============================] - 25s 345ms/step - loss: 0.2260 - accuracy: 0.9040 - val_loss: 0.8590 - val_accuracy: 0.7800\n",
      "Epoch 21/28\n",
      "73/73 [==============================] - 25s 344ms/step - loss: 0.2255 - accuracy: 0.9081 - val_loss: 1.1357 - val_accuracy: 0.6600\n",
      "Epoch 22/28\n",
      "73/73 [==============================] - 25s 344ms/step - loss: 0.2032 - accuracy: 0.9124 - val_loss: 1.0985 - val_accuracy: 0.7000\n",
      "Epoch 23/28\n",
      "73/73 [==============================] - 25s 344ms/step - loss: 0.2002 - accuracy: 0.9190 - val_loss: 1.9346 - val_accuracy: 0.7100\n",
      "Epoch 24/28\n",
      "73/73 [==============================] - 25s 343ms/step - loss: 0.1823 - accuracy: 0.9205 - val_loss: 0.6999 - val_accuracy: 0.7600\n",
      "Epoch 25/28\n",
      "73/73 [==============================] - 25s 344ms/step - loss: 0.1735 - accuracy: 0.9267 - val_loss: 0.9230 - val_accuracy: 0.8000\n",
      "Epoch 26/28\n",
      "73/73 [==============================] - 25s 343ms/step - loss: 0.1718 - accuracy: 0.9293 - val_loss: 1.9676 - val_accuracy: 0.6800\n",
      "Epoch 27/28\n",
      "73/73 [==============================] - 25s 343ms/step - loss: 0.1884 - accuracy: 0.9257 - val_loss: 0.9154 - val_accuracy: 0.7100\n",
      "Epoch 28/28\n",
      "73/73 [==============================] - 25s 343ms/step - loss: 0.1516 - accuracy: 0.9374 - val_loss: 3.3821 - val_accuracy: 0.5900\n",
      "\n",
      "-----Model evaluation on test data-----\n",
      "38/38 [==============================] - 2s 51ms/step - loss: 5.2299 - accuracy: 0.3384\n",
      "Test Error Rate:  66.16\n",
      "AUC:  0.887\n",
      "\n"
     ]
    },
    {
     "data": {
      "text/html": [
       "Waiting for W&B process to finish... <strong style=\"color:green\">(success).</strong>"
      ],
      "text/plain": [
       "<IPython.core.display.HTML object>"
      ]
     },
     "metadata": {},
     "output_type": "display_data"
    },
    {
     "data": {
      "application/vnd.jupyter.widget-view+json": {
       "model_id": "",
       "version_major": 2,
       "version_minor": 0
      },
      "text/plain": [
       "VBox(children=(Label(value='0.004 MB of 0.004 MB uploaded (0.000 MB deduped)\\r'), FloatProgress(value=1.0, max…"
      ]
     },
     "metadata": {},
     "output_type": "display_data"
    },
    {
     "data": {
      "text/html": [
       "<style>\n",
       "    table.wandb td:nth-child(1) { padding: 0 10px; text-align: right }\n",
       "    .wandb-row { display: flex; flex-direction: row; flex-wrap: wrap; width: 100% }\n",
       "    .wandb-col { display: flex; flex-direction: column; flex-basis: 100%; flex: 1; padding: 10px; }\n",
       "    </style>\n",
       "<div class=\"wandb-row\"><div class=\"wandb-col\"><h3>Run history:</h3><br/><table class=\"wandb\"><tr><td>AUC</td><td>▁</td></tr><tr><td>Test Error Rate</td><td>▁</td></tr><tr><td>accuracy</td><td>▁▂▃▄▄▄▅▄▅▅▅▆▆▆▇▆▇▇▇▇▇▇██████</td></tr><tr><td>epoch</td><td>▁▁▂▂▂▂▃▃▃▃▄▄▄▄▅▅▅▅▆▆▆▆▇▇▇▇██</td></tr><tr><td>loss</td><td>█▃▃▂▂▂▂▂▂▂▂▂▂▂▁▁▁▁▁▁▁▁▁▁▁▁▁▁</td></tr><tr><td>val_accuracy</td><td>▁▅▅▅▄▄▅▃▃▃▆▃▅▃▆▆▆▄██▅▆▆▇█▅▆▃</td></tr><tr><td>val_loss</td><td>▂▁▁▁▃▂▁▂▅▂▁▃▃▆▂▂▂▄▁▂▃▃▅▂▂▅▂█</td></tr></table><br/></div><div class=\"wandb-col\"><h3>Run summary:</h3><br/><table class=\"wandb\"><tr><td>AUC</td><td>0.887</td></tr><tr><td>Test Error Rate</td><td>66.16</td></tr><tr><td>accuracy</td><td>0.93745</td></tr><tr><td>best_epoch</td><td>18</td></tr><tr><td>best_val_loss</td><td>0.46968</td></tr><tr><td>epoch</td><td>27</td></tr><tr><td>loss</td><td>0.15156</td></tr><tr><td>val_accuracy</td><td>0.59</td></tr><tr><td>val_loss</td><td>3.38208</td></tr></table><br/></div></div>"
      ],
      "text/plain": [
       "<IPython.core.display.HTML object>"
      ]
     },
     "metadata": {},
     "output_type": "display_data"
    },
    {
     "data": {
      "text/html": [
       "Synced <strong style=\"color:#cdcd00\">silvery-sweep-41</strong>: <a href=\"https://wandb.ai/ishadowstormi/Coronary%20angiography%20network/runs/0z634ydk\" target=\"_blank\">https://wandb.ai/ishadowstormi/Coronary%20angiography%20network/runs/0z634ydk</a><br/>Synced 5 W&B file(s), 1 media file(s), 0 artifact file(s) and 0 other file(s)"
      ],
      "text/plain": [
       "<IPython.core.display.HTML object>"
      ]
     },
     "metadata": {},
     "output_type": "display_data"
    },
    {
     "data": {
      "text/html": [
       "Find logs at: <code>./wandb/run-20220324_073512-0z634ydk/logs</code>"
      ],
      "text/plain": [
       "<IPython.core.display.HTML object>"
      ]
     },
     "metadata": {},
     "output_type": "display_data"
    },
    {
     "name": "stderr",
     "output_type": "stream",
     "text": [
      "\u001b[34m\u001b[1mwandb\u001b[0m: Agent Starting Run: q6cpz2ch with config:\n",
      "\u001b[34m\u001b[1mwandb\u001b[0m: \tbatch_size: 64\n",
      "\u001b[34m\u001b[1mwandb\u001b[0m: \tconv_layer1: 16\n",
      "\u001b[34m\u001b[1mwandb\u001b[0m: \tconv_layer2: 64\n",
      "\u001b[34m\u001b[1mwandb\u001b[0m: \tconv_layer3: 64\n",
      "\u001b[34m\u001b[1mwandb\u001b[0m: \tconv_layer4: 64\n",
      "\u001b[34m\u001b[1mwandb\u001b[0m: \tdense: 1024\n",
      "Failed to detect the name of this notebook, you can set it manually with the WANDB_NOTEBOOK_NAME environment variable to enable code saving.\n"
     ]
    },
    {
     "data": {
      "text/html": [
       "Tracking run with wandb version 0.12.11"
      ],
      "text/plain": [
       "<IPython.core.display.HTML object>"
      ]
     },
     "metadata": {},
     "output_type": "display_data"
    },
    {
     "data": {
      "text/html": [
       "Run data is saved locally in <code>/home/jovyan/data/lightning/FrantisekUrban/wandb/run-20220324_074729-q6cpz2ch</code>"
      ],
      "text/plain": [
       "<IPython.core.display.HTML object>"
      ]
     },
     "metadata": {},
     "output_type": "display_data"
    },
    {
     "data": {
      "text/html": [
       "Syncing run <strong><a href=\"https://wandb.ai/ishadowstormi/Coronary%20angiography%20network/runs/q6cpz2ch\" target=\"_blank\">fancy-sweep-42</a></strong> to <a href=\"https://wandb.ai/ishadowstormi/Coronary%20angiography%20network\" target=\"_blank\">Weights & Biases</a> (<a href=\"https://wandb.me/run\" target=\"_blank\">docs</a>)<br/>Sweep page:  <a href=\"https://wandb.ai/ishadowstormi/Coronary%20angiography%20network/sweeps/wco4rtlh\" target=\"_blank\">https://wandb.ai/ishadowstormi/Coronary%20angiography%20network/sweeps/wco4rtlh</a>"
      ],
      "text/plain": [
       "<IPython.core.display.HTML object>"
      ]
     },
     "metadata": {},
     "output_type": "display_data"
    },
    {
     "name": "stdout",
     "output_type": "stream",
     "text": [
      "Epoch 1/28\n",
      " 2/73 [..............................] - ETA: 12s - loss: 14.0094 - accuracy: 0.5078WARNING:tensorflow:Callbacks method `on_train_batch_end` is slow compared to the batch time (batch time: 0.1229s vs `on_train_batch_end` time: 0.2301s). Check your callbacks.\n",
      "73/73 [==============================] - 25s 349ms/step - loss: 2.3060 - accuracy: 0.6575 - val_loss: 0.8561 - val_accuracy: 0.5000\n",
      "Epoch 2/28\n",
      "73/73 [==============================] - 25s 345ms/step - loss: 0.6536 - accuracy: 0.7132 - val_loss: 0.7524 - val_accuracy: 0.5300\n",
      "Epoch 3/28\n",
      "73/73 [==============================] - 25s 345ms/step - loss: 0.5195 - accuracy: 0.7466 - val_loss: 3.1397 - val_accuracy: 0.4200\n",
      "Epoch 4/28\n",
      "73/73 [==============================] - 25s 344ms/step - loss: 0.4738 - accuracy: 0.7770 - val_loss: 1.4184 - val_accuracy: 0.5600\n",
      "Epoch 5/28\n",
      "73/73 [==============================] - 25s 345ms/step - loss: 0.4424 - accuracy: 0.7946 - val_loss: 0.8852 - val_accuracy: 0.6300\n",
      "Epoch 6/28\n",
      "73/73 [==============================] - 25s 345ms/step - loss: 0.3794 - accuracy: 0.8226 - val_loss: 1.7104 - val_accuracy: 0.5300\n",
      "Epoch 7/28\n",
      "73/73 [==============================] - 25s 344ms/step - loss: 0.3571 - accuracy: 0.8338 - val_loss: 0.6467 - val_accuracy: 0.7200\n",
      "Epoch 8/28\n",
      "73/73 [==============================] - 25s 345ms/step - loss: 0.3317 - accuracy: 0.8498 - val_loss: 0.9858 - val_accuracy: 0.6700\n",
      "Epoch 9/28\n",
      "73/73 [==============================] - 25s 344ms/step - loss: 0.3139 - accuracy: 0.8578 - val_loss: 0.9108 - val_accuracy: 0.6800\n",
      "Epoch 10/28\n",
      "73/73 [==============================] - 25s 344ms/step - loss: 0.3016 - accuracy: 0.8605 - val_loss: 0.9805 - val_accuracy: 0.7000\n",
      "Epoch 11/28\n",
      "73/73 [==============================] - 25s 345ms/step - loss: 0.3118 - accuracy: 0.8588 - val_loss: 0.7758 - val_accuracy: 0.6700\n",
      "Epoch 12/28\n",
      "73/73 [==============================] - 25s 344ms/step - loss: 0.2742 - accuracy: 0.8781 - val_loss: 1.4048 - val_accuracy: 0.6500\n",
      "Epoch 13/28\n",
      "73/73 [==============================] - 25s 344ms/step - loss: 0.2683 - accuracy: 0.8809 - val_loss: 0.5255 - val_accuracy: 0.7300\n",
      "Epoch 14/28\n",
      "73/73 [==============================] - 25s 345ms/step - loss: 0.2554 - accuracy: 0.8856 - val_loss: 0.9342 - val_accuracy: 0.7700\n",
      "Epoch 15/28\n",
      "73/73 [==============================] - 25s 344ms/step - loss: 0.2302 - accuracy: 0.8987 - val_loss: 0.5553 - val_accuracy: 0.8100\n",
      "Epoch 16/28\n",
      "73/73 [==============================] - 25s 344ms/step - loss: 0.2353 - accuracy: 0.8952 - val_loss: 0.8638 - val_accuracy: 0.7800\n",
      "Epoch 17/28\n",
      "73/73 [==============================] - 25s 344ms/step - loss: 0.2106 - accuracy: 0.9023 - val_loss: 1.8264 - val_accuracy: 0.6700\n",
      "Epoch 18/28\n",
      "73/73 [==============================] - 25s 343ms/step - loss: 0.2279 - accuracy: 0.9057 - val_loss: 1.5095 - val_accuracy: 0.7300\n",
      "Epoch 19/28\n",
      "73/73 [==============================] - 25s 346ms/step - loss: 0.2092 - accuracy: 0.9143 - val_loss: 0.5459 - val_accuracy: 0.7600\n",
      "Epoch 20/28\n",
      "73/73 [==============================] - 25s 344ms/step - loss: 0.1923 - accuracy: 0.9150 - val_loss: 0.6034 - val_accuracy: 0.8400\n",
      "Epoch 21/28\n",
      "73/73 [==============================] - 25s 344ms/step - loss: 0.1827 - accuracy: 0.9227 - val_loss: 0.6337 - val_accuracy: 0.7900\n",
      "Epoch 22/28\n",
      "73/73 [==============================] - 25s 344ms/step - loss: 0.1748 - accuracy: 0.9269 - val_loss: 0.7374 - val_accuracy: 0.7800\n",
      "Epoch 23/28\n",
      "73/73 [==============================] - 25s 344ms/step - loss: 0.1643 - accuracy: 0.9321 - val_loss: 2.4585 - val_accuracy: 0.6400\n",
      "Epoch 24/28\n",
      "73/73 [==============================] - 25s 343ms/step - loss: 0.1584 - accuracy: 0.9321 - val_loss: 1.1065 - val_accuracy: 0.7400\n",
      "Epoch 25/28\n",
      "73/73 [==============================] - 25s 344ms/step - loss: 0.1580 - accuracy: 0.9327 - val_loss: 0.7302 - val_accuracy: 0.8300\n",
      "Epoch 26/28\n",
      "73/73 [==============================] - 25s 344ms/step - loss: 0.1624 - accuracy: 0.9370 - val_loss: 0.6555 - val_accuracy: 0.7800\n",
      "Epoch 27/28\n",
      "73/73 [==============================] - 25s 344ms/step - loss: 0.1345 - accuracy: 0.9460 - val_loss: 0.5277 - val_accuracy: 0.8300\n",
      "Epoch 28/28\n",
      "73/73 [==============================] - 25s 344ms/step - loss: 0.1363 - accuracy: 0.9454 - val_loss: 0.5294 - val_accuracy: 0.8400\n",
      "\n",
      "-----Model evaluation on test data-----\n",
      "38/38 [==============================] - 2s 50ms/step - loss: 0.5235 - accuracy: 0.8279\n",
      "Test Error Rate:  17.21\n",
      "AUC:  0.9127\n",
      "\n"
     ]
    },
    {
     "data": {
      "text/html": [
       "Waiting for W&B process to finish... <strong style=\"color:green\">(success).</strong>"
      ],
      "text/plain": [
       "<IPython.core.display.HTML object>"
      ]
     },
     "metadata": {},
     "output_type": "display_data"
    },
    {
     "data": {
      "application/vnd.jupyter.widget-view+json": {
       "model_id": "",
       "version_major": 2,
       "version_minor": 0
      },
      "text/plain": [
       "VBox(children=(Label(value='0.004 MB of 0.004 MB uploaded (0.000 MB deduped)\\r'), FloatProgress(value=1.0, max…"
      ]
     },
     "metadata": {},
     "output_type": "display_data"
    },
    {
     "data": {
      "text/html": [
       "<style>\n",
       "    table.wandb td:nth-child(1) { padding: 0 10px; text-align: right }\n",
       "    .wandb-row { display: flex; flex-direction: row; flex-wrap: wrap; width: 100% }\n",
       "    .wandb-col { display: flex; flex-direction: column; flex-basis: 100%; flex: 1; padding: 10px; }\n",
       "    </style>\n",
       "<div class=\"wandb-row\"><div class=\"wandb-col\"><h3>Run history:</h3><br/><table class=\"wandb\"><tr><td>AUC</td><td>▁</td></tr><tr><td>Test Error Rate</td><td>▁</td></tr><tr><td>accuracy</td><td>▁▂▃▄▄▅▅▆▆▆▆▆▆▇▇▇▇▇▇▇▇███████</td></tr><tr><td>epoch</td><td>▁▁▂▂▂▂▃▃▃▃▄▄▄▄▅▅▅▅▆▆▆▆▇▇▇▇██</td></tr><tr><td>loss</td><td>█▃▂▂▂▂▂▂▂▂▂▁▁▁▁▁▁▁▁▁▁▁▁▁▁▁▁▁</td></tr><tr><td>val_accuracy</td><td>▂▃▁▃▅▃▆▅▅▆▅▅▆▇█▇▅▆▇█▇▇▅▆█▇██</td></tr><tr><td>val_loss</td><td>▂▂█▃▂▄▁▂▂▂▂▃▁▂▁▂▄▄▁▁▁▂▆▃▂▁▁▁</td></tr></table><br/></div><div class=\"wandb-col\"><h3>Run summary:</h3><br/><table class=\"wandb\"><tr><td>AUC</td><td>0.9127</td></tr><tr><td>Test Error Rate</td><td>17.21</td></tr><tr><td>accuracy</td><td>0.94537</td></tr><tr><td>best_epoch</td><td>12</td></tr><tr><td>best_val_loss</td><td>0.52551</td></tr><tr><td>epoch</td><td>27</td></tr><tr><td>loss</td><td>0.13632</td></tr><tr><td>val_accuracy</td><td>0.84</td></tr><tr><td>val_loss</td><td>0.52944</td></tr></table><br/></div></div>"
      ],
      "text/plain": [
       "<IPython.core.display.HTML object>"
      ]
     },
     "metadata": {},
     "output_type": "display_data"
    },
    {
     "data": {
      "text/html": [
       "Synced <strong style=\"color:#cdcd00\">fancy-sweep-42</strong>: <a href=\"https://wandb.ai/ishadowstormi/Coronary%20angiography%20network/runs/q6cpz2ch\" target=\"_blank\">https://wandb.ai/ishadowstormi/Coronary%20angiography%20network/runs/q6cpz2ch</a><br/>Synced 5 W&B file(s), 1 media file(s), 0 artifact file(s) and 0 other file(s)"
      ],
      "text/plain": [
       "<IPython.core.display.HTML object>"
      ]
     },
     "metadata": {},
     "output_type": "display_data"
    },
    {
     "data": {
      "text/html": [
       "Find logs at: <code>./wandb/run-20220324_074729-q6cpz2ch/logs</code>"
      ],
      "text/plain": [
       "<IPython.core.display.HTML object>"
      ]
     },
     "metadata": {},
     "output_type": "display_data"
    },
    {
     "name": "stderr",
     "output_type": "stream",
     "text": [
      "\u001b[34m\u001b[1mwandb\u001b[0m: Agent Starting Run: updmhoa3 with config:\n",
      "\u001b[34m\u001b[1mwandb\u001b[0m: \tbatch_size: 64\n",
      "\u001b[34m\u001b[1mwandb\u001b[0m: \tconv_layer1: 16\n",
      "\u001b[34m\u001b[1mwandb\u001b[0m: \tconv_layer2: 64\n",
      "\u001b[34m\u001b[1mwandb\u001b[0m: \tconv_layer3: 64\n",
      "\u001b[34m\u001b[1mwandb\u001b[0m: \tconv_layer4: 128\n",
      "\u001b[34m\u001b[1mwandb\u001b[0m: \tdense: 512\n",
      "Failed to detect the name of this notebook, you can set it manually with the WANDB_NOTEBOOK_NAME environment variable to enable code saving.\n"
     ]
    },
    {
     "data": {
      "text/html": [
       "Tracking run with wandb version 0.12.11"
      ],
      "text/plain": [
       "<IPython.core.display.HTML object>"
      ]
     },
     "metadata": {},
     "output_type": "display_data"
    },
    {
     "data": {
      "text/html": [
       "Run data is saved locally in <code>/home/jovyan/data/lightning/FrantisekUrban/wandb/run-20220324_075943-updmhoa3</code>"
      ],
      "text/plain": [
       "<IPython.core.display.HTML object>"
      ]
     },
     "metadata": {},
     "output_type": "display_data"
    },
    {
     "data": {
      "text/html": [
       "Syncing run <strong><a href=\"https://wandb.ai/ishadowstormi/Coronary%20angiography%20network/runs/updmhoa3\" target=\"_blank\">dulcet-sweep-43</a></strong> to <a href=\"https://wandb.ai/ishadowstormi/Coronary%20angiography%20network\" target=\"_blank\">Weights & Biases</a> (<a href=\"https://wandb.me/run\" target=\"_blank\">docs</a>)<br/>Sweep page:  <a href=\"https://wandb.ai/ishadowstormi/Coronary%20angiography%20network/sweeps/wco4rtlh\" target=\"_blank\">https://wandb.ai/ishadowstormi/Coronary%20angiography%20network/sweeps/wco4rtlh</a>"
      ],
      "text/plain": [
       "<IPython.core.display.HTML object>"
      ]
     },
     "metadata": {},
     "output_type": "display_data"
    },
    {
     "name": "stdout",
     "output_type": "stream",
     "text": [
      "Epoch 1/28\n",
      " 2/73 [..............................] - ETA: 12s - loss: 20.7814 - accuracy: 0.6016WARNING:tensorflow:Callbacks method `on_train_batch_end` is slow compared to the batch time (batch time: 0.1279s vs `on_train_batch_end` time: 0.2343s). Check your callbacks.\n",
      "73/73 [==============================] - 27s 365ms/step - loss: 2.3201 - accuracy: 0.6669 - val_loss: 3.6759 - val_accuracy: 0.5300\n",
      "Epoch 2/28\n",
      "73/73 [==============================] - 26s 355ms/step - loss: 0.5394 - accuracy: 0.7363 - val_loss: 6.0437 - val_accuracy: 0.4200\n",
      "Epoch 3/28\n",
      "73/73 [==============================] - 26s 355ms/step - loss: 0.5118 - accuracy: 0.7506 - val_loss: 1.5124 - val_accuracy: 0.5600\n",
      "Epoch 4/28\n",
      "73/73 [==============================] - 26s 354ms/step - loss: 0.4934 - accuracy: 0.7618 - val_loss: 0.6222 - val_accuracy: 0.6500\n",
      "Epoch 5/28\n",
      "73/73 [==============================] - 26s 354ms/step - loss: 0.4801 - accuracy: 0.7669 - val_loss: 0.6049 - val_accuracy: 0.6700\n",
      "Epoch 6/28\n",
      "73/73 [==============================] - 26s 354ms/step - loss: 0.4473 - accuracy: 0.7907 - val_loss: 0.5962 - val_accuracy: 0.6900\n",
      "Epoch 7/28\n",
      "73/73 [==============================] - 26s 355ms/step - loss: 0.4316 - accuracy: 0.7967 - val_loss: 0.6860 - val_accuracy: 0.6700\n",
      "Epoch 8/28\n",
      "73/73 [==============================] - 26s 355ms/step - loss: 0.4173 - accuracy: 0.8063 - val_loss: 1.2133 - val_accuracy: 0.5800\n",
      "Epoch 9/28\n",
      "73/73 [==============================] - 26s 355ms/step - loss: 0.3921 - accuracy: 0.8132 - val_loss: 0.7193 - val_accuracy: 0.6600\n",
      "Epoch 10/28\n",
      "73/73 [==============================] - 26s 354ms/step - loss: 0.3611 - accuracy: 0.8359 - val_loss: 0.5518 - val_accuracy: 0.7000\n",
      "Epoch 11/28\n",
      "73/73 [==============================] - 26s 355ms/step - loss: 0.3573 - accuracy: 0.8372 - val_loss: 0.5861 - val_accuracy: 0.7100\n",
      "Epoch 12/28\n",
      "73/73 [==============================] - 26s 356ms/step - loss: 0.3153 - accuracy: 0.8578 - val_loss: 1.0494 - val_accuracy: 0.6200\n",
      "Epoch 13/28\n",
      "73/73 [==============================] - 26s 354ms/step - loss: 0.3690 - accuracy: 0.8436 - val_loss: 0.9631 - val_accuracy: 0.6800\n",
      "Epoch 14/28\n",
      "73/73 [==============================] - 26s 354ms/step - loss: 0.3242 - accuracy: 0.8533 - val_loss: 0.8561 - val_accuracy: 0.7100\n",
      "Epoch 15/28\n",
      "73/73 [==============================] - 26s 355ms/step - loss: 0.2913 - accuracy: 0.8693 - val_loss: 1.1404 - val_accuracy: 0.6700\n",
      "Epoch 16/28\n",
      "73/73 [==============================] - 26s 355ms/step - loss: 0.2832 - accuracy: 0.8817 - val_loss: 6.1077 - val_accuracy: 0.5200\n",
      "Epoch 17/28\n",
      "73/73 [==============================] - 26s 355ms/step - loss: 0.2551 - accuracy: 0.8884 - val_loss: 6.3071 - val_accuracy: 0.5000\n",
      "Epoch 18/28\n",
      "73/73 [==============================] - 26s 354ms/step - loss: 0.2394 - accuracy: 0.9019 - val_loss: 0.5151 - val_accuracy: 0.7800\n",
      "Epoch 19/28\n",
      "73/73 [==============================] - 26s 355ms/step - loss: 0.2304 - accuracy: 0.9064 - val_loss: 0.8797 - val_accuracy: 0.7000\n",
      "Epoch 20/28\n",
      "73/73 [==============================] - 26s 355ms/step - loss: 0.2218 - accuracy: 0.9072 - val_loss: 6.7057 - val_accuracy: 0.5900\n",
      "Epoch 21/28\n",
      "73/73 [==============================] - 26s 355ms/step - loss: 0.2326 - accuracy: 0.8974 - val_loss: 0.5442 - val_accuracy: 0.7900\n",
      "Epoch 22/28\n",
      "73/73 [==============================] - 26s 355ms/step - loss: 0.2053 - accuracy: 0.9177 - val_loss: 0.7253 - val_accuracy: 0.8100\n",
      "Epoch 23/28\n",
      "73/73 [==============================] - 26s 354ms/step - loss: 0.2029 - accuracy: 0.9160 - val_loss: 1.0154 - val_accuracy: 0.7500\n",
      "Epoch 24/28\n",
      "73/73 [==============================] - 26s 355ms/step - loss: 0.1950 - accuracy: 0.9156 - val_loss: 0.5924 - val_accuracy: 0.8000\n",
      "Epoch 25/28\n",
      "73/73 [==============================] - 26s 355ms/step - loss: 0.1695 - accuracy: 0.9261 - val_loss: 0.5922 - val_accuracy: 0.7800\n",
      "Epoch 26/28\n",
      "73/73 [==============================] - 26s 354ms/step - loss: 0.1725 - accuracy: 0.9263 - val_loss: 5.3205 - val_accuracy: 0.6200\n",
      "Epoch 27/28\n",
      "73/73 [==============================] - 26s 354ms/step - loss: 0.1820 - accuracy: 0.9214 - val_loss: 1.2162 - val_accuracy: 0.5600\n",
      "Epoch 28/28\n",
      "73/73 [==============================] - 26s 356ms/step - loss: 0.1695 - accuracy: 0.9321 - val_loss: 1.1347 - val_accuracy: 0.7600\n",
      "\n",
      "-----Model evaluation on test data-----\n",
      "38/38 [==============================] - 2s 51ms/step - loss: 0.2793 - accuracy: 0.9370\n",
      "Test Error Rate:  6.3\n",
      "AUC:  0.8832\n",
      "\n"
     ]
    },
    {
     "data": {
      "text/html": [
       "Waiting for W&B process to finish... <strong style=\"color:green\">(success).</strong>"
      ],
      "text/plain": [
       "<IPython.core.display.HTML object>"
      ]
     },
     "metadata": {},
     "output_type": "display_data"
    },
    {
     "data": {
      "application/vnd.jupyter.widget-view+json": {
       "model_id": "",
       "version_major": 2,
       "version_minor": 0
      },
      "text/plain": [
       "VBox(children=(Label(value='0.004 MB of 0.004 MB uploaded (0.000 MB deduped)\\r'), FloatProgress(value=1.0, max…"
      ]
     },
     "metadata": {},
     "output_type": "display_data"
    },
    {
     "data": {
      "text/html": [
       "<style>\n",
       "    table.wandb td:nth-child(1) { padding: 0 10px; text-align: right }\n",
       "    .wandb-row { display: flex; flex-direction: row; flex-wrap: wrap; width: 100% }\n",
       "    .wandb-col { display: flex; flex-direction: column; flex-basis: 100%; flex: 1; padding: 10px; }\n",
       "    </style>\n",
       "<div class=\"wandb-row\"><div class=\"wandb-col\"><h3>Run history:</h3><br/><table class=\"wandb\"><tr><td>AUC</td><td>▁</td></tr><tr><td>Test Error Rate</td><td>▁</td></tr><tr><td>accuracy</td><td>▁▃▃▄▄▄▄▅▅▅▅▆▆▆▆▇▇▇▇▇▇███████</td></tr><tr><td>epoch</td><td>▁▁▂▂▂▂▃▃▃▃▄▄▄▄▅▅▅▅▆▆▆▆▇▇▇▇██</td></tr><tr><td>loss</td><td>█▂▂▂▂▂▂▂▂▂▂▁▂▂▁▁▁▁▁▁▁▁▁▁▁▁▁▁</td></tr><tr><td>val_accuracy</td><td>▃▁▄▅▅▆▅▄▅▆▆▅▆▆▅▃▂▇▆▄██▇█▇▅▄▇</td></tr><tr><td>val_loss</td><td>▅▇▂▁▁▁▁▂▁▁▁▂▂▁▂▇█▁▁█▁▁▂▁▁▆▂▂</td></tr></table><br/></div><div class=\"wandb-col\"><h3>Run summary:</h3><br/><table class=\"wandb\"><tr><td>AUC</td><td>0.8832</td></tr><tr><td>Test Error Rate</td><td>6.3</td></tr><tr><td>accuracy</td><td>0.93209</td></tr><tr><td>best_epoch</td><td>17</td></tr><tr><td>best_val_loss</td><td>0.51514</td></tr><tr><td>epoch</td><td>27</td></tr><tr><td>loss</td><td>0.16948</td></tr><tr><td>val_accuracy</td><td>0.76</td></tr><tr><td>val_loss</td><td>1.13474</td></tr></table><br/></div></div>"
      ],
      "text/plain": [
       "<IPython.core.display.HTML object>"
      ]
     },
     "metadata": {},
     "output_type": "display_data"
    },
    {
     "data": {
      "text/html": [
       "Synced <strong style=\"color:#cdcd00\">dulcet-sweep-43</strong>: <a href=\"https://wandb.ai/ishadowstormi/Coronary%20angiography%20network/runs/updmhoa3\" target=\"_blank\">https://wandb.ai/ishadowstormi/Coronary%20angiography%20network/runs/updmhoa3</a><br/>Synced 5 W&B file(s), 1 media file(s), 0 artifact file(s) and 0 other file(s)"
      ],
      "text/plain": [
       "<IPython.core.display.HTML object>"
      ]
     },
     "metadata": {},
     "output_type": "display_data"
    },
    {
     "data": {
      "text/html": [
       "Find logs at: <code>./wandb/run-20220324_075943-updmhoa3/logs</code>"
      ],
      "text/plain": [
       "<IPython.core.display.HTML object>"
      ]
     },
     "metadata": {},
     "output_type": "display_data"
    },
    {
     "name": "stderr",
     "output_type": "stream",
     "text": [
      "\u001b[34m\u001b[1mwandb\u001b[0m: Agent Starting Run: 89y7b25j with config:\n",
      "\u001b[34m\u001b[1mwandb\u001b[0m: \tbatch_size: 64\n",
      "\u001b[34m\u001b[1mwandb\u001b[0m: \tconv_layer1: 16\n",
      "\u001b[34m\u001b[1mwandb\u001b[0m: \tconv_layer2: 64\n",
      "\u001b[34m\u001b[1mwandb\u001b[0m: \tconv_layer3: 64\n",
      "\u001b[34m\u001b[1mwandb\u001b[0m: \tconv_layer4: 128\n",
      "\u001b[34m\u001b[1mwandb\u001b[0m: \tdense: 1024\n",
      "Failed to detect the name of this notebook, you can set it manually with the WANDB_NOTEBOOK_NAME environment variable to enable code saving.\n"
     ]
    },
    {
     "data": {
      "text/html": [
       "Tracking run with wandb version 0.12.11"
      ],
      "text/plain": [
       "<IPython.core.display.HTML object>"
      ]
     },
     "metadata": {},
     "output_type": "display_data"
    },
    {
     "data": {
      "text/html": [
       "Run data is saved locally in <code>/home/jovyan/data/lightning/FrantisekUrban/wandb/run-20220324_081218-89y7b25j</code>"
      ],
      "text/plain": [
       "<IPython.core.display.HTML object>"
      ]
     },
     "metadata": {},
     "output_type": "display_data"
    },
    {
     "data": {
      "text/html": [
       "Syncing run <strong><a href=\"https://wandb.ai/ishadowstormi/Coronary%20angiography%20network/runs/89y7b25j\" target=\"_blank\">clear-sweep-44</a></strong> to <a href=\"https://wandb.ai/ishadowstormi/Coronary%20angiography%20network\" target=\"_blank\">Weights & Biases</a> (<a href=\"https://wandb.me/run\" target=\"_blank\">docs</a>)<br/>Sweep page:  <a href=\"https://wandb.ai/ishadowstormi/Coronary%20angiography%20network/sweeps/wco4rtlh\" target=\"_blank\">https://wandb.ai/ishadowstormi/Coronary%20angiography%20network/sweeps/wco4rtlh</a>"
      ],
      "text/plain": [
       "<IPython.core.display.HTML object>"
      ]
     },
     "metadata": {},
     "output_type": "display_data"
    },
    {
     "name": "stdout",
     "output_type": "stream",
     "text": [
      "Epoch 1/28\n",
      " 2/73 [..............................] - ETA: 12s - loss: 20.4920 - accuracy: 0.5000WARNING:tensorflow:Callbacks method `on_train_batch_end` is slow compared to the batch time (batch time: 0.1222s vs `on_train_batch_end` time: 0.2373s). Check your callbacks.\n",
      "73/73 [==============================] - 26s 359ms/step - loss: 3.8048 - accuracy: 0.6718 - val_loss: 0.6387 - val_accuracy: 0.6700\n",
      "Epoch 2/28\n",
      "73/73 [==============================] - 26s 356ms/step - loss: 0.5900 - accuracy: 0.7288 - val_loss: 0.8869 - val_accuracy: 0.6400\n",
      "Epoch 3/28\n",
      "73/73 [==============================] - 26s 357ms/step - loss: 0.4913 - accuracy: 0.7622 - val_loss: 0.9466 - val_accuracy: 0.6200\n",
      "Epoch 4/28\n",
      "73/73 [==============================] - 26s 357ms/step - loss: 0.4526 - accuracy: 0.7819 - val_loss: 0.9005 - val_accuracy: 0.6200\n",
      "Epoch 5/28\n",
      "73/73 [==============================] - 26s 359ms/step - loss: 0.4321 - accuracy: 0.7982 - val_loss: 3.7418 - val_accuracy: 0.5200\n",
      "Epoch 6/28\n",
      "73/73 [==============================] - 26s 360ms/step - loss: 0.3869 - accuracy: 0.8164 - val_loss: 1.0801 - val_accuracy: 0.6900\n",
      "Epoch 7/28\n",
      "73/73 [==============================] - 26s 363ms/step - loss: 0.3660 - accuracy: 0.8353 - val_loss: 0.9457 - val_accuracy: 0.6700\n",
      "Epoch 8/28\n",
      "73/73 [==============================] - 26s 358ms/step - loss: 0.3380 - accuracy: 0.8468 - val_loss: 0.6520 - val_accuracy: 0.7000\n",
      "Epoch 9/28\n",
      "73/73 [==============================] - 26s 359ms/step - loss: 0.3258 - accuracy: 0.8539 - val_loss: 0.6086 - val_accuracy: 0.7500\n",
      "Epoch 10/28\n",
      "73/73 [==============================] - 26s 357ms/step - loss: 0.3038 - accuracy: 0.8635 - val_loss: 0.8972 - val_accuracy: 0.6800\n",
      "Epoch 11/28\n",
      "73/73 [==============================] - 26s 358ms/step - loss: 0.3005 - accuracy: 0.8638 - val_loss: 0.5125 - val_accuracy: 0.8200\n",
      "Epoch 12/28\n",
      "73/73 [==============================] - 26s 357ms/step - loss: 0.2791 - accuracy: 0.8787 - val_loss: 2.4420 - val_accuracy: 0.5400\n",
      "Epoch 13/28\n",
      "73/73 [==============================] - 26s 359ms/step - loss: 0.2743 - accuracy: 0.8805 - val_loss: 0.6684 - val_accuracy: 0.8000\n",
      "Epoch 14/28\n",
      "73/73 [==============================] - 26s 357ms/step - loss: 0.2542 - accuracy: 0.8890 - val_loss: 0.7675 - val_accuracy: 0.7100\n",
      "Epoch 15/28\n",
      "73/73 [==============================] - 26s 358ms/step - loss: 0.2392 - accuracy: 0.8987 - val_loss: 0.5302 - val_accuracy: 0.7600\n",
      "Epoch 16/28\n",
      "73/73 [==============================] - 26s 357ms/step - loss: 0.2217 - accuracy: 0.9060 - val_loss: 6.1116 - val_accuracy: 0.5500\n",
      "Epoch 17/28\n",
      "73/73 [==============================] - 26s 358ms/step - loss: 0.2309 - accuracy: 0.9057 - val_loss: 0.5924 - val_accuracy: 0.8100\n",
      "Epoch 18/28\n",
      "73/73 [==============================] - 26s 357ms/step - loss: 0.2186 - accuracy: 0.9019 - val_loss: 4.4914 - val_accuracy: 0.5900\n",
      "Epoch 19/28\n",
      "73/73 [==============================] - 26s 357ms/step - loss: 0.1895 - accuracy: 0.9222 - val_loss: 0.8138 - val_accuracy: 0.7700\n",
      "Epoch 20/28\n",
      "73/73 [==============================] - 26s 358ms/step - loss: 0.1779 - accuracy: 0.9237 - val_loss: 0.6843 - val_accuracy: 0.7700\n",
      "Epoch 21/28\n",
      "73/73 [==============================] - 26s 357ms/step - loss: 0.1877 - accuracy: 0.9250 - val_loss: 1.0119 - val_accuracy: 0.7800\n",
      "Epoch 22/28\n",
      "73/73 [==============================] - 26s 358ms/step - loss: 0.1866 - accuracy: 0.9246 - val_loss: 1.1824 - val_accuracy: 0.7400\n",
      "Epoch 23/28\n",
      "73/73 [==============================] - 26s 357ms/step - loss: 0.1553 - accuracy: 0.9366 - val_loss: 0.7430 - val_accuracy: 0.8100\n",
      "Epoch 24/28\n",
      "73/73 [==============================] - 26s 357ms/step - loss: 0.1574 - accuracy: 0.9347 - val_loss: 0.8497 - val_accuracy: 0.7400\n",
      "Epoch 25/28\n",
      "73/73 [==============================] - 26s 357ms/step - loss: 0.1594 - accuracy: 0.9392 - val_loss: 1.2275 - val_accuracy: 0.6900\n",
      "Epoch 26/28\n",
      "73/73 [==============================] - 26s 357ms/step - loss: 0.1353 - accuracy: 0.9445 - val_loss: 0.7323 - val_accuracy: 0.8600\n",
      "Epoch 27/28\n",
      "73/73 [==============================] - 26s 357ms/step - loss: 0.1232 - accuracy: 0.9492 - val_loss: 1.0455 - val_accuracy: 0.7700\n",
      "Epoch 28/28\n",
      "73/73 [==============================] - 26s 357ms/step - loss: 0.1407 - accuracy: 0.9430 - val_loss: 0.9234 - val_accuracy: 0.7700\n",
      "\n",
      "-----Model evaluation on test data-----\n",
      "38/38 [==============================] - 2s 49ms/step - loss: 0.3501 - accuracy: 0.8917\n",
      "Test Error Rate:  10.83\n",
      "AUC:  0.8496\n",
      "\n"
     ]
    },
    {
     "data": {
      "text/html": [
       "Waiting for W&B process to finish... <strong style=\"color:green\">(success).</strong>"
      ],
      "text/plain": [
       "<IPython.core.display.HTML object>"
      ]
     },
     "metadata": {},
     "output_type": "display_data"
    },
    {
     "data": {
      "application/vnd.jupyter.widget-view+json": {
       "model_id": "",
       "version_major": 2,
       "version_minor": 0
      },
      "text/plain": [
       "VBox(children=(Label(value='0.004 MB of 0.004 MB uploaded (0.000 MB deduped)\\r'), FloatProgress(value=1.0, max…"
      ]
     },
     "metadata": {},
     "output_type": "display_data"
    },
    {
     "data": {
      "text/html": [
       "<style>\n",
       "    table.wandb td:nth-child(1) { padding: 0 10px; text-align: right }\n",
       "    .wandb-row { display: flex; flex-direction: row; flex-wrap: wrap; width: 100% }\n",
       "    .wandb-col { display: flex; flex-direction: column; flex-basis: 100%; flex: 1; padding: 10px; }\n",
       "    </style>\n",
       "<div class=\"wandb-row\"><div class=\"wandb-col\"><h3>Run history:</h3><br/><table class=\"wandb\"><tr><td>AUC</td><td>▁</td></tr><tr><td>Test Error Rate</td><td>▁</td></tr><tr><td>accuracy</td><td>▁▂▃▄▄▅▅▅▆▆▆▆▆▆▇▇▇▇▇▇▇▇██████</td></tr><tr><td>epoch</td><td>▁▁▂▂▂▂▃▃▃▃▄▄▄▄▅▅▅▅▆▆▆▆▇▇▇▇██</td></tr><tr><td>loss</td><td>█▂▂▂▂▂▁▁▁▁▁▁▁▁▁▁▁▁▁▁▁▁▁▁▁▁▁▁</td></tr><tr><td>val_accuracy</td><td>▄▃▃▃▁▅▄▅▆▄▇▁▇▅▆▂▇▂▆▆▆▆▇▆▅█▆▆</td></tr><tr><td>val_loss</td><td>▁▁▂▁▅▂▂▁▁▁▁▃▁▁▁█▁▆▁▁▂▂▁▁▂▁▂▂</td></tr></table><br/></div><div class=\"wandb-col\"><h3>Run summary:</h3><br/><table class=\"wandb\"><tr><td>AUC</td><td>0.8496</td></tr><tr><td>Test Error Rate</td><td>10.83</td></tr><tr><td>accuracy</td><td>0.94302</td></tr><tr><td>best_epoch</td><td>10</td></tr><tr><td>best_val_loss</td><td>0.51253</td></tr><tr><td>epoch</td><td>27</td></tr><tr><td>loss</td><td>0.14069</td></tr><tr><td>val_accuracy</td><td>0.77</td></tr><tr><td>val_loss</td><td>0.92343</td></tr></table><br/></div></div>"
      ],
      "text/plain": [
       "<IPython.core.display.HTML object>"
      ]
     },
     "metadata": {},
     "output_type": "display_data"
    },
    {
     "data": {
      "text/html": [
       "Synced <strong style=\"color:#cdcd00\">clear-sweep-44</strong>: <a href=\"https://wandb.ai/ishadowstormi/Coronary%20angiography%20network/runs/89y7b25j\" target=\"_blank\">https://wandb.ai/ishadowstormi/Coronary%20angiography%20network/runs/89y7b25j</a><br/>Synced 5 W&B file(s), 1 media file(s), 0 artifact file(s) and 0 other file(s)"
      ],
      "text/plain": [
       "<IPython.core.display.HTML object>"
      ]
     },
     "metadata": {},
     "output_type": "display_data"
    },
    {
     "data": {
      "text/html": [
       "Find logs at: <code>./wandb/run-20220324_081218-89y7b25j/logs</code>"
      ],
      "text/plain": [
       "<IPython.core.display.HTML object>"
      ]
     },
     "metadata": {},
     "output_type": "display_data"
    },
    {
     "name": "stderr",
     "output_type": "stream",
     "text": [
      "\u001b[34m\u001b[1mwandb\u001b[0m: Agent Starting Run: 67w5ul34 with config:\n",
      "\u001b[34m\u001b[1mwandb\u001b[0m: \tbatch_size: 64\n",
      "\u001b[34m\u001b[1mwandb\u001b[0m: \tconv_layer1: 16\n",
      "\u001b[34m\u001b[1mwandb\u001b[0m: \tconv_layer2: 64\n",
      "\u001b[34m\u001b[1mwandb\u001b[0m: \tconv_layer3: 128\n",
      "\u001b[34m\u001b[1mwandb\u001b[0m: \tconv_layer4: 64\n",
      "\u001b[34m\u001b[1mwandb\u001b[0m: \tdense: 512\n",
      "Failed to detect the name of this notebook, you can set it manually with the WANDB_NOTEBOOK_NAME environment variable to enable code saving.\n"
     ]
    },
    {
     "data": {
      "text/html": [
       "Tracking run with wandb version 0.12.11"
      ],
      "text/plain": [
       "<IPython.core.display.HTML object>"
      ]
     },
     "metadata": {},
     "output_type": "display_data"
    },
    {
     "data": {
      "text/html": [
       "Run data is saved locally in <code>/home/jovyan/data/lightning/FrantisekUrban/wandb/run-20220324_082502-67w5ul34</code>"
      ],
      "text/plain": [
       "<IPython.core.display.HTML object>"
      ]
     },
     "metadata": {},
     "output_type": "display_data"
    },
    {
     "data": {
      "text/html": [
       "Syncing run <strong><a href=\"https://wandb.ai/ishadowstormi/Coronary%20angiography%20network/runs/67w5ul34\" target=\"_blank\">lunar-sweep-45</a></strong> to <a href=\"https://wandb.ai/ishadowstormi/Coronary%20angiography%20network\" target=\"_blank\">Weights & Biases</a> (<a href=\"https://wandb.me/run\" target=\"_blank\">docs</a>)<br/>Sweep page:  <a href=\"https://wandb.ai/ishadowstormi/Coronary%20angiography%20network/sweeps/wco4rtlh\" target=\"_blank\">https://wandb.ai/ishadowstormi/Coronary%20angiography%20network/sweeps/wco4rtlh</a>"
      ],
      "text/plain": [
       "<IPython.core.display.HTML object>"
      ]
     },
     "metadata": {},
     "output_type": "display_data"
    },
    {
     "name": "stdout",
     "output_type": "stream",
     "text": [
      "Epoch 1/28\n",
      " 2/73 [..............................] - ETA: 13s - loss: 5.5686 - accuracy: 0.5469WARNING:tensorflow:Callbacks method `on_train_batch_end` is slow compared to the batch time (batch time: 0.1328s vs `on_train_batch_end` time: 0.2568s). Check your callbacks.\n",
      "73/73 [==============================] - 28s 389ms/step - loss: 1.8591 - accuracy: 0.6647 - val_loss: 0.6620 - val_accuracy: 0.6600\n",
      "Epoch 2/28\n",
      "73/73 [==============================] - 28s 383ms/step - loss: 0.6480 - accuracy: 0.7271 - val_loss: 0.7058 - val_accuracy: 0.5900\n",
      "Epoch 3/28\n",
      "73/73 [==============================] - 28s 383ms/step - loss: 0.4768 - accuracy: 0.7648 - val_loss: 6.5356 - val_accuracy: 0.5000\n",
      "Epoch 4/28\n",
      "73/73 [==============================] - 28s 383ms/step - loss: 0.4323 - accuracy: 0.7928 - val_loss: 1.7441 - val_accuracy: 0.5200\n",
      "Epoch 5/28\n",
      "73/73 [==============================] - 28s 384ms/step - loss: 0.4141 - accuracy: 0.8108 - val_loss: 1.1667 - val_accuracy: 0.5900\n",
      "Epoch 6/28\n",
      "73/73 [==============================] - 28s 384ms/step - loss: 0.3920 - accuracy: 0.8173 - val_loss: 0.7058 - val_accuracy: 0.6500\n",
      "Epoch 7/28\n",
      "73/73 [==============================] - 28s 383ms/step - loss: 0.3933 - accuracy: 0.8173 - val_loss: 2.9070 - val_accuracy: 0.4900\n",
      "Epoch 8/28\n",
      "73/73 [==============================] - 28s 383ms/step - loss: 0.3456 - accuracy: 0.8408 - val_loss: 0.6267 - val_accuracy: 0.7200\n",
      "Epoch 9/28\n",
      "73/73 [==============================] - 28s 384ms/step - loss: 0.3171 - accuracy: 0.8588 - val_loss: 0.5924 - val_accuracy: 0.7400\n",
      "Epoch 10/28\n",
      "73/73 [==============================] - 28s 384ms/step - loss: 0.3151 - accuracy: 0.8590 - val_loss: 0.8372 - val_accuracy: 0.6900\n",
      "Epoch 11/28\n",
      "73/73 [==============================] - 28s 384ms/step - loss: 0.2816 - accuracy: 0.8725 - val_loss: 0.7230 - val_accuracy: 0.7700\n",
      "Epoch 12/28\n",
      "73/73 [==============================] - 28s 384ms/step - loss: 0.2618 - accuracy: 0.8811 - val_loss: 1.2512 - val_accuracy: 0.6700\n",
      "Epoch 13/28\n",
      "73/73 [==============================] - 28s 384ms/step - loss: 0.2678 - accuracy: 0.8820 - val_loss: 0.7213 - val_accuracy: 0.6900\n",
      "Epoch 14/28\n",
      "73/73 [==============================] - 28s 384ms/step - loss: 0.2653 - accuracy: 0.8850 - val_loss: 0.6529 - val_accuracy: 0.6900\n",
      "Epoch 15/28\n",
      "73/73 [==============================] - 28s 386ms/step - loss: 0.2489 - accuracy: 0.8937 - val_loss: 1.0884 - val_accuracy: 0.6700\n",
      "Epoch 16/28\n",
      "73/73 [==============================] - 28s 384ms/step - loss: 0.2308 - accuracy: 0.8952 - val_loss: 0.8499 - val_accuracy: 0.7500\n",
      "Epoch 17/28\n",
      "73/73 [==============================] - 28s 383ms/step - loss: 0.2234 - accuracy: 0.9034 - val_loss: 0.7808 - val_accuracy: 0.7300\n",
      "Epoch 18/28\n",
      "73/73 [==============================] - 28s 382ms/step - loss: 0.2300 - accuracy: 0.9040 - val_loss: 0.7759 - val_accuracy: 0.7300\n",
      "Epoch 19/28\n",
      "73/73 [==============================] - 28s 383ms/step - loss: 0.1947 - accuracy: 0.9165 - val_loss: 0.5595 - val_accuracy: 0.7400\n",
      "Epoch 20/28\n",
      "73/73 [==============================] - 28s 382ms/step - loss: 0.2009 - accuracy: 0.9173 - val_loss: 0.7697 - val_accuracy: 0.7900\n",
      "Epoch 21/28\n",
      "73/73 [==============================] - 28s 383ms/step - loss: 0.1893 - accuracy: 0.9252 - val_loss: 0.6283 - val_accuracy: 0.7600\n",
      "Epoch 22/28\n",
      "73/73 [==============================] - 28s 385ms/step - loss: 0.1843 - accuracy: 0.9188 - val_loss: 0.6595 - val_accuracy: 0.7500\n",
      "Epoch 23/28\n",
      "73/73 [==============================] - 28s 382ms/step - loss: 0.1713 - accuracy: 0.9289 - val_loss: 1.9879 - val_accuracy: 0.6000\n",
      "Epoch 24/28\n",
      "73/73 [==============================] - 28s 382ms/step - loss: 0.1752 - accuracy: 0.9295 - val_loss: 0.8385 - val_accuracy: 0.7700\n",
      "Epoch 25/28\n",
      "73/73 [==============================] - 28s 383ms/step - loss: 0.1609 - accuracy: 0.9372 - val_loss: 0.9528 - val_accuracy: 0.8000\n",
      "Epoch 26/28\n",
      "73/73 [==============================] - 28s 384ms/step - loss: 0.1638 - accuracy: 0.9347 - val_loss: 0.5381 - val_accuracy: 0.7700\n",
      "Epoch 27/28\n",
      "73/73 [==============================] - 28s 383ms/step - loss: 0.1580 - accuracy: 0.9340 - val_loss: 0.7548 - val_accuracy: 0.8000\n",
      "Epoch 28/28\n",
      "73/73 [==============================] - 28s 382ms/step - loss: 0.1518 - accuracy: 0.9389 - val_loss: 0.5490 - val_accuracy: 0.8500\n",
      "\n",
      "-----Model evaluation on test data-----\n",
      "38/38 [==============================] - 2s 55ms/step - loss: 0.3530 - accuracy: 0.8220\n",
      "Test Error Rate:  17.8\n",
      "AUC:  0.9139\n",
      "\n"
     ]
    },
    {
     "data": {
      "text/html": [
       "Waiting for W&B process to finish... <strong style=\"color:green\">(success).</strong>"
      ],
      "text/plain": [
       "<IPython.core.display.HTML object>"
      ]
     },
     "metadata": {},
     "output_type": "display_data"
    },
    {
     "data": {
      "application/vnd.jupyter.widget-view+json": {
       "model_id": "",
       "version_major": 2,
       "version_minor": 0
      },
      "text/plain": [
       "VBox(children=(Label(value='0.004 MB of 0.004 MB uploaded (0.000 MB deduped)\\r'), FloatProgress(value=1.0, max…"
      ]
     },
     "metadata": {},
     "output_type": "display_data"
    },
    {
     "data": {
      "text/html": [
       "<style>\n",
       "    table.wandb td:nth-child(1) { padding: 0 10px; text-align: right }\n",
       "    .wandb-row { display: flex; flex-direction: row; flex-wrap: wrap; width: 100% }\n",
       "    .wandb-col { display: flex; flex-direction: column; flex-basis: 100%; flex: 1; padding: 10px; }\n",
       "    </style>\n",
       "<div class=\"wandb-row\"><div class=\"wandb-col\"><h3>Run history:</h3><br/><table class=\"wandb\"><tr><td>AUC</td><td>▁</td></tr><tr><td>Test Error Rate</td><td>▁</td></tr><tr><td>accuracy</td><td>▁▃▄▄▅▅▅▅▆▆▆▇▇▇▇▇▇▇▇▇█▇██████</td></tr><tr><td>epoch</td><td>▁▁▂▂▂▂▃▃▃▃▄▄▄▄▅▅▅▅▆▆▆▆▇▇▇▇██</td></tr><tr><td>loss</td><td>█▃▂▂▂▂▂▂▂▂▂▁▁▁▁▁▁▁▁▁▁▁▁▁▁▁▁▁</td></tr><tr><td>val_accuracy</td><td>▄▃▁▂▃▄▁▅▆▅▆▄▅▅▄▆▆▆▆▇▆▆▃▆▇▆▇█</td></tr><tr><td>val_loss</td><td>▁▁█▂▂▁▄▁▁▁▁▂▁▁▂▁▁▁▁▁▁▁▃▁▁▁▁▁</td></tr></table><br/></div><div class=\"wandb-col\"><h3>Run summary:</h3><br/><table class=\"wandb\"><tr><td>AUC</td><td>0.9139</td></tr><tr><td>Test Error Rate</td><td>17.8</td></tr><tr><td>accuracy</td><td>0.93895</td></tr><tr><td>best_epoch</td><td>25</td></tr><tr><td>best_val_loss</td><td>0.5381</td></tr><tr><td>epoch</td><td>27</td></tr><tr><td>loss</td><td>0.15176</td></tr><tr><td>val_accuracy</td><td>0.85</td></tr><tr><td>val_loss</td><td>0.54895</td></tr></table><br/></div></div>"
      ],
      "text/plain": [
       "<IPython.core.display.HTML object>"
      ]
     },
     "metadata": {},
     "output_type": "display_data"
    },
    {
     "data": {
      "text/html": [
       "Synced <strong style=\"color:#cdcd00\">lunar-sweep-45</strong>: <a href=\"https://wandb.ai/ishadowstormi/Coronary%20angiography%20network/runs/67w5ul34\" target=\"_blank\">https://wandb.ai/ishadowstormi/Coronary%20angiography%20network/runs/67w5ul34</a><br/>Synced 5 W&B file(s), 1 media file(s), 0 artifact file(s) and 0 other file(s)"
      ],
      "text/plain": [
       "<IPython.core.display.HTML object>"
      ]
     },
     "metadata": {},
     "output_type": "display_data"
    },
    {
     "data": {
      "text/html": [
       "Find logs at: <code>./wandb/run-20220324_082502-67w5ul34/logs</code>"
      ],
      "text/plain": [
       "<IPython.core.display.HTML object>"
      ]
     },
     "metadata": {},
     "output_type": "display_data"
    },
    {
     "name": "stderr",
     "output_type": "stream",
     "text": [
      "\u001b[34m\u001b[1mwandb\u001b[0m: Agent Starting Run: tpayeer3 with config:\n",
      "\u001b[34m\u001b[1mwandb\u001b[0m: \tbatch_size: 64\n",
      "\u001b[34m\u001b[1mwandb\u001b[0m: \tconv_layer1: 16\n",
      "\u001b[34m\u001b[1mwandb\u001b[0m: \tconv_layer2: 64\n",
      "\u001b[34m\u001b[1mwandb\u001b[0m: \tconv_layer3: 128\n",
      "\u001b[34m\u001b[1mwandb\u001b[0m: \tconv_layer4: 64\n",
      "\u001b[34m\u001b[1mwandb\u001b[0m: \tdense: 1024\n",
      "Failed to detect the name of this notebook, you can set it manually with the WANDB_NOTEBOOK_NAME environment variable to enable code saving.\n"
     ]
    },
    {
     "data": {
      "text/html": [
       "Tracking run with wandb version 0.12.11"
      ],
      "text/plain": [
       "<IPython.core.display.HTML object>"
      ]
     },
     "metadata": {},
     "output_type": "display_data"
    },
    {
     "data": {
      "text/html": [
       "Run data is saved locally in <code>/home/jovyan/data/lightning/FrantisekUrban/wandb/run-20220324_083838-tpayeer3</code>"
      ],
      "text/plain": [
       "<IPython.core.display.HTML object>"
      ]
     },
     "metadata": {},
     "output_type": "display_data"
    },
    {
     "data": {
      "text/html": [
       "Syncing run <strong><a href=\"https://wandb.ai/ishadowstormi/Coronary%20angiography%20network/runs/tpayeer3\" target=\"_blank\">lemon-sweep-46</a></strong> to <a href=\"https://wandb.ai/ishadowstormi/Coronary%20angiography%20network\" target=\"_blank\">Weights & Biases</a> (<a href=\"https://wandb.me/run\" target=\"_blank\">docs</a>)<br/>Sweep page:  <a href=\"https://wandb.ai/ishadowstormi/Coronary%20angiography%20network/sweeps/wco4rtlh\" target=\"_blank\">https://wandb.ai/ishadowstormi/Coronary%20angiography%20network/sweeps/wco4rtlh</a>"
      ],
      "text/plain": [
       "<IPython.core.display.HTML object>"
      ]
     },
     "metadata": {},
     "output_type": "display_data"
    },
    {
     "name": "stdout",
     "output_type": "stream",
     "text": [
      "Epoch 1/28\n",
      " 2/73 [..............................] - ETA: 13s - loss: 4.5526 - accuracy: 0.5156WARNING:tensorflow:Callbacks method `on_train_batch_end` is slow compared to the batch time (batch time: 0.1300s vs `on_train_batch_end` time: 0.2596s). Check your callbacks.\n",
      "73/73 [==============================] - 28s 387ms/step - loss: 2.1616 - accuracy: 0.6557 - val_loss: 0.6905 - val_accuracy: 0.6600\n",
      "Epoch 2/28\n",
      "73/73 [==============================] - 28s 385ms/step - loss: 0.6792 - accuracy: 0.7050 - val_loss: 0.7331 - val_accuracy: 0.6100\n",
      "Epoch 3/28\n",
      "73/73 [==============================] - 28s 385ms/step - loss: 0.4974 - accuracy: 0.7498 - val_loss: 0.8507 - val_accuracy: 0.5900\n",
      "Epoch 4/28\n",
      "73/73 [==============================] - 28s 386ms/step - loss: 0.4597 - accuracy: 0.7641 - val_loss: 1.5653 - val_accuracy: 0.5200\n",
      "Epoch 5/28\n",
      "73/73 [==============================] - 28s 386ms/step - loss: 0.4157 - accuracy: 0.7988 - val_loss: 1.3555 - val_accuracy: 0.6700\n",
      "Epoch 6/28\n",
      "73/73 [==============================] - 28s 385ms/step - loss: 0.3839 - accuracy: 0.8138 - val_loss: 0.7498 - val_accuracy: 0.7200\n",
      "Epoch 7/28\n",
      "73/73 [==============================] - 28s 387ms/step - loss: 0.3571 - accuracy: 0.8305 - val_loss: 1.0082 - val_accuracy: 0.5000\n",
      "Epoch 8/28\n",
      "73/73 [==============================] - 28s 387ms/step - loss: 0.3395 - accuracy: 0.8430 - val_loss: 1.7060 - val_accuracy: 0.5100\n",
      "Epoch 9/28\n",
      "73/73 [==============================] - 28s 385ms/step - loss: 0.3146 - accuracy: 0.8571 - val_loss: 0.8785 - val_accuracy: 0.6400\n",
      "Epoch 10/28\n",
      "73/73 [==============================] - 28s 385ms/step - loss: 0.2903 - accuracy: 0.8659 - val_loss: 0.7096 - val_accuracy: 0.6500\n",
      "Epoch 11/28\n",
      "73/73 [==============================] - 28s 385ms/step - loss: 0.2822 - accuracy: 0.8715 - val_loss: 0.5755 - val_accuracy: 0.8000\n",
      "Epoch 12/28\n",
      "73/73 [==============================] - 28s 385ms/step - loss: 0.2707 - accuracy: 0.8824 - val_loss: 0.5046 - val_accuracy: 0.7600\n",
      "Epoch 13/28\n",
      "73/73 [==============================] - 28s 387ms/step - loss: 0.2468 - accuracy: 0.8871 - val_loss: 0.4638 - val_accuracy: 0.8000\n",
      "Epoch 14/28\n",
      "73/73 [==============================] - 28s 384ms/step - loss: 0.2427 - accuracy: 0.8978 - val_loss: 1.4154 - val_accuracy: 0.6400\n",
      "Epoch 15/28\n",
      "73/73 [==============================] - 28s 384ms/step - loss: 0.2226 - accuracy: 0.9040 - val_loss: 5.0369 - val_accuracy: 0.5400\n",
      "Epoch 16/28\n",
      "73/73 [==============================] - 28s 384ms/step - loss: 0.2286 - accuracy: 0.9045 - val_loss: 0.4456 - val_accuracy: 0.8800\n",
      "Epoch 17/28\n",
      "73/73 [==============================] - 28s 384ms/step - loss: 0.2012 - accuracy: 0.9173 - val_loss: 1.0897 - val_accuracy: 0.6600\n",
      "Epoch 18/28\n",
      "73/73 [==============================] - 28s 384ms/step - loss: 0.1879 - accuracy: 0.9195 - val_loss: 0.5545 - val_accuracy: 0.7800\n",
      "Epoch 19/28\n",
      "73/73 [==============================] - 28s 385ms/step - loss: 0.1849 - accuracy: 0.9227 - val_loss: 1.1004 - val_accuracy: 0.6400\n",
      "Epoch 20/28\n",
      "73/73 [==============================] - 28s 383ms/step - loss: 0.1690 - accuracy: 0.9284 - val_loss: 0.5961 - val_accuracy: 0.7800\n",
      "Epoch 21/28\n",
      "73/73 [==============================] - 28s 384ms/step - loss: 0.1564 - accuracy: 0.9319 - val_loss: 0.6050 - val_accuracy: 0.8300\n",
      "Epoch 22/28\n",
      "73/73 [==============================] - 28s 384ms/step - loss: 0.1575 - accuracy: 0.9338 - val_loss: 0.8520 - val_accuracy: 0.6900\n",
      "Epoch 23/28\n",
      "73/73 [==============================] - 28s 384ms/step - loss: 0.1489 - accuracy: 0.9413 - val_loss: 1.2785 - val_accuracy: 0.7300\n",
      "Epoch 24/28\n",
      "73/73 [==============================] - 28s 384ms/step - loss: 0.1362 - accuracy: 0.9454 - val_loss: 4.9208 - val_accuracy: 0.5800\n",
      "Epoch 25/28\n",
      "73/73 [==============================] - 28s 384ms/step - loss: 0.1231 - accuracy: 0.9520 - val_loss: 0.6610 - val_accuracy: 0.8400\n",
      "Epoch 26/28\n",
      "73/73 [==============================] - 28s 385ms/step - loss: 0.1206 - accuracy: 0.9529 - val_loss: 0.8017 - val_accuracy: 0.7900\n",
      "Epoch 27/28\n",
      "73/73 [==============================] - 28s 384ms/step - loss: 0.1199 - accuracy: 0.9520 - val_loss: 0.9501 - val_accuracy: 0.7900\n",
      "Epoch 28/28\n",
      "73/73 [==============================] - 28s 385ms/step - loss: 0.1091 - accuracy: 0.9561 - val_loss: 0.8103 - val_accuracy: 0.8800\n",
      "\n",
      "-----Model evaluation on test data-----\n",
      "38/38 [==============================] - 2s 56ms/step - loss: 0.3323 - accuracy: 0.9001\n",
      "Test Error Rate:  9.99\n",
      "AUC:  0.9316\n",
      "\n"
     ]
    },
    {
     "data": {
      "text/html": [
       "Waiting for W&B process to finish... <strong style=\"color:green\">(success).</strong>"
      ],
      "text/plain": [
       "<IPython.core.display.HTML object>"
      ]
     },
     "metadata": {},
     "output_type": "display_data"
    },
    {
     "data": {
      "application/vnd.jupyter.widget-view+json": {
       "model_id": "",
       "version_major": 2,
       "version_minor": 0
      },
      "text/plain": [
       "VBox(children=(Label(value='0.004 MB of 0.004 MB uploaded (0.000 MB deduped)\\r'), FloatProgress(value=1.0, max…"
      ]
     },
     "metadata": {},
     "output_type": "display_data"
    },
    {
     "data": {
      "text/html": [
       "<style>\n",
       "    table.wandb td:nth-child(1) { padding: 0 10px; text-align: right }\n",
       "    .wandb-row { display: flex; flex-direction: row; flex-wrap: wrap; width: 100% }\n",
       "    .wandb-col { display: flex; flex-direction: column; flex-basis: 100%; flex: 1; padding: 10px; }\n",
       "    </style>\n",
       "<div class=\"wandb-row\"><div class=\"wandb-col\"><h3>Run history:</h3><br/><table class=\"wandb\"><tr><td>AUC</td><td>▁</td></tr><tr><td>Test Error Rate</td><td>▁</td></tr><tr><td>accuracy</td><td>▁▂▃▄▄▅▅▅▆▆▆▆▆▇▇▇▇▇▇▇▇▇██████</td></tr><tr><td>epoch</td><td>▁▁▂▂▂▂▃▃▃▃▄▄▄▄▅▅▅▅▆▆▆▆▇▇▇▇██</td></tr><tr><td>loss</td><td>█▃▂▂▂▂▂▂▂▂▂▂▁▁▁▁▁▁▁▁▁▁▁▁▁▁▁▁</td></tr><tr><td>val_accuracy</td><td>▄▃▃▁▄▅▁▁▄▄▇▆▇▄▂█▄▆▄▆▇▅▅▂▇▆▆█</td></tr><tr><td>val_loss</td><td>▁▁▂▃▂▁▂▃▂▁▁▁▁▂█▁▂▁▂▁▁▂▂█▁▂▂▂</td></tr></table><br/></div><div class=\"wandb-col\"><h3>Run summary:</h3><br/><table class=\"wandb\"><tr><td>AUC</td><td>0.9316</td></tr><tr><td>Test Error Rate</td><td>9.99</td></tr><tr><td>accuracy</td><td>0.95608</td></tr><tr><td>best_epoch</td><td>15</td></tr><tr><td>best_val_loss</td><td>0.4456</td></tr><tr><td>epoch</td><td>27</td></tr><tr><td>loss</td><td>0.10905</td></tr><tr><td>val_accuracy</td><td>0.88</td></tr><tr><td>val_loss</td><td>0.8103</td></tr></table><br/></div></div>"
      ],
      "text/plain": [
       "<IPython.core.display.HTML object>"
      ]
     },
     "metadata": {},
     "output_type": "display_data"
    },
    {
     "data": {
      "text/html": [
       "Synced <strong style=\"color:#cdcd00\">lemon-sweep-46</strong>: <a href=\"https://wandb.ai/ishadowstormi/Coronary%20angiography%20network/runs/tpayeer3\" target=\"_blank\">https://wandb.ai/ishadowstormi/Coronary%20angiography%20network/runs/tpayeer3</a><br/>Synced 5 W&B file(s), 1 media file(s), 0 artifact file(s) and 0 other file(s)"
      ],
      "text/plain": [
       "<IPython.core.display.HTML object>"
      ]
     },
     "metadata": {},
     "output_type": "display_data"
    },
    {
     "data": {
      "text/html": [
       "Find logs at: <code>./wandb/run-20220324_083838-tpayeer3/logs</code>"
      ],
      "text/plain": [
       "<IPython.core.display.HTML object>"
      ]
     },
     "metadata": {},
     "output_type": "display_data"
    },
    {
     "name": "stderr",
     "output_type": "stream",
     "text": [
      "\u001b[34m\u001b[1mwandb\u001b[0m: Agent Starting Run: ymjxqgij with config:\n",
      "\u001b[34m\u001b[1mwandb\u001b[0m: \tbatch_size: 64\n",
      "\u001b[34m\u001b[1mwandb\u001b[0m: \tconv_layer1: 16\n",
      "\u001b[34m\u001b[1mwandb\u001b[0m: \tconv_layer2: 64\n",
      "\u001b[34m\u001b[1mwandb\u001b[0m: \tconv_layer3: 128\n",
      "\u001b[34m\u001b[1mwandb\u001b[0m: \tconv_layer4: 128\n",
      "\u001b[34m\u001b[1mwandb\u001b[0m: \tdense: 512\n",
      "Failed to detect the name of this notebook, you can set it manually with the WANDB_NOTEBOOK_NAME environment variable to enable code saving.\n"
     ]
    },
    {
     "data": {
      "text/html": [
       "Tracking run with wandb version 0.12.11"
      ],
      "text/plain": [
       "<IPython.core.display.HTML object>"
      ]
     },
     "metadata": {},
     "output_type": "display_data"
    },
    {
     "data": {
      "text/html": [
       "Run data is saved locally in <code>/home/jovyan/data/lightning/FrantisekUrban/wandb/run-20220324_085218-ymjxqgij</code>"
      ],
      "text/plain": [
       "<IPython.core.display.HTML object>"
      ]
     },
     "metadata": {},
     "output_type": "display_data"
    },
    {
     "data": {
      "text/html": [
       "Syncing run <strong><a href=\"https://wandb.ai/ishadowstormi/Coronary%20angiography%20network/runs/ymjxqgij\" target=\"_blank\">charmed-sweep-47</a></strong> to <a href=\"https://wandb.ai/ishadowstormi/Coronary%20angiography%20network\" target=\"_blank\">Weights & Biases</a> (<a href=\"https://wandb.me/run\" target=\"_blank\">docs</a>)<br/>Sweep page:  <a href=\"https://wandb.ai/ishadowstormi/Coronary%20angiography%20network/sweeps/wco4rtlh\" target=\"_blank\">https://wandb.ai/ishadowstormi/Coronary%20angiography%20network/sweeps/wco4rtlh</a>"
      ],
      "text/plain": [
       "<IPython.core.display.HTML object>"
      ]
     },
     "metadata": {},
     "output_type": "display_data"
    },
    {
     "name": "stdout",
     "output_type": "stream",
     "text": [
      "Epoch 1/28\n",
      " 2/73 [..............................] - ETA: 15s - loss: 11.8114 - accuracy: 0.4141WARNING:tensorflow:Callbacks method `on_train_batch_end` is slow compared to the batch time (batch time: 0.1400s vs `on_train_batch_end` time: 0.2875s). Check your callbacks.\n",
      "73/73 [==============================] - 31s 421ms/step - loss: 3.2106 - accuracy: 0.6382 - val_loss: 3.2339 - val_accuracy: 0.5100\n",
      "Epoch 2/28\n",
      "73/73 [==============================] - 30s 417ms/step - loss: 0.6024 - accuracy: 0.7237 - val_loss: 1.7482 - val_accuracy: 0.6000\n",
      "Epoch 3/28\n",
      "73/73 [==============================] - 31s 419ms/step - loss: 0.5080 - accuracy: 0.7446 - val_loss: 0.9263 - val_accuracy: 0.6900\n",
      "Epoch 4/28\n",
      "73/73 [==============================] - 31s 419ms/step - loss: 0.4665 - accuracy: 0.7704 - val_loss: 2.4201 - val_accuracy: 0.5800\n",
      "Epoch 5/28\n",
      "73/73 [==============================] - 31s 419ms/step - loss: 0.4439 - accuracy: 0.7950 - val_loss: 1.2763 - val_accuracy: 0.5400\n",
      "Epoch 6/28\n",
      "73/73 [==============================] - 31s 419ms/step - loss: 0.4288 - accuracy: 0.7997 - val_loss: 0.8335 - val_accuracy: 0.6700\n",
      "Epoch 7/28\n",
      "73/73 [==============================] - 31s 418ms/step - loss: 0.3878 - accuracy: 0.8271 - val_loss: 7.2140 - val_accuracy: 0.5000\n",
      "Epoch 8/28\n",
      "73/73 [==============================] - 31s 418ms/step - loss: 0.3544 - accuracy: 0.8413 - val_loss: 1.3861 - val_accuracy: 0.6300\n",
      "Epoch 9/28\n",
      "73/73 [==============================] - 31s 418ms/step - loss: 0.3118 - accuracy: 0.8580 - val_loss: 1.1967 - val_accuracy: 0.6600\n",
      "Epoch 10/28\n",
      "73/73 [==============================] - 31s 418ms/step - loss: 0.3058 - accuracy: 0.8629 - val_loss: 0.6888 - val_accuracy: 0.6900\n",
      "Epoch 11/28\n",
      "73/73 [==============================] - 31s 418ms/step - loss: 0.2809 - accuracy: 0.8757 - val_loss: 1.1676 - val_accuracy: 0.6200\n",
      "Epoch 12/28\n",
      "73/73 [==============================] - 31s 419ms/step - loss: 0.2950 - accuracy: 0.8693 - val_loss: 0.7477 - val_accuracy: 0.7500\n",
      "Epoch 13/28\n",
      "73/73 [==============================] - 31s 419ms/step - loss: 0.2875 - accuracy: 0.8775 - val_loss: 0.4939 - val_accuracy: 0.8000\n",
      "Epoch 14/28\n",
      "73/73 [==============================] - 31s 419ms/step - loss: 0.2805 - accuracy: 0.8740 - val_loss: 1.0786 - val_accuracy: 0.7100\n",
      "Epoch 15/28\n",
      "73/73 [==============================] - 30s 418ms/step - loss: 0.2894 - accuracy: 0.8877 - val_loss: 0.7625 - val_accuracy: 0.7800\n",
      "Epoch 16/28\n",
      "73/73 [==============================] - 30s 418ms/step - loss: 0.2795 - accuracy: 0.8837 - val_loss: 0.7327 - val_accuracy: 0.7100\n",
      "Epoch 17/28\n",
      "73/73 [==============================] - 30s 417ms/step - loss: 0.2705 - accuracy: 0.8792 - val_loss: 0.5424 - val_accuracy: 0.7800\n",
      "Epoch 18/28\n",
      "73/73 [==============================] - 30s 418ms/step - loss: 0.2337 - accuracy: 0.8978 - val_loss: 0.6308 - val_accuracy: 0.7500\n",
      "Epoch 19/28\n",
      "73/73 [==============================] - 30s 417ms/step - loss: 0.2175 - accuracy: 0.9062 - val_loss: 0.5065 - val_accuracy: 0.8500\n",
      "Epoch 20/28\n",
      "73/73 [==============================] - 30s 417ms/step - loss: 0.2250 - accuracy: 0.9019 - val_loss: 0.4113 - val_accuracy: 0.8700\n",
      "Epoch 21/28\n",
      "73/73 [==============================] - 31s 418ms/step - loss: 0.2111 - accuracy: 0.9120 - val_loss: 0.8056 - val_accuracy: 0.8100\n",
      "Epoch 22/28\n",
      "73/73 [==============================] - 30s 418ms/step - loss: 0.2020 - accuracy: 0.9130 - val_loss: 0.7438 - val_accuracy: 0.7300\n",
      "Epoch 23/28\n",
      "73/73 [==============================] - 30s 417ms/step - loss: 0.1907 - accuracy: 0.9162 - val_loss: 0.7231 - val_accuracy: 0.8200\n",
      "Epoch 24/28\n",
      "73/73 [==============================] - 30s 418ms/step - loss: 0.2016 - accuracy: 0.9139 - val_loss: 0.6240 - val_accuracy: 0.7900\n",
      "Epoch 25/28\n",
      "73/73 [==============================] - 31s 418ms/step - loss: 0.1639 - accuracy: 0.9327 - val_loss: 0.6998 - val_accuracy: 0.8100\n",
      "Epoch 26/28\n",
      "73/73 [==============================] - 31s 418ms/step - loss: 0.1642 - accuracy: 0.9299 - val_loss: 0.9072 - val_accuracy: 0.7300\n",
      "Epoch 27/28\n",
      "73/73 [==============================] - 31s 418ms/step - loss: 0.1609 - accuracy: 0.9351 - val_loss: 0.8466 - val_accuracy: 0.7200\n",
      "Epoch 28/28\n",
      "73/73 [==============================] - 30s 418ms/step - loss: 0.1476 - accuracy: 0.9366 - val_loss: 0.7622 - val_accuracy: 0.8300\n",
      "\n",
      "-----Model evaluation on test data-----\n",
      "38/38 [==============================] - 2s 57ms/step - loss: 0.2517 - accuracy: 0.9412\n",
      "Test Error Rate:  5.88\n",
      "AUC:  0.9212\n",
      "\n"
     ]
    },
    {
     "data": {
      "text/html": [
       "Waiting for W&B process to finish... <strong style=\"color:green\">(success).</strong>"
      ],
      "text/plain": [
       "<IPython.core.display.HTML object>"
      ]
     },
     "metadata": {},
     "output_type": "display_data"
    },
    {
     "data": {
      "application/vnd.jupyter.widget-view+json": {
       "model_id": "",
       "version_major": 2,
       "version_minor": 0
      },
      "text/plain": [
       "VBox(children=(Label(value='0.004 MB of 0.004 MB uploaded (0.000 MB deduped)\\r'), FloatProgress(value=1.0, max…"
      ]
     },
     "metadata": {},
     "output_type": "display_data"
    },
    {
     "data": {
      "text/html": [
       "<style>\n",
       "    table.wandb td:nth-child(1) { padding: 0 10px; text-align: right }\n",
       "    .wandb-row { display: flex; flex-direction: row; flex-wrap: wrap; width: 100% }\n",
       "    .wandb-col { display: flex; flex-direction: column; flex-basis: 100%; flex: 1; padding: 10px; }\n",
       "    </style>\n",
       "<div class=\"wandb-row\"><div class=\"wandb-col\"><h3>Run history:</h3><br/><table class=\"wandb\"><tr><td>AUC</td><td>▁</td></tr><tr><td>Test Error Rate</td><td>▁</td></tr><tr><td>accuracy</td><td>▁▃▃▄▅▅▅▆▆▆▇▆▇▇▇▇▇▇▇▇▇▇█▇████</td></tr><tr><td>epoch</td><td>▁▁▂▂▂▂▃▃▃▃▄▄▄▄▅▅▅▅▆▆▆▆▇▇▇▇██</td></tr><tr><td>loss</td><td>█▂▂▂▂▂▂▁▁▁▁▁▁▁▁▁▁▁▁▁▁▁▁▁▁▁▁▁</td></tr><tr><td>val_accuracy</td><td>▁▃▅▃▂▄▁▃▄▅▃▆▇▅▆▅▆▆██▇▅▇▆▇▅▅▇</td></tr><tr><td>val_loss</td><td>▄▂▂▃▂▁█▂▂▁▂▁▁▂▁▁▁▁▁▁▁▁▁▁▁▂▁▁</td></tr></table><br/></div><div class=\"wandb-col\"><h3>Run summary:</h3><br/><table class=\"wandb\"><tr><td>AUC</td><td>0.9212</td></tr><tr><td>Test Error Rate</td><td>5.88</td></tr><tr><td>accuracy</td><td>0.93659</td></tr><tr><td>best_epoch</td><td>19</td></tr><tr><td>best_val_loss</td><td>0.41126</td></tr><tr><td>epoch</td><td>27</td></tr><tr><td>loss</td><td>0.14756</td></tr><tr><td>val_accuracy</td><td>0.83</td></tr><tr><td>val_loss</td><td>0.76224</td></tr></table><br/></div></div>"
      ],
      "text/plain": [
       "<IPython.core.display.HTML object>"
      ]
     },
     "metadata": {},
     "output_type": "display_data"
    },
    {
     "data": {
      "text/html": [
       "Synced <strong style=\"color:#cdcd00\">charmed-sweep-47</strong>: <a href=\"https://wandb.ai/ishadowstormi/Coronary%20angiography%20network/runs/ymjxqgij\" target=\"_blank\">https://wandb.ai/ishadowstormi/Coronary%20angiography%20network/runs/ymjxqgij</a><br/>Synced 5 W&B file(s), 1 media file(s), 0 artifact file(s) and 0 other file(s)"
      ],
      "text/plain": [
       "<IPython.core.display.HTML object>"
      ]
     },
     "metadata": {},
     "output_type": "display_data"
    },
    {
     "data": {
      "text/html": [
       "Find logs at: <code>./wandb/run-20220324_085218-ymjxqgij/logs</code>"
      ],
      "text/plain": [
       "<IPython.core.display.HTML object>"
      ]
     },
     "metadata": {},
     "output_type": "display_data"
    },
    {
     "name": "stderr",
     "output_type": "stream",
     "text": [
      "\u001b[34m\u001b[1mwandb\u001b[0m: Agent Starting Run: z7uw9u8s with config:\n",
      "\u001b[34m\u001b[1mwandb\u001b[0m: \tbatch_size: 64\n",
      "\u001b[34m\u001b[1mwandb\u001b[0m: \tconv_layer1: 16\n",
      "\u001b[34m\u001b[1mwandb\u001b[0m: \tconv_layer2: 64\n",
      "\u001b[34m\u001b[1mwandb\u001b[0m: \tconv_layer3: 128\n",
      "\u001b[34m\u001b[1mwandb\u001b[0m: \tconv_layer4: 128\n",
      "\u001b[34m\u001b[1mwandb\u001b[0m: \tdense: 1024\n",
      "Failed to detect the name of this notebook, you can set it manually with the WANDB_NOTEBOOK_NAME environment variable to enable code saving.\n"
     ]
    },
    {
     "data": {
      "text/html": [
       "Tracking run with wandb version 0.12.11"
      ],
      "text/plain": [
       "<IPython.core.display.HTML object>"
      ]
     },
     "metadata": {},
     "output_type": "display_data"
    },
    {
     "data": {
      "text/html": [
       "Run data is saved locally in <code>/home/jovyan/data/lightning/FrantisekUrban/wandb/run-20220324_090704-z7uw9u8s</code>"
      ],
      "text/plain": [
       "<IPython.core.display.HTML object>"
      ]
     },
     "metadata": {},
     "output_type": "display_data"
    },
    {
     "data": {
      "text/html": [
       "Syncing run <strong><a href=\"https://wandb.ai/ishadowstormi/Coronary%20angiography%20network/runs/z7uw9u8s\" target=\"_blank\">vital-sweep-48</a></strong> to <a href=\"https://wandb.ai/ishadowstormi/Coronary%20angiography%20network\" target=\"_blank\">Weights & Biases</a> (<a href=\"https://wandb.me/run\" target=\"_blank\">docs</a>)<br/>Sweep page:  <a href=\"https://wandb.ai/ishadowstormi/Coronary%20angiography%20network/sweeps/wco4rtlh\" target=\"_blank\">https://wandb.ai/ishadowstormi/Coronary%20angiography%20network/sweeps/wco4rtlh</a>"
      ],
      "text/plain": [
       "<IPython.core.display.HTML object>"
      ]
     },
     "metadata": {},
     "output_type": "display_data"
    },
    {
     "name": "stdout",
     "output_type": "stream",
     "text": [
      "Epoch 1/28\n",
      " 2/73 [..............................] - ETA: 14s - loss: 11.5498 - accuracy: 0.5469WARNING:tensorflow:Callbacks method `on_train_batch_end` is slow compared to the batch time (batch time: 0.1299s vs `on_train_batch_end` time: 0.2923s). Check your callbacks.\n",
      "73/73 [==============================] - 31s 424ms/step - loss: 3.6823 - accuracy: 0.6459 - val_loss: 3.6689 - val_accuracy: 0.6500\n",
      "Epoch 2/28\n",
      "73/73 [==============================] - 31s 421ms/step - loss: 0.7318 - accuracy: 0.7104 - val_loss: 3.4756 - val_accuracy: 0.6400\n",
      "Epoch 3/28\n",
      "73/73 [==============================] - 31s 421ms/step - loss: 0.5212 - accuracy: 0.7513 - val_loss: 1.7801 - val_accuracy: 0.6400\n",
      "Epoch 4/28\n",
      "73/73 [==============================] - 31s 421ms/step - loss: 0.4604 - accuracy: 0.7808 - val_loss: 1.9936 - val_accuracy: 0.6400\n",
      "Epoch 5/28\n",
      "73/73 [==============================] - 31s 421ms/step - loss: 0.4308 - accuracy: 0.7924 - val_loss: 1.2868 - val_accuracy: 0.6100\n",
      "Epoch 6/28\n",
      "73/73 [==============================] - 31s 421ms/step - loss: 0.3838 - accuracy: 0.8181 - val_loss: 1.7709 - val_accuracy: 0.6100\n",
      "Epoch 7/28\n",
      "73/73 [==============================] - 31s 421ms/step - loss: 0.3566 - accuracy: 0.8402 - val_loss: 1.8576 - val_accuracy: 0.6100\n",
      "Epoch 8/28\n",
      "73/73 [==============================] - 31s 421ms/step - loss: 0.3497 - accuracy: 0.8449 - val_loss: 0.7246 - val_accuracy: 0.7300\n",
      "Epoch 9/28\n",
      "73/73 [==============================] - 31s 421ms/step - loss: 0.3357 - accuracy: 0.8449 - val_loss: 0.8317 - val_accuracy: 0.6700\n",
      "Epoch 10/28\n",
      "73/73 [==============================] - 31s 421ms/step - loss: 0.3049 - accuracy: 0.8597 - val_loss: 0.6228 - val_accuracy: 0.7700\n",
      "Epoch 11/28\n",
      "73/73 [==============================] - 31s 421ms/step - loss: 0.3017 - accuracy: 0.8644 - val_loss: 0.4342 - val_accuracy: 0.7800\n",
      "Epoch 12/28\n",
      "73/73 [==============================] - 31s 422ms/step - loss: 0.2816 - accuracy: 0.8837 - val_loss: 0.6405 - val_accuracy: 0.7300\n",
      "Epoch 13/28\n",
      "73/73 [==============================] - 31s 424ms/step - loss: 0.2579 - accuracy: 0.8888 - val_loss: 0.5648 - val_accuracy: 0.7300\n",
      "Epoch 14/28\n",
      "73/73 [==============================] - 31s 421ms/step - loss: 0.2460 - accuracy: 0.8957 - val_loss: 0.7878 - val_accuracy: 0.7200\n",
      "Epoch 15/28\n",
      "73/73 [==============================] - 31s 421ms/step - loss: 0.2382 - accuracy: 0.8907 - val_loss: 0.9879 - val_accuracy: 0.6400\n",
      "Epoch 16/28\n",
      "73/73 [==============================] - 31s 421ms/step - loss: 0.2172 - accuracy: 0.9057 - val_loss: 0.6753 - val_accuracy: 0.7200\n",
      "Epoch 17/28\n",
      "73/73 [==============================] - 31s 421ms/step - loss: 0.2053 - accuracy: 0.9124 - val_loss: 0.6848 - val_accuracy: 0.7800\n",
      "Epoch 18/28\n",
      "73/73 [==============================] - 31s 421ms/step - loss: 0.1878 - accuracy: 0.9188 - val_loss: 0.7368 - val_accuracy: 0.7600\n",
      "Epoch 19/28\n",
      "73/73 [==============================] - 31s 421ms/step - loss: 0.1864 - accuracy: 0.9218 - val_loss: 1.0547 - val_accuracy: 0.6500\n",
      "Epoch 20/28\n",
      "73/73 [==============================] - 31s 421ms/step - loss: 0.1736 - accuracy: 0.9276 - val_loss: 0.4808 - val_accuracy: 0.8300\n",
      "Epoch 21/28\n",
      "73/73 [==============================] - 31s 422ms/step - loss: 0.1786 - accuracy: 0.9250 - val_loss: 0.5689 - val_accuracy: 0.8000\n",
      "Epoch 22/28\n",
      "73/73 [==============================] - 31s 421ms/step - loss: 0.1560 - accuracy: 0.9402 - val_loss: 0.5363 - val_accuracy: 0.7800\n",
      "Epoch 23/28\n",
      "73/73 [==============================] - 31s 421ms/step - loss: 0.1397 - accuracy: 0.9456 - val_loss: 0.7942 - val_accuracy: 0.7600\n",
      "Epoch 24/28\n",
      "73/73 [==============================] - 31s 422ms/step - loss: 0.1473 - accuracy: 0.9419 - val_loss: 0.5412 - val_accuracy: 0.7300\n",
      "Epoch 25/28\n",
      "73/73 [==============================] - 31s 421ms/step - loss: 0.1529 - accuracy: 0.9379 - val_loss: 0.4984 - val_accuracy: 0.8000\n",
      "Epoch 26/28\n",
      "73/73 [==============================] - 31s 422ms/step - loss: 0.1280 - accuracy: 0.9488 - val_loss: 0.8475 - val_accuracy: 0.7400\n",
      "Epoch 27/28\n",
      "73/73 [==============================] - 31s 423ms/step - loss: 0.1268 - accuracy: 0.9516 - val_loss: 0.7659 - val_accuracy: 0.7900\n",
      "Epoch 28/28\n",
      "73/73 [==============================] - 31s 421ms/step - loss: 0.1109 - accuracy: 0.9535 - val_loss: 0.9000 - val_accuracy: 0.7200\n",
      "\n",
      "-----Model evaluation on test data-----\n",
      "38/38 [==============================] - 2s 57ms/step - loss: 1.5787 - accuracy: 0.5651\n",
      "Test Error Rate:  43.49\n",
      "AUC:  0.7983\n",
      "\n"
     ]
    },
    {
     "data": {
      "text/html": [
       "Waiting for W&B process to finish... <strong style=\"color:green\">(success).</strong>"
      ],
      "text/plain": [
       "<IPython.core.display.HTML object>"
      ]
     },
     "metadata": {},
     "output_type": "display_data"
    },
    {
     "data": {
      "application/vnd.jupyter.widget-view+json": {
       "model_id": "",
       "version_major": 2,
       "version_minor": 0
      },
      "text/plain": [
       "VBox(children=(Label(value='0.004 MB of 0.004 MB uploaded (0.000 MB deduped)\\r'), FloatProgress(value=1.0, max…"
      ]
     },
     "metadata": {},
     "output_type": "display_data"
    },
    {
     "data": {
      "text/html": [
       "<style>\n",
       "    table.wandb td:nth-child(1) { padding: 0 10px; text-align: right }\n",
       "    .wandb-row { display: flex; flex-direction: row; flex-wrap: wrap; width: 100% }\n",
       "    .wandb-col { display: flex; flex-direction: column; flex-basis: 100%; flex: 1; padding: 10px; }\n",
       "    </style>\n",
       "<div class=\"wandb-row\"><div class=\"wandb-col\"><h3>Run history:</h3><br/><table class=\"wandb\"><tr><td>AUC</td><td>▁</td></tr><tr><td>Test Error Rate</td><td>▁</td></tr><tr><td>accuracy</td><td>▁▂▃▄▄▅▅▆▆▆▆▆▇▇▇▇▇▇▇▇▇███████</td></tr><tr><td>epoch</td><td>▁▁▂▂▂▂▃▃▃▃▄▄▄▄▅▅▅▅▆▆▆▆▇▇▇▇██</td></tr><tr><td>loss</td><td>█▂▂▂▂▂▁▁▁▁▁▁▁▁▁▁▁▁▁▁▁▁▁▁▁▁▁▁</td></tr><tr><td>val_accuracy</td><td>▂▂▂▂▁▁▁▅▃▆▆▅▅▅▂▅▆▆▂█▇▆▆▅▇▅▇▅</td></tr><tr><td>val_loss</td><td>██▄▄▃▄▄▂▂▁▁▁▁▂▂▂▂▂▂▁▁▁▂▁▁▂▂▂</td></tr></table><br/></div><div class=\"wandb-col\"><h3>Run summary:</h3><br/><table class=\"wandb\"><tr><td>AUC</td><td>0.7983</td></tr><tr><td>Test Error Rate</td><td>43.49</td></tr><tr><td>accuracy</td><td>0.95351</td></tr><tr><td>best_epoch</td><td>10</td></tr><tr><td>best_val_loss</td><td>0.43418</td></tr><tr><td>epoch</td><td>27</td></tr><tr><td>loss</td><td>0.1109</td></tr><tr><td>val_accuracy</td><td>0.72</td></tr><tr><td>val_loss</td><td>0.89999</td></tr></table><br/></div></div>"
      ],
      "text/plain": [
       "<IPython.core.display.HTML object>"
      ]
     },
     "metadata": {},
     "output_type": "display_data"
    },
    {
     "data": {
      "text/html": [
       "Synced <strong style=\"color:#cdcd00\">vital-sweep-48</strong>: <a href=\"https://wandb.ai/ishadowstormi/Coronary%20angiography%20network/runs/z7uw9u8s\" target=\"_blank\">https://wandb.ai/ishadowstormi/Coronary%20angiography%20network/runs/z7uw9u8s</a><br/>Synced 5 W&B file(s), 1 media file(s), 0 artifact file(s) and 0 other file(s)"
      ],
      "text/plain": [
       "<IPython.core.display.HTML object>"
      ]
     },
     "metadata": {},
     "output_type": "display_data"
    },
    {
     "data": {
      "text/html": [
       "Find logs at: <code>./wandb/run-20220324_090704-z7uw9u8s/logs</code>"
      ],
      "text/plain": [
       "<IPython.core.display.HTML object>"
      ]
     },
     "metadata": {},
     "output_type": "display_data"
    },
    {
     "name": "stderr",
     "output_type": "stream",
     "text": [
      "\u001b[34m\u001b[1mwandb\u001b[0m: Agent Starting Run: bcyifik6 with config:\n",
      "\u001b[34m\u001b[1mwandb\u001b[0m: \tbatch_size: 64\n",
      "\u001b[34m\u001b[1mwandb\u001b[0m: \tconv_layer1: 32\n",
      "\u001b[34m\u001b[1mwandb\u001b[0m: \tconv_layer2: 32\n",
      "\u001b[34m\u001b[1mwandb\u001b[0m: \tconv_layer3: 64\n",
      "\u001b[34m\u001b[1mwandb\u001b[0m: \tconv_layer4: 64\n",
      "\u001b[34m\u001b[1mwandb\u001b[0m: \tdense: 512\n",
      "Failed to detect the name of this notebook, you can set it manually with the WANDB_NOTEBOOK_NAME environment variable to enable code saving.\n"
     ]
    },
    {
     "data": {
      "text/html": [
       "Tracking run with wandb version 0.12.11"
      ],
      "text/plain": [
       "<IPython.core.display.HTML object>"
      ]
     },
     "metadata": {},
     "output_type": "display_data"
    },
    {
     "data": {
      "text/html": [
       "Run data is saved locally in <code>/home/jovyan/data/lightning/FrantisekUrban/wandb/run-20220324_092158-bcyifik6</code>"
      ],
      "text/plain": [
       "<IPython.core.display.HTML object>"
      ]
     },
     "metadata": {},
     "output_type": "display_data"
    },
    {
     "data": {
      "text/html": [
       "Syncing run <strong><a href=\"https://wandb.ai/ishadowstormi/Coronary%20angiography%20network/runs/bcyifik6\" target=\"_blank\">golden-sweep-49</a></strong> to <a href=\"https://wandb.ai/ishadowstormi/Coronary%20angiography%20network\" target=\"_blank\">Weights & Biases</a> (<a href=\"https://wandb.me/run\" target=\"_blank\">docs</a>)<br/>Sweep page:  <a href=\"https://wandb.ai/ishadowstormi/Coronary%20angiography%20network/sweeps/wco4rtlh\" target=\"_blank\">https://wandb.ai/ishadowstormi/Coronary%20angiography%20network/sweeps/wco4rtlh</a>"
      ],
      "text/plain": [
       "<IPython.core.display.HTML object>"
      ]
     },
     "metadata": {},
     "output_type": "display_data"
    },
    {
     "name": "stdout",
     "output_type": "stream",
     "text": [
      "Epoch 1/28\n",
      " 1/73 [..............................] - ETA: 0s - loss: 1.3194 - accuracy: 0.4375\n"
     ]
    },
    {
     "data": {
      "text/html": [
       "Waiting for W&B process to finish... <strong style=\"color:red\">(failed 1).</strong> Press Control-C to abort syncing."
      ],
      "text/plain": [
       "<IPython.core.display.HTML object>"
      ]
     },
     "metadata": {},
     "output_type": "display_data"
    },
    {
     "data": {
      "application/vnd.jupyter.widget-view+json": {
       "model_id": "",
       "version_major": 2,
       "version_minor": 0
      },
      "text/plain": [
       "VBox(children=(Label(value='0.004 MB of 0.004 MB uploaded (0.000 MB deduped)\\r'), FloatProgress(value=1.0, max…"
      ]
     },
     "metadata": {},
     "output_type": "display_data"
    },
    {
     "data": {
      "text/html": [
       "Synced <strong style=\"color:#cdcd00\">golden-sweep-49</strong>: <a href=\"https://wandb.ai/ishadowstormi/Coronary%20angiography%20network/runs/bcyifik6\" target=\"_blank\">https://wandb.ai/ishadowstormi/Coronary%20angiography%20network/runs/bcyifik6</a><br/>Synced 5 W&B file(s), 1 media file(s), 0 artifact file(s) and 0 other file(s)"
      ],
      "text/plain": [
       "<IPython.core.display.HTML object>"
      ]
     },
     "metadata": {},
     "output_type": "display_data"
    },
    {
     "data": {
      "text/html": [
       "Find logs at: <code>./wandb/run-20220324_092158-bcyifik6/logs</code>"
      ],
      "text/plain": [
       "<IPython.core.display.HTML object>"
      ]
     },
     "metadata": {},
     "output_type": "display_data"
    },
    {
     "name": "stderr",
     "output_type": "stream",
     "text": [
      "Run bcyifik6 errored: ResourceExhaustedError()\n",
      "\u001b[34m\u001b[1mwandb\u001b[0m: \u001b[32m\u001b[41mERROR\u001b[0m Run bcyifik6 errored: ResourceExhaustedError()\n",
      "\u001b[34m\u001b[1mwandb\u001b[0m: Sweep Agent: Waiting for job.\n",
      "\u001b[34m\u001b[1mwandb\u001b[0m: Job received.\n",
      "\u001b[34m\u001b[1mwandb\u001b[0m: Agent Starting Run: z7nvihfa with config:\n",
      "\u001b[34m\u001b[1mwandb\u001b[0m: \tbatch_size: 64\n",
      "\u001b[34m\u001b[1mwandb\u001b[0m: \tconv_layer1: 32\n",
      "\u001b[34m\u001b[1mwandb\u001b[0m: \tconv_layer2: 32\n",
      "\u001b[34m\u001b[1mwandb\u001b[0m: \tconv_layer3: 64\n",
      "\u001b[34m\u001b[1mwandb\u001b[0m: \tconv_layer4: 64\n",
      "\u001b[34m\u001b[1mwandb\u001b[0m: \tdense: 1024\n",
      "Failed to detect the name of this notebook, you can set it manually with the WANDB_NOTEBOOK_NAME environment variable to enable code saving.\n"
     ]
    },
    {
     "data": {
      "text/html": [
       "Tracking run with wandb version 0.12.11"
      ],
      "text/plain": [
       "<IPython.core.display.HTML object>"
      ]
     },
     "metadata": {},
     "output_type": "display_data"
    },
    {
     "data": {
      "text/html": [
       "Run data is saved locally in <code>/home/jovyan/data/lightning/FrantisekUrban/wandb/run-20220324_092229-z7nvihfa</code>"
      ],
      "text/plain": [
       "<IPython.core.display.HTML object>"
      ]
     },
     "metadata": {},
     "output_type": "display_data"
    },
    {
     "data": {
      "text/html": [
       "Syncing run <strong><a href=\"https://wandb.ai/ishadowstormi/Coronary%20angiography%20network/runs/z7nvihfa\" target=\"_blank\">glowing-sweep-50</a></strong> to <a href=\"https://wandb.ai/ishadowstormi/Coronary%20angiography%20network\" target=\"_blank\">Weights & Biases</a> (<a href=\"https://wandb.me/run\" target=\"_blank\">docs</a>)<br/>Sweep page:  <a href=\"https://wandb.ai/ishadowstormi/Coronary%20angiography%20network/sweeps/wco4rtlh\" target=\"_blank\">https://wandb.ai/ishadowstormi/Coronary%20angiography%20network/sweeps/wco4rtlh</a>"
      ],
      "text/plain": [
       "<IPython.core.display.HTML object>"
      ]
     },
     "metadata": {},
     "output_type": "display_data"
    },
    {
     "name": "stdout",
     "output_type": "stream",
     "text": [
      "Epoch 1/28\n",
      " 2/73 [..............................] - ETA: 13s - loss: 10.2532 - accuracy: 0.5156WARNING:tensorflow:Callbacks method `on_train_batch_end` is slow compared to the batch time (batch time: 0.1321s vs `on_train_batch_end` time: 0.2498s). Check your callbacks.\n",
      "73/73 [==============================] - 29s 396ms/step - loss: 1.9590 - accuracy: 0.6635 - val_loss: 0.8660 - val_accuracy: 0.5600\n",
      "Epoch 2/28\n",
      "73/73 [==============================] - 28s 381ms/step - loss: 0.6204 - accuracy: 0.7219 - val_loss: 0.6511 - val_accuracy: 0.5600\n",
      "Epoch 3/28\n",
      "73/73 [==============================] - 28s 381ms/step - loss: 0.4956 - accuracy: 0.7513 - val_loss: 1.5200 - val_accuracy: 0.4400\n",
      "Epoch 4/28\n",
      "73/73 [==============================] - 28s 381ms/step - loss: 0.4397 - accuracy: 0.7847 - val_loss: 4.0264 - val_accuracy: 0.5500\n",
      "Epoch 5/28\n",
      "73/73 [==============================] - 28s 382ms/step - loss: 0.3926 - accuracy: 0.8196 - val_loss: 0.8213 - val_accuracy: 0.6100\n",
      "Epoch 6/28\n",
      "73/73 [==============================] - 28s 382ms/step - loss: 0.3652 - accuracy: 0.8273 - val_loss: 2.4907 - val_accuracy: 0.5000\n",
      "Epoch 7/28\n",
      "73/73 [==============================] - 28s 383ms/step - loss: 0.3390 - accuracy: 0.8468 - val_loss: 0.6516 - val_accuracy: 0.6900\n",
      "Epoch 8/28\n",
      "73/73 [==============================] - 28s 383ms/step - loss: 0.3303 - accuracy: 0.8528 - val_loss: 4.2604 - val_accuracy: 0.5400\n",
      "Epoch 9/28\n",
      "73/73 [==============================] - 28s 382ms/step - loss: 0.2956 - accuracy: 0.8644 - val_loss: 1.3387 - val_accuracy: 0.6100\n",
      "Epoch 10/28\n",
      "73/73 [==============================] - 28s 381ms/step - loss: 0.2952 - accuracy: 0.8678 - val_loss: 0.5304 - val_accuracy: 0.7800\n",
      "Epoch 11/28\n",
      "73/73 [==============================] - 28s 381ms/step - loss: 0.2705 - accuracy: 0.8858 - val_loss: 0.5598 - val_accuracy: 0.7300\n",
      "Epoch 12/28\n",
      "73/73 [==============================] - 28s 381ms/step - loss: 0.2475 - accuracy: 0.8963 - val_loss: 0.6567 - val_accuracy: 0.8000\n",
      "Epoch 13/28\n",
      "73/73 [==============================] - 28s 383ms/step - loss: 0.2259 - accuracy: 0.9008 - val_loss: 0.6597 - val_accuracy: 0.7800\n",
      "Epoch 14/28\n",
      "73/73 [==============================] - 28s 383ms/step - loss: 0.2419 - accuracy: 0.8991 - val_loss: 0.9362 - val_accuracy: 0.6700\n",
      "Epoch 15/28\n",
      "73/73 [==============================] - 28s 382ms/step - loss: 0.1974 - accuracy: 0.9158 - val_loss: 0.7491 - val_accuracy: 0.7000\n",
      "Epoch 16/28\n",
      "73/73 [==============================] - 28s 381ms/step - loss: 0.2173 - accuracy: 0.9092 - val_loss: 0.4680 - val_accuracy: 0.7600\n",
      "Epoch 17/28\n",
      "73/73 [==============================] - 28s 381ms/step - loss: 0.2114 - accuracy: 0.9111 - val_loss: 0.6574 - val_accuracy: 0.8000\n",
      "Epoch 18/28\n",
      "73/73 [==============================] - 28s 382ms/step - loss: 0.1870 - accuracy: 0.9207 - val_loss: 0.4341 - val_accuracy: 0.8700\n",
      "Epoch 19/28\n",
      "73/73 [==============================] - 28s 380ms/step - loss: 0.1983 - accuracy: 0.9126 - val_loss: 0.5376 - val_accuracy: 0.8200\n",
      "Epoch 20/28\n",
      "73/73 [==============================] - 28s 380ms/step - loss: 0.1764 - accuracy: 0.9267 - val_loss: 0.4800 - val_accuracy: 0.8300\n",
      "Epoch 21/28\n",
      "73/73 [==============================] - 28s 381ms/step - loss: 0.1674 - accuracy: 0.9359 - val_loss: 1.0462 - val_accuracy: 0.7600\n",
      "Epoch 22/28\n",
      "73/73 [==============================] - 28s 381ms/step - loss: 0.1697 - accuracy: 0.9319 - val_loss: 0.5685 - val_accuracy: 0.8400\n",
      "Epoch 23/28\n",
      "73/73 [==============================] - 28s 382ms/step - loss: 0.1664 - accuracy: 0.9319 - val_loss: 0.6000 - val_accuracy: 0.8300\n",
      "Epoch 24/28\n",
      "73/73 [==============================] - 28s 381ms/step - loss: 0.1301 - accuracy: 0.9464 - val_loss: 1.9089 - val_accuracy: 0.6700\n",
      "Epoch 25/28\n",
      "73/73 [==============================] - 28s 381ms/step - loss: 0.1291 - accuracy: 0.9479 - val_loss: 0.9810 - val_accuracy: 0.7300\n",
      "Epoch 26/28\n",
      "73/73 [==============================] - 28s 382ms/step - loss: 0.1100 - accuracy: 0.9576 - val_loss: 0.5825 - val_accuracy: 0.8800\n",
      "Epoch 27/28\n",
      "73/73 [==============================] - 28s 381ms/step - loss: 0.1208 - accuracy: 0.9531 - val_loss: 1.7583 - val_accuracy: 0.7100\n",
      "Epoch 28/28\n",
      "73/73 [==============================] - 28s 381ms/step - loss: 0.1111 - accuracy: 0.9548 - val_loss: 0.5749 - val_accuracy: 0.8200\n",
      "\n",
      "-----Model evaluation on test data-----\n",
      "38/38 [==============================] - 2s 62ms/step - loss: 0.5669 - accuracy: 0.8128\n",
      "Test Error Rate:  18.72\n",
      "AUC:  0.9293\n",
      "\n"
     ]
    },
    {
     "data": {
      "text/html": [
       "Waiting for W&B process to finish... <strong style=\"color:green\">(success).</strong>"
      ],
      "text/plain": [
       "<IPython.core.display.HTML object>"
      ]
     },
     "metadata": {},
     "output_type": "display_data"
    },
    {
     "data": {
      "application/vnd.jupyter.widget-view+json": {
       "model_id": "",
       "version_major": 2,
       "version_minor": 0
      },
      "text/plain": [
       "VBox(children=(Label(value='0.004 MB of 0.004 MB uploaded (0.000 MB deduped)\\r'), FloatProgress(value=1.0, max…"
      ]
     },
     "metadata": {},
     "output_type": "display_data"
    },
    {
     "data": {
      "text/html": [
       "<style>\n",
       "    table.wandb td:nth-child(1) { padding: 0 10px; text-align: right }\n",
       "    .wandb-row { display: flex; flex-direction: row; flex-wrap: wrap; width: 100% }\n",
       "    .wandb-col { display: flex; flex-direction: column; flex-basis: 100%; flex: 1; padding: 10px; }\n",
       "    </style>\n",
       "<div class=\"wandb-row\"><div class=\"wandb-col\"><h3>Run history:</h3><br/><table class=\"wandb\"><tr><td>AUC</td><td>▁</td></tr><tr><td>Test Error Rate</td><td>▁</td></tr><tr><td>accuracy</td><td>▁▂▃▄▅▅▅▆▆▆▆▇▇▇▇▇▇▇▇▇▇▇▇█████</td></tr><tr><td>epoch</td><td>▁▁▂▂▂▂▃▃▃▃▄▄▄▄▅▅▅▅▆▆▆▆▇▇▇▇██</td></tr><tr><td>loss</td><td>█▃▂▂▂▂▂▂▂▂▂▂▁▁▁▁▁▁▁▁▁▁▁▁▁▁▁▁</td></tr><tr><td>val_accuracy</td><td>▃▃▁▃▄▂▅▃▄▆▆▇▆▅▅▆▇█▇▇▆▇▇▅▆█▅▇</td></tr><tr><td>val_loss</td><td>▂▁▃█▂▅▁█▃▁▁▁▁▂▂▁▁▁▁▁▂▁▁▄▂▁▃▁</td></tr></table><br/></div><div class=\"wandb-col\"><h3>Run summary:</h3><br/><table class=\"wandb\"><tr><td>AUC</td><td>0.9293</td></tr><tr><td>Test Error Rate</td><td>18.72</td></tr><tr><td>accuracy</td><td>0.9548</td></tr><tr><td>best_epoch</td><td>17</td></tr><tr><td>best_val_loss</td><td>0.43406</td></tr><tr><td>epoch</td><td>27</td></tr><tr><td>loss</td><td>0.11106</td></tr><tr><td>val_accuracy</td><td>0.82</td></tr><tr><td>val_loss</td><td>0.57487</td></tr></table><br/></div></div>"
      ],
      "text/plain": [
       "<IPython.core.display.HTML object>"
      ]
     },
     "metadata": {},
     "output_type": "display_data"
    },
    {
     "data": {
      "text/html": [
       "Synced <strong style=\"color:#cdcd00\">glowing-sweep-50</strong>: <a href=\"https://wandb.ai/ishadowstormi/Coronary%20angiography%20network/runs/z7nvihfa\" target=\"_blank\">https://wandb.ai/ishadowstormi/Coronary%20angiography%20network/runs/z7nvihfa</a><br/>Synced 5 W&B file(s), 1 media file(s), 0 artifact file(s) and 0 other file(s)"
      ],
      "text/plain": [
       "<IPython.core.display.HTML object>"
      ]
     },
     "metadata": {},
     "output_type": "display_data"
    },
    {
     "data": {
      "text/html": [
       "Find logs at: <code>./wandb/run-20220324_092229-z7nvihfa/logs</code>"
      ],
      "text/plain": [
       "<IPython.core.display.HTML object>"
      ]
     },
     "metadata": {},
     "output_type": "display_data"
    },
    {
     "name": "stderr",
     "output_type": "stream",
     "text": [
      "\u001b[34m\u001b[1mwandb\u001b[0m: Agent Starting Run: wewpeeyk with config:\n",
      "\u001b[34m\u001b[1mwandb\u001b[0m: \tbatch_size: 64\n",
      "\u001b[34m\u001b[1mwandb\u001b[0m: \tconv_layer1: 32\n",
      "\u001b[34m\u001b[1mwandb\u001b[0m: \tconv_layer2: 32\n",
      "\u001b[34m\u001b[1mwandb\u001b[0m: \tconv_layer3: 64\n",
      "\u001b[34m\u001b[1mwandb\u001b[0m: \tconv_layer4: 128\n",
      "\u001b[34m\u001b[1mwandb\u001b[0m: \tdense: 512\n",
      "Failed to detect the name of this notebook, you can set it manually with the WANDB_NOTEBOOK_NAME environment variable to enable code saving.\n"
     ]
    },
    {
     "data": {
      "text/html": [
       "Tracking run with wandb version 0.12.11"
      ],
      "text/plain": [
       "<IPython.core.display.HTML object>"
      ]
     },
     "metadata": {},
     "output_type": "display_data"
    },
    {
     "data": {
      "text/html": [
       "Run data is saved locally in <code>/home/jovyan/data/lightning/FrantisekUrban/wandb/run-20220324_093602-wewpeeyk</code>"
      ],
      "text/plain": [
       "<IPython.core.display.HTML object>"
      ]
     },
     "metadata": {},
     "output_type": "display_data"
    },
    {
     "data": {
      "text/html": [
       "Syncing run <strong><a href=\"https://wandb.ai/ishadowstormi/Coronary%20angiography%20network/runs/wewpeeyk\" target=\"_blank\">iconic-sweep-51</a></strong> to <a href=\"https://wandb.ai/ishadowstormi/Coronary%20angiography%20network\" target=\"_blank\">Weights & Biases</a> (<a href=\"https://wandb.me/run\" target=\"_blank\">docs</a>)<br/>Sweep page:  <a href=\"https://wandb.ai/ishadowstormi/Coronary%20angiography%20network/sweeps/wco4rtlh\" target=\"_blank\">https://wandb.ai/ishadowstormi/Coronary%20angiography%20network/sweeps/wco4rtlh</a>"
      ],
      "text/plain": [
       "<IPython.core.display.HTML object>"
      ]
     },
     "metadata": {},
     "output_type": "display_data"
    },
    {
     "name": "stdout",
     "output_type": "stream",
     "text": [
      "Epoch 1/28\n",
      " 2/73 [..............................] - ETA: 13s - loss: 15.5275 - accuracy: 0.5156WARNING:tensorflow:Callbacks method `on_train_batch_end` is slow compared to the batch time (batch time: 0.1363s vs `on_train_batch_end` time: 0.2559s). Check your callbacks.\n",
      "73/73 [==============================] - 29s 393ms/step - loss: 2.9764 - accuracy: 0.6671 - val_loss: 1.1860 - val_accuracy: 0.5800\n",
      "Epoch 2/28\n",
      "73/73 [==============================] - 28s 390ms/step - loss: 0.7884 - accuracy: 0.6973 - val_loss: 2.1871 - val_accuracy: 0.6000\n",
      "Epoch 3/28\n",
      "73/73 [==============================] - 28s 390ms/step - loss: 0.5280 - accuracy: 0.7348 - val_loss: 3.5803 - val_accuracy: 0.5700\n",
      "Epoch 4/28\n",
      "73/73 [==============================] - 28s 390ms/step - loss: 0.5290 - accuracy: 0.7299 - val_loss: 1.9206 - val_accuracy: 0.6200\n",
      "Epoch 5/28\n",
      "73/73 [==============================] - 29s 391ms/step - loss: 0.4987 - accuracy: 0.7472 - val_loss: 1.0822 - val_accuracy: 0.6100\n",
      "Epoch 6/28\n",
      "73/73 [==============================] - 28s 390ms/step - loss: 0.4641 - accuracy: 0.7746 - val_loss: 1.3987 - val_accuracy: 0.5900\n",
      "Epoch 7/28\n",
      "73/73 [==============================] - 28s 389ms/step - loss: 0.4772 - accuracy: 0.7650 - val_loss: 1.8134 - val_accuracy: 0.5900\n",
      "Epoch 8/28\n",
      "73/73 [==============================] - 28s 390ms/step - loss: 0.4238 - accuracy: 0.7913 - val_loss: 0.8297 - val_accuracy: 0.6900\n",
      "Epoch 9/28\n",
      "73/73 [==============================] - 28s 390ms/step - loss: 0.4150 - accuracy: 0.8078 - val_loss: 1.9461 - val_accuracy: 0.5600\n",
      "Epoch 10/28\n",
      "73/73 [==============================] - 28s 389ms/step - loss: 0.3966 - accuracy: 0.8151 - val_loss: 1.4729 - val_accuracy: 0.6200\n",
      "Epoch 11/28\n",
      "73/73 [==============================] - 28s 390ms/step - loss: 0.3757 - accuracy: 0.8263 - val_loss: 1.7076 - val_accuracy: 0.6300\n",
      "Epoch 12/28\n",
      "73/73 [==============================] - 28s 390ms/step - loss: 0.3401 - accuracy: 0.8451 - val_loss: 4.6533 - val_accuracy: 0.5000\n",
      "Epoch 13/28\n",
      "73/73 [==============================] - 28s 390ms/step - loss: 0.3371 - accuracy: 0.8483 - val_loss: 0.6281 - val_accuracy: 0.7300\n",
      "Epoch 14/28\n",
      "73/73 [==============================] - 28s 389ms/step - loss: 0.3102 - accuracy: 0.8567 - val_loss: 0.7853 - val_accuracy: 0.6900\n",
      "Epoch 15/28\n",
      "73/73 [==============================] - 28s 390ms/step - loss: 0.3047 - accuracy: 0.8648 - val_loss: 1.2963 - val_accuracy: 0.6600\n",
      "Epoch 16/28\n",
      "73/73 [==============================] - 28s 390ms/step - loss: 0.3013 - accuracy: 0.8680 - val_loss: 1.2753 - val_accuracy: 0.6400\n",
      "Epoch 17/28\n",
      "73/73 [==============================] - 28s 389ms/step - loss: 0.2815 - accuracy: 0.8762 - val_loss: 0.6790 - val_accuracy: 0.6500\n",
      "Epoch 18/28\n",
      "73/73 [==============================] - 28s 389ms/step - loss: 0.2777 - accuracy: 0.8817 - val_loss: 0.6959 - val_accuracy: 0.7600\n",
      "Epoch 19/28\n",
      "73/73 [==============================] - 28s 389ms/step - loss: 0.2573 - accuracy: 0.8865 - val_loss: 0.5445 - val_accuracy: 0.7500\n",
      "Epoch 20/28\n",
      "73/73 [==============================] - 28s 389ms/step - loss: 0.2546 - accuracy: 0.8877 - val_loss: 0.8011 - val_accuracy: 0.7200\n",
      "Epoch 21/28\n",
      "73/73 [==============================] - 28s 390ms/step - loss: 0.2387 - accuracy: 0.8967 - val_loss: 0.6614 - val_accuracy: 0.7800\n",
      "Epoch 22/28\n",
      "73/73 [==============================] - 28s 390ms/step - loss: 0.2289 - accuracy: 0.9038 - val_loss: 0.6004 - val_accuracy: 0.7900\n",
      "Epoch 23/28\n",
      "73/73 [==============================] - 29s 391ms/step - loss: 0.2184 - accuracy: 0.9066 - val_loss: 0.5946 - val_accuracy: 0.7600\n",
      "Epoch 24/28\n",
      "73/73 [==============================] - 29s 391ms/step - loss: 0.2177 - accuracy: 0.9098 - val_loss: 0.6684 - val_accuracy: 0.7600\n",
      "Epoch 25/28\n",
      "73/73 [==============================] - 28s 390ms/step - loss: 0.2030 - accuracy: 0.9122 - val_loss: 0.8884 - val_accuracy: 0.7000\n",
      "Epoch 26/28\n",
      "73/73 [==============================] - 28s 390ms/step - loss: 0.1864 - accuracy: 0.9216 - val_loss: 0.6572 - val_accuracy: 0.7300\n",
      "Epoch 27/28\n",
      "73/73 [==============================] - 28s 389ms/step - loss: 0.1843 - accuracy: 0.9216 - val_loss: 0.8026 - val_accuracy: 0.7900\n",
      "Epoch 28/28\n",
      "73/73 [==============================] - 29s 393ms/step - loss: 0.1640 - accuracy: 0.9297 - val_loss: 0.9111 - val_accuracy: 0.7200\n",
      "\n",
      "-----Model evaluation on test data-----\n",
      "38/38 [==============================] - 2s 62ms/step - loss: 1.9170 - accuracy: 0.4458\n",
      "Test Error Rate:  55.42\n",
      "AUC:  0.8822\n",
      "\n"
     ]
    },
    {
     "data": {
      "text/html": [
       "Waiting for W&B process to finish... <strong style=\"color:green\">(success).</strong>"
      ],
      "text/plain": [
       "<IPython.core.display.HTML object>"
      ]
     },
     "metadata": {},
     "output_type": "display_data"
    },
    {
     "data": {
      "application/vnd.jupyter.widget-view+json": {
       "model_id": "",
       "version_major": 2,
       "version_minor": 0
      },
      "text/plain": [
       "VBox(children=(Label(value='0.004 MB of 0.004 MB uploaded (0.000 MB deduped)\\r'), FloatProgress(value=1.0, max…"
      ]
     },
     "metadata": {},
     "output_type": "display_data"
    },
    {
     "data": {
      "text/html": [
       "<style>\n",
       "    table.wandb td:nth-child(1) { padding: 0 10px; text-align: right }\n",
       "    .wandb-row { display: flex; flex-direction: row; flex-wrap: wrap; width: 100% }\n",
       "    .wandb-col { display: flex; flex-direction: column; flex-basis: 100%; flex: 1; padding: 10px; }\n",
       "    </style>\n",
       "<div class=\"wandb-row\"><div class=\"wandb-col\"><h3>Run history:</h3><br/><table class=\"wandb\"><tr><td>AUC</td><td>▁</td></tr><tr><td>Test Error Rate</td><td>▁</td></tr><tr><td>accuracy</td><td>▁▂▃▃▃▄▄▄▅▅▅▆▆▆▆▆▇▇▇▇▇▇▇▇████</td></tr><tr><td>epoch</td><td>▁▁▂▂▂▂▃▃▃▃▄▄▄▄▅▅▅▅▆▆▆▆▇▇▇▇██</td></tr><tr><td>loss</td><td>█▃▂▂▂▂▂▂▂▂▂▁▁▁▁▁▁▁▁▁▁▁▁▁▁▁▁▁</td></tr><tr><td>val_accuracy</td><td>▃▃▃▄▄▃▃▆▂▄▄▁▇▆▅▄▅▇▇▆██▇▇▆▇█▆</td></tr><tr><td>val_loss</td><td>▂▄▆▃▂▂▃▁▃▃▃█▁▁▂▂▁▁▁▁▁▁▁▁▂▁▁▂</td></tr></table><br/></div><div class=\"wandb-col\"><h3>Run summary:</h3><br/><table class=\"wandb\"><tr><td>AUC</td><td>0.8822</td></tr><tr><td>Test Error Rate</td><td>55.42</td></tr><tr><td>accuracy</td><td>0.92973</td></tr><tr><td>best_epoch</td><td>18</td></tr><tr><td>best_val_loss</td><td>0.54448</td></tr><tr><td>epoch</td><td>27</td></tr><tr><td>loss</td><td>0.16398</td></tr><tr><td>val_accuracy</td><td>0.72</td></tr><tr><td>val_loss</td><td>0.91107</td></tr></table><br/></div></div>"
      ],
      "text/plain": [
       "<IPython.core.display.HTML object>"
      ]
     },
     "metadata": {},
     "output_type": "display_data"
    },
    {
     "data": {
      "text/html": [
       "Synced <strong style=\"color:#cdcd00\">iconic-sweep-51</strong>: <a href=\"https://wandb.ai/ishadowstormi/Coronary%20angiography%20network/runs/wewpeeyk\" target=\"_blank\">https://wandb.ai/ishadowstormi/Coronary%20angiography%20network/runs/wewpeeyk</a><br/>Synced 5 W&B file(s), 1 media file(s), 0 artifact file(s) and 0 other file(s)"
      ],
      "text/plain": [
       "<IPython.core.display.HTML object>"
      ]
     },
     "metadata": {},
     "output_type": "display_data"
    },
    {
     "data": {
      "text/html": [
       "Find logs at: <code>./wandb/run-20220324_093602-wewpeeyk/logs</code>"
      ],
      "text/plain": [
       "<IPython.core.display.HTML object>"
      ]
     },
     "metadata": {},
     "output_type": "display_data"
    },
    {
     "name": "stderr",
     "output_type": "stream",
     "text": [
      "\u001b[34m\u001b[1mwandb\u001b[0m: Agent Starting Run: k2gqpy51 with config:\n",
      "\u001b[34m\u001b[1mwandb\u001b[0m: \tbatch_size: 64\n",
      "\u001b[34m\u001b[1mwandb\u001b[0m: \tconv_layer1: 32\n",
      "\u001b[34m\u001b[1mwandb\u001b[0m: \tconv_layer2: 32\n",
      "\u001b[34m\u001b[1mwandb\u001b[0m: \tconv_layer3: 64\n",
      "\u001b[34m\u001b[1mwandb\u001b[0m: \tconv_layer4: 128\n",
      "\u001b[34m\u001b[1mwandb\u001b[0m: \tdense: 1024\n",
      "Failed to detect the name of this notebook, you can set it manually with the WANDB_NOTEBOOK_NAME environment variable to enable code saving.\n"
     ]
    },
    {
     "data": {
      "text/html": [
       "Tracking run with wandb version 0.12.11"
      ],
      "text/plain": [
       "<IPython.core.display.HTML object>"
      ]
     },
     "metadata": {},
     "output_type": "display_data"
    },
    {
     "data": {
      "text/html": [
       "Run data is saved locally in <code>/home/jovyan/data/lightning/FrantisekUrban/wandb/run-20220324_094952-k2gqpy51</code>"
      ],
      "text/plain": [
       "<IPython.core.display.HTML object>"
      ]
     },
     "metadata": {},
     "output_type": "display_data"
    },
    {
     "data": {
      "text/html": [
       "Syncing run <strong><a href=\"https://wandb.ai/ishadowstormi/Coronary%20angiography%20network/runs/k2gqpy51\" target=\"_blank\">glorious-sweep-52</a></strong> to <a href=\"https://wandb.ai/ishadowstormi/Coronary%20angiography%20network\" target=\"_blank\">Weights & Biases</a> (<a href=\"https://wandb.me/run\" target=\"_blank\">docs</a>)<br/>Sweep page:  <a href=\"https://wandb.ai/ishadowstormi/Coronary%20angiography%20network/sweeps/wco4rtlh\" target=\"_blank\">https://wandb.ai/ishadowstormi/Coronary%20angiography%20network/sweeps/wco4rtlh</a>"
      ],
      "text/plain": [
       "<IPython.core.display.HTML object>"
      ]
     },
     "metadata": {},
     "output_type": "display_data"
    },
    {
     "name": "stdout",
     "output_type": "stream",
     "text": [
      "Epoch 1/28\n",
      "\n"
     ]
    },
    {
     "data": {
      "text/html": [
       "Waiting for W&B process to finish... <strong style=\"color:red\">(failed 1).</strong> Press Control-C to abort syncing."
      ],
      "text/plain": [
       "<IPython.core.display.HTML object>"
      ]
     },
     "metadata": {},
     "output_type": "display_data"
    },
    {
     "data": {
      "application/vnd.jupyter.widget-view+json": {
       "model_id": "",
       "version_major": 2,
       "version_minor": 0
      },
      "text/plain": [
       "VBox(children=(Label(value='0.001 MB of 0.001 MB uploaded (0.000 MB deduped)\\r'), FloatProgress(value=1.0, max…"
      ]
     },
     "metadata": {},
     "output_type": "display_data"
    },
    {
     "data": {
      "text/html": [
       "Synced <strong style=\"color:#cdcd00\">glorious-sweep-52</strong>: <a href=\"https://wandb.ai/ishadowstormi/Coronary%20angiography%20network/runs/k2gqpy51\" target=\"_blank\">https://wandb.ai/ishadowstormi/Coronary%20angiography%20network/runs/k2gqpy51</a><br/>Synced 5 W&B file(s), 0 media file(s), 0 artifact file(s) and 0 other file(s)"
      ],
      "text/plain": [
       "<IPython.core.display.HTML object>"
      ]
     },
     "metadata": {},
     "output_type": "display_data"
    },
    {
     "data": {
      "text/html": [
       "Find logs at: <code>./wandb/run-20220324_094952-k2gqpy51/logs</code>"
      ],
      "text/plain": [
       "<IPython.core.display.HTML object>"
      ]
     },
     "metadata": {},
     "output_type": "display_data"
    },
    {
     "name": "stderr",
     "output_type": "stream",
     "text": [
      "Run k2gqpy51 errored: ResourceExhaustedError()\n",
      "\u001b[34m\u001b[1mwandb\u001b[0m: \u001b[32m\u001b[41mERROR\u001b[0m Run k2gqpy51 errored: ResourceExhaustedError()\n",
      "\u001b[34m\u001b[1mwandb\u001b[0m: Agent Starting Run: 73rl7j45 with config:\n",
      "\u001b[34m\u001b[1mwandb\u001b[0m: \tbatch_size: 64\n",
      "\u001b[34m\u001b[1mwandb\u001b[0m: \tconv_layer1: 32\n",
      "\u001b[34m\u001b[1mwandb\u001b[0m: \tconv_layer2: 32\n",
      "\u001b[34m\u001b[1mwandb\u001b[0m: \tconv_layer3: 128\n",
      "\u001b[34m\u001b[1mwandb\u001b[0m: \tconv_layer4: 64\n",
      "\u001b[34m\u001b[1mwandb\u001b[0m: \tdense: 512\n",
      "Failed to detect the name of this notebook, you can set it manually with the WANDB_NOTEBOOK_NAME environment variable to enable code saving.\n"
     ]
    },
    {
     "data": {
      "text/html": [
       "Tracking run with wandb version 0.12.11"
      ],
      "text/plain": [
       "<IPython.core.display.HTML object>"
      ]
     },
     "metadata": {},
     "output_type": "display_data"
    },
    {
     "data": {
      "text/html": [
       "Run data is saved locally in <code>/home/jovyan/data/lightning/FrantisekUrban/wandb/run-20220324_095023-73rl7j45</code>"
      ],
      "text/plain": [
       "<IPython.core.display.HTML object>"
      ]
     },
     "metadata": {},
     "output_type": "display_data"
    },
    {
     "data": {
      "text/html": [
       "Syncing run <strong><a href=\"https://wandb.ai/ishadowstormi/Coronary%20angiography%20network/runs/73rl7j45\" target=\"_blank\">treasured-sweep-53</a></strong> to <a href=\"https://wandb.ai/ishadowstormi/Coronary%20angiography%20network\" target=\"_blank\">Weights & Biases</a> (<a href=\"https://wandb.me/run\" target=\"_blank\">docs</a>)<br/>Sweep page:  <a href=\"https://wandb.ai/ishadowstormi/Coronary%20angiography%20network/sweeps/wco4rtlh\" target=\"_blank\">https://wandb.ai/ishadowstormi/Coronary%20angiography%20network/sweeps/wco4rtlh</a>"
      ],
      "text/plain": [
       "<IPython.core.display.HTML object>"
      ]
     },
     "metadata": {},
     "output_type": "display_data"
    },
    {
     "name": "stdout",
     "output_type": "stream",
     "text": [
      "Epoch 1/28\n",
      "\n"
     ]
    },
    {
     "data": {
      "text/html": [
       "Waiting for W&B process to finish... <strong style=\"color:red\">(failed 1).</strong> Press Control-C to abort syncing."
      ],
      "text/plain": [
       "<IPython.core.display.HTML object>"
      ]
     },
     "metadata": {},
     "output_type": "display_data"
    },
    {
     "data": {
      "application/vnd.jupyter.widget-view+json": {
       "model_id": "",
       "version_major": 2,
       "version_minor": 0
      },
      "text/plain": [
       "VBox(children=(Label(value='0.001 MB of 0.001 MB uploaded (0.000 MB deduped)\\r'), FloatProgress(value=1.0, max…"
      ]
     },
     "metadata": {},
     "output_type": "display_data"
    },
    {
     "data": {
      "text/html": [
       "Synced <strong style=\"color:#cdcd00\">treasured-sweep-53</strong>: <a href=\"https://wandb.ai/ishadowstormi/Coronary%20angiography%20network/runs/73rl7j45\" target=\"_blank\">https://wandb.ai/ishadowstormi/Coronary%20angiography%20network/runs/73rl7j45</a><br/>Synced 5 W&B file(s), 0 media file(s), 0 artifact file(s) and 0 other file(s)"
      ],
      "text/plain": [
       "<IPython.core.display.HTML object>"
      ]
     },
     "metadata": {},
     "output_type": "display_data"
    },
    {
     "data": {
      "text/html": [
       "Find logs at: <code>./wandb/run-20220324_095023-73rl7j45/logs</code>"
      ],
      "text/plain": [
       "<IPython.core.display.HTML object>"
      ]
     },
     "metadata": {},
     "output_type": "display_data"
    },
    {
     "name": "stderr",
     "output_type": "stream",
     "text": [
      "Run 73rl7j45 errored: ResourceExhaustedError()\n",
      "\u001b[34m\u001b[1mwandb\u001b[0m: \u001b[32m\u001b[41mERROR\u001b[0m Run 73rl7j45 errored: ResourceExhaustedError()\n",
      "\u001b[34m\u001b[1mwandb\u001b[0m: Agent Starting Run: 134mldzd with config:\n",
      "\u001b[34m\u001b[1mwandb\u001b[0m: \tbatch_size: 64\n",
      "\u001b[34m\u001b[1mwandb\u001b[0m: \tconv_layer1: 32\n",
      "\u001b[34m\u001b[1mwandb\u001b[0m: \tconv_layer2: 32\n",
      "\u001b[34m\u001b[1mwandb\u001b[0m: \tconv_layer3: 128\n",
      "\u001b[34m\u001b[1mwandb\u001b[0m: \tconv_layer4: 64\n",
      "\u001b[34m\u001b[1mwandb\u001b[0m: \tdense: 1024\n",
      "Failed to detect the name of this notebook, you can set it manually with the WANDB_NOTEBOOK_NAME environment variable to enable code saving.\n"
     ]
    },
    {
     "data": {
      "text/html": [
       "Tracking run with wandb version 0.12.11"
      ],
      "text/plain": [
       "<IPython.core.display.HTML object>"
      ]
     },
     "metadata": {},
     "output_type": "display_data"
    },
    {
     "data": {
      "text/html": [
       "Run data is saved locally in <code>/home/jovyan/data/lightning/FrantisekUrban/wandb/run-20220324_095044-134mldzd</code>"
      ],
      "text/plain": [
       "<IPython.core.display.HTML object>"
      ]
     },
     "metadata": {},
     "output_type": "display_data"
    },
    {
     "data": {
      "text/html": [
       "Syncing run <strong><a href=\"https://wandb.ai/ishadowstormi/Coronary%20angiography%20network/runs/134mldzd\" target=\"_blank\">hardy-sweep-54</a></strong> to <a href=\"https://wandb.ai/ishadowstormi/Coronary%20angiography%20network\" target=\"_blank\">Weights & Biases</a> (<a href=\"https://wandb.me/run\" target=\"_blank\">docs</a>)<br/>Sweep page:  <a href=\"https://wandb.ai/ishadowstormi/Coronary%20angiography%20network/sweeps/wco4rtlh\" target=\"_blank\">https://wandb.ai/ishadowstormi/Coronary%20angiography%20network/sweeps/wco4rtlh</a>"
      ],
      "text/plain": [
       "<IPython.core.display.HTML object>"
      ]
     },
     "metadata": {},
     "output_type": "display_data"
    },
    {
     "name": "stdout",
     "output_type": "stream",
     "text": [
      "Epoch 1/28\n",
      "\n"
     ]
    },
    {
     "data": {
      "text/html": [
       "Waiting for W&B process to finish... <strong style=\"color:red\">(failed 1).</strong> Press Control-C to abort syncing."
      ],
      "text/plain": [
       "<IPython.core.display.HTML object>"
      ]
     },
     "metadata": {},
     "output_type": "display_data"
    },
    {
     "data": {
      "application/vnd.jupyter.widget-view+json": {
       "model_id": "",
       "version_major": 2,
       "version_minor": 0
      },
      "text/plain": [
       "VBox(children=(Label(value='0.001 MB of 0.001 MB uploaded (0.000 MB deduped)\\r'), FloatProgress(value=1.0, max…"
      ]
     },
     "metadata": {},
     "output_type": "display_data"
    },
    {
     "data": {
      "text/html": [
       "Synced <strong style=\"color:#cdcd00\">hardy-sweep-54</strong>: <a href=\"https://wandb.ai/ishadowstormi/Coronary%20angiography%20network/runs/134mldzd\" target=\"_blank\">https://wandb.ai/ishadowstormi/Coronary%20angiography%20network/runs/134mldzd</a><br/>Synced 5 W&B file(s), 0 media file(s), 0 artifact file(s) and 0 other file(s)"
      ],
      "text/plain": [
       "<IPython.core.display.HTML object>"
      ]
     },
     "metadata": {},
     "output_type": "display_data"
    },
    {
     "data": {
      "text/html": [
       "Find logs at: <code>./wandb/run-20220324_095044-134mldzd/logs</code>"
      ],
      "text/plain": [
       "<IPython.core.display.HTML object>"
      ]
     },
     "metadata": {},
     "output_type": "display_data"
    },
    {
     "name": "stderr",
     "output_type": "stream",
     "text": [
      "Run 134mldzd errored: ResourceExhaustedError()\n",
      "\u001b[34m\u001b[1mwandb\u001b[0m: \u001b[32m\u001b[41mERROR\u001b[0m Run 134mldzd errored: ResourceExhaustedError()\n",
      "\u001b[34m\u001b[1mwandb\u001b[0m: Agent Starting Run: 9j7rgti6 with config:\n",
      "\u001b[34m\u001b[1mwandb\u001b[0m: \tbatch_size: 64\n",
      "\u001b[34m\u001b[1mwandb\u001b[0m: \tconv_layer1: 32\n",
      "\u001b[34m\u001b[1mwandb\u001b[0m: \tconv_layer2: 32\n",
      "\u001b[34m\u001b[1mwandb\u001b[0m: \tconv_layer3: 128\n",
      "\u001b[34m\u001b[1mwandb\u001b[0m: \tconv_layer4: 128\n",
      "\u001b[34m\u001b[1mwandb\u001b[0m: \tdense: 512\n",
      "Failed to detect the name of this notebook, you can set it manually with the WANDB_NOTEBOOK_NAME environment variable to enable code saving.\n"
     ]
    },
    {
     "data": {
      "text/html": [
       "Tracking run with wandb version 0.12.11"
      ],
      "text/plain": [
       "<IPython.core.display.HTML object>"
      ]
     },
     "metadata": {},
     "output_type": "display_data"
    },
    {
     "data": {
      "text/html": [
       "Run data is saved locally in <code>/home/jovyan/data/lightning/FrantisekUrban/wandb/run-20220324_095105-9j7rgti6</code>"
      ],
      "text/plain": [
       "<IPython.core.display.HTML object>"
      ]
     },
     "metadata": {},
     "output_type": "display_data"
    },
    {
     "data": {
      "text/html": [
       "Syncing run <strong><a href=\"https://wandb.ai/ishadowstormi/Coronary%20angiography%20network/runs/9j7rgti6\" target=\"_blank\">elated-sweep-55</a></strong> to <a href=\"https://wandb.ai/ishadowstormi/Coronary%20angiography%20network\" target=\"_blank\">Weights & Biases</a> (<a href=\"https://wandb.me/run\" target=\"_blank\">docs</a>)<br/>Sweep page:  <a href=\"https://wandb.ai/ishadowstormi/Coronary%20angiography%20network/sweeps/wco4rtlh\" target=\"_blank\">https://wandb.ai/ishadowstormi/Coronary%20angiography%20network/sweeps/wco4rtlh</a>"
      ],
      "text/plain": [
       "<IPython.core.display.HTML object>"
      ]
     },
     "metadata": {},
     "output_type": "display_data"
    },
    {
     "name": "stdout",
     "output_type": "stream",
     "text": [
      "Epoch 1/28\n",
      "\n"
     ]
    },
    {
     "data": {
      "text/html": [
       "Waiting for W&B process to finish... <strong style=\"color:red\">(failed 1).</strong> Press Control-C to abort syncing."
      ],
      "text/plain": [
       "<IPython.core.display.HTML object>"
      ]
     },
     "metadata": {},
     "output_type": "display_data"
    },
    {
     "data": {
      "application/vnd.jupyter.widget-view+json": {
       "model_id": "",
       "version_major": 2,
       "version_minor": 0
      },
      "text/plain": [
       "VBox(children=(Label(value='0.001 MB of 0.001 MB uploaded (0.000 MB deduped)\\r'), FloatProgress(value=1.0, max…"
      ]
     },
     "metadata": {},
     "output_type": "display_data"
    },
    {
     "data": {
      "text/html": [
       "Synced <strong style=\"color:#cdcd00\">elated-sweep-55</strong>: <a href=\"https://wandb.ai/ishadowstormi/Coronary%20angiography%20network/runs/9j7rgti6\" target=\"_blank\">https://wandb.ai/ishadowstormi/Coronary%20angiography%20network/runs/9j7rgti6</a><br/>Synced 5 W&B file(s), 0 media file(s), 0 artifact file(s) and 0 other file(s)"
      ],
      "text/plain": [
       "<IPython.core.display.HTML object>"
      ]
     },
     "metadata": {},
     "output_type": "display_data"
    },
    {
     "data": {
      "text/html": [
       "Find logs at: <code>./wandb/run-20220324_095105-9j7rgti6/logs</code>"
      ],
      "text/plain": [
       "<IPython.core.display.HTML object>"
      ]
     },
     "metadata": {},
     "output_type": "display_data"
    },
    {
     "name": "stderr",
     "output_type": "stream",
     "text": [
      "Run 9j7rgti6 errored: ResourceExhaustedError()\n",
      "\u001b[34m\u001b[1mwandb\u001b[0m: \u001b[32m\u001b[41mERROR\u001b[0m Run 9j7rgti6 errored: ResourceExhaustedError()\n",
      "\u001b[34m\u001b[1mwandb\u001b[0m: Agent Starting Run: halyso6s with config:\n",
      "\u001b[34m\u001b[1mwandb\u001b[0m: \tbatch_size: 64\n",
      "\u001b[34m\u001b[1mwandb\u001b[0m: \tconv_layer1: 32\n",
      "\u001b[34m\u001b[1mwandb\u001b[0m: \tconv_layer2: 32\n",
      "\u001b[34m\u001b[1mwandb\u001b[0m: \tconv_layer3: 128\n",
      "\u001b[34m\u001b[1mwandb\u001b[0m: \tconv_layer4: 128\n",
      "\u001b[34m\u001b[1mwandb\u001b[0m: \tdense: 1024\n",
      "Failed to detect the name of this notebook, you can set it manually with the WANDB_NOTEBOOK_NAME environment variable to enable code saving.\n"
     ]
    },
    {
     "data": {
      "text/html": [
       "Tracking run with wandb version 0.12.11"
      ],
      "text/plain": [
       "<IPython.core.display.HTML object>"
      ]
     },
     "metadata": {},
     "output_type": "display_data"
    },
    {
     "data": {
      "text/html": [
       "Run data is saved locally in <code>/home/jovyan/data/lightning/FrantisekUrban/wandb/run-20220324_095126-halyso6s</code>"
      ],
      "text/plain": [
       "<IPython.core.display.HTML object>"
      ]
     },
     "metadata": {},
     "output_type": "display_data"
    },
    {
     "data": {
      "text/html": [
       "Syncing run <strong><a href=\"https://wandb.ai/ishadowstormi/Coronary%20angiography%20network/runs/halyso6s\" target=\"_blank\">hearty-sweep-56</a></strong> to <a href=\"https://wandb.ai/ishadowstormi/Coronary%20angiography%20network\" target=\"_blank\">Weights & Biases</a> (<a href=\"https://wandb.me/run\" target=\"_blank\">docs</a>)<br/>Sweep page:  <a href=\"https://wandb.ai/ishadowstormi/Coronary%20angiography%20network/sweeps/wco4rtlh\" target=\"_blank\">https://wandb.ai/ishadowstormi/Coronary%20angiography%20network/sweeps/wco4rtlh</a>"
      ],
      "text/plain": [
       "<IPython.core.display.HTML object>"
      ]
     },
     "metadata": {},
     "output_type": "display_data"
    },
    {
     "name": "stdout",
     "output_type": "stream",
     "text": [
      "Epoch 1/28\n",
      "\n"
     ]
    },
    {
     "data": {
      "text/html": [
       "Waiting for W&B process to finish... <strong style=\"color:red\">(failed 1).</strong> Press Control-C to abort syncing."
      ],
      "text/plain": [
       "<IPython.core.display.HTML object>"
      ]
     },
     "metadata": {},
     "output_type": "display_data"
    },
    {
     "data": {
      "application/vnd.jupyter.widget-view+json": {
       "model_id": "",
       "version_major": 2,
       "version_minor": 0
      },
      "text/plain": [
       "VBox(children=(Label(value='0.001 MB of 0.001 MB uploaded (0.000 MB deduped)\\r'), FloatProgress(value=1.0, max…"
      ]
     },
     "metadata": {},
     "output_type": "display_data"
    },
    {
     "data": {
      "text/html": [
       "Synced <strong style=\"color:#cdcd00\">hearty-sweep-56</strong>: <a href=\"https://wandb.ai/ishadowstormi/Coronary%20angiography%20network/runs/halyso6s\" target=\"_blank\">https://wandb.ai/ishadowstormi/Coronary%20angiography%20network/runs/halyso6s</a><br/>Synced 5 W&B file(s), 0 media file(s), 0 artifact file(s) and 0 other file(s)"
      ],
      "text/plain": [
       "<IPython.core.display.HTML object>"
      ]
     },
     "metadata": {},
     "output_type": "display_data"
    },
    {
     "data": {
      "text/html": [
       "Find logs at: <code>./wandb/run-20220324_095126-halyso6s/logs</code>"
      ],
      "text/plain": [
       "<IPython.core.display.HTML object>"
      ]
     },
     "metadata": {},
     "output_type": "display_data"
    },
    {
     "name": "stderr",
     "output_type": "stream",
     "text": [
      "Run halyso6s errored: ResourceExhaustedError()\n",
      "\u001b[34m\u001b[1mwandb\u001b[0m: \u001b[32m\u001b[41mERROR\u001b[0m Run halyso6s errored: ResourceExhaustedError()\n",
      "\u001b[34m\u001b[1mwandb\u001b[0m: Agent Starting Run: abyjqsbt with config:\n",
      "\u001b[34m\u001b[1mwandb\u001b[0m: \tbatch_size: 64\n",
      "\u001b[34m\u001b[1mwandb\u001b[0m: \tconv_layer1: 32\n",
      "\u001b[34m\u001b[1mwandb\u001b[0m: \tconv_layer2: 64\n",
      "\u001b[34m\u001b[1mwandb\u001b[0m: \tconv_layer3: 64\n",
      "\u001b[34m\u001b[1mwandb\u001b[0m: \tconv_layer4: 64\n",
      "\u001b[34m\u001b[1mwandb\u001b[0m: \tdense: 512\n",
      "Failed to detect the name of this notebook, you can set it manually with the WANDB_NOTEBOOK_NAME environment variable to enable code saving.\n"
     ]
    },
    {
     "data": {
      "text/html": [
       "Tracking run with wandb version 0.12.11"
      ],
      "text/plain": [
       "<IPython.core.display.HTML object>"
      ]
     },
     "metadata": {},
     "output_type": "display_data"
    },
    {
     "data": {
      "text/html": [
       "Run data is saved locally in <code>/home/jovyan/data/lightning/FrantisekUrban/wandb/run-20220324_095148-abyjqsbt</code>"
      ],
      "text/plain": [
       "<IPython.core.display.HTML object>"
      ]
     },
     "metadata": {},
     "output_type": "display_data"
    },
    {
     "data": {
      "text/html": [
       "Syncing run <strong><a href=\"https://wandb.ai/ishadowstormi/Coronary%20angiography%20network/runs/abyjqsbt\" target=\"_blank\">dauntless-sweep-57</a></strong> to <a href=\"https://wandb.ai/ishadowstormi/Coronary%20angiography%20network\" target=\"_blank\">Weights & Biases</a> (<a href=\"https://wandb.me/run\" target=\"_blank\">docs</a>)<br/>Sweep page:  <a href=\"https://wandb.ai/ishadowstormi/Coronary%20angiography%20network/sweeps/wco4rtlh\" target=\"_blank\">https://wandb.ai/ishadowstormi/Coronary%20angiography%20network/sweeps/wco4rtlh</a>"
      ],
      "text/plain": [
       "<IPython.core.display.HTML object>"
      ]
     },
     "metadata": {},
     "output_type": "display_data"
    },
    {
     "name": "stdout",
     "output_type": "stream",
     "text": [
      "Epoch 1/28\n",
      "\n"
     ]
    },
    {
     "data": {
      "text/html": [
       "Waiting for W&B process to finish... <strong style=\"color:red\">(failed 1).</strong> Press Control-C to abort syncing."
      ],
      "text/plain": [
       "<IPython.core.display.HTML object>"
      ]
     },
     "metadata": {},
     "output_type": "display_data"
    },
    {
     "data": {
      "application/vnd.jupyter.widget-view+json": {
       "model_id": "",
       "version_major": 2,
       "version_minor": 0
      },
      "text/plain": [
       "VBox(children=(Label(value='0.001 MB of 0.001 MB uploaded (0.000 MB deduped)\\r'), FloatProgress(value=1.0, max…"
      ]
     },
     "metadata": {},
     "output_type": "display_data"
    },
    {
     "data": {
      "text/html": [
       "Synced <strong style=\"color:#cdcd00\">dauntless-sweep-57</strong>: <a href=\"https://wandb.ai/ishadowstormi/Coronary%20angiography%20network/runs/abyjqsbt\" target=\"_blank\">https://wandb.ai/ishadowstormi/Coronary%20angiography%20network/runs/abyjqsbt</a><br/>Synced 5 W&B file(s), 0 media file(s), 0 artifact file(s) and 0 other file(s)"
      ],
      "text/plain": [
       "<IPython.core.display.HTML object>"
      ]
     },
     "metadata": {},
     "output_type": "display_data"
    },
    {
     "data": {
      "text/html": [
       "Find logs at: <code>./wandb/run-20220324_095148-abyjqsbt/logs</code>"
      ],
      "text/plain": [
       "<IPython.core.display.HTML object>"
      ]
     },
     "metadata": {},
     "output_type": "display_data"
    },
    {
     "name": "stderr",
     "output_type": "stream",
     "text": [
      "Run abyjqsbt errored: ResourceExhaustedError()\n",
      "\u001b[34m\u001b[1mwandb\u001b[0m: \u001b[32m\u001b[41mERROR\u001b[0m Run abyjqsbt errored: ResourceExhaustedError()\n",
      "\u001b[34m\u001b[1mwandb\u001b[0m: Agent Starting Run: x85ldvwc with config:\n",
      "\u001b[34m\u001b[1mwandb\u001b[0m: \tbatch_size: 64\n",
      "\u001b[34m\u001b[1mwandb\u001b[0m: \tconv_layer1: 32\n",
      "\u001b[34m\u001b[1mwandb\u001b[0m: \tconv_layer2: 64\n",
      "\u001b[34m\u001b[1mwandb\u001b[0m: \tconv_layer3: 64\n",
      "\u001b[34m\u001b[1mwandb\u001b[0m: \tconv_layer4: 64\n",
      "\u001b[34m\u001b[1mwandb\u001b[0m: \tdense: 1024\n",
      "Failed to detect the name of this notebook, you can set it manually with the WANDB_NOTEBOOK_NAME environment variable to enable code saving.\n"
     ]
    },
    {
     "data": {
      "text/html": [
       "Tracking run with wandb version 0.12.11"
      ],
      "text/plain": [
       "<IPython.core.display.HTML object>"
      ]
     },
     "metadata": {},
     "output_type": "display_data"
    },
    {
     "data": {
      "text/html": [
       "Run data is saved locally in <code>/home/jovyan/data/lightning/FrantisekUrban/wandb/run-20220324_095208-x85ldvwc</code>"
      ],
      "text/plain": [
       "<IPython.core.display.HTML object>"
      ]
     },
     "metadata": {},
     "output_type": "display_data"
    },
    {
     "data": {
      "text/html": [
       "Syncing run <strong><a href=\"https://wandb.ai/ishadowstormi/Coronary%20angiography%20network/runs/x85ldvwc\" target=\"_blank\">dutiful-sweep-58</a></strong> to <a href=\"https://wandb.ai/ishadowstormi/Coronary%20angiography%20network\" target=\"_blank\">Weights & Biases</a> (<a href=\"https://wandb.me/run\" target=\"_blank\">docs</a>)<br/>Sweep page:  <a href=\"https://wandb.ai/ishadowstormi/Coronary%20angiography%20network/sweeps/wco4rtlh\" target=\"_blank\">https://wandb.ai/ishadowstormi/Coronary%20angiography%20network/sweeps/wco4rtlh</a>"
      ],
      "text/plain": [
       "<IPython.core.display.HTML object>"
      ]
     },
     "metadata": {},
     "output_type": "display_data"
    },
    {
     "name": "stdout",
     "output_type": "stream",
     "text": [
      "Epoch 1/28\n",
      "\n"
     ]
    },
    {
     "data": {
      "text/html": [
       "Waiting for W&B process to finish... <strong style=\"color:red\">(failed 1).</strong> Press Control-C to abort syncing."
      ],
      "text/plain": [
       "<IPython.core.display.HTML object>"
      ]
     },
     "metadata": {},
     "output_type": "display_data"
    },
    {
     "data": {
      "application/vnd.jupyter.widget-view+json": {
       "model_id": "",
       "version_major": 2,
       "version_minor": 0
      },
      "text/plain": [
       "VBox(children=(Label(value='0.001 MB of 0.001 MB uploaded (0.000 MB deduped)\\r'), FloatProgress(value=1.0, max…"
      ]
     },
     "metadata": {},
     "output_type": "display_data"
    },
    {
     "data": {
      "text/html": [
       "Synced <strong style=\"color:#cdcd00\">dutiful-sweep-58</strong>: <a href=\"https://wandb.ai/ishadowstormi/Coronary%20angiography%20network/runs/x85ldvwc\" target=\"_blank\">https://wandb.ai/ishadowstormi/Coronary%20angiography%20network/runs/x85ldvwc</a><br/>Synced 5 W&B file(s), 0 media file(s), 0 artifact file(s) and 0 other file(s)"
      ],
      "text/plain": [
       "<IPython.core.display.HTML object>"
      ]
     },
     "metadata": {},
     "output_type": "display_data"
    },
    {
     "data": {
      "text/html": [
       "Find logs at: <code>./wandb/run-20220324_095208-x85ldvwc/logs</code>"
      ],
      "text/plain": [
       "<IPython.core.display.HTML object>"
      ]
     },
     "metadata": {},
     "output_type": "display_data"
    },
    {
     "name": "stderr",
     "output_type": "stream",
     "text": [
      "Run x85ldvwc errored: ResourceExhaustedError()\n",
      "\u001b[34m\u001b[1mwandb\u001b[0m: \u001b[32m\u001b[41mERROR\u001b[0m Run x85ldvwc errored: ResourceExhaustedError()\n",
      "\u001b[34m\u001b[1mwandb\u001b[0m: Agent Starting Run: p1wwu7ll with config:\n",
      "\u001b[34m\u001b[1mwandb\u001b[0m: \tbatch_size: 64\n",
      "\u001b[34m\u001b[1mwandb\u001b[0m: \tconv_layer1: 32\n",
      "\u001b[34m\u001b[1mwandb\u001b[0m: \tconv_layer2: 64\n",
      "\u001b[34m\u001b[1mwandb\u001b[0m: \tconv_layer3: 64\n",
      "\u001b[34m\u001b[1mwandb\u001b[0m: \tconv_layer4: 128\n",
      "\u001b[34m\u001b[1mwandb\u001b[0m: \tdense: 512\n",
      "Failed to detect the name of this notebook, you can set it manually with the WANDB_NOTEBOOK_NAME environment variable to enable code saving.\n"
     ]
    },
    {
     "data": {
      "text/html": [
       "Tracking run with wandb version 0.12.11"
      ],
      "text/plain": [
       "<IPython.core.display.HTML object>"
      ]
     },
     "metadata": {},
     "output_type": "display_data"
    },
    {
     "data": {
      "text/html": [
       "Run data is saved locally in <code>/home/jovyan/data/lightning/FrantisekUrban/wandb/run-20220324_095230-p1wwu7ll</code>"
      ],
      "text/plain": [
       "<IPython.core.display.HTML object>"
      ]
     },
     "metadata": {},
     "output_type": "display_data"
    },
    {
     "data": {
      "text/html": [
       "Syncing run <strong><a href=\"https://wandb.ai/ishadowstormi/Coronary%20angiography%20network/runs/p1wwu7ll\" target=\"_blank\">usual-sweep-59</a></strong> to <a href=\"https://wandb.ai/ishadowstormi/Coronary%20angiography%20network\" target=\"_blank\">Weights & Biases</a> (<a href=\"https://wandb.me/run\" target=\"_blank\">docs</a>)<br/>Sweep page:  <a href=\"https://wandb.ai/ishadowstormi/Coronary%20angiography%20network/sweeps/wco4rtlh\" target=\"_blank\">https://wandb.ai/ishadowstormi/Coronary%20angiography%20network/sweeps/wco4rtlh</a>"
      ],
      "text/plain": [
       "<IPython.core.display.HTML object>"
      ]
     },
     "metadata": {},
     "output_type": "display_data"
    },
    {
     "name": "stdout",
     "output_type": "stream",
     "text": [
      "Epoch 1/28\n",
      "\n"
     ]
    },
    {
     "data": {
      "text/html": [
       "Waiting for W&B process to finish... <strong style=\"color:red\">(failed 1).</strong> Press Control-C to abort syncing."
      ],
      "text/plain": [
       "<IPython.core.display.HTML object>"
      ]
     },
     "metadata": {},
     "output_type": "display_data"
    },
    {
     "data": {
      "application/vnd.jupyter.widget-view+json": {
       "model_id": "",
       "version_major": 2,
       "version_minor": 0
      },
      "text/plain": [
       "VBox(children=(Label(value='0.001 MB of 0.001 MB uploaded (0.000 MB deduped)\\r'), FloatProgress(value=1.0, max…"
      ]
     },
     "metadata": {},
     "output_type": "display_data"
    },
    {
     "data": {
      "text/html": [
       "Synced <strong style=\"color:#cdcd00\">usual-sweep-59</strong>: <a href=\"https://wandb.ai/ishadowstormi/Coronary%20angiography%20network/runs/p1wwu7ll\" target=\"_blank\">https://wandb.ai/ishadowstormi/Coronary%20angiography%20network/runs/p1wwu7ll</a><br/>Synced 5 W&B file(s), 0 media file(s), 0 artifact file(s) and 0 other file(s)"
      ],
      "text/plain": [
       "<IPython.core.display.HTML object>"
      ]
     },
     "metadata": {},
     "output_type": "display_data"
    },
    {
     "data": {
      "text/html": [
       "Find logs at: <code>./wandb/run-20220324_095230-p1wwu7ll/logs</code>"
      ],
      "text/plain": [
       "<IPython.core.display.HTML object>"
      ]
     },
     "metadata": {},
     "output_type": "display_data"
    },
    {
     "name": "stderr",
     "output_type": "stream",
     "text": [
      "Run p1wwu7ll errored: ResourceExhaustedError()\n",
      "\u001b[34m\u001b[1mwandb\u001b[0m: \u001b[32m\u001b[41mERROR\u001b[0m Run p1wwu7ll errored: ResourceExhaustedError()\n",
      "\u001b[34m\u001b[1mwandb\u001b[0m: Agent Starting Run: ii9vmed7 with config:\n",
      "\u001b[34m\u001b[1mwandb\u001b[0m: \tbatch_size: 64\n",
      "\u001b[34m\u001b[1mwandb\u001b[0m: \tconv_layer1: 32\n",
      "\u001b[34m\u001b[1mwandb\u001b[0m: \tconv_layer2: 64\n",
      "\u001b[34m\u001b[1mwandb\u001b[0m: \tconv_layer3: 64\n",
      "\u001b[34m\u001b[1mwandb\u001b[0m: \tconv_layer4: 128\n",
      "\u001b[34m\u001b[1mwandb\u001b[0m: \tdense: 1024\n",
      "Failed to detect the name of this notebook, you can set it manually with the WANDB_NOTEBOOK_NAME environment variable to enable code saving.\n"
     ]
    },
    {
     "data": {
      "text/html": [
       "Tracking run with wandb version 0.12.11"
      ],
      "text/plain": [
       "<IPython.core.display.HTML object>"
      ]
     },
     "metadata": {},
     "output_type": "display_data"
    },
    {
     "data": {
      "text/html": [
       "Run data is saved locally in <code>/home/jovyan/data/lightning/FrantisekUrban/wandb/run-20220324_095251-ii9vmed7</code>"
      ],
      "text/plain": [
       "<IPython.core.display.HTML object>"
      ]
     },
     "metadata": {},
     "output_type": "display_data"
    },
    {
     "data": {
      "text/html": [
       "Syncing run <strong><a href=\"https://wandb.ai/ishadowstormi/Coronary%20angiography%20network/runs/ii9vmed7\" target=\"_blank\">apricot-sweep-60</a></strong> to <a href=\"https://wandb.ai/ishadowstormi/Coronary%20angiography%20network\" target=\"_blank\">Weights & Biases</a> (<a href=\"https://wandb.me/run\" target=\"_blank\">docs</a>)<br/>Sweep page:  <a href=\"https://wandb.ai/ishadowstormi/Coronary%20angiography%20network/sweeps/wco4rtlh\" target=\"_blank\">https://wandb.ai/ishadowstormi/Coronary%20angiography%20network/sweeps/wco4rtlh</a>"
      ],
      "text/plain": [
       "<IPython.core.display.HTML object>"
      ]
     },
     "metadata": {},
     "output_type": "display_data"
    },
    {
     "name": "stdout",
     "output_type": "stream",
     "text": [
      "Epoch 1/28\n",
      "\n"
     ]
    },
    {
     "data": {
      "text/html": [
       "Waiting for W&B process to finish... <strong style=\"color:red\">(failed 1).</strong> Press Control-C to abort syncing."
      ],
      "text/plain": [
       "<IPython.core.display.HTML object>"
      ]
     },
     "metadata": {},
     "output_type": "display_data"
    },
    {
     "data": {
      "application/vnd.jupyter.widget-view+json": {
       "model_id": "",
       "version_major": 2,
       "version_minor": 0
      },
      "text/plain": [
       "VBox(children=(Label(value='0.001 MB of 0.001 MB uploaded (0.000 MB deduped)\\r'), FloatProgress(value=1.0, max…"
      ]
     },
     "metadata": {},
     "output_type": "display_data"
    },
    {
     "data": {
      "text/html": [
       "Synced <strong style=\"color:#cdcd00\">apricot-sweep-60</strong>: <a href=\"https://wandb.ai/ishadowstormi/Coronary%20angiography%20network/runs/ii9vmed7\" target=\"_blank\">https://wandb.ai/ishadowstormi/Coronary%20angiography%20network/runs/ii9vmed7</a><br/>Synced 5 W&B file(s), 0 media file(s), 0 artifact file(s) and 0 other file(s)"
      ],
      "text/plain": [
       "<IPython.core.display.HTML object>"
      ]
     },
     "metadata": {},
     "output_type": "display_data"
    },
    {
     "data": {
      "text/html": [
       "Find logs at: <code>./wandb/run-20220324_095251-ii9vmed7/logs</code>"
      ],
      "text/plain": [
       "<IPython.core.display.HTML object>"
      ]
     },
     "metadata": {},
     "output_type": "display_data"
    },
    {
     "name": "stderr",
     "output_type": "stream",
     "text": [
      "Run ii9vmed7 errored: ResourceExhaustedError()\n",
      "\u001b[34m\u001b[1mwandb\u001b[0m: \u001b[32m\u001b[41mERROR\u001b[0m Run ii9vmed7 errored: ResourceExhaustedError()\n",
      "\u001b[34m\u001b[1mwandb\u001b[0m: Agent Starting Run: uyfd9val with config:\n",
      "\u001b[34m\u001b[1mwandb\u001b[0m: \tbatch_size: 64\n",
      "\u001b[34m\u001b[1mwandb\u001b[0m: \tconv_layer1: 32\n",
      "\u001b[34m\u001b[1mwandb\u001b[0m: \tconv_layer2: 64\n",
      "\u001b[34m\u001b[1mwandb\u001b[0m: \tconv_layer3: 128\n",
      "\u001b[34m\u001b[1mwandb\u001b[0m: \tconv_layer4: 64\n",
      "\u001b[34m\u001b[1mwandb\u001b[0m: \tdense: 512\n",
      "Failed to detect the name of this notebook, you can set it manually with the WANDB_NOTEBOOK_NAME environment variable to enable code saving.\n"
     ]
    },
    {
     "data": {
      "text/html": [
       "Tracking run with wandb version 0.12.11"
      ],
      "text/plain": [
       "<IPython.core.display.HTML object>"
      ]
     },
     "metadata": {},
     "output_type": "display_data"
    },
    {
     "data": {
      "text/html": [
       "Run data is saved locally in <code>/home/jovyan/data/lightning/FrantisekUrban/wandb/run-20220324_095312-uyfd9val</code>"
      ],
      "text/plain": [
       "<IPython.core.display.HTML object>"
      ]
     },
     "metadata": {},
     "output_type": "display_data"
    },
    {
     "data": {
      "text/html": [
       "Syncing run <strong><a href=\"https://wandb.ai/ishadowstormi/Coronary%20angiography%20network/runs/uyfd9val\" target=\"_blank\">peachy-sweep-61</a></strong> to <a href=\"https://wandb.ai/ishadowstormi/Coronary%20angiography%20network\" target=\"_blank\">Weights & Biases</a> (<a href=\"https://wandb.me/run\" target=\"_blank\">docs</a>)<br/>Sweep page:  <a href=\"https://wandb.ai/ishadowstormi/Coronary%20angiography%20network/sweeps/wco4rtlh\" target=\"_blank\">https://wandb.ai/ishadowstormi/Coronary%20angiography%20network/sweeps/wco4rtlh</a>"
      ],
      "text/plain": [
       "<IPython.core.display.HTML object>"
      ]
     },
     "metadata": {},
     "output_type": "display_data"
    },
    {
     "name": "stdout",
     "output_type": "stream",
     "text": [
      "Epoch 1/28\n",
      "\n"
     ]
    },
    {
     "data": {
      "text/html": [
       "Waiting for W&B process to finish... <strong style=\"color:red\">(failed 1).</strong> Press Control-C to abort syncing."
      ],
      "text/plain": [
       "<IPython.core.display.HTML object>"
      ]
     },
     "metadata": {},
     "output_type": "display_data"
    },
    {
     "data": {
      "application/vnd.jupyter.widget-view+json": {
       "model_id": "",
       "version_major": 2,
       "version_minor": 0
      },
      "text/plain": [
       "VBox(children=(Label(value='0.001 MB of 0.001 MB uploaded (0.000 MB deduped)\\r'), FloatProgress(value=1.0, max…"
      ]
     },
     "metadata": {},
     "output_type": "display_data"
    },
    {
     "data": {
      "text/html": [
       "Synced <strong style=\"color:#cdcd00\">peachy-sweep-61</strong>: <a href=\"https://wandb.ai/ishadowstormi/Coronary%20angiography%20network/runs/uyfd9val\" target=\"_blank\">https://wandb.ai/ishadowstormi/Coronary%20angiography%20network/runs/uyfd9val</a><br/>Synced 5 W&B file(s), 0 media file(s), 0 artifact file(s) and 0 other file(s)"
      ],
      "text/plain": [
       "<IPython.core.display.HTML object>"
      ]
     },
     "metadata": {},
     "output_type": "display_data"
    },
    {
     "data": {
      "text/html": [
       "Find logs at: <code>./wandb/run-20220324_095312-uyfd9val/logs</code>"
      ],
      "text/plain": [
       "<IPython.core.display.HTML object>"
      ]
     },
     "metadata": {},
     "output_type": "display_data"
    },
    {
     "name": "stderr",
     "output_type": "stream",
     "text": [
      "Run uyfd9val errored: ResourceExhaustedError()\n",
      "\u001b[34m\u001b[1mwandb\u001b[0m: \u001b[32m\u001b[41mERROR\u001b[0m Run uyfd9val errored: ResourceExhaustedError()\n",
      "\u001b[34m\u001b[1mwandb\u001b[0m: Agent Starting Run: oicflfsc with config:\n",
      "\u001b[34m\u001b[1mwandb\u001b[0m: \tbatch_size: 64\n",
      "\u001b[34m\u001b[1mwandb\u001b[0m: \tconv_layer1: 32\n",
      "\u001b[34m\u001b[1mwandb\u001b[0m: \tconv_layer2: 64\n",
      "\u001b[34m\u001b[1mwandb\u001b[0m: \tconv_layer3: 128\n",
      "\u001b[34m\u001b[1mwandb\u001b[0m: \tconv_layer4: 64\n",
      "\u001b[34m\u001b[1mwandb\u001b[0m: \tdense: 1024\n",
      "Failed to detect the name of this notebook, you can set it manually with the WANDB_NOTEBOOK_NAME environment variable to enable code saving.\n"
     ]
    },
    {
     "data": {
      "text/html": [
       "Tracking run with wandb version 0.12.11"
      ],
      "text/plain": [
       "<IPython.core.display.HTML object>"
      ]
     },
     "metadata": {},
     "output_type": "display_data"
    },
    {
     "data": {
      "text/html": [
       "Run data is saved locally in <code>/home/jovyan/data/lightning/FrantisekUrban/wandb/run-20220324_095333-oicflfsc</code>"
      ],
      "text/plain": [
       "<IPython.core.display.HTML object>"
      ]
     },
     "metadata": {},
     "output_type": "display_data"
    },
    {
     "data": {
      "text/html": [
       "Syncing run <strong><a href=\"https://wandb.ai/ishadowstormi/Coronary%20angiography%20network/runs/oicflfsc\" target=\"_blank\">floral-sweep-62</a></strong> to <a href=\"https://wandb.ai/ishadowstormi/Coronary%20angiography%20network\" target=\"_blank\">Weights & Biases</a> (<a href=\"https://wandb.me/run\" target=\"_blank\">docs</a>)<br/>Sweep page:  <a href=\"https://wandb.ai/ishadowstormi/Coronary%20angiography%20network/sweeps/wco4rtlh\" target=\"_blank\">https://wandb.ai/ishadowstormi/Coronary%20angiography%20network/sweeps/wco4rtlh</a>"
      ],
      "text/plain": [
       "<IPython.core.display.HTML object>"
      ]
     },
     "metadata": {},
     "output_type": "display_data"
    },
    {
     "name": "stdout",
     "output_type": "stream",
     "text": [
      "Epoch 1/28\n",
      "\n"
     ]
    },
    {
     "data": {
      "text/html": [
       "Waiting for W&B process to finish... <strong style=\"color:red\">(failed 1).</strong> Press Control-C to abort syncing."
      ],
      "text/plain": [
       "<IPython.core.display.HTML object>"
      ]
     },
     "metadata": {},
     "output_type": "display_data"
    },
    {
     "data": {
      "application/vnd.jupyter.widget-view+json": {
       "model_id": "",
       "version_major": 2,
       "version_minor": 0
      },
      "text/plain": [
       "VBox(children=(Label(value='0.001 MB of 0.001 MB uploaded (0.000 MB deduped)\\r'), FloatProgress(value=1.0, max…"
      ]
     },
     "metadata": {},
     "output_type": "display_data"
    },
    {
     "data": {
      "text/html": [
       "Synced <strong style=\"color:#cdcd00\">floral-sweep-62</strong>: <a href=\"https://wandb.ai/ishadowstormi/Coronary%20angiography%20network/runs/oicflfsc\" target=\"_blank\">https://wandb.ai/ishadowstormi/Coronary%20angiography%20network/runs/oicflfsc</a><br/>Synced 5 W&B file(s), 0 media file(s), 0 artifact file(s) and 0 other file(s)"
      ],
      "text/plain": [
       "<IPython.core.display.HTML object>"
      ]
     },
     "metadata": {},
     "output_type": "display_data"
    },
    {
     "data": {
      "text/html": [
       "Find logs at: <code>./wandb/run-20220324_095333-oicflfsc/logs</code>"
      ],
      "text/plain": [
       "<IPython.core.display.HTML object>"
      ]
     },
     "metadata": {},
     "output_type": "display_data"
    },
    {
     "name": "stderr",
     "output_type": "stream",
     "text": [
      "Run oicflfsc errored: ResourceExhaustedError()\n",
      "\u001b[34m\u001b[1mwandb\u001b[0m: \u001b[32m\u001b[41mERROR\u001b[0m Run oicflfsc errored: ResourceExhaustedError()\n",
      "\u001b[34m\u001b[1mwandb\u001b[0m: Agent Starting Run: e374p0zc with config:\n",
      "\u001b[34m\u001b[1mwandb\u001b[0m: \tbatch_size: 64\n",
      "\u001b[34m\u001b[1mwandb\u001b[0m: \tconv_layer1: 32\n",
      "\u001b[34m\u001b[1mwandb\u001b[0m: \tconv_layer2: 64\n",
      "\u001b[34m\u001b[1mwandb\u001b[0m: \tconv_layer3: 128\n",
      "\u001b[34m\u001b[1mwandb\u001b[0m: \tconv_layer4: 128\n",
      "\u001b[34m\u001b[1mwandb\u001b[0m: \tdense: 512\n",
      "Failed to detect the name of this notebook, you can set it manually with the WANDB_NOTEBOOK_NAME environment variable to enable code saving.\n"
     ]
    },
    {
     "data": {
      "text/html": [
       "Tracking run with wandb version 0.12.11"
      ],
      "text/plain": [
       "<IPython.core.display.HTML object>"
      ]
     },
     "metadata": {},
     "output_type": "display_data"
    },
    {
     "data": {
      "text/html": [
       "Run data is saved locally in <code>/home/jovyan/data/lightning/FrantisekUrban/wandb/run-20220324_095405-e374p0zc</code>"
      ],
      "text/plain": [
       "<IPython.core.display.HTML object>"
      ]
     },
     "metadata": {},
     "output_type": "display_data"
    },
    {
     "data": {
      "text/html": [
       "Syncing run <strong><a href=\"https://wandb.ai/ishadowstormi/Coronary%20angiography%20network/runs/e374p0zc\" target=\"_blank\">jolly-sweep-63</a></strong> to <a href=\"https://wandb.ai/ishadowstormi/Coronary%20angiography%20network\" target=\"_blank\">Weights & Biases</a> (<a href=\"https://wandb.me/run\" target=\"_blank\">docs</a>)<br/>Sweep page:  <a href=\"https://wandb.ai/ishadowstormi/Coronary%20angiography%20network/sweeps/wco4rtlh\" target=\"_blank\">https://wandb.ai/ishadowstormi/Coronary%20angiography%20network/sweeps/wco4rtlh</a>"
      ],
      "text/plain": [
       "<IPython.core.display.HTML object>"
      ]
     },
     "metadata": {},
     "output_type": "display_data"
    },
    {
     "name": "stdout",
     "output_type": "stream",
     "text": [
      "Epoch 1/28\n",
      "\n"
     ]
    },
    {
     "data": {
      "text/html": [
       "Waiting for W&B process to finish... <strong style=\"color:red\">(failed 1).</strong> Press Control-C to abort syncing."
      ],
      "text/plain": [
       "<IPython.core.display.HTML object>"
      ]
     },
     "metadata": {},
     "output_type": "display_data"
    },
    {
     "data": {
      "application/vnd.jupyter.widget-view+json": {
       "model_id": "",
       "version_major": 2,
       "version_minor": 0
      },
      "text/plain": [
       "VBox(children=(Label(value='0.001 MB of 0.001 MB uploaded (0.000 MB deduped)\\r'), FloatProgress(value=1.0, max…"
      ]
     },
     "metadata": {},
     "output_type": "display_data"
    },
    {
     "data": {
      "text/html": [
       "Synced <strong style=\"color:#cdcd00\">jolly-sweep-63</strong>: <a href=\"https://wandb.ai/ishadowstormi/Coronary%20angiography%20network/runs/e374p0zc\" target=\"_blank\">https://wandb.ai/ishadowstormi/Coronary%20angiography%20network/runs/e374p0zc</a><br/>Synced 5 W&B file(s), 0 media file(s), 0 artifact file(s) and 0 other file(s)"
      ],
      "text/plain": [
       "<IPython.core.display.HTML object>"
      ]
     },
     "metadata": {},
     "output_type": "display_data"
    },
    {
     "data": {
      "text/html": [
       "Find logs at: <code>./wandb/run-20220324_095405-e374p0zc/logs</code>"
      ],
      "text/plain": [
       "<IPython.core.display.HTML object>"
      ]
     },
     "metadata": {},
     "output_type": "display_data"
    },
    {
     "name": "stderr",
     "output_type": "stream",
     "text": [
      "Run e374p0zc errored: ResourceExhaustedError()\n",
      "\u001b[34m\u001b[1mwandb\u001b[0m: \u001b[32m\u001b[41mERROR\u001b[0m Run e374p0zc errored: ResourceExhaustedError()\n",
      "\u001b[34m\u001b[1mwandb\u001b[0m: Agent Starting Run: rprsjfdg with config:\n",
      "\u001b[34m\u001b[1mwandb\u001b[0m: \tbatch_size: 64\n",
      "\u001b[34m\u001b[1mwandb\u001b[0m: \tconv_layer1: 32\n",
      "\u001b[34m\u001b[1mwandb\u001b[0m: \tconv_layer2: 64\n",
      "\u001b[34m\u001b[1mwandb\u001b[0m: \tconv_layer3: 128\n",
      "\u001b[34m\u001b[1mwandb\u001b[0m: \tconv_layer4: 128\n",
      "\u001b[34m\u001b[1mwandb\u001b[0m: \tdense: 1024\n",
      "Failed to detect the name of this notebook, you can set it manually with the WANDB_NOTEBOOK_NAME environment variable to enable code saving.\n"
     ]
    },
    {
     "data": {
      "text/html": [
       "Tracking run with wandb version 0.12.11"
      ],
      "text/plain": [
       "<IPython.core.display.HTML object>"
      ]
     },
     "metadata": {},
     "output_type": "display_data"
    },
    {
     "data": {
      "text/html": [
       "Run data is saved locally in <code>/home/jovyan/data/lightning/FrantisekUrban/wandb/run-20220324_095436-rprsjfdg</code>"
      ],
      "text/plain": [
       "<IPython.core.display.HTML object>"
      ]
     },
     "metadata": {},
     "output_type": "display_data"
    },
    {
     "data": {
      "text/html": [
       "Syncing run <strong><a href=\"https://wandb.ai/ishadowstormi/Coronary%20angiography%20network/runs/rprsjfdg\" target=\"_blank\">cosmic-sweep-64</a></strong> to <a href=\"https://wandb.ai/ishadowstormi/Coronary%20angiography%20network\" target=\"_blank\">Weights & Biases</a> (<a href=\"https://wandb.me/run\" target=\"_blank\">docs</a>)<br/>Sweep page:  <a href=\"https://wandb.ai/ishadowstormi/Coronary%20angiography%20network/sweeps/wco4rtlh\" target=\"_blank\">https://wandb.ai/ishadowstormi/Coronary%20angiography%20network/sweeps/wco4rtlh</a>"
      ],
      "text/plain": [
       "<IPython.core.display.HTML object>"
      ]
     },
     "metadata": {},
     "output_type": "display_data"
    },
    {
     "name": "stdout",
     "output_type": "stream",
     "text": [
      "Epoch 1/28\n",
      "\n"
     ]
    },
    {
     "data": {
      "text/html": [
       "Waiting for W&B process to finish... <strong style=\"color:red\">(failed 1).</strong> Press Control-C to abort syncing."
      ],
      "text/plain": [
       "<IPython.core.display.HTML object>"
      ]
     },
     "metadata": {},
     "output_type": "display_data"
    },
    {
     "data": {
      "application/vnd.jupyter.widget-view+json": {
       "model_id": "",
       "version_major": 2,
       "version_minor": 0
      },
      "text/plain": [
       "VBox(children=(Label(value='0.001 MB of 0.001 MB uploaded (0.000 MB deduped)\\r'), FloatProgress(value=1.0, max…"
      ]
     },
     "metadata": {},
     "output_type": "display_data"
    },
    {
     "data": {
      "text/html": [
       "Synced <strong style=\"color:#cdcd00\">cosmic-sweep-64</strong>: <a href=\"https://wandb.ai/ishadowstormi/Coronary%20angiography%20network/runs/rprsjfdg\" target=\"_blank\">https://wandb.ai/ishadowstormi/Coronary%20angiography%20network/runs/rprsjfdg</a><br/>Synced 5 W&B file(s), 0 media file(s), 0 artifact file(s) and 0 other file(s)"
      ],
      "text/plain": [
       "<IPython.core.display.HTML object>"
      ]
     },
     "metadata": {},
     "output_type": "display_data"
    },
    {
     "data": {
      "text/html": [
       "Find logs at: <code>./wandb/run-20220324_095436-rprsjfdg/logs</code>"
      ],
      "text/plain": [
       "<IPython.core.display.HTML object>"
      ]
     },
     "metadata": {},
     "output_type": "display_data"
    },
    {
     "name": "stderr",
     "output_type": "stream",
     "text": [
      "Run rprsjfdg errored: ResourceExhaustedError()\n",
      "\u001b[34m\u001b[1mwandb\u001b[0m: \u001b[32m\u001b[41mERROR\u001b[0m Run rprsjfdg errored: ResourceExhaustedError()\n",
      "\u001b[34m\u001b[1mwandb\u001b[0m: Sweep Agent: Waiting for job.\n",
      "\u001b[34m\u001b[1mwandb\u001b[0m: Sweep Agent: Exiting.\n"
     ]
    }
   ],
   "source": [
    "# spustenie procesu vyhľadávania optimálneho riešenia\n",
    "wandb.agent(sweep_id, function=train)"
   ]
  },
  {
   "cell_type": "code",
   "execution_count": null,
   "metadata": {},
   "outputs": [],
   "source": []
  },
  {
   "cell_type": "code",
   "execution_count": null,
   "metadata": {},
   "outputs": [],
   "source": []
  },
  {
   "cell_type": "code",
   "execution_count": null,
   "metadata": {},
   "outputs": [],
   "source": []
  }
 ],
 "metadata": {
  "kernelspec": {
   "display_name": "Python 3",
   "language": "python",
   "name": "python3"
  },
  "language_info": {
   "codemirror_mode": {
    "name": "ipython",
    "version": 3
   },
   "file_extension": ".py",
   "mimetype": "text/x-python",
   "name": "python",
   "nbconvert_exporter": "python",
   "pygments_lexer": "ipython3",
   "version": "3.8.6"
  }
 },
 "nbformat": 4,
 "nbformat_minor": 4
}
